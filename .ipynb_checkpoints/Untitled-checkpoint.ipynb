{
 "cells": [
  {
   "cell_type": "code",
   "execution_count": 7,
   "metadata": {},
   "outputs": [],
   "source": [
    "import tensorflow as tf\n",
    "from tensorflow.keras.layers import Dense\n",
    "tf.keras.backend.set_floatx('float64')\n",
    "import numpy as np"
   ]
  },
  {
   "cell_type": "code",
   "execution_count": 44,
   "metadata": {},
   "outputs": [],
   "source": [
    "\n",
    "class Q2(tf.keras.Model):\n",
    "    def __init__(self):\n",
    "        super(Q2,self).__init__()\n",
    "\n",
    "        self.l1 = Dense(10, input_shape=(2,),kernel_regularizer=tf.keras.regularizers.l1(0.01),\n",
    "    activity_regularizer=tf.keras.regularizers.l2(0.01))\n",
    "        self.l2 = Dense(33, kernel_regularizer=tf.keras.regularizers.l1(0.01),\n",
    "    activity_regularizer=tf.keras.regularizers.l2(0.01))\n",
    "        self.l3 = Dense(33, kernel_regularizer=tf.keras.regularizers.l1(0.01),\n",
    "    activity_regularizer=tf.keras.regularizers.l2(0.01))\n",
    "        self.l5 = Dense(2, kernel_regularizer=tf.keras.regularizers.l1(0.01),\n",
    "    activity_regularizer=tf.keras.regularizers.l2(0.01))\n",
    "\n",
    "    def call(self, input):\n",
    "        feat = tf.nn.relu(self.l1(input))\n",
    "        feat = tf.nn.dropout(feat,rate=0.1)\n",
    "        feat = tf.nn.relu(self.l2(feat))\n",
    "        feat = tf.nn.dropout(feat, rate=0.1)\n",
    "        feat = tf.nn.relu(self.l3(feat))\n",
    "        feat = tf.nn.dropout(feat, rate=0.1)\n",
    "        value = tf.nn.sigmoid(self.l5(feat))\n",
    "        return value\n",
    "\n",
    "    def predict(self, history_one):\n",
    "        inp = np.expand_dims(history_one, axis=0)\n",
    "        return np.squeeze(self(inp).numpy())"
   ]
  },
  {
   "cell_type": "code",
   "execution_count": 80,
   "metadata": {},
   "outputs": [],
   "source": [
    "betas = np.random.randn(100)\n",
    "def give_outcome(alpha,beta):\n",
    "    p0=np.exp(-(alpha-beta)**2)\n",
    "    out = np.random.choice([0,1],1,p=[p0,1-p0])[0]\n",
    "    return out\n",
    "\n",
    "betas = np.random.randn(10)\n",
    "outcomes = []\n",
    "labels=[]\n",
    "for b in betas:\n",
    "    phase=np.random.choice([-1,1])\n",
    "    alpha=phase*0.4\n",
    "    outcomes.append(give_outcome(alpha,b))\n",
    "    labels.append(phase)\n",
    "    \n",
    "histories = np.array([[be, out] for be, out in zip(betas, outcomes)])\n"
   ]
  },
  {
   "cell_type": "code",
   "execution_count": 85,
   "metadata": {},
   "outputs": [
    {
     "data": {
      "text/plain": [
       "-1"
      ]
     },
     "execution_count": 85,
     "metadata": {},
     "output_type": "execute_result"
    }
   ],
   "source": [
    "int(-1)"
   ]
  },
  {
   "cell_type": "code",
   "execution_count": null,
   "metadata": {},
   "outputs": [],
   "source": [
    "with tf.GradientTape() as tape:\n",
    "    preds = q2(np.expand_dims(histories,axis=0))\n",
    "    "
   ]
  }
 ],
 "metadata": {
  "kernelspec": {
   "display_name": "Python 3",
   "language": "python",
   "name": "python3"
  },
  "language_info": {
   "codemirror_mode": {
    "name": "ipython",
    "version": 3
   },
   "file_extension": ".py",
   "mimetype": "text/x-python",
   "name": "python",
   "nbconvert_exporter": "python",
   "pygments_lexer": "ipython3",
   "version": "3.6.9"
  }
 },
 "nbformat": 4,
 "nbformat_minor": 2
}
