{
 "cells": [
  {
   "cell_type": "code",
   "execution_count": 1,
   "metadata": {},
   "outputs": [],
   "source": [
    "import tensorflow as tf\n",
    "from tensorflow.keras.layers import Dense\n",
    "import numpy as np\n",
    "import matplotlib.pyplot as plt\n",
    "import os\n",
    "from tqdm import tqdm\n",
    "tf.keras.backend.set_floatx('float64')\n",
    "from misc import *\n",
    "from collections import deque\n",
    "from nets import Q2, Actor\n",
    "import random"
   ]
  },
  {
   "cell_type": "code",
   "execution_count": 2,
   "metadata": {},
   "outputs": [],
   "source": [
    "\n",
    "class Q2(tf.keras.Model):\n",
    "    def __init__(self):\n",
    "        super(Q2,self).__init__()\n",
    "\n",
    "        self.l1 = Dense(33, input_shape=(2,),kernel_initializer=tf.random_uniform_initializer(),\n",
    "        bias_initializer = tf.random_uniform_initializer(),\n",
    "        kernel_regularizer=tf.keras.regularizers.l1(0.01),\n",
    "    activity_regularizer=tf.keras.regularizers.l2(0.01))\n",
    "\n",
    "        self.l2 = Dense(10, kernel_regularizer=tf.keras.regularizers.l1(0.01),\n",
    "    activity_regularizer=tf.keras.regularizers.l2(0.01),\n",
    "    kernel_initializer=tf.random_uniform_initializer(),\n",
    "    bias_initializer = tf.random_uniform_initializer())\n",
    "        self.l3 = Dense(10, kernel_regularizer=tf.keras.regularizers.l1(0.01),\n",
    "    activity_regularizer=tf.keras.regularizers.l2(0.01),\n",
    "    kernel_initializer=tf.random_uniform_initializer(),\n",
    "    bias_initializer = tf.random_uniform_initializer())\n",
    "        \n",
    "        self.l4 = Dense(10, kernel_regularizer=tf.keras.regularizers.l1(0.01),\n",
    "    activity_regularizer=tf.keras.regularizers.l2(0.01),\n",
    "    kernel_initializer=tf.random_uniform_initializer(),\n",
    "    bias_initializer = tf.random_uniform_initializer())\n",
    "        \n",
    "        self.l5 = Dense(1, kernel_regularizer=tf.keras.regularizers.l1(0.01),\n",
    "    activity_regularizer=tf.keras.regularizers.l2(0.01),\n",
    "    kernel_initializer=tf.random_uniform_initializer(),\n",
    "    bias_initializer = tf.random_uniform_initializer())\n",
    "\n",
    "    def call(self, input):\n",
    "        feat = tf.nn.softmax(self.l1(input))\n",
    "        feat = tf.nn.softmax(self.l2(feat))\n",
    "        feat = tf.nn.softmax(self.l3(feat))\n",
    "        feat = tf.nn.softmax(self.l4(feat))\n",
    "        feat = tf.nn.softmax(self.l5(feat))\n",
    "        return feat\n",
    "        \n",
    "    def predict(self, history_one):\n",
    "        inp = np.expand_dims(history_one, axis=0)\n",
    "        return np.squeeze(self(inp).numpy())\n",
    "\n",
    "    def initialize(self):\n",
    "        inp = np.expand_dims(np.array([[0.],[0.],[0.]]),axis=1)\n",
    "        self(inp)\n",
    "        return\n",
    "\n",
    "    def __str__(self):\n",
    "        return self.name\n"
   ]
  },
  {
   "cell_type": "code",
   "execution_count": null,
   "metadata": {},
   "outputs": [],
   "source": []
  },
  {
   "cell_type": "code",
   "execution_count": 3,
   "metadata": {},
   "outputs": [],
   "source": [
    "\n",
    "def create_dataset_guess(size_dataset=10**3, splits=10):\n",
    "    betas = np.arange(-1,0,.01)\n",
    "\n",
    "    dataset = []\n",
    "    for i in range(size_dataset):\n",
    "        ph = np.random.choice([-1,1],1)[0]\n",
    "        action_guess = np.random.choice([1.,-1.], 1)[0]\n",
    "\n",
    "        l = np.random.choice(range(len(betas)),1)[0]\n",
    "        b = betas[l]\n",
    "\n",
    "        b = -.7\n",
    "        action_guess = np.random.choice([-1.,1.],1)[0]\n",
    "        p0 = Prob(ph*0.4, b, 0)\n",
    "        outcome = np.random.choice([0.,1.], 1, p=[p0,1-p0])[0]\n",
    "\n",
    "\n",
    "        po1=np.sum([Prob(pp*0.4,b,outcome) for pp in [-1,1]])\n",
    "        \n",
    "        probrew = Prob(action_guess*0.4, b, outcome)/po1  #UNKNOWN TO AGENT OF COURSE\n",
    "        reward = np.random.choice([1.,0.],1, p=[probrew, 1-probrew])[0]\n",
    "        dataset.append([[ outcome, action_guess], reward])\n",
    "    data = np.split(np.array(dataset), splits+(len(dataset)%splits ))\n",
    "    return data"
   ]
  },
  {
   "cell_type": "code",
   "execution_count": 276,
   "metadata": {},
   "outputs": [],
   "source": [
    "def epocheando(data):\n",
    "    for batch in range(len(data)):\n",
    "        entriescont = []\n",
    "        entriescat = []\n",
    "        labels=[]\n",
    "        for k in data[batch]:\n",
    "            #entriescat.append(np.expand_dims([k[0][1],k[0][2]], axis=0))\n",
    "            entriescat.append(np.expand_dims(k[0], axis=0))\n",
    "            labels.append(k[1])\n",
    "\n",
    "\n",
    "        with tf.GradientTape() as tape:\n",
    "            tape.watch(q2.trainable_variables)\n",
    "            preds = q2(np.expand_dims(entriescat,axis=1), np.expand_dims(entriescont,axis=1))\n",
    "            loss =tf.keras.losses.MSE(np.expand_dims(labels,axis=1),preds)\n",
    "    #loss = tf.keras.losses.binary_crossentropy(np.expand_dims(labels,axis=1), preds)\n",
    "            loss = tf.reduce_mean(loss)\n",
    "            grads = tape.gradient(loss,q2.trainable_variables)\n",
    "            opt.apply_gradients(zip(grads, q2.trainable_variables))\n",
    "    return loss"
   ]
  },
  {
   "cell_type": "code",
   "execution_count": 277,
   "metadata": {},
   "outputs": [
    {
     "name": "stdout",
     "output_type": "stream",
     "text": [
      "1 / 100\n",
      "11 / 100\n",
      "21 / 100\n",
      "31 / 100\n",
      "41 / 100\n",
      "51 / 100\n",
      "61 / 100\n",
      "71 / 100\n",
      "81 / 100\n",
      "91 / 100\n"
     ]
    },
    {
     "data": {
      "text/plain": [
       "[<matplotlib.lines.Line2D at 0x7f0f50f13da0>]"
      ]
     },
     "execution_count": 277,
     "metadata": {},
     "output_type": "execute_result"
    },
    {
     "data": {
      "image/png": "[encoded data removed]",
      "text/plain": [
       "<Figure size 432x288 with 1 Axes>"
      ]
     },
     "metadata": {},
     "output_type": "display_data"
    }
   ],
   "source": [
    "q2 = Q2()\n",
    "data = create_dataset_guess(10**3, 1)\n",
    "opt = tf.keras.optimizers.Adam(lr=10**-2)\n",
    "l=[]\n",
    "N = 10**2\n",
    "for ep in range(N):\n",
    "    l.append(epocheando(data))\n",
    "    if ep%(N/10) == 1:\n",
    "        print(ep, \"/\", N)\n",
    "plt.plot(l)"
   ]
  },
  {
   "cell_type": "code",
   "execution_count": 256,
   "metadata": {},
   "outputs": [
    {
     "data": {
      "text/plain": [
       "[<matplotlib.lines.Line2D at 0x7f0f510ecef0>]"
      ]
     },
     "execution_count": 256,
     "metadata": {},
     "output_type": "execute_result"
    },
    {
     "data": {
      "image/png": "[encoded data removed]",
      "text/plain": [
       "<Figure size 432x288 with 1 Axes>"
      ]
     },
     "metadata": {},
     "output_type": "display_data"
    }
   ],
   "source": [
    "plt.plot([np.squeeze(q2(np.array([[0., 1.]]), np.array([[b]]) )) for b in np.arange(-1,0,.1)])\n",
    "plt.plot([np.squeeze(q2(np.array([[1., 1.]]), np.array([[b]]) )) for b in np.arange(-1,0,.1)])"
   ]
  },
  {
   "cell_type": "code",
   "execution_count": 273,
   "metadata": {},
   "outputs": [
    {
     "data": {
      "text/plain": [
       "[array(0.50099084),\n",
       " array(0.50099084),\n",
       " array(0.50099084),\n",
       " array(0.50099084),\n",
       " array(0.50099084),\n",
       " array(0.50099084),\n",
       " array(0.50099084),\n",
       " array(0.50099084),\n",
       " array(0.50099084),\n",
       " array(0.50099084)]"
      ]
     },
     "execution_count": 273,
     "metadata": {},
     "output_type": "execute_result"
    }
   ],
   "source": [
    "[np.squeeze(q2(np.array([[0., -1.]]), np.array([[-.7]]) )) for b in np.arange(-1,0,.1)]"
   ]
  },
  {
   "cell_type": "code",
   "execution_count": 274,
   "metadata": {},
   "outputs": [
    {
     "data": {
      "text/plain": [
       "[array(0.50099084),\n",
       " array(0.50099084),\n",
       " array(0.50099084),\n",
       " array(0.50099084),\n",
       " array(0.50099084),\n",
       " array(0.50099084),\n",
       " array(0.50099084),\n",
       " array(0.50099084),\n",
       " array(0.50099084),\n",
       " array(0.50099084)]"
      ]
     },
     "execution_count": 274,
     "metadata": {},
     "output_type": "execute_result"
    }
   ],
   "source": [
    "[np.squeeze(q2(np.array([[1., -1.]]), np.array([[-.7]]) )) for b in np.arange(-1,0,.1)]"
   ]
  },
  {
   "cell_type": "code",
   "execution_count": 281,
   "metadata": {},
   "outputs": [
    {
     "name": "stdout",
     "output_type": "stream",
     "text": [
      "0.612\n",
      "0.388\n"
     ]
    }
   ],
   "source": [
    "kk=0\n",
    "k1=0\n",
    "\n",
    "mm, mm1 = 0 , 0\n",
    "for k in data[0]:\n",
    "    if k[0][1] == 0.:\n",
    "        kk+= 1\n",
    "    elif k[0][1] == 1.:\n",
    "        k1+=1\n",
    "print(kk/len(data[0]))\n",
    "print(k1/len(data[0]))"
   ]
  },
  {
   "cell_type": "code",
   "execution_count": null,
   "metadata": {},
   "outputs": [],
   "source": []
  },
  {
   "cell_type": "code",
   "execution_count": null,
   "metadata": {},
   "outputs": [],
   "source": []
  },
  {
   "cell_type": "code",
   "execution_count": null,
   "metadata": {},
   "outputs": [],
   "source": []
  },
  {
   "cell_type": "code",
   "execution_count": null,
   "metadata": {},
   "outputs": [],
   "source": [
    "h1, b = [0.,-1.], -.7\n",
    "\n",
    "q2 = Q2()\n",
    "\n",
    "i1 = np.expand_dims(h1,axis=0)\n",
    "i2 = np.expand_dims([b],axis=0)\n",
    "q2(i1,i2)\n",
    "\n",
    "ii1 = np.expand_dims([i1,i1],axis=1)\n",
    "ii2= np.expand_dims([i2, i2], axis=1)"
   ]
  }
 ],
 "metadata": {
  "kernelspec": {
   "display_name": "Python 3",
   "language": "python",
   "name": "python3"
  },
  "language_info": {
   "codemirror_mode": {
    "name": "ipython",
    "version": 3
   },
   "file_extension": ".py",
   "mimetype": "text/x-python",
   "name": "python",
   "nbconvert_exporter": "python",
   "pygments_lexer": "ipython3",
   "version": "3.6.9"
  }
 },
 "nbformat": 4,
 "nbformat_minor": 2
}
