{
 "cells": [
  {
   "cell_type": "code",
   "execution_count": 519,
   "metadata": {},
   "outputs": [],
   "source": [
    "\n",
    "import tensorflow as tf\n",
    "from tensorflow.keras.layers import Dense\n",
    "import numpy as np\n",
    "import matplotlib.pyplot as plt\n",
    "import os\n",
    "from tqdm import tqdm\n",
    "tf.keras.backend.set_floatx('float64')\n",
    "from misc import *\n",
    "from collections import deque\n",
    "from nets import Q2, Actor\n",
    "import random\n",
    "\n",
    "\n",
    "class Q2(tf.keras.Model):\n",
    "    def __init__(self):\n",
    "        super(Q2,self).__init__()\n",
    "\n",
    "        self.l1 = Dense(5, input_shape=(3,),kernel_initializer=tf.random_uniform_initializer(),\n",
    "        bias_initializer = tf.random_uniform_initializer(),\n",
    "        kernel_regularizer=tf.keras.regularizers.l1(0.01),\n",
    "    activity_regularizer=tf.keras.regularizers.l2(0.01))\n",
    "\n",
    "        self.l2 = Dense(5, kernel_regularizer=tf.keras.regularizers.l1(0.01),\n",
    "    activity_regularizer=tf.keras.regularizers.l2(0.01),\n",
    "    kernel_initializer=tf.random_uniform_initializer(),\n",
    "    bias_initializer = tf.random_uniform_initializer())\n",
    "        self.l3 = Dense(10, kernel_regularizer=tf.keras.regularizers.l1(0.01),\n",
    "    activity_regularizer=tf.keras.regularizers.l2(0.01),\n",
    "    kernel_initializer=tf.random_uniform_initializer(),\n",
    "    bias_initializer = tf.random_uniform_initializer())\n",
    "        self.l5 = Dense(1, kernel_regularizer=tf.keras.regularizers.l1(0.01),\n",
    "    activity_regularizer=tf.keras.regularizers.l2(0.01),\n",
    "    kernel_initializer=tf.random_uniform_initializer(),\n",
    "    bias_initializer = tf.random_uniform_initializer())\n",
    "\n",
    "    def call(self, input):\n",
    "        feat = tf.nn.relu(self.l1(input))\n",
    "        feat = tf.nn.relu(self.l2(feat))\n",
    "        feat = tf.nn.relu(self.l3(feat))\n",
    "        value = tf.nn.sigmoid(self.l5(feat))\n",
    "        return value\n",
    "\n",
    "    def predict(self, history_one):\n",
    "        inp = np.expand_dims(history_one, axis=0)\n",
    "        return np.squeeze(self(inp).numpy())\n",
    "\n",
    "    def initialize(self):\n",
    "        inp = np.expand_dims(np.array([[0.],[0.],[0.]]),axis=1)\n",
    "        self(inp)\n",
    "        return\n",
    "\n",
    "    def __str__(self):\n",
    "        return self.name\n"
   ]
  },
  {
   "cell_type": "code",
   "execution_count": 521,
   "metadata": {},
   "outputs": [],
   "source": [
    "\n",
    "def create_dataset(size_dataset=10**3, splits=10):\n",
    "    betas = np.arange(-1,0,.01)\n",
    "\n",
    "    dataset = []\n",
    "    for i in range(size_dataset):\n",
    "        ph = np.random.choice([-1,1],1)[0]\n",
    "\n",
    "        l = np.random.choice(range(len(betas)),1)[0]\n",
    "        b = betas[l]\n",
    "\n",
    "        p0 = Prob(ph*0.4, b, 0)\n",
    "        outcome = np.random.choice([0.,1.], 1, p=[p0,1-p0])[0]\n",
    "        action_guess = np.random.choice([1.,-1.], 1)[0]\n",
    "    \n",
    "        po1=np.sum([Prob(pp*0.4,b,outcome) for pp in [-1,1]])\n",
    "        probrew = Prob(action_guess*0.4, b, outcome)/po1  #UNKNOWN TO AGENT OF COURSE\n",
    "        reward = np.random.choice([1.,0.],1, p=[probrew, 1-probrew])[0]\n",
    "        dataset.append([[b, outcome, action_guess], reward])\n",
    "    data = np.split(np.array(dataset), splits+(len(dataset)%splits ))\n",
    "    return data"
   ]
  },
  {
   "cell_type": "code",
   "execution_count": 522,
   "metadata": {},
   "outputs": [],
   "source": [
    "def epocheando(data):\n",
    "    for batch in range(len(data)):\n",
    "        entries = []\n",
    "        labels=[]\n",
    "        for k in data[batch]:\n",
    "            entries.append(k[0])\n",
    "            labels.append(k[1])\n",
    "\n",
    "        with tf.GradientTape() as tape:\n",
    "            tape.watch(q2.trainable_variables)\n",
    "            preds = q2(np.expand_dims(entries,axis=1))\n",
    "            loss =tf.keras.losses.MSE(np.expand_dims(labels,axis=1),preds)\n",
    "    #loss = tf.keras.losses.binary_crossentropy(np.expand_dims(labels,axis=1), preds)\n",
    "            loss = tf.reduce_mean(loss)\n",
    "            grads = tape.gradient(loss,q2.trainable_variables)\n",
    "            opt.apply_gradients(zip(grads, q2.trainable_variables))\n",
    "    return loss"
   ]
  },
  {
   "cell_type": "code",
   "execution_count": 524,
   "metadata": {},
   "outputs": [
    {
     "name": "stdout",
     "output_type": "stream",
     "text": [
      "1 / 100\n",
      "11 / 100\n",
      "21 / 100\n",
      "31 / 100\n",
      "41 / 100\n",
      "51 / 100\n",
      "61 / 100\n",
      "71 / 100\n",
      "81 / 100\n",
      "91 / 100\n"
     ]
    },
    {
     "data": {
      "text/plain": [
       "[<matplotlib.lines.Line2D at 0x7ff483df47b8>]"
      ]
     },
     "execution_count": 524,
     "metadata": {},
     "output_type": "execute_result"
    },
    {
     "data": {
      "image/png": "[encoded data removed]",
      "text/plain": [
       "<Figure size 432x288 with 1 Axes>"
      ]
     },
     "metadata": {},
     "output_type": "display_data"
    }
   ],
   "source": [
    "q2 = Q2()\n",
    "data = create_dataset(10**3, 1)\n",
    "opt = tf.keras.optimizers.Adam(lr=10**-3)\n",
    "l=[]\n",
    "N = 10**2\n",
    "for ep in range(N):\n",
    "    l.append(epocheando(data))\n",
    "    if ep%(N/10) == 1:\n",
    "        print(ep, \"/\", N)\n",
    "plt.plot(l)"
   ]
  },
  {
   "cell_type": "code",
   "execution_count": 527,
   "metadata": {},
   "outputs": [
    {
     "data": {
      "text/plain": [
       "[<matplotlib.lines.Line2D at 0x7ff4838388d0>]"
      ]
     },
     "execution_count": 527,
     "metadata": {},
     "output_type": "execute_result"
    },
    {
     "data": {
      "image/png": "[encoded data removed]",
      "text/plain": [
       "<Figure size 432x288 with 1 Axes>"
      ]
     },
     "metadata": {},
     "output_type": "display_data"
    }
   ],
   "source": [
    "betas = np.arange(-1,0,.01)\n",
    "histplus, histmin = [], []\n",
    "for k in betas:\n",
    "    histmin.append([k,0., -1.])\n",
    "    histplus.append([k,1.,+1])\n",
    "    \n",
    "plt.plot(betas, np.squeeze(q2(np.expand_dims(histplus,axis=1))))\n",
    "plt.plot(betas, np.squeeze(q2(np.expand_dims(histmin,axis=1))))"
   ]
  },
  {
   "cell_type": "code",
   "execution_count": 517,
   "metadata": {},
   "outputs": [
    {
     "data": {
      "text/plain": [
       "array(0.49048878)"
      ]
     },
     "execution_count": 517,
     "metadata": {},
     "output_type": "execute_result"
    }
   ],
   "source": [
    "np.squeeze(q2(np.expand_dims([[-.7,1.,1.]],axis=1)))"
   ]
  },
  {
   "cell_type": "code",
   "execution_count": 472,
   "metadata": {},
   "outputs": [
    {
     "data": {
      "text/plain": [
       "[<matplotlib.lines.Line2D at 0x7ff49da71d68>]"
      ]
     },
     "execution_count": 472,
     "metadata": {},
     "output_type": "execute_result"
    },
    {
     "data": {
      "image/png": "[encoded data removed]",
      "text/plain": [
       "<Figure size 432x288 with 1 Axes>"
      ]
     },
     "metadata": {},
     "output_type": "display_data"
    }
   ],
   "source": [
    "plt.plot(betas,np.squeeze(q2(np.expand_dims(histmin,axis=1))))\n",
    "plt.plot(betas, np.squeeze(q2(np.expand_dims(histplus,axis=1))))\n"
   ]
  },
  {
   "cell_type": "code",
   "execution_count": 469,
   "metadata": {},
   "outputs": [
    {
     "data": {
      "text/plain": [
       "[<matplotlib.lines.Line2D at 0x7ff483a97320>]"
      ]
     },
     "execution_count": 469,
     "metadata": {},
     "output_type": "execute_result"
    },
    {
     "data": {
      "image/png": "[encoded data removed]",
      "text/plain": [
       "<Figure size 432x288 with 1 Axes>"
      ]
     },
     "metadata": {},
     "output_type": "display_data"
    }
   ],
   "source": [
    "betas = np.arange(-1,0,.01)\n",
    "histplus, histmin = [], []\n",
    "for k in betas:\n",
    "    histmin.append([k, 1., -1.])\n",
    "    histplus.append([k,1.,+1])\n",
    "    \n",
    "plt.plot(betas, np.squeeze(q2(np.expand_dims(histplus,axis=1))))\n",
    "plt.plot(betas, np.squeeze(q2(np.expand_dims(histmin,axis=1))))"
   ]
  },
  {
   "cell_type": "code",
   "execution_count": 420,
   "metadata": {},
   "outputs": [],
   "source": [
    "hist1 = np.array([[-.7, 1., -1]])"
   ]
  },
  {
   "cell_type": "code",
   "execution_count": 421,
   "metadata": {},
   "outputs": [
    {
     "data": {
      "text/plain": [
       "<tf.Tensor: shape=(1, 1, 1), dtype=float64, numpy=array([[[0.48561526]]])>"
      ]
     },
     "execution_count": 421,
     "metadata": {},
     "output_type": "execute_result"
    }
   ],
   "source": [
    "q2(np.expand_dims(hist1,axis=1))"
   ]
  },
  {
   "cell_type": "code",
   "execution_count": 502,
   "metadata": {},
   "outputs": [
    {
     "name": "stdout",
     "output_type": "stream",
     "text": [
      "0.8907578064790461\n"
     ]
    }
   ],
   "source": [
    "outcome, b = 1., -.7\n",
    "action_guess=1\n",
    "po1=np.sum([Prob(pp*0.4,b,outcome) for pp in [-1,1]])\n",
    "probrew = Prob(action_guess*0.4, b, outcome)/po1  #UNKNOWN TO AGENT OF COURSE\n",
    "print(probrew)"
   ]
  },
  {
   "cell_type": "code",
   "execution_count": 509,
   "metadata": {},
   "outputs": [
    {
     "name": "stdout",
     "output_type": "stream",
     "text": [
      "0.914\n"
     ]
    }
   ],
   "source": [
    "po1=np.sum([Prob(pp*0.4,b,outcome) for pp in [-1,1]])\n",
    "probrew = Prob(action_guess*0.4, b, outcome)/po1  #UNKNOWN TO AGENT OF COURSE\n",
    "r=0\n",
    "for k in range(10**3):\n",
    "    r += np.random.choice([1.,0.],1, p=[probrew, 1-probrew])[0]\n",
    "print(r/10**3)"
   ]
  },
  {
   "cell_type": "code",
   "execution_count": null,
   "metadata": {},
   "outputs": [],
   "source": []
  },
  {
   "cell_type": "code",
   "execution_count": 513,
   "metadata": {},
   "outputs": [
    {
     "name": "stdout",
     "output_type": "stream",
     "text": [
      "0.8695652173913043\n",
      "46\n",
      "0.9215686274509803\n",
      "51\n",
      "0.8043478260869565\n",
      "46\n",
      "0.8947368421052632\n",
      "57\n",
      "0.9019607843137255\n",
      "51\n",
      "0.8913043478260869\n",
      "46\n",
      "0.88\n",
      "50\n",
      "0.9411764705882353\n",
      "51\n",
      "0.925\n",
      "40\n",
      "0.8780487804878049\n",
      "41\n"
     ]
    }
   ],
   "source": [
    "for j in range(len(data)):\n",
    "    mm=0\n",
    "    tots=0\n",
    "    for k in data[j]:\n",
    "        if k[0][-1] == 1.:\n",
    "            mm += k[1]\n",
    "            tots+=1\n",
    "    print(mm/tots)\n",
    "    print(tots)\n"
   ]
  },
  {
   "cell_type": "code",
   "execution_count": null,
   "metadata": {},
   "outputs": [],
   "source": []
  }
 ],
 "metadata": {
  "kernelspec": {
   "display_name": "Python 3",
   "language": "python",
   "name": "python3"
  },
  "language_info": {
   "codemirror_mode": {
    "name": "ipython",
    "version": 3
   },
   "file_extension": ".py",
   "mimetype": "text/x-python",
   "name": "python",
   "nbconvert_exporter": "python",
   "pygments_lexer": "ipython3",
   "version": "3.6.9"
  }
 },
 "nbformat": 4,
 "nbformat_minor": 2
}
