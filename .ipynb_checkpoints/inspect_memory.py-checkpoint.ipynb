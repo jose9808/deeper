{
 "cells": [
  {
   "cell_type": "code",
   "execution_count": 1,
   "metadata": {},
   "outputs": [],
   "source": [
    "import tensorflow as tf\n",
    "import numpy as np\n",
    "from memory import Memory\n",
    "from basics import Basics\n",
    "\n",
    "\n",
    "\n",
    "from networks_kennedy import QN_l1, QN_guess_kennedy\n",
    "import give_probability_kennedy\n",
    "\n",
    "\n",
    "\n",
    "\n",
    "basics = Basics(layers=1)\n",
    "basics.define_actions()\n",
    "b =np.load(\"buffer.npy\", allow_pickle=True)\n",
    "buffer = Memory(len(b), load_path=None)\n",
    "for i in range(len(b)):\n",
    "    buffer.add_sample(tuple(b[i]))\n"
   ]
  },
  {
   "cell_type": "code",
   "execution_count": 5,
   "metadata": {},
   "outputs": [],
   "source": [
    "q= np.zeros((2,11,2))\n",
    "n= np.zeros((2,11,2))\n",
    "\n",
    "for v in buffer.samples:\n",
    "    n[tuple([int(v[0]), int(v[2]),int(v[4])])] += 1\n",
    "        n[tuple([int(v[0]), int(v[2]),int(v[4])])] += 1\n",
    "\n",
    "    q[tuple([int(v[0]), int(v[2]),int(v[4])])] = (1- )v[5]\n"
   ]
  },
  {
   "cell_type": "code",
   "execution_count": 6,
   "metadata": {},
   "outputs": [
    {
     "data": {
      "text/plain": [
       "array([[[18804.,  1967.],\n",
       "        [19942.,  2771.],\n",
       "        [21607.,  3597.],\n",
       "        [22453.,  4705.],\n",
       "        [22738.,  5875.],\n",
       "        [22958.,  7547.],\n",
       "        [22079.,  9199.],\n",
       "        [21354., 10831.],\n",
       "        [19861., 12652.],\n",
       "        [18333., 14825.],\n",
       "        [16528., 16634.]],\n",
       "\n",
       "       [[ 4013., 20598.],\n",
       "        [ 2641., 19912.],\n",
       "        [ 1223., 19265.],\n",
       "        [  394., 18209.],\n",
       "        [   38., 16892.],\n",
       "        [   78., 15426.],\n",
       "        [  586., 13678.],\n",
       "        [ 1385., 12017.],\n",
       "        [ 2752., 10125.],\n",
       "        [ 4279.,  8111.],\n",
       "        [ 6035.,  6096.]]])"
      ]
     },
     "execution_count": 6,
     "metadata": {},
     "output_type": "execute_result"
    }
   ],
   "source": []
  },
  {
   "cell_type": "code",
   "execution_count": null,
   "metadata": {},
   "outputs": [],
   "source": []
  }
 ],
 "metadata": {
  "kernelspec": {
   "display_name": "Python 3",
   "language": "python",
   "name": "python3"
  },
  "language_info": {
   "codemirror_mode": {
    "name": "ipython",
    "version": 3
   },
   "file_extension": ".py",
   "mimetype": "text/x-python",
   "name": "python",
   "nbconvert_exporter": "python",
   "pygments_lexer": "ipython3",
   "version": "3.6.8"
  }
 },
 "nbformat": 4,
 "nbformat_minor": 2
}
