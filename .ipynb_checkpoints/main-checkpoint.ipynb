{
 "cells": [
  {
   "cell_type": "code",
   "execution_count": 5,
   "metadata": {},
   "outputs": [],
   "source": [
    "import numpy as np\n",
    "import basics\n",
    "import misc\n",
    "import tensorflow as tf\n",
    "from tensorflow.keras.layers import Dense\n",
    "import random\n",
    "\n",
    "basic = basics.Basics(resolution=.1)\n",
    "basic.define_actions()\n",
    "actions = basic.actions\n",
    "ats = misc.make_attenuations(layers=2)"
   ]
  },
  {
   "cell_type": "code",
   "execution_count": 3,
   "metadata": {},
   "outputs": [],
   "source": [
    "class Memory():\n",
    "    def __init__(self, max_memory):\n",
    "        self._max_memory = max_memory\n",
    "        self._samples = []\n",
    "    def add_sample(self, sample):\n",
    "        self._samples.append(sample)\n",
    "        if len(self._samples) > self._max_memory:\n",
    "            self._samples.pop(0)\n",
    "    def sample(self, no_samples):\n",
    "        if no_samples > len(self._samples):\n",
    "            return random.sample(self._samples, len(self._samples))\n",
    "        else:\n",
    "            return random.sample(self._samples, no_samples)\n",
    "    @property\n",
    "    def num_samples(self):\n",
    "        return len(self._samples)"
   ]
  },
  {
   "cell_type": "code",
   "execution_count": 6,
   "metadata": {},
   "outputs": [],
   "source": [
    "cardinality_betas = len(basic.actions[0])\n",
    "\n",
    "class QN_l1(tf.keras.Model):\n",
    "    def __init__(self):\n",
    "        super(QN_l1,self).__init__()\n",
    "        self.l1 = Dense(30, input_shape=(0,), kernel_initializer=tf.keras.initializers.RandomNormal(mean=0.0, stddev=1.0, seed=None),\n",
    "                bias_initializer=tf.keras.initializers.RandomNormal(mean=0.0, stddev=1.0, seed=None))\n",
    "        self.l2 = Dense(35, kernel_initializer=tf.keras.initializers.RandomNormal(mean=0.0, stddev=1.0, seed=None),\n",
    "                bias_initializer=tf.keras.initializers.RandomNormal(mean=0.0, stddev=1.0, seed=None))\n",
    "\n",
    "        self.l3 = Dense(cardinality_betas, kernel_initializer='random_uniform',\n",
    "                bias_initializer='random_uniform')\n",
    "\n",
    "    def call(self, input):\n",
    "        feat = tf.nn.relu(self.l1(input))\n",
    "        feat = tf.nn.relu(self.l2(feat))\n",
    "        value = self.l3(feat)\n",
    "        return value\n",
    "\n",
    "class QN_l2(tf.keras.Model):\n",
    "    def __init__(self):\n",
    "        super(QN_l2,self).__init__()\n",
    "        self.l1 = Dense(30, input_shape=(1,2), kernel_initializer=tf.keras.initializers.RandomNormal(mean=0.0, stddev=1.0, seed=None),\n",
    "                bias_initializer=tf.keras.initializers.RandomNormal(mean=0.0, stddev=1.0, seed=None))\n",
    "        self.l2 = Dense(35, kernel_initializer=tf.keras.initializers.RandomNormal(mean=0.0, stddev=1.0, seed=None),\n",
    "                bias_initializer=tf.keras.initializers.RandomNormal(mean=0.0, stddev=1.0, seed=None))\n",
    "\n",
    "\n",
    "        self.l3 = Dense(cardinality_betas, kernel_initializer='random_uniform',\n",
    "                bias_initializer='random_uniform')\n",
    "\n",
    "    def call(self, input):\n",
    "        feat = tf.nn.relu(self.l1(input))\n",
    "        feat = tf.nn.relu(self.l2(feat))\n",
    "        # feat = tf.nn.relu(self.l21(feat))\n",
    "        value = self.l3(feat)\n",
    "        return value\n",
    "\n",
    "class QN_guess(tf.keras.Model):\n",
    "    def __init__(self):\n",
    "        super(QN_guess,self).__init__()\n",
    "        self.l1 = Dense(30, input_shape=(1,4), kernel_initializer='random_uniform',\n",
    "                bias_initializer='random_uniform')\n",
    "        self.l2 = Dense(35, kernel_initializer='random_uniform',\n",
    "                bias_initializer='random_uniform')\n",
    "\n",
    "        self.l3 = Dense(2, kernel_initializer='random_uniform',\n",
    "                bias_initializer='random_uniform')\n",
    "\n",
    "    def call(self, input):\n",
    "        feat = tf.nn.relu(self.l1(input))\n",
    "        feat = tf.nn.relu(self.l2(feat))\n",
    "        # feat = tf.nn.relu(self.l21(feat))\n",
    "        value = self.l3(feat)\n",
    "        return value\n",
    "\n",
    "\n",
    "#### define the networks #####\n",
    "\n",
    "qn_l1_prim = QN_l1()\n",
    "qn_l1_targ = QN_l1()\n",
    "\n",
    "qn_l2_prim = QN_l2()\n",
    "qn_l2_targ = QN_l2()\n",
    "\n",
    "qn_guess_prim = QN_guess()\n",
    "qn_guess_targ = QN_guess()\n"
   ]
  },
  {
   "cell_type": "code",
   "execution_count": 8,
   "metadata": {},
   "outputs": [],
   "source": [
    "def give_first_beta(epsilon):\n",
    "    if np.random.random() < epsilon:\n",
    "        label = np.random.choice(np.arange(len(basic.actions[0])))\n",
    "        return label, basic.actions[0][label]\n",
    "    else:\n",
    "        input = np.expand_dims(np.array([]), axis=0)\n",
    "        q1s = qn_l1_prim(input)\n",
    "        q1s = q1s.numpy()\n",
    "        label = np.argmax(q1s)\n",
    "        beta1 = basic.actions[0][label]\n",
    "        return label, beta1\n",
    "\n",
    "def give_second_beta(new_state, epsilon):\n",
    "    if np.random.random() < epsilon:\n",
    "        label = np.random.choice(np.arange(len(basic.actions[1])))\n",
    "        return label, basic.actions[1][label]\n",
    "    else:\n",
    "        input = np.expand_dims(np.array(new_state), axis=0)\n",
    "        q2s = qn_l2_prim(input)\n",
    "        q2s = q2s.numpy()\n",
    "        label = np.argmax(q2s)\n",
    "        beta2 = basic.actions[1][label]\n",
    "        return label, beta2\n",
    "\n",
    "\n",
    "def give_guess(new_state, epsilon):\n",
    "    if np.random.random() < epsilon:\n",
    "        guess = np.random.choice(basic.possible_phases,1)[0]\n",
    "        return int((guess+1)/2), guess\n",
    "    else:\n",
    "        input = np.expand_dims(np.array(new_state), axis=0)\n",
    "        qguess = qn_guess_prim(input)\n",
    "        guess = qguess.numpy()\n",
    "        label = np.argmax(guess)\n",
    "        guess = basic.possible_phases[label]\n",
    "        return int((guess+1)/2), guess\n",
    "    "
   ]
  },
  {
   "cell_type": "code",
   "execution_count": 9,
   "metadata": {},
   "outputs": [],
   "source": [
    "def learn():\n",
    "    batch_length=32\n",
    "    batch = buffer.sample(batch_length)\n",
    "\n",
    "    s_2_batch = np.array([[ v[0], v[2]] for v in batch ] )\n",
    "    labels_beta1 = np.array([v[4] for v in batch])\n",
    "\n",
    "    q_2_prim = qn_l2_prim(np.expand_dims(s_2_batch, axis=0))\n",
    "    q_2_prim = np.squeeze(q_2_prim.numpy())\n",
    "\n",
    "    opt_a_2_prim = np.argmax(q_2_prim,axis=1)\n",
    "\n",
    "    update_for_q_1_prim = qn_l1_targ(np.expand_dims(np.array([[] for i in range(len(batch))]), axis=0)) #targ = target\n",
    "    update_for_q_1_prim = np.squeeze(update_for_q_1_prim, axis=0)\n",
    "    qlabels_l1 = update_for_q_1_prim.copy()\n",
    "    qlabels_l1[np.arange(batch_length), labels_beta1] = np.squeeze(qn_l2_targ(np.expand_dims(s_2_batch, axis=0)).numpy())[np.arange(batch_length),opt_a_2_prim]\n",
    "\n",
    "\n",
    "\n",
    "    with tf.device(\"/cpu:0\"):\n",
    "        with tf.GradientTape() as tape:\n",
    "            tape.watch(qn_l1_prim.trainable_variables)\n",
    "            pred_q_1s = qn_l1_prim(np.expand_dims(np.array([[] for i in range(len(batch))]), axis=0))\n",
    "\n",
    "            loss_sum =tf.keras.losses.MSE(pred_q_1s, qlabels_l1)\n",
    "            loss = tf.reduce_mean(loss_sum)\n",
    "\n",
    "            grads = tape.gradient(loss, qn_l1_prim.trainable_variables)\n",
    "\n",
    "            optimizer_ql1.apply_gradients(zip(grads, qn_l1_prim.trainable_variables))\n",
    "            \n",
    "    s_2_batch = np.array([[v[0], v[2]] for v in batch])\n",
    "    s_3_batch = np.array([[v[0], v[1], v[2], v[3]] for v in batch])\n",
    "\n",
    "    #labels_guess = np.array([v[7] for v in batch])\n",
    "    labels_action_2 = np.array([v[5] for v in batch])\n",
    "\n",
    "    q_3_prim = qn_guess_prim(np.expand_dims(s_3_batch, axis=0))\n",
    "    q_3_prim = np.squeeze(q_3_prim.numpy())\n",
    "\n",
    "    opt_a_3_prim = np.argmax(q_3_prim, axis=1)\n",
    "\n",
    "    update_for_q_2_prim = qn_l2_targ(np.expand_dims(s_2_batch, axis=0))\n",
    "    update_for_q_2_prim = np.squeeze(update_for_q_2_prim, axis=0)\n",
    "    qlabels_l2 = update_for_q_2_prim.copy()\n",
    "    qlabels_l2[np.arange(batch_length), labels_action_2] = np.squeeze(qn_guess_targ(np.expand_dims(s_3_batch, axis=0)).numpy())[np.arange(batch_length), opt_a_3_prim]\n",
    "\n",
    "\n",
    "    with tf.device(\"/cpu:0\"):\n",
    "        with tf.GradientTape() as tape:\n",
    "            tape.watch(qn_l2_prim.trainable_variables)\n",
    "            pred_q_2s = qn_l2_prim(np.expand_dims(s_2_batch, axis=0))\n",
    "            loss_sum =tf.keras.losses.MSE(pred_q_2s, qlabels_l2)\n",
    "            loss = tf.reduce_mean(loss_sum)\n",
    "\n",
    "            grads = tape.gradient(loss, qn_l2_prim.trainable_variables)\n",
    "            optimizer_ql2.apply_gradients(zip(grads, qn_l2_prim.trainable_variables))\n",
    "\n",
    "\n",
    "    s_3_batch = np.array([[v[0], v[1], v[2], v[3]] for v in batch])\n",
    "    rewards = np.array([v[-1] for v in batch])\n",
    "    labels_guess = np.array([v[7] for v in batch])\n",
    "\n",
    "    update_for_q_3_prim = qn_guess_targ(np.expand_dims(s_3_batch, axis=0))\n",
    "    update_for_q_3_prim = np.squeeze(update_for_q_3_prim, axis=0)\n",
    "    qlabels_l3 = update_for_q_3_prim.copy()\n",
    "    qlabels_l3[np.arange(batch_length), labels_guess] = rewards[np.arange(batch_length)]\n",
    "\n",
    "\n",
    "    with tf.device(\"/cpu:0\"):\n",
    "        with tf.GradientTape() as tape:\n",
    "            tape.watch(qn_guess_prim.trainable_variables)\n",
    "            pred_q_3s = qn_guess_prim(np.expand_dims(s_3_batch, axis=0))\n",
    "            loss_sum =tf.keras.losses.MSE(pred_q_3s, qlabels_l3)\n",
    "            loss = tf.reduce_mean(loss_sum)\n",
    "\n",
    "            grads = tape.gradient(loss, qn_guess_prim.trainable_variables)\n",
    "            optimizer_ql3.apply_gradients(zip(grads, qn_guess_prim.trainable_variables))\n",
    "            \n",
    "    for t, e in zip(qn_l1_targ.trainable_variables, qn_l1_prim.trainable_variables):\n",
    "        t.assign(t*(1-TAU) + e*TAU)\n",
    "\n",
    "    for t, e in zip(qn_l2_targ.trainable_variables, qn_l2_prim.trainable_variables):\n",
    "        t.assign(t*(1-TAU) + e*TAU)\n",
    "\n",
    "    for t, e in zip(qn_guess_targ.trainable_variables, qn_guess_prim.trainable_variables):\n",
    "        t.assign(t*(1-TAU) + e*TAU)\n",
    "    return"
   ]
  },
  {
   "cell_type": "code",
   "execution_count": 20,
   "metadata": {},
   "outputs": [],
   "source": [
    "def prob(beta, alpha, n):\n",
    "    p0 = np.exp(-(beta-alpha)**2)\n",
    "    if n == 0:\n",
    "        return p0\n",
    "    else:\n",
    "        return 1-p0"
   ]
  },
  {
   "cell_type": "code",
   "execution_count": 21,
   "metadata": {},
   "outputs": [],
   "source": [
    "def probability_greedy():\n",
    "    p=0\n",
    "    label1, beta1 = give_first_beta(epsilon=0)\n",
    "    for n1 in [0,1]:\n",
    "        for n2 in [0,1]:\n",
    "            l2, beta2 = give_second_beta([n1, beta1], epsilon=0)\n",
    "            gueslabel, guess_phase = give_guess([n1,n2,beta1,beta2], epsilon=0)\n",
    "            \n",
    "            p+= prob(beta1, guess_phase*np.cos(ats[0])*alpha,n1)*prob(beta2, guess_phase*np.sin(ats[0])*alpha, n2)\n",
    "    return p/2"
   ]
  },
  {
   "cell_type": "code",
   "execution_count": 22,
   "metadata": {},
   "outputs": [
    {
     "data": {
      "text/plain": [
       "0.5"
      ]
     },
     "execution_count": 22,
     "metadata": {},
     "output_type": "execute_result"
    }
   ],
   "source": [
    "probability_greedy()"
   ]
  },
  {
   "cell_type": "code",
   "execution_count": null,
   "metadata": {},
   "outputs": [],
   "source": []
  },
  {
   "cell_type": "code",
   "execution_count": 23,
   "metadata": {},
   "outputs": [],
   "source": [
    "buffer = Memory(10**4)\n",
    "optimizer_ql1 = tf.keras.optimizers.Adam(lr=0.0001)\n",
    "optimizer_ql2 = tf.keras.optimizers.Adam(lr=0.0001)\n",
    "optimizer_ql3 = tf.keras.optimizers.Adam(lr=0.001)\n",
    "\n",
    "alpha = .56\n",
    "states_wasted = 10**2\n",
    "TAU = 0.01\n",
    "\n",
    "cumulative = []\n",
    "def main():\n",
    "    cum_rews=0\n",
    "    for episode in range(states_wasted):\n",
    "        if episode%100 == 0:\n",
    "            print(episode, \" of \", states_wasted)\n",
    "\n",
    "        epsilon = 0.01\n",
    "        phase = np.random.choice([-1,1],1)[0]\n",
    "        labelbeta1, beta1 = give_first_beta(epsilon)\n",
    "        p0 = np.exp(-(beta1-(phase*np.cos(ats[0])*alpha))**2)\n",
    "        outcome1 = np.random.choice([0,1],1,p=[p0,1-p0])[0]\n",
    "        new_state = [outcome1, beta1]\n",
    "        labelbeta2, beta2 = give_second_beta(new_state,epsilon)\n",
    "        p1 = np.exp(-(beta2-(phase*np.sin(ats[0])*alpha))**2)\n",
    "        outcome2 = np.random.choice([0,1],1,p=[p1,1-p1])[0]\n",
    "        new_state = [outcome1, outcome2, beta1, beta2]\n",
    "        label_guess, guess = give_guess(new_state,epsilon)\n",
    "        if guess == phase:\n",
    "            reward = 1\n",
    "        else:\n",
    "            reward = 0\n",
    "        buffer.add_sample((outcome1, outcome2, beta1, beta2, labelbeta1, labelbeta2, guess, label_guess, reward))\n",
    "        if episode > 10**2:\n",
    "            learn()\n",
    "        cum_rews += reward\n",
    "        cumulative.append(cum_rews)\n",
    "    return cumulative\n"
   ]
  },
  {
   "cell_type": "code",
   "execution_count": null,
   "metadata": {},
   "outputs": [],
   "source": []
  },
  {
   "cell_type": "code",
   "execution_count": 19,
   "metadata": {},
   "outputs": [
    {
     "data": {
      "text/plain": [
       "array([0.        , 0.5       , 0.33333333, ..., 0.81856371, 0.81858186,\n",
       "       0.8186    ])"
      ]
     },
     "execution_count": 19,
     "metadata": {},
     "output_type": "execute_result"
    }
   ],
   "source": [
    "cumulative/np.arange(1,states_wasted+1)"
   ]
  },
  {
   "cell_type": "code",
   "execution_count": 23,
   "metadata": {},
   "outputs": [
    {
     "data": {
      "text/plain": [
       "(array([7295, 7296, 7297, ..., 9997, 9998, 9999]),)"
      ]
     },
     "execution_count": 23,
     "metadata": {},
     "output_type": "execute_result"
    }
   ],
   "source": [
    "np.where(cumulative/np.arange(1,states_wasted+1) > 0.8)"
   ]
  },
  {
   "cell_type": "code",
   "execution_count": 21,
   "metadata": {},
   "outputs": [
    {
     "data": {
      "text/plain": [
       "[<matplotlib.lines.Line2D at 0x7f435d7e6240>]"
      ]
     },
     "execution_count": 21,
     "metadata": {},
     "output_type": "execute_result"
    },
    {
     "data": {
      "image/png": "[encoded data removed]",
      "text/plain": [
       "<Figure size 432x288 with 1 Axes>"
      ]
     },
     "metadata": {},
     "output_type": "display_data"
    }
   ],
   "source": [
    "plt.plot(cumulative/np.arange(1,states_wasted+1))"
   ]
  },
  {
   "cell_type": "code",
   "execution_count": 27,
   "metadata": {},
   "outputs": [
    {
     "data": {
      "text/plain": [
       "80000"
      ]
     },
     "execution_count": 27,
     "metadata": {},
     "output_type": "execute_result"
    }
   ],
   "source": [
    "100*2*100*2*2"
   ]
  },
  {
   "cell_type": "code",
   "execution_count": null,
   "metadata": {},
   "outputs": [],
   "source": []
  }
 ],
 "metadata": {
  "kernelspec": {
   "display_name": "Python 3",
   "language": "python",
   "name": "python3"
  },
  "language_info": {
   "codemirror_mode": {
    "name": "ipython",
    "version": 3
   },
   "file_extension": ".py",
   "mimetype": "text/x-python",
   "name": "python",
   "nbconvert_exporter": "python",
   "pygments_lexer": "ipython3",
   "version": "3.7.1"
  }
 },
 "nbformat": 4,
 "nbformat_minor": 2
}
