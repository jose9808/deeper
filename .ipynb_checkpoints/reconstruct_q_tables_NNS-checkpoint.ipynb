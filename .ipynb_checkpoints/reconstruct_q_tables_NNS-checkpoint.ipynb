{
 "cells": [
  {
   "cell_type": "code",
   "execution_count": 1,
   "metadata": {},
   "outputs": [],
   "source": [
    "import tensorflow as tf\n",
    "import numpy as np\n",
    "from memory import Memory\n",
    "from basics import Basics\n",
    "\n",
    "\n",
    "\n",
    "from networks_kennedy import QN_l1, QN_guess_kennedy\n",
    "import give_probability_kennedy\n",
    "\n",
    "\n",
    "\n",
    "\n",
    "basics = Basics(layers=1)\n",
    "basics.define_actions()\n",
    "b =np.load(\"buffer.npy\", allow_pickle=True)\n",
    "buffer = Memory(len(b), load_path=None)\n",
    "for i in range(len(b)):\n",
    "    buffer.add_sample(tuple(b[i]))\n"
   ]
  },
  {
   "cell_type": "code",
   "execution_count": 4,
   "metadata": {},
   "outputs": [],
   "source": [
    "q= np.zeros((2,11,2))\n",
    "n= np.zeros((2,11,2))\n",
    "q0= np.zeros((11))\n",
    "n0= np.zeros((11))\n",
    "\n",
    "qalph= np.zeros((2,11,2))\n",
    "q0alph= np.zeros((11))\n",
    "\n",
    "alpha = 1/buffer.num_samples\n",
    "\n",
    "for v in buffer.samples:\n",
    "    n[tuple([int(v[0]), int(v[2]),int(v[4])])] += 1\n",
    "    nn= n[tuple([int(v[0]), int(v[2]),int(v[4])])]\n",
    "    q[tuple([int(v[0]), int(v[2]),int(v[4])])] =  (1- (1/nn))*q[tuple([int(v[0]), int(v[2]),int(v[4])])] + (v[5])/nn\n",
    "\n",
    "    n0[tuple([int(v[2])])] += 1\n",
    "    nn0= n0[tuple([int(v[2])])] \n",
    "    q0[tuple([int(v[2])])] =  (1- (1/nn0))*q0[tuple([int(v[2])])] + np.max(q[int(v[0]), int(v[2]), :])/nn0\n",
    "    \n",
    "    \n",
    "    qalph[tuple([int(v[0]), int(v[2]),int(v[4])])] =  (1- alpha)*qalph[tuple([int(v[0]), int(v[2]),int(v[4])])] + (v[5])*alpha\n",
    "    q0alph[tuple([int(v[2])])] =  (1- alpha)*q0alph[tuple([int(v[2])])] + np.max(qalph[int(v[0]), int(v[2]), :])*alpha\n"
   ]
  },
  {
   "cell_type": "code",
   "execution_count": null,
   "metadata": {},
   "outputs": [],
   "source": []
  },
  {
   "cell_type": "code",
   "execution_count": 6,
   "metadata": {},
   "outputs": [
    {
     "data": {
      "text/plain": [
       "10000.0"
      ]
     },
     "execution_count": 6,
     "metadata": {},
     "output_type": "execute_result"
    }
   ],
   "source": [
    "buffer.num_samples/100"
   ]
  },
  {
   "cell_type": "code",
   "execution_count": 7,
   "metadata": {},
   "outputs": [
    {
     "ename": "SyntaxError",
     "evalue": "invalid syntax (<ipython-input-7-e2ca213a4db2>, line 12)",
     "output_type": "error",
     "traceback": [
      "\u001b[0;36m  File \u001b[0;32m\"<ipython-input-7-e2ca213a4db2>\"\u001b[0;36m, line \u001b[0;32m12\u001b[0m\n\u001b[0;31m    for v in buffer.sample(int(buffer.num_samples/100):\u001b[0m\n\u001b[0m                                                      ^\u001b[0m\n\u001b[0;31mSyntaxError\u001b[0m\u001b[0;31m:\u001b[0m invalid syntax\n"
     ]
    }
   ],
   "source": [
    "alpha = 1/buffer.num_samples\n",
    "qalphba= np.zeros((2,11,2))\n",
    "q0alphba= np.zeros((11))\n",
    "\n",
    "qba= np.zeros((2,11,2))\n",
    "nba= np.zeros((2,11,2))\n",
    "q0ba= np.zeros((11))\n",
    "n0ba= np.zeros((11))\n",
    "\n",
    "for batch in range(100):\n",
    "    for v in buffer.sample(int(buffer.num_samples/100)):\n",
    "        nba[tuple([int(v[0]), int(v[2]),int(v[4])])] += 1\n",
    "        nn= nba[tuple([int(v[0]), int(v[2]),int(v[4])])]\n",
    "        qba[tuple([int(v[0]), int(v[2]),int(v[4])])] =  (1- (1/nn))*qba[tuple([int(v[0]), int(v[2]),int(v[4])])] + (v[5])/nn\n",
    "\n",
    "        n0ba[tuple([int(v[2])])] += 1\n",
    "        nn0= n0ba[tuple([int(v[2])])] \n",
    "        q0ba[tuple([int(v[2])])] =  (1- (1/nn0))*q0ba[tuple([int(v[2])])] + np.max(qba[int(v[0]), int(v[2]), :])/nn0\n",
    "\n",
    "        qalphba[tuple([int(v[0]), int(v[2]),int(v[4])])] =  (1- alpha)*qalphba[tuple([int(v[0]), int(v[2]),int(v[4])])] + (v[5])*alpha\n",
    "        q0alphba[tuple([int(v[2])])] =  (1- alpha)*q0alphba[tuple([int(v[2])])] + np.max(qalphba[int(v[0]), int(v[2]), :])*alpha"
   ]
  },
  {
   "cell_type": "code",
   "execution_count": null,
   "metadata": {},
   "outputs": [],
   "source": []
  },
  {
   "cell_type": "code",
   "execution_count": null,
   "metadata": {},
   "outputs": [],
   "source": []
  },
  {
   "cell_type": "code",
   "execution_count": 12,
   "metadata": {},
   "outputs": [
    {
     "data": {
      "text/plain": [
       "[<matplotlib.lines.Line2D at 0x7fccab3485c0>]"
      ]
     },
     "execution_count": 12,
     "metadata": {},
     "output_type": "execute_result"
    },
    {
     "data": {
      "image/png": "[encoded data removed]",
      "text/plain": [
       "<Figure size 432x288 with 1 Axes>"
      ]
     },
     "metadata": {},
     "output_type": "display_data"
    }
   ],
   "source": [
    "plt.plot(q0alph)"
   ]
  },
  {
   "cell_type": "code",
   "execution_count": 15,
   "metadata": {},
   "outputs": [
    {
     "data": {
      "text/plain": [
       "array([1007.49955861, 1011.39451227,  992.14886463,  977.35671587,\n",
       "        969.97497437,  931.64820898,  925.76346919,  888.04715525,\n",
       "        880.47228583,  861.96589775,  840.11992272])"
      ]
     },
     "execution_count": 15,
     "metadata": {},
     "output_type": "execute_result"
    }
   ],
   "source": [
    "q0/q0alph"
   ]
  },
  {
   "cell_type": "code",
   "execution_count": 20,
   "metadata": {},
   "outputs": [
    {
     "data": {
      "text/plain": [
       "array([0.86768984, 0.88207464, 0.89679901, 0.88509857, 0.86918402,\n",
       "       0.83433435, 0.78734032, 0.72530355, 0.65804755, 0.58239272,\n",
       "       0.50450203])"
      ]
     },
     "execution_count": 20,
     "metadata": {},
     "output_type": "execute_result"
    }
   ],
   "source": [
    "q0"
   ]
  },
  {
   "cell_type": "code",
   "execution_count": 21,
   "metadata": {},
   "outputs": [
    {
     "data": {
      "text/plain": [
       "array([0.00086123, 0.00087214, 0.0009039 , 0.0009056 , 0.00089609,\n",
       "       0.00089555, 0.00085048, 0.00081674, 0.00074738, 0.00067566,\n",
       "       0.00060051])"
      ]
     },
     "execution_count": 21,
     "metadata": {},
     "output_type": "execute_result"
    }
   ],
   "source": [
    "q0alph"
   ]
  },
  {
   "cell_type": "code",
   "execution_count": 19,
   "metadata": {},
   "outputs": [
    {
     "data": {
      "text/plain": [
       "[<matplotlib.lines.Line2D at 0x7fccab3837f0>]"
      ]
     },
     "execution_count": 19,
     "metadata": {},
     "output_type": "execute_result"
    },
    {
     "data": {
      "image/png": "[encoded data removed]",
      "text/plain": [
       "<Figure size 432x288 with 1 Axes>"
      ]
     },
     "metadata": {},
     "output_type": "display_data"
    }
   ],
   "source": [
    "plt.plot(q0alph*1000)\n",
    "plt.plot(q0)"
   ]
  },
  {
   "cell_type": "code",
   "execution_count": null,
   "metadata": {},
   "outputs": [],
   "source": []
  },
  {
   "cell_type": "code",
   "execution_count": 37,
   "metadata": {},
   "outputs": [
    {
     "data": {
      "text/plain": [
       "[<matplotlib.lines.Line2D at 0x7f0c94dc3d68>]"
      ]
     },
     "execution_count": 37,
     "metadata": {},
     "output_type": "execute_result"
    },
    {
     "data": {
      "image/png": "[encoded data removed]",
      "text/plain": [
       "<Figure size 432x288 with 1 Axes>"
      ]
     },
     "metadata": {},
     "output_type": "display_data"
    }
   ],
   "source": [
    "plt.plot(np.arange(-1,1.1,.2),q0)"
   ]
  },
  {
   "cell_type": "code",
   "execution_count": null,
   "metadata": {},
   "outputs": [],
   "source": [
    "#Yet other way to compute q0"
   ]
  },
  {
   "cell_type": "code",
   "execution_count": 48,
   "metadata": {},
   "outputs": [],
   "source": [
    "q00= np.zeros((11))\n",
    "n00= np.zeros((11))\n",
    "\n",
    "prob = [p0,p1]\n",
    "for beta1Label in np.arange(11):\n",
    "    q00[beta1Label] = np.sum([prob[n1]*np.max(q[n1, beta1Label,:]) for n1 in [0,1]])"
   ]
  },
  {
   "cell_type": "code",
   "execution_count": 51,
   "metadata": {},
   "outputs": [
    {
     "data": {
      "text/plain": [
       "[<matplotlib.lines.Line2D at 0x7f0c81d4c0b8>]"
      ]
     },
     "execution_count": 51,
     "metadata": {},
     "output_type": "execute_result"
    },
    {
     "data": {
      "image/png": "[encoded data removed]",
      "text/plain": [
       "<Figure size 432x288 with 1 Axes>"
      ]
     },
     "metadata": {},
     "output_type": "display_data"
    }
   ],
   "source": [
    "plt.plot(np.arange(-1,1.1,.2),q00)\n",
    "plt.plot(np.arange(-1,1.1,.2),q0)"
   ]
  },
  {
   "cell_type": "code",
   "execution_count": 52,
   "metadata": {},
   "outputs": [
    {
     "data": {
      "text/plain": [
       "2"
      ]
     },
     "execution_count": 52,
     "metadata": {},
     "output_type": "execute_result"
    }
   ],
   "source": [
    "np.argmax(q00)"
   ]
  },
  {
   "cell_type": "code",
   "execution_count": 53,
   "metadata": {},
   "outputs": [
    {
     "data": {
      "text/plain": [
       "2"
      ]
     },
     "execution_count": 53,
     "metadata": {},
     "output_type": "execute_result"
    }
   ],
   "source": [
    "np.argmax(q0)"
   ]
  },
  {
   "cell_type": "code",
   "execution_count": 59,
   "metadata": {},
   "outputs": [
    {
     "data": {
      "text/plain": [
       "-0.8"
      ]
     },
     "execution_count": 59,
     "metadata": {},
     "output_type": "execute_result"
    }
   ],
   "source": [
    "np.arange(-1,0.1,.1)[2]"
   ]
  },
  {
   "cell_type": "markdown",
   "metadata": {},
   "source": [
    "This difference may be due to the finite number of samples... we do not satisfy (yet) the bellman equation.."
   ]
  },
  {
   "cell_type": "code",
   "execution_count": 60,
   "metadata": {},
   "outputs": [
    {
     "data": {
      "text/plain": [
       "[array([-1.00000000e+00, -9.00000000e-01, -8.00000000e-01, -7.00000000e-01,\n",
       "        -6.00000000e-01, -5.00000000e-01, -4.00000000e-01, -3.00000000e-01,\n",
       "        -2.00000000e-01, -1.00000000e-01, -2.22044605e-16])]"
      ]
     },
     "execution_count": 60,
     "metadata": {},
     "output_type": "execute_result"
    }
   ],
   "source": [
    "basics.actions"
   ]
  },
  {
   "cell_type": "code",
   "execution_count": 62,
   "metadata": {},
   "outputs": [
    {
     "data": {
      "text/plain": [
       "-0.8"
      ]
     },
     "execution_count": 62,
     "metadata": {},
     "output_type": "execute_result"
    }
   ],
   "source": [
    "basics.actions[0][2]"
   ]
  },
  {
   "cell_type": "code",
   "execution_count": null,
   "metadata": {},
   "outputs": [],
   "source": []
  }
 ],
 "metadata": {
  "kernelspec": {
   "display_name": "Python 3",
   "language": "python",
   "name": "python3"
  },
  "language_info": {
   "codemirror_mode": {
    "name": "ipython",
    "version": 3
   },
   "file_extension": ".py",
   "mimetype": "text/x-python",
   "name": "python",
   "nbconvert_exporter": "python",
   "pygments_lexer": "ipython3",
   "version": "3.6.8"
  }
 },
 "nbformat": 4,
 "nbformat_minor": 2
}
