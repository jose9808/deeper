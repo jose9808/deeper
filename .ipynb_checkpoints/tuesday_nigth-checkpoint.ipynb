{
 "cells": [
  {
   "cell_type": "markdown",
   "metadata": {},
   "source": [
    "## we see how Q-values are learnt with a fixed beta ##"
   ]
  },
  {
   "cell_type": "code",
   "execution_count": 2,
   "metadata": {},
   "outputs": [],
   "source": [
    "import tensorflow as tf\n",
    "from tensorflow.keras.layers import Dense\n",
    "import numpy as np\n",
    "import matplotlib.pyplot as plt\n",
    "import os\n",
    "from tqdm import tqdm_notebook as tqdm\n",
    "tf.keras.backend.set_floatx('float64')\n",
    "from misc import *\n",
    "from collections import deque\n",
    "from datetime import datetime\n",
    "import random"
   ]
  },
  {
   "cell_type": "code",
   "execution_count": 3,
   "metadata": {},
   "outputs": [],
   "source": [
    "def Prob(alpha, beta, n):\n",
    "    p0 = np.exp(-(alpha-beta)**2)\n",
    "    if n == 0:\n",
    "        return p0\n",
    "    else:\n",
    "        return 1-p0\n",
    "\n",
    "def qval(beta, n, guess):\n",
    "    #dolinar guessing rule (= max-likelihood for L=1, careful sign of \\beta)\n",
    "    alpha = 0.4\n",
    "    pn = np.sum([Prob(g*alpha, beta, n) for g in [-1,1]])\n",
    "    return Prob(guess*alpha, beta, n)/pn\n"
   ]
  },
  {
   "cell_type": "markdown",
   "metadata": {},
   "source": [
    "## previous learning function ##"
   ]
  },
  {
   "cell_type": "code",
   "execution_count": 26,
   "metadata": {},
   "outputs": [],
   "source": [
    "class DataSetBeta():\n",
    "    def __init__(self, rpbgo=10, beta=-.7, size=10**3):\n",
    "        #rpbgo = rewards per beta-guess-outcome\n",
    "        self.nbetas=1\n",
    "        self.beta = beta\n",
    "        self.betas = np.array([self.beta])\n",
    "        self.rpbgo=rpbgo\n",
    "        self.size = size\n",
    "        d = []\n",
    "        \n",
    "        for k in range(self.size):\n",
    "            proboutcome = Prob(0.4,self.beta,0)\n",
    "            outcome = np.random.choice([0.,1.],1,p=[proboutcome, 1-proboutcome])[0]\n",
    "            guess = np.random.choice([-1,1],1)[0]\n",
    "            mean_bernoulli = qval(self.beta, outcome, guess)\n",
    "            reward = np.random.choice([1.,0,],1,p=[mean_bernoulli, 1.-mean_bernoulli])[0]\n",
    "            d.append([self.beta, outcome, guess, reward])\n",
    "        self.data_unsplitted = np.array(d)\n",
    "    \n",
    "    def BatchSizeSplit(self, batch_size):\n",
    "        dataset = self.data_unsplitted.copy()\n",
    "        splits = int(len(dataset)/batch_size)\n",
    "        if len(dataset)%batch_size !=0:\n",
    "            #print(\"Not divisible!: breaking into len(dataset)%batch_size\")\n",
    "            splits = int(len(dataset)/batch_size)\n",
    "            sobra = int(len(dataset)%batch_size)\n",
    "            splited = np.split(dataset[sobra:], splits + len(dataset[sobra:])%splits)\n",
    "            return splited, len(splited[0])\n",
    "        else:\n",
    "            splited = np.split(dataset, splits + len(dataset)%splits)\n",
    "            return splited, len(splited[0])\n"
   ]
  },
  {
   "cell_type": "code",
   "execution_count": 27,
   "metadata": {},
   "outputs": [],
   "source": [
    "\n",
    "class Net(tf.keras.Model):\n",
    "    def __init__(self, valreg=0.01, seed_val=0.1):\n",
    "        super(Net,self).__init__()\n",
    "\n",
    "        self.l1 = Dense(50, input_shape=(3,),kernel_initializer=tf.random_uniform_initializer(minval=-seed_val, maxval=seed_val),\n",
    "        bias_initializer = tf.random_uniform_initializer(minval=-seed_val, maxval=seed_val),\n",
    "        kernel_regularizer=tf.keras.regularizers.l1(valreg),\n",
    "    activity_regularizer=tf.keras.regularizers.l2(valreg))\n",
    "\n",
    "        self.l2 = Dense(50, kernel_regularizer=tf.keras.regularizers.l1(valreg),\n",
    "    activity_regularizer=tf.keras.regularizers.l2(valreg),\n",
    "    kernel_initializer=tf.random_uniform_initializer(minval=-seed_val, maxval=seed_val),\n",
    "    bias_initializer = tf.random_uniform_initializer(minval=-seed_val, maxval=seed_val))\n",
    "        self.l3 = Dense(50, kernel_regularizer=tf.keras.regularizers.l1(valreg),\n",
    "    activity_regularizer=tf.keras.regularizers.l2(valreg),\n",
    "    kernel_initializer=tf.random_uniform_initializer(minval=-seed_val, maxval=seed_val),\n",
    "    bias_initializer = tf.random_uniform_initializer(minval=-seed_val, maxval=seed_val))\n",
    "\n",
    "        self.l4 = Dense(50, kernel_regularizer=tf.keras.regularizers.l1(valreg),\n",
    "    activity_regularizer=tf.keras.regularizers.l2(valreg),\n",
    "    kernel_initializer=tf.random_uniform_initializer(minval=-seed_val, maxval=seed_val),\n",
    "    bias_initializer = tf.random_uniform_initializer(minval=-seed_val, maxval=seed_val))\n",
    "\n",
    "        self.l5 = Dense(1, kernel_regularizer=tf.keras.regularizers.l1(valreg),\n",
    "    activity_regularizer=tf.keras.regularizers.l2(valreg),\n",
    "    kernel_initializer=tf.random_uniform_initializer(minval=-seed_val, maxval=seed_val),\n",
    "    bias_initializer = tf.random_uniform_initializer(minval=-seed_val, maxval=seed_val))\n",
    "\n",
    "    def call(self, input):\n",
    "        feat = tf.nn.relu(self.l1(input))\n",
    "        feat = tf.nn.dropout(feat, rate=0.01)\n",
    "        feat = tf.nn.relu(self.l2(feat))\n",
    "        feat = tf.nn.dropout(feat, rate=0.01)\n",
    "        feat = tf.nn.relu(self.l3(feat))\n",
    "        feat = tf.nn.relu(self.l4(feat))\n",
    "        feat = tf.nn.sigmoid(self.l5(feat))\n",
    "        return feat\n",
    "\n",
    "    def predict(self, history_one):\n",
    "        inp = np.expand_dims(history_one, axis=0)\n",
    "        return np.squeeze(self(inp).numpy())\n",
    "\n",
    "    def __str__(self):\n",
    "        return self.name\n"
   ]
  },
  {
   "cell_type": "code",
   "execution_count": 41,
   "metadata": {},
   "outputs": [],
   "source": [
    "\n",
    "def training(batch_size=10.):\n",
    "    net = Net()\n",
    "    optimizer = tf.keras.optimizers.Adam(lr=0.001)\n",
    "\n",
    "    dataset = DataSetBeta(10**3)\n",
    "    splitted_ds, batch_size = dataset.BatchSizeSplit(batch_size)\n",
    "    \n",
    "    net(splitted_ds[0][:,[0,1,2]]) #initialize the network\n",
    "\n",
    "    print(\"batch_size: \",batch_size)\n",
    "    histo_preds = {} #here i save the predictions\n",
    "    loss_ev = []\n",
    "\n",
    "    epochs=10\n",
    "    for epoch in tqdm(range(10)):\n",
    "        losses=[]\n",
    "        for mini_batch in splitted_ds:\n",
    "            with tf.GradientTape() as tape:\n",
    "                tape.watch(net.trainable_variables)\n",
    "                preds = net(mini_batch[:,[0,1,2]])\n",
    "                rew = mini_batch[:,3]\n",
    "                loss = tf.keras.losses.MSE(rew,preds)\n",
    "                loss = tf.reduce_mean(loss)\n",
    "                grads = tape.gradient(loss, net.trainable_variables)\n",
    "                optimizer.apply_gradients(zip(grads, net.trainable_variables))\n",
    "                losses.append(loss)\n",
    "        loss_ev.append(np.mean(np.array(losses)))\n",
    "        \n",
    "        splitted_ds, batch_size = dataset.BatchSizeSplit(batch_size)\n",
    "\n",
    "\n",
    "        histo_preds[str(epoch)] ={} \n",
    "        histo_preds[str(epoch)][\"epoch_number\"] = epoch\n",
    "        histo_preds[str(epoch)][\"values\"] = {}\n",
    "\n",
    "        index=0\n",
    "        for n1 in [0.,1.]:\n",
    "            for guess in [-1.,1.]:\n",
    "                foo =np.array([[b,n1,guess] for b in dataset.betas]) #betas_train defined as global in create_dataset_l2()\n",
    "                histo_preds[str(epoch)][\"values\"][str(index)] = np.squeeze(net(foo))\n",
    "                index+=1\n",
    "\n",
    "    return loss_ev, histo_preds, net"
   ]
  },
  {
   "cell_type": "code",
   "execution_count": 51,
   "metadata": {},
   "outputs": [
    {
     "name": "stdout",
     "output_type": "stream",
     "text": [
      "batch_size:  1\n"
     ]
    },
    {
     "data": {
      "application/vnd.jupyter.widget-view+json": {
       "model_id": "b3f345e1e7774521b5f18481b6f49548"
      }
     },
     "metadata": {},
     "output_type": "display_data"
    },
    {
     "name": "stdout",
     "output_type": "stream",
     "text": [
      "\n",
      "batch_size:  2\n"
     ]
    },
    {
     "data": {
      "application/vnd.jupyter.widget-view+json": {
       "model_id": "7513c5ff23bf4d2f92ebb7526a6f3e36"
      }
     },
     "metadata": {},
     "output_type": "display_data"
    },
    {
     "name": "stdout",
     "output_type": "stream",
     "text": [
      "\n",
      "batch_size:  16\n"
     ]
    },
    {
     "data": {
      "application/vnd.jupyter.widget-view+json": {
       "model_id": "a3e4f4a3dd9b43608975567500329f39"
      }
     },
     "metadata": {},
     "output_type": "display_data"
    },
    {
     "name": "stdout",
     "output_type": "stream",
     "text": [
      "\n",
      "batch_size:  100\n"
     ]
    },
    {
     "data": {
      "application/vnd.jupyter.widget-view+json": {
       "model_id": "7669e983012f4f7d904d9b28f9ae74a1"
      }
     },
     "metadata": {},
     "output_type": "display_data"
    },
    {
     "name": "stdout",
     "output_type": "stream",
     "text": [
      "\n"
     ]
    }
   ],
   "source": [
    "results = {}\n",
    "batches = [1, 2, 16,100]\n",
    "for batch_size in batches:\n",
    "    results[str(batch_size)] = training(batch_size)\n",
    "    "
   ]
  },
  {
   "cell_type": "code",
   "execution_count": 64,
   "metadata": {},
   "outputs": [
    {
     "data": {
      "text/plain": [
       "<matplotlib.legend.Legend at 0x7f6f860f2e48>"
      ]
     },
     "execution_count": 64,
     "metadata": {},
     "output_type": "execute_result"
    },
    {
     "data": {
      "image/png": "[encoded data removed]",
      "text/plain": [
       "<Figure size 720x720 with 1 Axes>"
      ]
     },
     "metadata": {},
     "output_type": "display_data"
    }
   ],
   "source": [
    "plt.figure(figsize=(10,10))\n",
    "for k in [\"1\"]:\n",
    "    loss = results[k][0]\n",
    "    plt.scatter(np.arange(1,len(loss)+1), loss, s=150, label=k)\n",
    "    plt.plot(np.arange(1,len(loss)+1), loss, alpha=0.5)\n",
    "plt.legend()"
   ]
  },
  {
   "cell_type": "markdown",
   "metadata": {},
   "source": [
    "### looking at the predictions and comparing with the true Q-value ###"
   ]
  },
  {
   "cell_type": "code",
   "execution_count": 65,
   "metadata": {},
   "outputs": [
    {
     "name": "stdout",
     "output_type": "stream",
     "text": [
      "batch_size:  1\n",
      "n: 0, guess: -1\n",
      "pred: 0.7428075750891884\n",
      "true value: 0.7539887164489482\n",
      "-0.011181141359759783\n",
      "----\n",
      "n: 0, guess: 1\n",
      "pred: 0.22092564611047597\n",
      "true value: 0.2460112835510519\n",
      "-0.02508563744057593\n",
      "----\n",
      "n: 1, guess: -1\n",
      "pred: 0.1111298621523835\n",
      "true value: 0.1092421935209539\n",
      "0.0018876686314295982\n",
      "----\n",
      "n: 1, guess: 1\n",
      "pred: 0.8126059284184313\n",
      "true value: 0.8907578064790461\n",
      "-0.07815187806061485\n",
      "----\n",
      "  \n",
      " ***** \n",
      "batch_size:  2\n",
      "n: 0, guess: -1\n",
      "pred: 0.64331347340778\n",
      "true value: 0.7539887164489482\n",
      "-0.11067524304116816\n",
      "----\n",
      "n: 0, guess: 1\n",
      "pred: 0.36288225109674166\n",
      "true value: 0.2460112835510519\n",
      "0.11687096754568976\n",
      "----\n",
      "n: 1, guess: -1\n",
      "pred: 0.356042877948564\n",
      "true value: 0.1092421935209539\n",
      "0.24680068442761008\n",
      "----\n",
      "n: 1, guess: 1\n",
      "pred: 0.6725705231947713\n",
      "true value: 0.8907578064790461\n",
      "-0.21818728328427484\n",
      "----\n",
      "  \n",
      " ***** \n",
      "batch_size:  16\n",
      "n: 0, guess: -1\n",
      "pred: 0.5337617125401696\n",
      "true value: 0.7539887164489482\n",
      "-0.22022700390877858\n",
      "----\n",
      "n: 0, guess: 1\n",
      "pred: 0.49587310049895666\n",
      "true value: 0.2460112835510519\n",
      "0.24986181694790477\n",
      "----\n",
      "n: 1, guess: -1\n",
      "pred: 0.4942881143665572\n",
      "true value: 0.1092421935209539\n",
      "0.3850459208456033\n",
      "----\n",
      "n: 1, guess: 1\n",
      "pred: 0.5239553411226764\n",
      "true value: 0.8907578064790461\n",
      "-0.36680246535636973\n",
      "----\n",
      "  \n",
      " ***** \n",
      "batch_size:  100\n",
      "n: 0, guess: -1\n",
      "pred: 0.5020037631838519\n",
      "true value: 0.7539887164489482\n",
      "-0.2519849532650963\n",
      "----\n",
      "n: 0, guess: 1\n",
      "pred: 0.5019051815738776\n",
      "true value: 0.2460112835510519\n",
      "0.25589389802282575\n",
      "----\n",
      "n: 1, guess: -1\n",
      "pred: 0.5016096902472228\n",
      "true value: 0.1092421935209539\n",
      "0.3923674967262689\n",
      "----\n",
      "n: 1, guess: 1\n",
      "pred: 0.5019780255870235\n",
      "true value: 0.8907578064790461\n",
      "-0.3887797808920226\n",
      "----\n",
      "  \n",
      " ***** \n"
     ]
    }
   ],
   "source": [
    "def outc(index):\n",
    "    if index in [0,1]:\n",
    "        return 0\n",
    "    else:\n",
    "        return 1\n",
    "    \n",
    "for k in results.keys():\n",
    "    histo_preds = results[k][1]\n",
    "    last_epoch = list(histo_preds.keys())[-1]\n",
    "    last_epoch_preds = histo_preds[str(last_epoch)]\n",
    "    print(\"batch_size: \",k)\n",
    "    for index in range(4):\n",
    "        print(\"n: {}, guess: {}\".format(outc(index), (-1)**(index+1) ))\n",
    "        print(\"pred: {}\".format(last_epoch_preds[\"values\"][str(index)]))\n",
    "        print(\"true value: {}\".format( qval(-.7, outc(index), (-1)**(index+1))))\n",
    "        print(last_epoch_preds[\"values\"][str(index)] - qval(-.7, outc(index), (-1)**(index+1)))\n",
    "        print(\"----\")\n",
    "    print(\"  \")\n",
    "    print(\" ***** \")"
   ]
  },
  {
   "cell_type": "code",
   "execution_count": null,
   "metadata": {},
   "outputs": [],
   "source": [
    " 0.5016096902472228+"
   ]
  }
 ],
 "metadata": {
  "kernelspec": {
   "display_name": "Python 3",
   "language": "python",
   "name": "python3"
  },
  "language_info": {
   "codemirror_mode": {
    "name": "ipython",
    "version": 3
   },
   "file_extension": ".py",
   "mimetype": "text/x-python",
   "name": "python",
   "nbconvert_exporter": "python",
   "pygments_lexer": "ipython3",
   "version": "3.6.9"
  }
 },
 "nbformat": 4,
 "nbformat_minor": 2
}
