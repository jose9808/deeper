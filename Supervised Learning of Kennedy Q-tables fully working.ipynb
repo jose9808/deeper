{
 "cells": [
  {
   "cell_type": "code",
   "execution_count": 99,
   "metadata": {},
   "outputs": [],
   "source": [
    "import tensorflow as tf\n",
    "import pandas as pd\n",
    "from tensorflow.keras.layers import Dense\n",
    "import numpy as np\n",
    "import matplotlib.pyplot as plt\n",
    "import os\n",
    "from tqdm import tqdm_notebook as tqdm\n",
    "tf.keras.backend.set_floatx('float64')\n",
    "from collections import deque\n",
    "from datetime import datetime\n",
    "import random\n",
    "\n",
    "\n",
    "def Prob(alpha, beta, n):\n",
    "    p0 = np.exp(-(alpha-beta)**2)\n",
    "    if n == 0:\n",
    "        return p0\n",
    "    else:\n",
    "        return 1-p0\n",
    "\n",
    "def qval(beta, n, guess):\n",
    "    #dolinar guessing rule (= max-likelihood for L=1, careful sign of \\beta)\n",
    "    alpha = 0.4\n",
    "    pn = np.sum([Prob(g*alpha, beta, n) for g in [-1,1]])\n",
    "    return Prob(guess*alpha, beta, n)/pn\n",
    "\n",
    "def ps_maxlik(beta):\n",
    "    #dolinar guessing rule (= max-likelihood for L=1, careful sign of \\beta)\n",
    "    alpha = 0.4\n",
    "    p=0\n",
    "    for n1 in [0,1]:\n",
    "       p+=Prob(np.sign(beta)*(-1)**(n1)*alpha, beta, n1)\n",
    "    return p/2\n",
    "\n",
    "\n",
    "class DataSet():\n",
    "    def __init__(self, size=10**3, nbetas=10,rpbgo=-1, creation_mode = \"TrueSampling\"):\n",
    "        #rpbgo = rewards per beta-guess-outcome\n",
    "        self.size = size\n",
    "        self.amplitude = 0.4\n",
    "        step = np.round(3/nbetas,3)\n",
    "        self.betas = np.arange(-1.5, 1.5+step,step)\n",
    "        self.rpbgo = rpbgo\n",
    "\n",
    "        if creation_mode == \"TrueSampling\":\n",
    "            self.data_unsplitted, self.test_l0, self.test_l1 =self.create_dataset_true_sampling()\n",
    "        elif creation_mode == \"Uniform\":\n",
    "            self.data_unsplitted=self.create_dataset_uniform_sampling()\n",
    "\n",
    "    def create_dataset_true_sampling(self):\n",
    "        d=[]\n",
    "        dt_l2 = []\n",
    "        dt_l1 = []\n",
    "        \n",
    "        for k in self.betas:\n",
    "            dt_l1.append([k, ps_maxlik(k)])\n",
    "            for n in [0.,1.]:\n",
    "                for g in [-1.,1.]:\n",
    "                    dt_l2.append([k, n, g, qval(k,n,g)])\n",
    "                    \n",
    "        for repetitions in range(self.size):\n",
    "            ph = np.random.choice([-1.,1.],1)[0]\n",
    "            beta = np.random.choice(self.betas,1)[0]\n",
    "            proboutcome = Prob(ph*self.amplitude,beta,0)\n",
    "            outcome = np.random.choice([0.,1.],1,p=[proboutcome, 1-proboutcome])[0]\n",
    "            guess = np.random.choice([-1.,1.],1)[0]\n",
    "            mean_bernoulli = qval(beta, outcome, guess)\n",
    "            if guess == ph:\n",
    "                reward = 1\n",
    "            else:\n",
    "                reward = 0\n",
    "            #reward = np.random.choice([1.,0.,],1,p=[mean_bernoulli, 1.-mean_bernoulli])[0]\n",
    "            d.append([beta,outcome,guess,reward])\n",
    "        return np.array(d), np.array(dt_l1), np.array(dt_l2)\n",
    "    \n",
    "    def create_dataset_uniform_sampling(self):\n",
    "        if self.rpbgo!=-1:\n",
    "            self.size = 4*nbetas*rpbgo\n",
    "        d=[]\n",
    "        \n",
    "        #for episode in range(size):\n",
    "        for b in self.betas:\n",
    "            for outcome in [0.,1,]:\n",
    "                for guess in [-1.,1.]:\n",
    "                    for k in range(self.rpbgo):\n",
    "                        mean_bernoulli = qval(b, outcome, guess)\n",
    "                        reward = np.random.choice([1.,0,],1,p=[mean_bernoulli, 1.-mean_bernoulli])[0]\n",
    "                        d.append([b, outcome, guess, reward])\n",
    "\n",
    "    \n",
    "    def sample_minibatch(self, bs):\n",
    "        #samples a minibatch of full history of transitions: a0 -> h0 -> a1 -> h1 -> r2.\n",
    "        #returns a random sample of {a0}, {h1-a1}, {r2} ordered!\n",
    "        d = self.data_unsplitted[np.random.choice(np.arange(self.size),int(bs),replace=False)]\n",
    "        a0s = d[:,0]\n",
    "        h0s_a1s = d[:,[0,1,2]]\n",
    "        r2s = d[:,3]\n",
    "        return a0s, h0s_a1s, r2s\n",
    "    \n",
    "    def pre_process(self, data):\n",
    "        data_prep = []\n",
    "        for ind, d in enumerate(data):\n",
    "            a0s = d[:,0]\n",
    "            h0s_a1s = d[:,[0,1,2]]\n",
    "            r2s = d[:,3]\n",
    "            data_prep.append([a0s, h0s_a1s, r2s])\n",
    "        return data_prep\n",
    "    \n",
    "    \n",
    "    def give_epoch(self, bs):\n",
    "        #gives a list of batches that form an epoch\n",
    "        epoch=[]\n",
    "        data = self.data_unsplitted.copy()\n",
    "        np.random.shuffle(data)\n",
    "        data = self.BatchSizeSplit(data, bs)[0]\n",
    "        data = self.pre_process(data)\n",
    "        return data\n",
    "        #for k in range(int(self.siz|e/bs)):\n",
    "         #   epoch.append(self.sample_minibatch(bs))\n",
    "        #return epoch\n",
    "    \n",
    "    def BatchSizeSplit(self, dataset,batch_size):\n",
    "        \n",
    "        splits = int(len(dataset)/batch_size)\n",
    "        if len(dataset)%batch_size !=0:\n",
    "            #print(\"Not divisible!: breaking into len(dataset)%batch_size\")\n",
    "            splits = int(len(dataset)/batch_size)\n",
    "            sobra = int(len(dataset)%batch_size)\n",
    "            splited = np.split(dataset[sobra:], splits + len(dataset[sobra:])%splits)\n",
    "            return splited, len(splited[0])\n",
    "        else:\n",
    "            splited = np.split(dataset, splits + len(dataset)%splits)\n",
    "            return splited, len(splited[0])\n"
   ]
  },
  {
   "cell_type": "markdown",
   "metadata": {},
   "source": [
    "#### Plotting what we'll use (and what we wanna learn)"
   ]
  },
  {
   "cell_type": "code",
   "execution_count": 28,
   "metadata": {},
   "outputs": [
    {
     "data": {
      "image/png": "[encoded data removed]",
      "text/plain": [
       "<Figure size 1080x720 with 2 Axes>"
      ]
     },
     "metadata": {},
     "output_type": "display_data"
    }
   ],
   "source": [
    "dataset = DataSet(size=10**4, nbetas=15)\n",
    "\n",
    "histo = {}\n",
    "number = {}\n",
    "for k in dataset.betas:\n",
    "    for g in [-1.,1.]:\n",
    "        for outcome in [0.,1.]:\n",
    "            \n",
    "            histo[str(k)+\"n\"+str(outcome)+\"g\"+str(g)] = 0\n",
    "            number[str(k)+\"n\"+str(outcome)+\"g\"+str(g)] = 1\n",
    "\n",
    "for dato in dataset.data_unsplitted:\n",
    "    histo[str(dato[0])+\"n\"+str(dato[1])+\"g\"+str(dato[2])] += dato[3]\n",
    "    number[str(dato[0])+\"n\"+str(dato[1])+\"g\"+str(dato[2])] += 1\n",
    "    \n",
    "for k in dataset.betas:\n",
    "    for g in [-1.,1.]:\n",
    "        for outcome in [0.,1.]:\n",
    "            histo[str(k)+\"n\"+str(outcome)+\"g\"+str(g)] /=number[str(k)+\"n\"+str(outcome)+\"g\"+str(g)] \n",
    "\n",
    "\n",
    "plt.figure(figsize=(15,10))\n",
    "ax1 =  plt.subplot2grid((1,2),(0,0))\n",
    "ax2 =  plt.subplot2grid((1,2),(0,1))\n",
    "\n",
    "betas_train = dataset.betas\n",
    "ax1.plot(dataset.betas,[histo[str(b)+\"n0.0g-1.0\"] for b in betas_train],alpha=0.5,c=\"red\", linewidth=5, label=\"Q(n1=0,\"+r'$\\beta$'+\"; g=-1)\")\n",
    "ax1.plot(dataset.betas,[histo[str(b)+\"n0.0g1.0\"] for b in betas_train],alpha=0.5,c=\"blue\", linewidth=5, label=\"Q(n1=0,\"+r'$\\beta$'+\"; g=-1)\")\n",
    "\n",
    "ax2.plot(dataset.betas,[histo[str(b)+\"n1.0g-1.0\"] for b in betas_train],alpha=0.5,c=\"red\", linewidth=5, label=\"Q(n1=1,\"+r'$\\beta$'+\"; g=-1)\")\n",
    "ax2.plot(dataset.betas,[histo[str(b)+\"n1.0g1.0\"] for b in betas_train],alpha=0.5,c=\"blue\", linewidth=5, label=\"Q(n1=1,\"+r'$\\beta$'+\"; g=-1)\")\n",
    "\n",
    "betas = np.arange(-1.5,1.5,.01)\n",
    "ax1.plot(betas,[qval(b, 0, -1) for b in betas],'--',alpha=0.5,c=\"red\", linewidth=5, label=\"True Q(n1=0,\"+r'$\\beta$'+\"; g=-1)\")\n",
    "ax1.plot(betas,[qval(b, 0, 1) for b in betas],'--',alpha=0.5,c=\"blue\",  linewidth=5,label=\"True Q(n1=0,\"+r'$\\beta$'+\"; g=1)\")\n",
    "\n",
    "ax2.plot(betas,[qval(b, 1, -1) for b in betas],'--',alpha=0.5,c=\"red\",  linewidth=5,label=\"True Q(n1=1,\"+r'$\\beta$'+\"; g=-1)\")\n",
    "ax2.plot(betas,[qval(b, 1, 1) for b in betas],'--',alpha=0.5,c=\"blue\",  linewidth=5,label=\"True Q(n1=1,\"+r'$\\beta$'+\"; g=1)\")\n",
    "\n",
    "\n",
    "for ax in [ax1, ax2]:\n",
    "    ax.set_xlabel(r'$\\beta$', size=20)\n",
    "    ax.legend(prop={\"size\":15})\n"
   ]
  },
  {
   "cell_type": "markdown",
   "metadata": {},
   "source": [
    "### Now we'll define a function to plot the predictions, but this is just to visualize; next we'll define yet another two out-of-sample loss functions and check everything in that terms"
   ]
  },
  {
   "cell_type": "code",
   "execution_count": 127,
   "metadata": {},
   "outputs": [],
   "source": [
    "def plot_predictions_profiles(histo_preds, losses, betas, title=None, save=True, directory=\"/\"):\n",
    "\n",
    "    plt.figure(figsize=(25,20))\n",
    "    ax1 =  plt.subplot2grid((2,4),(0,0))\n",
    "    ax2 =  plt.subplot2grid((2,4),(0,1))\n",
    "    ax3 = plt.subplot2grid((2,4),(1,0), colspan=2)\n",
    "    ax4 = plt.subplot2grid((2,4),(0,2))\n",
    "    ax5 = plt.subplot2grid((2,4),(1,2))\n",
    "    ax6 = plt.subplot2grid((2,4),(0,3))\n",
    "    ax7 = plt.subplot2grid((2,4),(1,3))\n",
    "\n",
    "\n",
    "    betas_train = betas\n",
    "    for predictions in histo_preds[\"net_1\"].values():\n",
    "        ax1.plot(betas_train,predictions[\"values\"][\"0\"],alpha=0.25, linewidth=5)#, label=\"epoch: \"+str(predictions[\"epoch_number\"])) #, label=r'$\\hat{Q}$'+\"(n1=0,\"+r'$\\beta$'+\"; g=-1)\")\n",
    "        ax1.plot(betas_train,predictions[\"values\"][\"1\"],alpha=0.25, linewidth=5)#, label=\"epoch: \"+str(predictions[\"epoch_number\"]))#,label=r'$\\hat{Q}$'+\"(n1=0,\"+r'$\\beta$'+\"; g=1)\")\n",
    "\n",
    "        ax2.plot(betas_train,predictions[\"values\"][\"2\"] ,alpha=0.25,  linewidth=5)#, label=\"epoch: \"+str(predictions[\"epoch_number\"]))#label=r'$\\hat{Q}$'+\"(n1=1,\"+r'$\\beta$'+\"; g=-1)\")\n",
    "        ax2.plot(betas_train,predictions[\"values\"][\"3\"] ,alpha=0.25,  linewidth=5)#, label=\"epoch: \"+str(predictions[\"epoch_number\"]))#,label=r'$\\hat{Q}$'+\"(n1=1,\"+r'$\\beta$'+\"; g=1)\")\n",
    "    \n",
    "    #Now we take the last and plot it in bold!\n",
    "    ax1.plot(betas_train,predictions[\"values\"][\"0\"],alpha=0.85, c=\"black\",linewidth=8)#), label=\"epoch: \"+str(predictions[\"epoch_number\"])) #, label=r'$\\hat{Q}$'+\"(n1=0,\"+r'$\\beta$'+\"; g=-1)\")\n",
    "    ax1.plot(betas_train,predictions[\"values\"][\"1\"],alpha=0.85, c=\"purple\", linewidth=8)#, label=\"epoch: \"+str(predictions[\"epoch_number\"]))#,label=r'$\\hat{Q}$'+\"(n1=0,\"+r'$\\beta$'+\"; g=1)\")\n",
    "    ax1.scatter(betas_train,predictions[\"values\"][\"0\"],alpha=0.85, c=\"black\",s=150)\n",
    "    ax1.scatter(betas_train,predictions[\"values\"][\"1\"],alpha=0.85, c=\"purple\",s=150)\n",
    "    \n",
    "    ax2.plot(betas_train,predictions[\"values\"][\"2\"] ,alpha=0.85, c=\"black\", linewidth=8)#, label=\"epoch: \"+str(predictions[\"epoch_number\"]))#label=r'$\\hat{Q}$'+\"(n1=1,\"+r'$\\beta$'+\"; g=-1)\")\n",
    "    ax2.plot(betas_train,predictions[\"values\"][\"3\"] ,alpha=0.85,  c=\"purple\",linewidth=8)#, label=\"epoch: \"+str(predictions[\"epoch_number\"]))#,label=r'$\\hat{Q}$'+\"(n1=1,\"+r'$\\beta$'+\"; g=1)\")\n",
    "    ax2.scatter(betas_train,predictions[\"values\"][\"2\"],alpha=0.85, c=\"black\",s=150)\n",
    "    ax2.scatter(betas_train,predictions[\"values\"][\"3\"],alpha=0.85, c=\"purple\",s=150)\n",
    "\n",
    "    \n",
    "    ### we do the same for ax3:\n",
    "    \n",
    "    for predictions in histo_preds[\"net_0\"].values():\n",
    "        ax3.plot(betas_train,predictions[\"values\"],alpha=0.15, linewidth=5)#, label=\"epoch: \"+str(predictions[\"epoch_number\"])) #, label=r'$\\hat{Q}$'+\"(n1=0,\"+r'$\\beta$'+\"; g=-1)\")\n",
    "\n",
    "    #The last one black and bigger!\n",
    "    ax3.plot(betas_train,predictions[\"values\"],alpha=0.85,c=\"black\", linewidth=5)#, label=\"epoch: \"+str(predictions[\"epoch_number\"])) #, label=r'$\\hat{Q}$'+\"(n1=0,\"+r'$\\beta$'+\"; g=-1)\")\n",
    "\n",
    "\n",
    "    \n",
    "    ax1.plot(betas,[qval(b, 0, -1) for b in betas],'--',alpha=0.85,c=\"red\", linewidth=8, label=\"Q(n1=0,\"+r'$\\beta$'+\"; g=-1)\")\n",
    "    ax1.plot(betas,[qval(b, 0, 1) for b in betas],'--',alpha=0.85,c=\"blue\",  linewidth=8,label=\"Q(n1=0,\"+r'$\\beta$'+\"; g=1)\")\n",
    "\n",
    "    ax2.plot(betas,[qval(b, 1, -1) for b in betas],'--',alpha=0.85,c=\"red\",  linewidth=8,label=\"Q(n1=1,\"+r'$\\beta$'+\"; g=-1)\")\n",
    "    ax2.plot(betas,[qval(b, 1, 1) for b in betas],'--',alpha=0.85,c=\"blue\",  linewidth=8,label=\"Q(n1=1,\"+r'$\\beta$'+\"; g=1)\")\n",
    "\n",
    "    ax3.plot(betas,[ps_maxlik(b) for b in betas],'--',alpha=0.85,c=\"red\", linewidth=8)\n",
    "    ax3.set_xlabel(r'$\\beta$', size=20)\n",
    "    ax3.set_ylabel(r'$P_s\\; ( \\beta )$', size=20)\n",
    "    \n",
    "    \n",
    "    \n",
    "    for ax in [ax1, ax2,ax3]:\n",
    "        ax.set_xlabel(r'$\\beta$', size=20)\n",
    "        ax.legend(prop={\"size\":15})\n",
    "    if title != None:\n",
    "        plt.suptitle(title, size=50)\n",
    "        \n",
    "     #### not plot the losses\"####   \n",
    "    c=0\n",
    "    lab = [\"train\",\"test\"]\n",
    "    for ax, loss in zip([ax4,ax5],losses[0]):\n",
    "        ax.plot(np.arange(1,len(loss)+1),loss,'--',alpha=0.85,c=\"red\", linewidth=5, label=\"Preds Q(\\beta) - \"+lab[c])#, label=\"Q(n1=0,\"+r'$\\beta$'+\"; g=-1)\")\n",
    "        ax.scatter(np.arange(1,len(loss)+1),loss,s=150,alpha=0.85,c=\"red\", linewidth=5,label=\"Preds Q(\\beta) - \"+lab[c])#, label=\"Q(n1=0,\"+r'$\\beta$'+\"; g=-1)\")\n",
    "        c+=1\n",
    "        ax.set_xlabel(\"epoch\", size=20)\n",
    "        ax.set_ylabel(\"Loss Q(\\beta_1)\",size=20)\n",
    "        \n",
    "    c=0\n",
    "    for ax, loss in zip([ax6,ax7],losses[1]):\n",
    "        ax.plot(np.arange(1,len(loss)+1),loss,'--',alpha=0.85,c=\"red\", linewidth=5, label=\"Preds Q(n, \\beta, guess) - \"+lab[c])#, label=\"Q(n1=0,\"+r'$\\beta$'+\"; g=-1)\")\n",
    "        ax.scatter(np.arange(1,len(loss)+1),loss,s=150,alpha=0.85,c=\"red\", linewidth=5, label=\"Preds Q(n, \\beta, guess) - \"+lab[c])#, label=\"Q(n1=0,\"+r'$\\beta$'+\"; g=-1)\")\n",
    "\n",
    "        ax.set_xlabel(\"epoch\", size=20)\n",
    "        ax.set_ylabel(\"Loss Q(\\beta_1, n, guess)\",size=20)\n",
    "    if save==True:\n",
    "        plt.savefig(directory+\"profiles.png\")\n",
    "    plt.close()\n",
    "    return"
   ]
  },
  {
   "cell_type": "markdown",
   "metadata": {},
   "source": [
    "### This is a function to calculte $\\text{max}_a_{t+1} Q(s_{t+1}, a_{t+1})$"
   ]
  },
  {
   "cell_type": "code",
   "execution_count": 67,
   "metadata": {},
   "outputs": [],
   "source": [
    "\n",
    "class Net(tf.keras.Model):\n",
    "    #input_dim: 1 if layer=0, 3 if layer= 2, for the Kennedy receiver ##\n",
    "    def __init__(self, input_dim, valreg=0.01, seed_val=0.1):\n",
    "        super(Net,self).__init__()\n",
    "\n",
    "        self.l1 = Dense(50, input_shape=(input_dim,),kernel_initializer=tf.random_uniform_initializer(minval=-seed_val, maxval=seed_val),\n",
    "        bias_initializer = tf.random_uniform_initializer(minval=-seed_val, maxval=seed_val),\n",
    "        kernel_regularizer=tf.keras.regularizers.l1(valreg),\n",
    "    activity_regularizer=tf.keras.regularizers.l2(valreg))\n",
    "\n",
    "        self.l2 = Dense(50, kernel_regularizer=tf.keras.regularizers.l1(valreg),\n",
    "    activity_regularizer=tf.keras.regularizers.l2(valreg),\n",
    "    kernel_initializer=tf.random_uniform_initializer(minval=-seed_val, maxval=seed_val),\n",
    "    bias_initializer = tf.random_uniform_initializer(minval=-seed_val, maxval=seed_val))\n",
    "        self.l3 = Dense(50, kernel_regularizer=tf.keras.regularizers.l1(valreg),\n",
    "    activity_regularizer=tf.keras.regularizers.l2(valreg),\n",
    "    kernel_initializer=tf.random_uniform_initializer(minval=-seed_val, maxval=seed_val),\n",
    "    bias_initializer = tf.random_uniform_initializer(minval=-seed_val, maxval=seed_val))\n",
    "\n",
    "        self.l4 = Dense(50, kernel_regularizer=tf.keras.regularizers.l1(valreg),\n",
    "    activity_regularizer=tf.keras.regularizers.l2(valreg),\n",
    "    kernel_initializer=tf.random_uniform_initializer(minval=-seed_val, maxval=seed_val),\n",
    "    bias_initializer = tf.random_uniform_initializer(minval=-seed_val, maxval=seed_val))\n",
    "\n",
    "        self.l5 = Dense(1, kernel_regularizer=tf.keras.regularizers.l1(valreg),\n",
    "    activity_regularizer=tf.keras.regularizers.l2(valreg),\n",
    "    kernel_initializer=tf.random_uniform_initializer(minval=-seed_val, maxval=seed_val),\n",
    "    bias_initializer = tf.random_uniform_initializer(minval=-seed_val, maxval=seed_val))\n",
    "\n",
    "        \n",
    "    def update_target_parameters(self,primary_net, tau=0.01):\n",
    "        #### only \n",
    "        prim_weights = primary_net.get_weights()\n",
    "        targ_weights = self.get_weights()\n",
    "        weights = []\n",
    "        for i in tf.range(len(prim_weights)):\n",
    "            weights.append(tau * prim_weights[i] + (1 - tau) * targ_weights[i])\n",
    "        self.set_weights(weights)\n",
    "        return\n",
    "\n",
    "    def call(self, input):\n",
    "        feat = tf.nn.relu(self.l1(input))\n",
    "#        feat = tf.nn.dropout(feat, rate=0.01)\n",
    " #       feat = tf.nn.relu(self.l2(feat))\n",
    "  #      feat = tf.nn.dropout(feat, rate=0.01)\n",
    "   #     feat = tf.nn.relu(self.l3(feat))\n",
    "        feat = tf.nn.relu(self.l4(feat))\n",
    "        feat = tf.nn.sigmoid(self.l5(feat))\n",
    "        return feat\n",
    "\n",
    "    def calculate_greedy_from_batch(self, batch):\n",
    "        \"\"\" this function is only to intended for Q(n, beta, guess)\"\"\"\n",
    "        a = batch[1].copy()\n",
    "        preds1 = self(a)\n",
    "        a[:,2] = -a[:,2]\n",
    "        preds2 = self(a)\n",
    "        both = tf.concat([preds1,preds2],1)\n",
    "        maxs = np.squeeze(tf.math.reduce_max(both,axis=1))\n",
    "        maxs = np.expand_dims(maxs, axis=1)\n",
    "        return maxs\n",
    "\n",
    "    def __str__(self):\n",
    "        return self.name\n"
   ]
  },
  {
   "cell_type": "code",
   "execution_count": 147,
   "metadata": {},
   "outputs": [],
   "source": [
    "def supervised_training(batch_size=32., total_epochs=30, buffer_size=10**4, tau=0.0005, lr=0.001):\n",
    "\n",
    "    net_0 = Net(input_dim=1)\n",
    "    net_1 = Net(input_dim=3)\n",
    "    net_1_target = Net(input_dim=3)\n",
    "\n",
    "    net_0(np.array([[0.],[1.]])) #initialize the network 0, arbitrary inputs.\n",
    "    net_1(np.array([[0.,1.,1.]]))\n",
    "    net_1_target(np.array([[0.,1.,1.]]))\n",
    "\n",
    "    optimizer_0 = tf.keras.optimizers.Adam(lr=lr)\n",
    "    optimizer_1 = tf.keras.optimizers.Adam(lr=lr)\n",
    "\n",
    "    dataset = DataSet(size=10**4, nbetas=15)\n",
    "    \n",
    "    \n",
    "    \n",
    "    #current_time = datetime.now().strftime(\"%Y%m%d-%H%M%S\")\n",
    "    current_time = \"BATCH_SIZE_{}__TAU_{}__LR_{}\".format(batch_size, tau, lr)\n",
    "    train_log_dir_0 = 'logs/gradient_tape/' + current_time + '/train_l0'\n",
    "    test_log_dir_0 = 'logs/gradient_tape/' + current_time + '/test_l0'\n",
    "    train_log_dir_1 = 'logs/gradient_tape/' + current_time + '/train_l1'\n",
    "    test_log_dir_1 = 'logs/gradient_tape/' + current_time + '/test_l1'\n",
    "    train_summary_writer_0 = tf.summary.create_file_writer(train_log_dir_0)\n",
    "    train_summary_writer_1 = tf.summary.create_file_writer(train_log_dir_1)\n",
    "    test_summary_writer_0 = tf.summary.create_file_writer(test_log_dir_0)\n",
    "    test_summary_writer_1 = tf.summary.create_file_writer(test_log_dir_1)\n",
    "\n",
    "\n",
    "    train_loss_l0 = tf.keras.metrics.Mean('train_loss', dtype=tf.float32)\n",
    "    test_loss_l0 = tf.keras.metrics.Mean('test_loss', dtype=tf.float32)\n",
    "    train_loss_l1 = tf.keras.metrics.Mean('train_loss', dtype=tf.float32)\n",
    "    test_loss_l1 = tf.keras.metrics.Mean('test_loss', dtype=tf.float32)\n",
    "    \n",
    "    avg_train_l0 = []\n",
    "    avg_train_l1 = []\n",
    "    avg_test_l0 = []\n",
    "    avg_test_l1 = []\n",
    "\n",
    "    histo_preds = {\"net_0\":{}, \"net_1\":{}} #here i save the predictions to plot in a \"straightforward way\"\n",
    "\n",
    "    \n",
    "    for epoch_number in tqdm(range(total_epochs)):\n",
    "        epoch = dataset.give_epoch(batch_size)        \n",
    "        for batch in epoch: #{a0}, {h1_a1}, {r2}\n",
    "            \n",
    "            ### optimization step of \\hat{Q(\\beta1, n, guess)}\n",
    "            with tf.GradientTape() as tape:\n",
    "                tape.watch(net_1.trainable_variables)\n",
    "                preds1 = net_1(batch[1])\n",
    "                labels_net1 = np.expand_dims(batch[2],axis=1) # {r2, the labels}\n",
    "                loss_1 = tf.keras.losses.MSE(labels_net1,preds1)\n",
    "                loss_1 = tf.reduce_mean(loss_1)\n",
    "                train_loss_l1(loss_1)\n",
    "                grads1 = tape.gradient(loss_1, net_1.trainable_variables)\n",
    "                optimizer_1.apply_gradients(zip(grads1, net_1.trainable_variables))\n",
    "\n",
    "            ### this is the test data for the guess network, defined in Dataset() classs\n",
    "            predstest = net_1(dataset.test_l1[:,[0,1,2]])\n",
    "            targets_1 = np.expand_dims(dataset.test_l1[:,3], axis=1)\n",
    "            loss_test_l1 = tf.keras.losses.MSE(targets_1, predstest)\n",
    "            loss_test_l1 = tf.reduce_mean(loss_test_l1)\n",
    "            test_loss_l1(loss_test_l1)\n",
    "            \n",
    "            \n",
    "            ###### update target #####\n",
    "            net_1_target.update_target_parameters(net_1, tau=tau)\n",
    "            ###### update target #####\n",
    "            #######################################################\n",
    "            \n",
    "            \n",
    "            ### optimization step of \\hat{Q(\\beta1)} #####\n",
    "            labels_net0 = net_1_target.calculate_greedy_from_batch(batch ) #greedy from target; this is the label for net_0!!\n",
    "            with tf.GradientTape() as tape:\n",
    "                tape.watch(net_0.trainable_variables)\n",
    "                preds0 = net_0(np.expand_dims(batch[0],axis=1))\n",
    "                loss_0 = tf.keras.losses.MSE(labels_net0,preds0)\n",
    "                loss_0 = tf.reduce_mean(loss_0)\n",
    "                train_loss_l0(loss_0)\n",
    "                grads0 = tape.gradient(loss_0, net_0.trainable_variables)\n",
    "                optimizer_0.apply_gradients(zip(grads0, net_0.trainable_variables))\n",
    "\n",
    "                \n",
    "            ### this is the test data for the \\hat{Q}('beta) #####\n",
    "            preds_test_l0 = net_0(np.expand_dims(dataset.test_l0[:,0], axis=1))\n",
    "            loss_y0 = tf.keras.losses.MSE(np.expand_dims(dataset.test_l0[:,1], axis=1), preds_test_l0)\n",
    "            loss_y0 = tf.reduce_mean(loss_y0)\n",
    "            test_loss_l0(loss_y0)\n",
    "        #############################################################\n",
    "        ###### END OF EPOCH LOOP ####\n",
    "        ###### END OF EPOCH LOOP ####\n",
    "        ###### END OF EPOCH LOOP ####\n",
    "\n",
    "        ### save the average losses per epoch###\n",
    "        with train_summary_writer_0.as_default():\n",
    "            tf.summary.scalar('loss', train_loss_l0.result(), step=epoch_number)\n",
    "        with test_summary_writer_0.as_default():\n",
    "            tf.summary.scalar('loss', test_loss_l0.result(), step=epoch_number)\n",
    "        with train_summary_writer_1.as_default():\n",
    "            tf.summary.scalar('loss', train_loss_l1.result(), step=epoch_number)\n",
    "        with test_summary_writer_1.as_default():\n",
    "            tf.summary.scalar('loss', test_loss_l1.result(), step=epoch_number)\n",
    "\n",
    "        avg_train_l0.append(train_loss_l0.result().numpy())\n",
    "        avg_train_l1.append(train_loss_l1.result().numpy())\n",
    "        avg_test_l0.append(test_loss_l0.result().numpy())\n",
    "        avg_test_l1.append(test_loss_l1.result().numpy())\n",
    "\n",
    "        if epoch_number%max(1,int(total_epochs/10)) ==0:\n",
    "            for nett in [\"net_0\",\"net_1\"]:\n",
    "\n",
    "                histo_preds[nett][str(epoch_number)] ={}\n",
    "                histo_preds[nett][str(epoch_number)][\"epoch_number\"] = epoch_number\n",
    "                histo_preds[nett][str(epoch_number)][\"values\"] = {}\n",
    "\n",
    "                histo_preds[\"net_0\"][str(epoch_number)][\"values\"] = np.squeeze(net_0(np.expand_dims(dataset.betas,axis=1)))\n",
    "\n",
    "            index=0\n",
    "            for n1 in [0.,1.]:\n",
    "                for guess in [-1.,1.]:\n",
    "                    foo =np.array([[b,n1,guess] for b in dataset.betas]) #betas_train defined as global in create_dataset_l2()\n",
    "                    histo_preds[\"net_1\"][str(epoch_number)][\"values\"][str(index)] = np.squeeze(net_1(foo))\n",
    "                    index+=1\n",
    "\n",
    "            template = 'Epoch {}, Train loss_l1: {}, Test loss_l1: {}, Train Loss_l0: {}, Train Loss_l0: {}'\n",
    "            print (template.format(epoch_number+1,\n",
    "                                 train_loss_l1.result(), \n",
    "                                 test_loss_l1.result(), \n",
    "                                 train_loss_l0.result(),\n",
    "                                 test_loss_l0.result()))\n",
    "\n",
    "        #### Reset metrics every epoch\n",
    "        train_loss_l0.reset_states()\n",
    "        train_loss_l1.reset_states()\n",
    "        test_loss_l0.reset_states()\n",
    "        test_loss_l1.reset_states()\n",
    "        \n",
    "        directory = 'logs/gradient_tape/' + current_time + '/'\n",
    "\n",
    "    losses = [[avg_train_l0, avg_test_l0], [ avg_train_l1, avg_test_l1]]\n",
    "    plot_predictions_profiles(histo_preds=histo_preds, losses=losses, betas = dataset.betas, save=True, directory=directory)\n",
    "    return "
   ]
  },
  {
   "cell_type": "code",
   "execution_count": 148,
   "metadata": {},
   "outputs": [],
   "source": [
    "    #OJOOOO clean the logs\n",
    "!rm -rf ./logs/ \n"
   ]
  },
  {
   "cell_type": "code",
   "execution_count": 149,
   "metadata": {},
   "outputs": [
    {
     "name": "stderr",
     "output_type": "stream",
     "text": [
      "/usr/lib/python3/dist-packages/ipykernel_launcher.py:41: TqdmDeprecationWarning: This function will be removed in tqdm==5.0.0\n",
      "Please use `tqdm.notebook.tqdm` instead of `tqdm.tqdm_notebook`\n"
     ]
    },
    {
     "data": {
      "application/vnd.jupyter.widget-view+json": {
       "model_id": "9f7678505fae4e35a94d1b3a2956246d"
      }
     },
     "metadata": {},
     "output_type": "display_data"
    },
    {
     "name": "stdout",
     "output_type": "stream",
     "text": [
      "Epoch 1, Train loss_l1: 0.21875615417957306, Test loss_l1: 0.04906015843153, Train Loss_l0: 9.5838618108246e-07, Train Loss_l0: 0.04548756405711174\n",
      "Epoch 2, Train loss_l1: 0.19854016602039337, Test loss_l1: 0.01494767889380455, Train Loss_l0: 1.6006980274596572e-07, Train Loss_l0: 0.04760664701461792\n",
      "Epoch 3, Train loss_l1: 0.1958976536989212, Test loss_l1: 0.011232198216021061, Train Loss_l0: 1.1239299055887386e-06, Train Loss_l0: 0.04917696863412857\n",
      "Epoch 4, Train loss_l1: 0.19513992965221405, Test loss_l1: 0.00910321157425642, Train Loss_l0: 1.3665429605680401e-06, Train Loss_l0: 0.04977501556277275\n",
      "Epoch 5, Train loss_l1: 0.1948477029800415, Test loss_l1: 0.006863355170935392, Train Loss_l0: 5.082684765511658e-06, Train Loss_l0: 0.048450302332639694\n",
      "Epoch 6, Train loss_l1: 0.19399970769882202, Test loss_l1: 0.0062380265444517136, Train Loss_l0: 2.3832548322388902e-05, Train Loss_l0: 0.045364487916231155\n",
      "Epoch 7, Train loss_l1: 0.19393688440322876, Test loss_l1: 0.006176463793963194, Train Loss_l0: 6.289384327828884e-05, Train Loss_l0: 0.040912069380283356\n",
      "Epoch 8, Train loss_l1: 0.19383323192596436, Test loss_l1: 0.005918433424085379, Train Loss_l0: 0.00012842290743719786, Train Loss_l0: 0.03575148805975914\n",
      "Epoch 9, Train loss_l1: 0.1932171732187271, Test loss_l1: 0.0052512334659695625, Train Loss_l0: 0.0002344167442061007, Train Loss_l0: 0.030581872910261154\n",
      "Epoch 10, Train loss_l1: 0.19319534301757812, Test loss_l1: 0.004700735677033663, Train Loss_l0: 0.00040112604619935155, Train Loss_l0: 0.025707587599754333\n",
      "Epoch 11, Train loss_l1: 0.19310563802719116, Test loss_l1: 0.0047408598475158215, Train Loss_l0: 0.0006296926294453442, Train Loss_l0: 0.02139102853834629\n",
      "Epoch 12, Train loss_l1: 0.1930261105298996, Test loss_l1: 0.00476575642824173, Train Loss_l0: 0.0008987520122900605, Train Loss_l0: 0.017633523792028427\n",
      "Epoch 13, Train loss_l1: 0.1926976889371872, Test loss_l1: 0.004654222633689642, Train Loss_l0: 0.0012400009436532855, Train Loss_l0: 0.014505302533507347\n",
      "Epoch 14, Train loss_l1: 0.19296157360076904, Test loss_l1: 0.004219123162329197, Train Loss_l0: 0.001615059096366167, Train Loss_l0: 0.011873464100062847\n",
      "Epoch 15, Train loss_l1: 0.1927827000617981, Test loss_l1: 0.004165309946984053, Train Loss_l0: 0.0019854025449603796, Train Loss_l0: 0.009638127870857716\n",
      "Epoch 16, Train loss_l1: 0.1925346851348877, Test loss_l1: 0.004147940780967474, Train Loss_l0: 0.0023782558273524046, Train Loss_l0: 0.008051583543419838\n",
      "\n"
     ]
    },
    {
     "name": "stderr",
     "output_type": "stream",
     "text": [
      "No handles with labels found to put in legend.\n",
      "/home/cooper-cooper/.local/lib/python3.6/site-packages/matplotlib/backends/backend_agg.py:211: RuntimeWarning: Glyph 8 missing from current font.\n",
      "  font.set_text(s, 0.0, flags=flags)\n",
      "/home/cooper-cooper/.local/lib/python3.6/site-packages/matplotlib/backends/backend_agg.py:180: RuntimeWarning: Glyph 8 missing from current font.\n",
      "  font.set_text(s, 0, flags=flags)\n"
     ]
    },
    {
     "data": {
      "application/vnd.jupyter.widget-view+json": {
       "model_id": "adb1dbd1eb4142d7a319ff4e7774b87c"
      }
     },
     "metadata": {},
     "output_type": "display_data"
    },
    {
     "name": "stdout",
     "output_type": "stream",
     "text": [
      "Epoch 1, Train loss_l1: 0.22092241048812866, Test loss_l1: 0.05009012296795845, Train Loss_l0: 8.469310705550015e-05, Train Loss_l0: 0.05670858919620514\n",
      "Epoch 2, Train loss_l1: 0.1986594796180725, Test loss_l1: 0.014810604974627495, Train Loss_l0: 0.0014209122164174914, Train Loss_l0: 0.019671829417347908\n",
      "Epoch 3, Train loss_l1: 0.19634832441806793, Test loss_l1: 0.010558892041444778, Train Loss_l0: 0.0029219414573162794, Train Loss_l0: 0.003063397714868188\n",
      "Epoch 4, Train loss_l1: 0.19501344859600067, Test loss_l1: 0.007789773400872946, Train Loss_l0: 0.004294881131500006, Train Loss_l0: 0.0008060881518758833\n",
      "Epoch 5, Train loss_l1: 0.19378387928009033, Test loss_l1: 0.007428489625453949, Train Loss_l0: 0.00508912792429328, Train Loss_l0: 0.0006325846188701689\n",
      "Epoch 6, Train loss_l1: 0.19384869933128357, Test loss_l1: 0.0057682134211063385, Train Loss_l0: 0.005438665393739939, Train Loss_l0: 0.0005889282329007983\n",
      "Epoch 7, Train loss_l1: 0.1932043433189392, Test loss_l1: 0.00567240547388792, Train Loss_l0: 0.005862317979335785, Train Loss_l0: 0.0006594405858777463\n",
      "Epoch 8, Train loss_l1: 0.19342806935310364, Test loss_l1: 0.005505783949047327, Train Loss_l0: 0.006389330141246319, Train Loss_l0: 0.0006665432010777295\n",
      "Epoch 9, Train loss_l1: 0.1931554675102234, Test loss_l1: 0.004625136032700539, Train Loss_l0: 0.006826749537140131, Train Loss_l0: 0.0006397837423719466\n",
      "Epoch 10, Train loss_l1: 0.19297853112220764, Test loss_l1: 0.0043530999682843685, Train Loss_l0: 0.00685082096606493, Train Loss_l0: 0.000605081906542182\n",
      "Epoch 11, Train loss_l1: 0.19307994842529297, Test loss_l1: 0.004494530614465475, Train Loss_l0: 0.007133181672543287, Train Loss_l0: 0.0006948552327230573\n",
      "Epoch 12, Train loss_l1: 0.19278863072395325, Test loss_l1: 0.004501755349338055, Train Loss_l0: 0.007120013236999512, Train Loss_l0: 0.0006966239307075739\n",
      "Epoch 13, Train loss_l1: 0.1927299052476883, Test loss_l1: 0.0037607108242809772, Train Loss_l0: 0.007040499709546566, Train Loss_l0: 0.0006884585600346327\n",
      "Epoch 14, Train loss_l1: 0.19266444444656372, Test loss_l1: 0.0038746437057852745, Train Loss_l0: 0.00699124438688159, Train Loss_l0: 0.0006603971705771983\n",
      "Epoch 15, Train loss_l1: 0.19270320236682892, Test loss_l1: 0.003646685741841793, Train Loss_l0: 0.0074593680910766125, Train Loss_l0: 0.0006301939720287919\n"
     ]
    },
    {
     "name": "stderr",
     "output_type": "stream",
     "text": [
      "No handles with labels found to put in legend.\n"
     ]
    },
    {
     "name": "stdout",
     "output_type": "stream",
     "text": [
      "Epoch 16, Train loss_l1: 0.1924157440662384, Test loss_l1: 0.0036477958783507347, Train Loss_l0: 0.007714960258454084, Train Loss_l0: 0.0006679554935544729\n",
      "\n"
     ]
    },
    {
     "data": {
      "application/vnd.jupyter.widget-view+json": {
       "model_id": "1fca28a1aa694882adf215669aa0d2bc"
      }
     },
     "metadata": {},
     "output_type": "display_data"
    },
    {
     "name": "stdout",
     "output_type": "stream",
     "text": [
      "Epoch 1, Train loss_l1: 0.22069065272808075, Test loss_l1: 0.049398697912693024, Train Loss_l0: 0.0022322996519505978, Train Loss_l0: 0.030234133824706078\n",
      "Epoch 2, Train loss_l1: 0.20129066705703735, Test loss_l1: 0.015758465975522995, Train Loss_l0: 0.0023893590550869703, Train Loss_l0: 0.0023772839922457933\n",
      "Epoch 3, Train loss_l1: 0.19914910197257996, Test loss_l1: 0.010943335480988026, Train Loss_l0: 0.003048795973882079, Train Loss_l0: 0.0017803958617150784\n",
      "Epoch 4, Train loss_l1: 0.1978084295988083, Test loss_l1: 0.00879809819161892, Train Loss_l0: 0.004137850366532803, Train Loss_l0: 0.0017389757558703423\n",
      "Epoch 5, Train loss_l1: 0.19768065214157104, Test loss_l1: 0.0075951749458909035, Train Loss_l0: 0.004289817996323109, Train Loss_l0: 0.0015212331200018525\n",
      "Epoch 6, Train loss_l1: 0.1972375065088272, Test loss_l1: 0.007193041034042835, Train Loss_l0: 0.0046822852455079556, Train Loss_l0: 0.00150002830196172\n",
      "Epoch 7, Train loss_l1: 0.19665409624576569, Test loss_l1: 0.0072023612447083, Train Loss_l0: 0.004994184710085392, Train Loss_l0: 0.001492547569796443\n",
      "Epoch 8, Train loss_l1: 0.19685326516628265, Test loss_l1: 0.006413767114281654, Train Loss_l0: 0.005228174384683371, Train Loss_l0: 0.0015680196229368448\n",
      "Epoch 9, Train loss_l1: 0.19636905193328857, Test loss_l1: 0.005739632528275251, Train Loss_l0: 0.0055991848930716515, Train Loss_l0: 0.0014287150697782636\n",
      "Epoch 10, Train loss_l1: 0.19568045437335968, Test loss_l1: 0.006685395259410143, Train Loss_l0: 0.005409450735896826, Train Loss_l0: 0.0016382480971515179\n",
      "Epoch 11, Train loss_l1: 0.19619207084178925, Test loss_l1: 0.005373270716518164, Train Loss_l0: 0.005314916837960482, Train Loss_l0: 0.0012579765170812607\n",
      "Epoch 12, Train loss_l1: 0.19624216854572296, Test loss_l1: 0.005451679695397615, Train Loss_l0: 0.005939123686403036, Train Loss_l0: 0.0013869492104277015\n",
      "Epoch 13, Train loss_l1: 0.19666527211666107, Test loss_l1: 0.005183515138924122, Train Loss_l0: 0.005530029069632292, Train Loss_l0: 0.0010050343116745353\n",
      "Epoch 14, Train loss_l1: 0.19649723172187805, Test loss_l1: 0.00539000891149044, Train Loss_l0: 0.006054524797946215, Train Loss_l0: 0.0015999861061573029\n",
      "Epoch 15, Train loss_l1: 0.19644193351268768, Test loss_l1: 0.005723543465137482, Train Loss_l0: 0.00616272771731019, Train Loss_l0: 0.0013727695913985372\n",
      "Epoch 16, Train loss_l1: 0.1956057995557785, Test loss_l1: 0.00556765915825963, Train Loss_l0: 0.005826252978295088, Train Loss_l0: 0.0013564052060246468\n",
      "\n"
     ]
    },
    {
     "name": "stderr",
     "output_type": "stream",
     "text": [
      "No handles with labels found to put in legend.\n"
     ]
    },
    {
     "data": {
      "application/vnd.jupyter.widget-view+json": {
       "model_id": "33b6920cb83747cfb120714a46b85789"
      }
     },
     "metadata": {},
     "output_type": "display_data"
    },
    {
     "name": "stdout",
     "output_type": "stream",
     "text": [
      "Epoch 1, Train loss_l1: 0.21889783442020416, Test loss_l1: 0.04971883073449135, Train Loss_l0: 0.0036940742284059525, Train Loss_l0: 0.02520020678639412\n",
      "Epoch 2, Train loss_l1: 0.19848157465457916, Test loss_l1: 0.01699523814022541, Train Loss_l0: 0.005836048163473606, Train Loss_l0: 0.006223634816706181\n",
      "Epoch 3, Train loss_l1: 0.19565153121948242, Test loss_l1: 0.01187399122864008, Train Loss_l0: 0.0069646346382796764, Train Loss_l0: 0.006017565727233887\n",
      "Epoch 4, Train loss_l1: 0.19575753808021545, Test loss_l1: 0.009650913067162037, Train Loss_l0: 0.00757247768342495, Train Loss_l0: 0.004880874417722225\n",
      "Epoch 5, Train loss_l1: 0.19435463845729828, Test loss_l1: 0.007695671170949936, Train Loss_l0: 0.006471955217421055, Train Loss_l0: 0.0035914089530706406\n",
      "Epoch 6, Train loss_l1: 0.19360949099063873, Test loss_l1: 0.006752591580152512, Train Loss_l0: 0.006192772649228573, Train Loss_l0: 0.0029341373592615128\n",
      "Epoch 7, Train loss_l1: 0.1935659497976303, Test loss_l1: 0.0064817979000508785, Train Loss_l0: 0.006398792844265699, Train Loss_l0: 0.0029839479830116034\n",
      "Epoch 8, Train loss_l1: 0.193237766623497, Test loss_l1: 0.005905295722186565, Train Loss_l0: 0.007249008398503065, Train Loss_l0: 0.0025164505932480097\n",
      "Epoch 9, Train loss_l1: 0.19339744746685028, Test loss_l1: 0.005343657452613115, Train Loss_l0: 0.007216022349894047, Train Loss_l0: 0.0021914721000939608\n",
      "Epoch 10, Train loss_l1: 0.19316643476486206, Test loss_l1: 0.005332402419298887, Train Loss_l0: 0.007817941717803478, Train Loss_l0: 0.0022142992820590734\n",
      "Epoch 11, Train loss_l1: 0.19247253239154816, Test loss_l1: 0.005109485238790512, Train Loss_l0: 0.007181922905147076, Train Loss_l0: 0.0021975457202643156\n",
      "Epoch 12, Train loss_l1: 0.1923944056034088, Test loss_l1: 0.004995090886950493, Train Loss_l0: 0.007991719990968704, Train Loss_l0: 0.0024036464747041464\n",
      "Epoch 13, Train loss_l1: 0.19221456348896027, Test loss_l1: 0.004232052247971296, Train Loss_l0: 0.00821700319647789, Train Loss_l0: 0.0017741926712915301\n",
      "Epoch 14, Train loss_l1: 0.19210320711135864, Test loss_l1: 0.00436262646690011, Train Loss_l0: 0.00868196226656437, Train Loss_l0: 0.002351215574890375\n",
      "Epoch 15, Train loss_l1: 0.1921546757221222, Test loss_l1: 0.004228259436786175, Train Loss_l0: 0.008524307049810886, Train Loss_l0: 0.0020162530709058046\n",
      "Epoch 16, Train loss_l1: 0.19197292625904083, Test loss_l1: 0.004115845542401075, Train Loss_l0: 0.008891304954886436, Train Loss_l0: 0.001770960632711649\n",
      "\n"
     ]
    },
    {
     "name": "stderr",
     "output_type": "stream",
     "text": [
      "No handles with labels found to put in legend.\n"
     ]
    },
    {
     "data": {
      "application/vnd.jupyter.widget-view+json": {
       "model_id": "4cc9f59e942547fa82fd1ec46cead544"
      }
     },
     "metadata": {},
     "output_type": "display_data"
    },
    {
     "name": "stdout",
     "output_type": "stream",
     "text": [
      "Epoch 1, Train loss_l1: 0.2384549379348755, Test loss_l1: 0.07784445583820343, Train Loss_l0: 1.1656676178972702e-05, Train Loss_l0: 0.045547161251306534\n",
      "Epoch 7, Train loss_l1: 0.19039133191108704, Test loss_l1: 0.00565821398049593, Train Loss_l0: 2.557481693088448e-08, Train Loss_l0: 0.04573575779795647\n",
      "Epoch 13, Train loss_l1: 0.1895030289888382, Test loss_l1: 0.003631194122135639, Train Loss_l0: 1.3313358522282215e-06, Train Loss_l0: 0.04428067430853844\n",
      "Epoch 19, Train loss_l1: 0.189202219247818, Test loss_l1: 0.0031450707465410233, Train Loss_l0: 2.3704333216301166e-05, Train Loss_l0: 0.04124597832560539\n",
      "Epoch 25, Train loss_l1: 0.18873870372772217, Test loss_l1: 0.00286409561522305, Train Loss_l0: 0.00010485054372111335, Train Loss_l0: 0.03479117527604103\n",
      "Epoch 31, Train loss_l1: 0.18832165002822876, Test loss_l1: 0.0022728515323251486, Train Loss_l0: 0.00032315656426362693, Train Loss_l0: 0.027609368786215782\n",
      "Epoch 37, Train loss_l1: 0.18845482170581818, Test loss_l1: 0.002254027873277664, Train Loss_l0: 0.0007684096344746649, Train Loss_l0: 0.021131936460733414\n",
      "Epoch 43, Train loss_l1: 0.18860627710819244, Test loss_l1: 0.0022110745776444674, Train Loss_l0: 0.0014382911613211036, Train Loss_l0: 0.015744365751743317\n",
      "Epoch 49, Train loss_l1: 0.18792562186717987, Test loss_l1: 0.00223587267100811, Train Loss_l0: 0.0022364770993590355, Train Loss_l0: 0.011505691334605217\n",
      "Epoch 55, Train loss_l1: 0.1878795027732849, Test loss_l1: 0.0020645111799240112, Train Loss_l0: 0.003098613116890192, Train Loss_l0: 0.008340333588421345\n",
      "Epoch 61, Train loss_l1: 0.18769995868206024, Test loss_l1: 0.0020471089519560337, Train Loss_l0: 0.003903742413967848, Train Loss_l0: 0.005998669657856226\n"
     ]
    },
    {
     "name": "stderr",
     "output_type": "stream",
     "text": [
      "No handles with labels found to put in legend.\n"
     ]
    },
    {
     "name": "stdout",
     "output_type": "stream",
     "text": [
      "\n"
     ]
    },
    {
     "data": {
      "application/vnd.jupyter.widget-view+json": {
       "model_id": "4a821f9c244d476fbfe0640e00dc8feb"
      }
     },
     "metadata": {},
     "output_type": "display_data"
    },
    {
     "name": "stdout",
     "output_type": "stream",
     "text": [
      "Epoch 1, Train loss_l1: 0.23562778532505035, Test loss_l1: 0.07237841933965683, Train Loss_l0: 7.504287623305572e-06, Train Loss_l0: 0.054478492587804794\n",
      "Epoch 7, Train loss_l1: 0.19133348762989044, Test loss_l1: 0.006647016853094101, Train Loss_l0: 0.002766743302345276, Train Loss_l0: 0.009948921389877796\n",
      "Epoch 13, Train loss_l1: 0.19031935930252075, Test loss_l1: 0.004595175385475159, Train Loss_l0: 0.006048027891665697, Train Loss_l0: 0.0008961260318756104\n",
      "Epoch 19, Train loss_l1: 0.19030354917049408, Test loss_l1: 0.0038497038185596466, Train Loss_l0: 0.007337417919188738, Train Loss_l0: 0.0006165446829982102\n",
      "Epoch 25, Train loss_l1: 0.189707949757576, Test loss_l1: 0.0037058766465634108, Train Loss_l0: 0.007774794939905405, Train Loss_l0: 0.000621689367108047\n",
      "Epoch 31, Train loss_l1: 0.18953613936901093, Test loss_l1: 0.0033825552091002464, Train Loss_l0: 0.008082144893705845, Train Loss_l0: 0.0006172056891955435\n",
      "Epoch 37, Train loss_l1: 0.18950681388378143, Test loss_l1: 0.0034024848137050867, Train Loss_l0: 0.008259928785264492, Train Loss_l0: 0.0006197982002049685\n",
      "Epoch 43, Train loss_l1: 0.189373180270195, Test loss_l1: 0.003061597468331456, Train Loss_l0: 0.008310336619615555, Train Loss_l0: 0.0006009128992445767\n",
      "Epoch 49, Train loss_l1: 0.18900138139724731, Test loss_l1: 0.002870097290724516, Train Loss_l0: 0.00834448542445898, Train Loss_l0: 0.0006159081822261214\n",
      "Epoch 55, Train loss_l1: 0.18899989128112793, Test loss_l1: 0.0028239148668944836, Train Loss_l0: 0.008510138839483261, Train Loss_l0: 0.0005948013858869672\n",
      "Epoch 61, Train loss_l1: 0.1886037141084671, Test loss_l1: 0.0022559731733053923, Train Loss_l0: 0.008386462926864624, Train Loss_l0: 0.0005525024607777596\n"
     ]
    },
    {
     "name": "stderr",
     "output_type": "stream",
     "text": [
      "No handles with labels found to put in legend.\n"
     ]
    },
    {
     "name": "stdout",
     "output_type": "stream",
     "text": [
      "\n"
     ]
    },
    {
     "data": {
      "application/vnd.jupyter.widget-view+json": {
       "model_id": "40764595ad2f492a942cf814caeb64f0"
      }
     },
     "metadata": {},
     "output_type": "display_data"
    },
    {
     "name": "stdout",
     "output_type": "stream",
     "text": [
      "Epoch 1, Train loss_l1: 0.2350928783416748, Test loss_l1: 0.07367134094238281, Train Loss_l0: 7.988042489159852e-05, Train Loss_l0: 0.04868505895137787\n",
      "Epoch 7, Train loss_l1: 0.18700261414051056, Test loss_l1: 0.006877279374748468, Train Loss_l0: 0.0033856274094432592, Train Loss_l0: 0.0005187491769902408\n",
      "Epoch 13, Train loss_l1: 0.1868099868297577, Test loss_l1: 0.004701573401689529, Train Loss_l0: 0.0048846169374883175, Train Loss_l0: 0.0006059349980205297\n",
      "Epoch 19, Train loss_l1: 0.18575243651866913, Test loss_l1: 0.003541835118085146, Train Loss_l0: 0.005717333406209946, Train Loss_l0: 0.000460288516478613\n",
      "Epoch 25, Train loss_l1: 0.18546390533447266, Test loss_l1: 0.0031112271826714277, Train Loss_l0: 0.006080306135118008, Train Loss_l0: 0.0007001531193964183\n",
      "Epoch 31, Train loss_l1: 0.1845494955778122, Test loss_l1: 0.003286902792751789, Train Loss_l0: 0.006321185268461704, Train Loss_l0: 0.0005806903936900198\n",
      "Epoch 37, Train loss_l1: 0.18526971340179443, Test loss_l1: 0.0024309547152370214, Train Loss_l0: 0.006393912713974714, Train Loss_l0: 0.0006218826747499406\n",
      "Epoch 43, Train loss_l1: 0.1850530058145523, Test loss_l1: 0.0030940272845327854, Train Loss_l0: 0.006938728969544172, Train Loss_l0: 0.0005468905437737703\n",
      "Epoch 49, Train loss_l1: 0.18458051979541779, Test loss_l1: 0.002587385242804885, Train Loss_l0: 0.007023384794592857, Train Loss_l0: 0.00040777557296678424\n",
      "Epoch 55, Train loss_l1: 0.18483223021030426, Test loss_l1: 0.0024248322006314993, Train Loss_l0: 0.007205053698271513, Train Loss_l0: 0.0005826824926771224\n",
      "Epoch 61, Train loss_l1: 0.18457242846488953, Test loss_l1: 0.0023131591733545065, Train Loss_l0: 0.0072400919161736965, Train Loss_l0: 0.0005678897723555565\n"
     ]
    },
    {
     "name": "stderr",
     "output_type": "stream",
     "text": [
      "No handles with labels found to put in legend.\n"
     ]
    },
    {
     "name": "stdout",
     "output_type": "stream",
     "text": [
      "\n"
     ]
    },
    {
     "data": {
      "application/vnd.jupyter.widget-view+json": {
       "model_id": "c1b37414e12a44eeb250f988e955bfc9"
      }
     },
     "metadata": {},
     "output_type": "display_data"
    },
    {
     "name": "stdout",
     "output_type": "stream",
     "text": [
      "Epoch 1, Train loss_l1: 0.2370435744524002, Test loss_l1: 0.07453348487615585, Train Loss_l0: 0.0007391266408376396, Train Loss_l0: 0.0388726145029068\n",
      "Epoch 7, Train loss_l1: 0.19180795550346375, Test loss_l1: 0.006549321115016937, Train Loss_l0: 0.0040566879324615, Train Loss_l0: 0.00136024528183043\n",
      "Epoch 13, Train loss_l1: 0.1904863566160202, Test loss_l1: 0.004051762167364359, Train Loss_l0: 0.006090594455599785, Train Loss_l0: 0.0011315512238070369\n",
      "Epoch 19, Train loss_l1: 0.19034379720687866, Test loss_l1: 0.00323019758798182, Train Loss_l0: 0.007165124174207449, Train Loss_l0: 0.001418950385414064\n",
      "Epoch 25, Train loss_l1: 0.18974877893924713, Test loss_l1: 0.0035065363626927137, Train Loss_l0: 0.007414001040160656, Train Loss_l0: 0.0015215675812214613\n",
      "Epoch 31, Train loss_l1: 0.1893225759267807, Test loss_l1: 0.002872744807973504, Train Loss_l0: 0.007539947051554918, Train Loss_l0: 0.0010090336436405778\n",
      "Epoch 37, Train loss_l1: 0.1897348314523697, Test loss_l1: 0.003084422554820776, Train Loss_l0: 0.008277172222733498, Train Loss_l0: 0.0011876214994117618\n",
      "Epoch 43, Train loss_l1: 0.18908169865608215, Test loss_l1: 0.0025524094235152006, Train Loss_l0: 0.008203068748116493, Train Loss_l0: 0.0010920868953689933\n",
      "Epoch 49, Train loss_l1: 0.1895865797996521, Test loss_l1: 0.002500658156350255, Train Loss_l0: 0.00818427000194788, Train Loss_l0: 0.001239757752045989\n",
      "Epoch 55, Train loss_l1: 0.18913422524929047, Test loss_l1: 0.0028810729272663593, Train Loss_l0: 0.008062556385993958, Train Loss_l0: 0.0012527762446552515\n",
      "Epoch 61, Train loss_l1: 0.18923524022102356, Test loss_l1: 0.002407546155154705, Train Loss_l0: 0.008299439214169979, Train Loss_l0: 0.001055954024195671\n"
     ]
    },
    {
     "name": "stderr",
     "output_type": "stream",
     "text": [
      "No handles with labels found to put in legend.\n"
     ]
    },
    {
     "name": "stdout",
     "output_type": "stream",
     "text": [
      "\n"
     ]
    },
    {
     "data": {
      "application/vnd.jupyter.widget-view+json": {
       "model_id": "19ba84465e084ace8a3f2ad7134db54b"
      }
     },
     "metadata": {},
     "output_type": "display_data"
    },
    {
     "name": "stdout",
     "output_type": "stream",
     "text": [
      "Epoch 1, Train loss_l1: 0.24905021488666534, Test loss_l1: 0.0902903825044632, Train Loss_l0: 0.00017607634072192013, Train Loss_l0: 0.04399741068482399\n",
      "Epoch 26, Train loss_l1: 0.18842017650604248, Test loss_l1: 0.0031691582407802343, Train Loss_l0: 1.3289170510688564e-06, Train Loss_l0: 0.040608689188957214\n",
      "Epoch 51, Train loss_l1: 0.18730229139328003, Test loss_l1: 0.0019671148620545864, Train Loss_l0: 1.0091432159242686e-05, Train Loss_l0: 0.0376397967338562\n",
      "Epoch 76, Train loss_l1: 0.18791472911834717, Test loss_l1: 0.0022486282978206873, Train Loss_l0: 1.8239366909256205e-05, Train Loss_l0: 0.030407680198550224\n",
      "Epoch 101, Train loss_l1: 0.18689674139022827, Test loss_l1: 0.001436208258382976, Train Loss_l0: 9.466473420616239e-05, Train Loss_l0: 0.022083057090640068\n",
      "Epoch 126, Train loss_l1: 0.18740272521972656, Test loss_l1: 0.0018290422158315778, Train Loss_l0: 0.00038179956027306616, Train Loss_l0: 0.015412362292408943\n",
      "Epoch 151, Train loss_l1: 0.1872147172689438, Test loss_l1: 0.0013516010949388146, Train Loss_l0: 0.000989756197668612, Train Loss_l0: 0.010751462541520596\n",
      "Epoch 176, Train loss_l1: 0.18695932626724243, Test loss_l1: 0.0012174900621175766, Train Loss_l0: 0.001830803812481463, Train Loss_l0: 0.00750810606405139\n",
      "Epoch 201, Train loss_l1: 0.1869542896747589, Test loss_l1: 0.0015808144817128778, Train Loss_l0: 0.0027919928543269634, Train Loss_l0: 0.005286645609885454\n",
      "Epoch 226, Train loss_l1: 0.18682457506656647, Test loss_l1: 0.00134296587202698, Train Loss_l0: 0.003748878138139844, Train Loss_l0: 0.0037547426763921976\n",
      "Epoch 251, Train loss_l1: 0.18650105595588684, Test loss_l1: 0.0017214297549799085, Train Loss_l0: 0.004668621812015772, Train Loss_l0: 0.0028215013444423676\n"
     ]
    },
    {
     "name": "stderr",
     "output_type": "stream",
     "text": [
      "No handles with labels found to put in legend.\n"
     ]
    },
    {
     "name": "stdout",
     "output_type": "stream",
     "text": [
      "\n"
     ]
    },
    {
     "data": {
      "application/vnd.jupyter.widget-view+json": {
       "model_id": "8d5926fdf897440c8122f42dfe144c6f"
      }
     },
     "metadata": {},
     "output_type": "display_data"
    },
    {
     "name": "stdout",
     "output_type": "stream",
     "text": [
      "Epoch 1, Train loss_l1: 0.249187171459198, Test loss_l1: 0.09022766351699829, Train Loss_l0: 5.4783420637249947e-05, Train Loss_l0: 0.05490749329328537\n",
      "Epoch 26, Train loss_l1: 0.18915237486362457, Test loss_l1: 0.00328909233212471, Train Loss_l0: 0.002045155968517065, Train Loss_l0: 0.007358070462942123\n",
      "Epoch 51, Train loss_l1: 0.18913662433624268, Test loss_l1: 0.0019458720926195383, Train Loss_l0: 0.005952621344476938, Train Loss_l0: 0.0005901308031752706\n",
      "Epoch 76, Train loss_l1: 0.18860870599746704, Test loss_l1: 0.001818107906728983, Train Loss_l0: 0.00706131849437952, Train Loss_l0: 0.0005198443541303277\n",
      "Epoch 101, Train loss_l1: 0.18817338347434998, Test loss_l1: 0.0018239641794934869, Train Loss_l0: 0.007362630218267441, Train Loss_l0: 0.0004675211093854159\n",
      "Epoch 126, Train loss_l1: 0.18825525045394897, Test loss_l1: 0.0014890041202306747, Train Loss_l0: 0.007535967975854874, Train Loss_l0: 0.0004960500518791378\n",
      "Epoch 151, Train loss_l1: 0.18837104737758636, Test loss_l1: 0.0015895405085757375, Train Loss_l0: 0.007698845583945513, Train Loss_l0: 0.0005116603570058942\n",
      "Epoch 176, Train loss_l1: 0.18815892934799194, Test loss_l1: 0.0013174647465348244, Train Loss_l0: 0.007704007439315319, Train Loss_l0: 0.0004735020629595965\n",
      "Epoch 201, Train loss_l1: 0.18833407759666443, Test loss_l1: 0.0017543964786455035, Train Loss_l0: 0.007748444098979235, Train Loss_l0: 0.0004584946436807513\n",
      "Epoch 226, Train loss_l1: 0.18777558207511902, Test loss_l1: 0.001367734046652913, Train Loss_l0: 0.007814161479473114, Train Loss_l0: 0.00048535666428506374\n",
      "Epoch 251, Train loss_l1: 0.18791233003139496, Test loss_l1: 0.0014648876385763288, Train Loss_l0: 0.007847427390515804, Train Loss_l0: 0.0004717355768661946\n"
     ]
    },
    {
     "name": "stderr",
     "output_type": "stream",
     "text": [
      "No handles with labels found to put in legend.\n"
     ]
    },
    {
     "name": "stdout",
     "output_type": "stream",
     "text": [
      "\n"
     ]
    },
    {
     "data": {
      "application/vnd.jupyter.widget-view+json": {
       "model_id": "88a72c18e6474fd1884e3a4fe36c0a91"
      }
     },
     "metadata": {},
     "output_type": "display_data"
    },
    {
     "name": "stdout",
     "output_type": "stream",
     "text": [
      "Epoch 1, Train loss_l1: 0.24863417446613312, Test loss_l1: 0.08974560350179672, Train Loss_l0: 0.0003476598358247429, Train Loss_l0: 0.049429360777139664\n",
      "Epoch 26, Train loss_l1: 0.1869783103466034, Test loss_l1: 0.002275553299114108, Train Loss_l0: 0.006138172000646591, Train Loss_l0: 0.0004925238317809999\n",
      "Epoch 51, Train loss_l1: 0.1864626556634903, Test loss_l1: 0.0016816946445032954, Train Loss_l0: 0.007073757704347372, Train Loss_l0: 0.0005072214407846332\n",
      "Epoch 76, Train loss_l1: 0.1866646111011505, Test loss_l1: 0.0020308541133999825, Train Loss_l0: 0.0073579601012170315, Train Loss_l0: 0.0004796790308319032\n",
      "Epoch 101, Train loss_l1: 0.18636824190616608, Test loss_l1: 0.001354527659714222, Train Loss_l0: 0.0076318224892020226, Train Loss_l0: 0.0005179306026548147\n",
      "Epoch 126, Train loss_l1: 0.1862545758485794, Test loss_l1: 0.0013743678573518991, Train Loss_l0: 0.0076838103123009205, Train Loss_l0: 0.0004297209670767188\n",
      "Epoch 151, Train loss_l1: 0.18616577982902527, Test loss_l1: 0.0015841316198930144, Train Loss_l0: 0.007624176796525717, Train Loss_l0: 0.0004404529754538089\n",
      "Epoch 176, Train loss_l1: 0.1862219274044037, Test loss_l1: 0.0014684199122712016, Train Loss_l0: 0.007668000180274248, Train Loss_l0: 0.000480171584058553\n",
      "Epoch 201, Train loss_l1: 0.18600080907344818, Test loss_l1: 0.0013537805061787367, Train Loss_l0: 0.00812744814902544, Train Loss_l0: 0.000482015369925648\n",
      "Epoch 226, Train loss_l1: 0.18646465241909027, Test loss_l1: 0.0017380097415298223, Train Loss_l0: 0.008300941437482834, Train Loss_l0: 0.00047231203643605113\n",
      "Epoch 251, Train loss_l1: 0.1858367919921875, Test loss_l1: 0.0013183688279241323, Train Loss_l0: 0.008102579973638058, Train Loss_l0: 0.0005495884688571095\n"
     ]
    },
    {
     "name": "stderr",
     "output_type": "stream",
     "text": [
      "No handles with labels found to put in legend.\n"
     ]
    },
    {
     "name": "stdout",
     "output_type": "stream",
     "text": [
      "\n"
     ]
    },
    {
     "data": {
      "application/vnd.jupyter.widget-view+json": {
       "model_id": "78cf5a6827ca4372a48ef3a8e67ff9f4"
      }
     },
     "metadata": {},
     "output_type": "display_data"
    },
    {
     "name": "stdout",
     "output_type": "stream",
     "text": [
      "Epoch 1, Train loss_l1: 0.24863941967487335, Test loss_l1: 0.08974435180425644, Train Loss_l0: 2.3868396965553984e-05, Train Loss_l0: 0.052414458245038986\n",
      "Epoch 26, Train loss_l1: 0.1880641132593155, Test loss_l1: 0.003383426694199443, Train Loss_l0: 0.0074233245104551315, Train Loss_l0: 0.0006644671084359288\n",
      "Epoch 51, Train loss_l1: 0.18778617680072784, Test loss_l1: 0.0023829645942896605, Train Loss_l0: 0.008138074539601803, Train Loss_l0: 0.000752412190195173\n",
      "Epoch 76, Train loss_l1: 0.1873384267091751, Test loss_l1: 0.002007019240409136, Train Loss_l0: 0.008907022885978222, Train Loss_l0: 0.0006931251846253872\n",
      "Epoch 101, Train loss_l1: 0.18734405934810638, Test loss_l1: 0.0018163325730711222, Train Loss_l0: 0.009065858088433743, Train Loss_l0: 0.0005703062633983791\n",
      "Epoch 126, Train loss_l1: 0.1873427778482437, Test loss_l1: 0.0016974910395219922, Train Loss_l0: 0.009092359803617, Train Loss_l0: 0.0005608245264738798\n",
      "Epoch 151, Train loss_l1: 0.18731535971164703, Test loss_l1: 0.0020721389446407557, Train Loss_l0: 0.009281896986067295, Train Loss_l0: 0.0009271313319914043\n",
      "Epoch 176, Train loss_l1: 0.18695133924484253, Test loss_l1: 0.0015943106263875961, Train Loss_l0: 0.009409446269273758, Train Loss_l0: 0.000581637374125421\n",
      "Epoch 201, Train loss_l1: 0.1875869482755661, Test loss_l1: 0.0016335633117705584, Train Loss_l0: 0.00959831289947033, Train Loss_l0: 0.0005725991213694215\n",
      "Epoch 226, Train loss_l1: 0.18708489835262299, Test loss_l1: 0.0015816371887922287, Train Loss_l0: 0.009633265435695648, Train Loss_l0: 0.0004748955543618649\n",
      "Epoch 251, Train loss_l1: 0.18685491383075714, Test loss_l1: 0.0014600956346839666, Train Loss_l0: 0.009893719106912613, Train Loss_l0: 0.00038426744868047535\n"
     ]
    },
    {
     "name": "stderr",
     "output_type": "stream",
     "text": [
      "No handles with labels found to put in legend.\n"
     ]
    },
    {
     "name": "stdout",
     "output_type": "stream",
     "text": [
      "\n"
     ]
    },
    {
     "data": {
      "application/vnd.jupyter.widget-view+json": {
       "model_id": "49d8cee99cd040e39b8012332ba3e9b4"
      }
     },
     "metadata": {},
     "output_type": "display_data"
    },
    {
     "name": "stdout",
     "output_type": "stream",
     "text": [
      "Epoch 1, Train loss_l1: 0.2498149871826172, Test loss_l1: 0.0912477970123291, Train Loss_l0: 0.00016353516548406333, Train Loss_l0: 0.059598930180072784\n",
      "Epoch 103, Train loss_l1: 0.1882338672876358, Test loss_l1: 0.0013303474988788366, Train Loss_l0: 2.3816739940230036e-06, Train Loss_l0: 0.0654805600643158\n",
      "Epoch 205, Train loss_l1: 0.18845653533935547, Test loss_l1: 0.0011215005069971085, Train Loss_l0: 2.8527860195026733e-05, Train Loss_l0: 0.06778601557016373\n",
      "Epoch 307, Train loss_l1: 0.18813298642635345, Test loss_l1: 0.000995196052826941, Train Loss_l0: 0.0001434507721569389, Train Loss_l0: 0.06495808064937592\n",
      "Epoch 409, Train loss_l1: 0.18772490322589874, Test loss_l1: 0.0010587398428469896, Train Loss_l0: 0.000471213337732479, Train Loss_l0: 0.05675730109214783\n",
      "Epoch 511, Train loss_l1: 0.18781447410583496, Test loss_l1: 0.0009445801842957735, Train Loss_l0: 0.0010731780203059316, Train Loss_l0: 0.04589400812983513\n",
      "Epoch 613, Train loss_l1: 0.1883307546377182, Test loss_l1: 0.0010676489910110831, Train Loss_l0: 0.001961122965440154, Train Loss_l0: 0.03529271110892296\n",
      "Epoch 715, Train loss_l1: 0.18802963197231293, Test loss_l1: 0.000967679254245013, Train Loss_l0: 0.003013656008988619, Train Loss_l0: 0.025965616106987\n",
      "Epoch 817, Train loss_l1: 0.1874384582042694, Test loss_l1: 0.0009396106470376253, Train Loss_l0: 0.004096558783203363, Train Loss_l0: 0.018430596217513084\n",
      "Epoch 919, Train loss_l1: 0.1876027137041092, Test loss_l1: 0.0009429953061044216, Train Loss_l0: 0.005110737401992083, Train Loss_l0: 0.013125069439411163\n",
      "Epoch 1021, Train loss_l1: 0.1887819916009903, Test loss_l1: 0.0012658534105867147, Train Loss_l0: 0.005934036336839199, Train Loss_l0: 0.009157036431133747\n",
      "\n"
     ]
    },
    {
     "name": "stderr",
     "output_type": "stream",
     "text": [
      "No handles with labels found to put in legend.\n"
     ]
    },
    {
     "data": {
      "application/vnd.jupyter.widget-view+json": {
       "model_id": "03d4a40727d242a69d89b3115e47d191"
      }
     },
     "metadata": {},
     "output_type": "display_data"
    },
    {
     "name": "stdout",
     "output_type": "stream",
     "text": [
      "Epoch 1, Train loss_l1: 0.24968039989471436, Test loss_l1: 0.0911402702331543, Train Loss_l0: 3.954043859266676e-05, Train Loss_l0: 0.04684033989906311\n",
      "Epoch 103, Train loss_l1: 0.1892789751291275, Test loss_l1: 0.0017436943016946316, Train Loss_l0: 0.0031746532768011093, Train Loss_l0: 0.008409070782363415\n",
      "Epoch 205, Train loss_l1: 0.18887493014335632, Test loss_l1: 0.001338596106506884, Train Loss_l0: 0.006599631626158953, Train Loss_l0: 0.0006182630895636976\n",
      "Epoch 307, Train loss_l1: 0.188043013215065, Test loss_l1: 0.001375738182105124, Train Loss_l0: 0.007299329154193401, Train Loss_l0: 0.0005195809644646943\n",
      "Epoch 409, Train loss_l1: 0.18833361566066742, Test loss_l1: 0.0014350252458825707, Train Loss_l0: 0.007576607633382082, Train Loss_l0: 0.0005456965882331133\n",
      "Epoch 511, Train loss_l1: 0.1885758638381958, Test loss_l1: 0.0014401504304260015, Train Loss_l0: 0.007756972685456276, Train Loss_l0: 0.0005393433966673911\n",
      "Epoch 613, Train loss_l1: 0.188141331076622, Test loss_l1: 0.0011357978219166398, Train Loss_l0: 0.007833215408027172, Train Loss_l0: 0.0005919060786254704\n",
      "Epoch 715, Train loss_l1: 0.18884621560573578, Test loss_l1: 0.001473706099204719, Train Loss_l0: 0.00797745306044817, Train Loss_l0: 0.000543520029168576\n",
      "Epoch 817, Train loss_l1: 0.18769028782844543, Test loss_l1: 0.0011406192788854241, Train Loss_l0: 0.008056940510869026, Train Loss_l0: 0.0005516412784345448\n",
      "Epoch 919, Train loss_l1: 0.18785668909549713, Test loss_l1: 0.0011253968114033341, Train Loss_l0: 0.008091787807643414, Train Loss_l0: 0.0005206547793932259\n",
      "Epoch 1021, Train loss_l1: 0.1882840394973755, Test loss_l1: 0.0015159210888668895, Train Loss_l0: 0.00817048642784357, Train Loss_l0: 0.0005242615006864071\n"
     ]
    },
    {
     "name": "stderr",
     "output_type": "stream",
     "text": [
      "No handles with labels found to put in legend.\n"
     ]
    },
    {
     "name": "stdout",
     "output_type": "stream",
     "text": [
      "\n"
     ]
    },
    {
     "data": {
      "application/vnd.jupyter.widget-view+json": {
       "model_id": "5796dbba82b34eb59d84749e1f965ed5"
      }
     },
     "metadata": {},
     "output_type": "display_data"
    },
    {
     "name": "stdout",
     "output_type": "stream",
     "text": [
      "Epoch 1, Train loss_l1: 0.25004297494888306, Test loss_l1: 0.09140618145465851, Train Loss_l0: 2.0464332919800654e-05, Train Loss_l0: 0.04424746334552765\n",
      "Epoch 103, Train loss_l1: 0.1910703033208847, Test loss_l1: 0.002006534021347761, Train Loss_l0: 0.006341744214296341, Train Loss_l0: 0.0005364778335206211\n",
      "Epoch 205, Train loss_l1: 0.19098691642284393, Test loss_l1: 0.0014923608396202326, Train Loss_l0: 0.007217646576464176, Train Loss_l0: 0.0004474944726098329\n",
      "Epoch 307, Train loss_l1: 0.19057807326316833, Test loss_l1: 0.0016294950619339943, Train Loss_l0: 0.0075171818025410175, Train Loss_l0: 0.0004950446309521794\n",
      "Epoch 409, Train loss_l1: 0.19010412693023682, Test loss_l1: 0.0012693771859630942, Train Loss_l0: 0.0077222976833581924, Train Loss_l0: 0.00047065410763025284\n",
      "Epoch 511, Train loss_l1: 0.1908094733953476, Test loss_l1: 0.0013731344370171428, Train Loss_l0: 0.007739356253296137, Train Loss_l0: 0.0004229291225783527\n",
      "Epoch 613, Train loss_l1: 0.19044317305088043, Test loss_l1: 0.0017211918020620942, Train Loss_l0: 0.007977685891091824, Train Loss_l0: 0.0004227152676321566\n",
      "Epoch 715, Train loss_l1: 0.19080105423927307, Test loss_l1: 0.0012534470297396183, Train Loss_l0: 0.008051945827901363, Train Loss_l0: 0.00047309440560638905\n",
      "Epoch 817, Train loss_l1: 0.1905350238084793, Test loss_l1: 0.001340361894108355, Train Loss_l0: 0.008183830417692661, Train Loss_l0: 0.0005495633231475949\n",
      "Epoch 919, Train loss_l1: 0.18988141417503357, Test loss_l1: 0.0011803264496847987, Train Loss_l0: 0.00818867702037096, Train Loss_l0: 0.00043589415145106614\n",
      "Epoch 1021, Train loss_l1: 0.190499410033226, Test loss_l1: 0.0010891041019931436, Train Loss_l0: 0.008329369127750397, Train Loss_l0: 0.0004835770814679563\n"
     ]
    },
    {
     "name": "stderr",
     "output_type": "stream",
     "text": [
      "No handles with labels found to put in legend.\n"
     ]
    },
    {
     "name": "stdout",
     "output_type": "stream",
     "text": [
      "\n"
     ]
    },
    {
     "data": {
      "application/vnd.jupyter.widget-view+json": {
       "model_id": "b24c4bdcb36940dbbf13b5b63868f7e9"
      }
     },
     "metadata": {},
     "output_type": "display_data"
    },
    {
     "name": "stdout",
     "output_type": "stream",
     "text": [
      "Epoch 1, Train loss_l1: 0.2496703565120697, Test loss_l1: 0.09117688983678818, Train Loss_l0: 0.00012129307287978008, Train Loss_l0: 0.05257381126284599\n",
      "Epoch 103, Train loss_l1: 0.19093190133571625, Test loss_l1: 0.002411976922303438, Train Loss_l0: 0.00720985559746623, Train Loss_l0: 0.0007798632141202688\n",
      "Epoch 205, Train loss_l1: 0.19016626477241516, Test loss_l1: 0.0016718030674383044, Train Loss_l0: 0.007538721896708012, Train Loss_l0: 0.0008415214251726866\n",
      "Epoch 307, Train loss_l1: 0.18996433913707733, Test loss_l1: 0.0016175854252651334, Train Loss_l0: 0.007686166558414698, Train Loss_l0: 0.0009923626203089952\n",
      "Epoch 409, Train loss_l1: 0.1898728609085083, Test loss_l1: 0.0015602161874994636, Train Loss_l0: 0.0077428268268704414, Train Loss_l0: 0.0009011683869175613\n",
      "Epoch 511, Train loss_l1: 0.19007772207260132, Test loss_l1: 0.0015725400298833847, Train Loss_l0: 0.007809686940163374, Train Loss_l0: 0.0010274647502228618\n",
      "Epoch 613, Train loss_l1: 0.18952684104442596, Test loss_l1: 0.0016448770184069872, Train Loss_l0: 0.007883062586188316, Train Loss_l0: 0.0008579380810260773\n",
      "Epoch 715, Train loss_l1: 0.1892189234495163, Test loss_l1: 0.0014999888371676207, Train Loss_l0: 0.008077126927673817, Train Loss_l0: 0.0007247560424730182\n",
      "Epoch 817, Train loss_l1: 0.18968701362609863, Test loss_l1: 0.0012792011257261038, Train Loss_l0: 0.007993840612471104, Train Loss_l0: 0.0007203781860880554\n",
      "Epoch 919, Train loss_l1: 0.18888041377067566, Test loss_l1: 0.0012536681024357677, Train Loss_l0: 0.008339745923876762, Train Loss_l0: 0.0007172248442657292\n",
      "Epoch 1021, Train loss_l1: 0.18968459963798523, Test loss_l1: 0.0012577432207763195, Train Loss_l0: 0.00811623316258192, Train Loss_l0: 0.0008713657152839005\n"
     ]
    },
    {
     "name": "stderr",
     "output_type": "stream",
     "text": [
      "No handles with labels found to put in legend.\n"
     ]
    },
    {
     "name": "stdout",
     "output_type": "stream",
     "text": [
      "\n"
     ]
    }
   ],
   "source": [
    "for batch_size in [8., 32., 128.,512.]:\n",
    "    for tau in [0.0001,0.001,0.01, 0.1]:\n",
    "        supervised_training(batch_size=batch_size, total_epochs=16*int(batch_size/8), buffer_size=10**4, tau=tau, lr=0.001)"
   ]
  },
  {
   "cell_type": "code",
   "execution_count": 150,
   "metadata": {},
   "outputs": [
    {
     "name": "stdout",
     "output_type": "stream",
     "text": [
      "The tensorboard extension is already loaded. To reload it, use:\n",
      "  %reload_ext tensorboard\n"
     ]
    },
    {
     "data": {
      "text/html": [
       "\n",
       "      <iframe id=\"tensorboard-frame-cb99de7176bb59a0\" width=\"100%\" height=\"800\" frameborder=\"0\">\n",
       "      </iframe>\n",
       "      <script>\n",
       "        (function() {\n",
       "          const frame = document.getElementById(\"tensorboard-frame-cb99de7176bb59a0\");\n",
       "          const url = new URL(\"/\", window.location);\n",
       "          url.port = 6007;\n",
       "          frame.src = url;\n",
       "        })();\n",
       "      </script>\n",
       "  "
      ],
      "text/plain": [
       "<IPython.core.display.HTML object>"
      ]
     },
     "metadata": {},
     "output_type": "display_data"
    }
   ],
   "source": [
    "%load_ext tensorboard\n",
    "%tensorboard --logdir logs/gradient_tape"
   ]
  },
  {
   "cell_type": "code",
   "execution_count": null,
   "metadata": {},
   "outputs": [],
   "source": []
  }
 ],
 "metadata": {
  "kernelspec": {
   "display_name": "Python 3",
   "language": "python",
   "name": "python3"
  },
  "language_info": {
   "codemirror_mode": {
    "name": "ipython",
    "version": 3
   },
   "file_extension": ".py",
   "mimetype": "text/x-python",
   "name": "python",
   "nbconvert_exporter": "python",
   "pygments_lexer": "ipython3",
   "version": "3.6.9"
  }
 },
 "nbformat": 4,
 "nbformat_minor": 2
}
