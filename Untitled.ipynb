{
 "cells": [
  {
   "cell_type": "code",
   "execution_count": 1,
   "metadata": {},
   "outputs": [],
   "source": [
    "import numpy as np\n"
   ]
  },
  {
   "cell_type": "raw",
   "metadata": {},
   "source": []
  },
  {
   "cell_type": "code",
   "execution_count": 2,
   "metadata": {},
   "outputs": [],
   "source": [
    "rl = np.load(\"rl.npy\")"
   ]
  },
  {
   "cell_type": "code",
   "execution_count": 3,
   "metadata": {},
   "outputs": [],
   "source": [
    "sup = np.load(\"sup.npy\")"
   ]
  },
  {
   "cell_type": "code",
   "execution_count": 8,
   "metadata": {},
   "outputs": [
    {
     "data": {
      "text/plain": [
       "array([0.        , 0.        , 0.        , 0.        , 0.        ,\n",
       "       0.        , 0.08366343, 0.        , 0.        , 0.        ,\n",
       "       0.        ], dtype=float32)"
      ]
     },
     "execution_count": 8,
     "metadata": {},
     "output_type": "execute_result"
    }
   ],
   "source": [
    "rl[999]"
   ]
  },
  {
   "cell_type": "code",
   "execution_count": 15,
   "metadata": {},
   "outputs": [
    {
     "data": {
      "text/plain": [
       "array([[0.        , 0.        , 0.        , 0.        , 0.        ,\n",
       "        0.        , 0.08366343, 0.        , 0.        , 0.        ,\n",
       "        0.        ],\n",
       "       [0.        , 0.        , 0.        , 0.        , 0.        ,\n",
       "        0.        , 0.08366343, 0.        , 0.        , 0.        ,\n",
       "        0.        ],\n",
       "       [0.        , 0.        , 0.        , 0.        , 0.        ,\n",
       "        0.        , 0.08366343, 0.        , 0.        , 0.        ,\n",
       "        0.        ],\n",
       "       [0.        , 0.        , 0.        , 0.        , 0.        ,\n",
       "        0.        , 0.08366343, 0.        , 0.        , 0.        ,\n",
       "        0.        ],\n",
       "       [0.        , 0.        , 0.        , 0.        , 0.        ,\n",
       "        0.        , 0.08366343, 0.        , 0.        , 0.        ,\n",
       "        0.        ],\n",
       "       [0.        , 0.        , 0.        , 0.        , 0.        ,\n",
       "        0.        , 0.08366343, 0.        , 0.        , 0.        ,\n",
       "        0.        ],\n",
       "       [0.        , 0.        , 0.        , 0.        , 0.        ,\n",
       "        0.        , 0.08366343, 0.        , 0.        , 0.        ,\n",
       "        0.        ],\n",
       "       [0.        , 0.        , 0.        , 0.        , 0.        ,\n",
       "        0.        , 0.08366343, 0.        , 0.        , 0.        ,\n",
       "        0.        ],\n",
       "       [0.        , 0.        , 0.        , 0.        , 0.        ,\n",
       "        0.        , 0.08366343, 0.        , 0.        , 0.        ,\n",
       "        0.        ],\n",
       "       [0.        , 0.        , 0.        , 0.        , 0.        ,\n",
       "        0.        , 0.08366343, 0.        , 0.        , 0.        ,\n",
       "        0.        ]], dtype=float32)"
      ]
     },
     "execution_count": 15,
     "metadata": {},
     "output_type": "execute_result"
    }
   ],
   "source": [
    "rl[np.arange(10),:]"
   ]
  },
  {
   "cell_type": "code",
   "execution_count": 14,
   "metadata": {},
   "outputs": [
    {
     "data": {
      "text/plain": [
       "array([[0.        , 0.        , 0.        , 0.        , 0.09534281,\n",
       "        0.11587033, 0.33304584, 0.20089611, 0.29998267, 0.30567205,\n",
       "        0.        ],\n",
       "       [0.        , 0.        , 0.        , 0.        , 0.09534281,\n",
       "        0.11587033, 0.33304584, 0.20089611, 0.29998267, 0.30567205,\n",
       "        0.        ],\n",
       "       [0.        , 0.        , 0.        , 0.        , 0.09534281,\n",
       "        0.11587033, 0.33304584, 0.20089611, 0.29998267, 0.30567205,\n",
       "        0.        ],\n",
       "       [0.        , 0.        , 0.        , 0.        , 0.09534281,\n",
       "        0.11587033, 0.33304584, 0.20089611, 0.29998267, 0.30567205,\n",
       "        0.        ],\n",
       "       [0.        , 0.        , 0.        , 0.        , 0.09534281,\n",
       "        0.11587033, 0.33304584, 0.20089611, 0.29998267, 0.30567205,\n",
       "        0.        ],\n",
       "       [0.        , 0.        , 0.        , 0.        , 0.09534281,\n",
       "        0.11587033, 0.33304584, 0.20089611, 0.29998267, 0.30567205,\n",
       "        0.        ],\n",
       "       [0.        , 0.        , 0.        , 0.        , 0.09534281,\n",
       "        0.11587033, 0.33304584, 0.20089611, 0.29998267, 0.30567205,\n",
       "        0.        ],\n",
       "       [0.        , 0.        , 0.        , 0.        , 0.09534281,\n",
       "        0.11587033, 0.33304584, 0.20089611, 0.29998267, 0.30567205,\n",
       "        0.        ],\n",
       "       [0.        , 0.        , 0.        , 0.        , 0.09534281,\n",
       "        0.11587033, 0.33304584, 0.20089611, 0.29998267, 0.30567205,\n",
       "        0.        ],\n",
       "       [0.        , 0.        , 0.        , 0.        , 0.09534281,\n",
       "        0.11587033, 0.33304584, 0.20089611, 0.29998267, 0.30567205,\n",
       "        0.        ]], dtype=float32)"
      ]
     },
     "execution_count": 14,
     "metadata": {},
     "output_type": "execute_result"
    }
   ],
   "source": [
    "sup[np.arange(10),:]"
   ]
  },
  {
   "cell_type": "code",
   "execution_count": null,
   "metadata": {},
   "outputs": [],
   "source": []
  },
  {
   "cell_type": "code",
   "execution_count": null,
   "metadata": {},
   "outputs": [],
   "source": []
  },
  {
   "cell_type": "code",
   "execution_count": 186,
   "metadata": {},
   "outputs": [],
   "source": [
    "import tensorflow as tf\n",
    "import numpy as np\n",
    "from memory import Memory\n",
    "from basics import Basics\n",
    "\n",
    "\n",
    "\n",
    "from networks_kennedy import QN_l1, QN_guess_kennedy\n",
    "import give_probability_kennedy\n",
    "\n",
    "\n",
    "\n",
    "\n",
    "basic = Basics(layers=1)\n",
    "basic.define_actions()\n",
    "b =np.load(\"buffer.npy\", allow_pickle=True)\n",
    "buffer = Memory(len(b), load_path=None)\n",
    "for i in range(len(b)):\n",
    "    buffer.add_sample(tuple(b[i]))\n",
    "    \n",
    "    \n",
    "    \n",
    "    \n",
    "    \n",
    "qn_l1_prim = QN_l1(basics.actions[0])\n",
    "qn_l1_targ = QN_l1(basics.actions[0])\n",
    "qn_guess_prim = QN_guess_kennedy(basic.possible_phases)\n",
    "qn_guess_targ = QN_guess_kennedy(basic.possible_phases)\n",
    "\n",
    "qvalues1 = qn_l1_prim(np.expand_dims(np.array([]), axis=0))\n",
    "qvalues1targ = qn_l1_targ(np.expand_dims(np.array([]), axis=0))\n",
    "qvalueslayerguess_prim = qn_guess_prim(np.expand_dims(np.array([1,-.7]), axis=0))\n",
    "qvalueslayerguess_targ = qn_guess_targ(np.expand_dims(np.array([1,-.7]), axis=0))\n",
    "\n",
    "\n",
    "\n",
    "TAU = 0.01\n",
    "optimizer = tf.keras.optimizers.SGD(lr=0.01)\n",
    "optimizer_guess = tf.keras.optimizers.SGD(lr=0.01)\n",
    "\n",
    "\n",
    "\n",
    "\n",
    "def learn_batch(networks , batch_length):\n",
    "    batch = buffer.sample(batch_length)\n",
    "    qn_l1_prim, qn_l1_targ, qn_guess_prim, qn_guess_targ = networks\n",
    "\n",
    "    outcome_1_beta1_batch = np.array([[ v[0], v[1]] for v in batch ] )\n",
    "    labels_beta1 = np.array([v[2] for v in batch])\n",
    "    \n",
    "    print(type(outcome_1_beta1_batch))\n",
    "    q_guess_prim = qn_guess_prim(np.expand_dims(outcome_1_beta1_batch, axis=0))\n",
    "    q_guess_prim = np.squeeze(q_guess_prim.numpy())\n",
    "\n",
    "    opt_a_2_prim = np.argmax(q_guess_prim,axis=1)\n",
    "\n",
    "    update_for_q_1_prim = qn_l1_targ(np.expand_dims(np.array([[] for i in range(len(batch))]), axis=0)) #targ = target\n",
    "    update_for_q_1_prim = np.squeeze(update_for_q_1_prim, axis=0)\n",
    "    qlabels_l1 = update_for_q_1_prim.copy()\n",
    "    \n",
    "    qlabels_l1[np.arange(batch_length), labels_beta1] = np.squeeze(qn_guess_targ(np.expand_dims(outcome_1_beta1_batch, axis=0)).numpy())[np.arange(batch_length),opt_a_2_prim]\n",
    "\n",
    "    optimizer_ql1, optimizer_guess = optimizers\n",
    "\n",
    "    train_vars_in = [ch.numpy() for ch in qn_l1_prim.trainable_variables]\n",
    "\n",
    "    # print(qlabels_l1)\n",
    "    with tf.device(\"/cpu:0\"):\n",
    "        with tf.GradientTape() as tape:\n",
    "            tape.watch(qn_l1_prim.trainable_variables)\n",
    "            pred_q_1s = qn_l1_prim(np.expand_dims(np.array([[] for i in range(len(batch))]), axis=0))\n",
    "\n",
    "            loss_sum =tf.keras.losses.MSE(pred_q_1s, qlabels_l1)\n",
    "            loss = tf.reduce_mean(loss_sum)\n",
    "            grads = tape.gradient(loss, qn_l1_prim.trainable_variables)\n",
    "            optimizer_ql1.apply_gradients(zip(grads, qn_l1_prim.trainable_variables))\n",
    "\n",
    "        with tf.GradientTape() as tape:\n",
    "            tape.watch(qn_guess_prim.trainable_variables)\n",
    "            pred_q_3s = qn_guess_prim(np.expand_dims(s_3_batch, axis=0))\n",
    "            loss_sum =tf.keras.losses.MSE(pred_q_3s, qlabels_l3)\n",
    "            loss = tf.reduce_mean(loss_sum)\n",
    "            loss_guess = loss\n",
    "            grads = tape.gradient(loss, qn_guess_prim.trainable_variables)\n",
    "            optimizer_guess.apply_gradients(zip(grads, qn_guess_prim.trainable_variables))\n",
    "\n",
    "    for t, e in zip(qn_l1_targ.trainable_variables, qn_l1_prim.trainable_variables):\n",
    "        t.assign(t*(1-TAU) + e*TAU)\n",
    "\n",
    "    for t, e in zip(qn_guess_targ.trainable_variables, qn_guess_prim.trainable_variables):\n",
    "        t.assign(t*(1-TAU) + e*TAU)\n",
    "    return loss, loss_guess\n",
    "\n",
    "\n",
    "losses= []\n",
    "networks = [qn_l1_prim, qn_l1_targ, qn_guess_prim, qn_guess_targ]\n",
    "\n",
    "qn_l1_prim.give_first_beta(epsilon=1)\n",
    "qn_l1_targ.give_first_beta(epsilon=1)\n",
    "qn_guess_prim.give_guess([0, -.7], epsilon=1)\n",
    "qn_guess_targ.give_guess([0, -.7], epsilon=1)\n",
    "\n",
    "learn_batch(networks, 2)"
   ]
  },
  {
   "cell_type": "code",
   "execution_count": 187,
   "metadata": {},
   "outputs": [],
   "source": []
  },
  {
   "cell_type": "code",
   "execution_count": 192,
   "metadata": {},
   "outputs": [],
   "source": []
  },
  {
   "cell_type": "code",
   "execution_count": 193,
   "metadata": {},
   "outputs": [
    {
     "name": "stderr",
     "output_type": "stream",
     "text": [
      "W1108 16:04:59.148558 139697432549184 base_layer.py:1865] Layer qn_l1_14 is casting an input tensor from dtype float64 to the layer's dtype of float32, which is new behavior in TensorFlow 2.  The layer has dtype float32 because it's dtype defaults to floatx.\n",
      "\n",
      "If you intended to run this layer in float32, you can safely ignore this warning. If in doubt, this warning is likely only an issue if you are porting a TensorFlow 1.X model to TensorFlow 2.\n",
      "\n",
      "To change all layers to have dtype float64 by default, call `tf.keras.backend.set_floatx('float64')`. To change just this layer, pass dtype='float64' to the layer constructor. If you are the author of this layer, you can disable autocasting by passing autocast=False to the base Layer constructor.\n",
      "\n",
      "W1108 16:04:59.162130 139697432549184 base_layer.py:1865] Layer qn_l1_15 is casting an input tensor from dtype float64 to the layer's dtype of float32, which is new behavior in TensorFlow 2.  The layer has dtype float32 because it's dtype defaults to floatx.\n",
      "\n",
      "If you intended to run this layer in float32, you can safely ignore this warning. If in doubt, this warning is likely only an issue if you are porting a TensorFlow 1.X model to TensorFlow 2.\n",
      "\n",
      "To change all layers to have dtype float64 by default, call `tf.keras.backend.set_floatx('float64')`. To change just this layer, pass dtype='float64' to the layer constructor. If you are the author of this layer, you can disable autocasting by passing autocast=False to the base Layer constructor.\n",
      "\n",
      "W1108 16:04:59.175602 139697432549184 base_layer.py:1865] Layer qn_guess_kennedy_12 is casting an input tensor from dtype float64 to the layer's dtype of float32, which is new behavior in TensorFlow 2.  The layer has dtype float32 because it's dtype defaults to floatx.\n",
      "\n",
      "If you intended to run this layer in float32, you can safely ignore this warning. If in doubt, this warning is likely only an issue if you are porting a TensorFlow 1.X model to TensorFlow 2.\n",
      "\n",
      "To change all layers to have dtype float64 by default, call `tf.keras.backend.set_floatx('float64')`. To change just this layer, pass dtype='float64' to the layer constructor. If you are the author of this layer, you can disable autocasting by passing autocast=False to the base Layer constructor.\n",
      "\n",
      "W1108 16:04:59.188847 139697432549184 base_layer.py:1865] Layer qn_guess_kennedy_13 is casting an input tensor from dtype float64 to the layer's dtype of float32, which is new behavior in TensorFlow 2.  The layer has dtype float32 because it's dtype defaults to floatx.\n",
      "\n",
      "If you intended to run this layer in float32, you can safely ignore this warning. If in doubt, this warning is likely only an issue if you are porting a TensorFlow 1.X model to TensorFlow 2.\n",
      "\n",
      "To change all layers to have dtype float64 by default, call `tf.keras.backend.set_floatx('float64')`. To change just this layer, pass dtype='float64' to the layer constructor. If you are the author of this layer, you can disable autocasting by passing autocast=False to the base Layer constructor.\n",
      "\n"
     ]
    }
   ],
   "source": []
  },
  {
   "cell_type": "code",
   "execution_count": 194,
   "metadata": {},
   "outputs": [],
   "source": []
  },
  {
   "cell_type": "code",
   "execution_count": 195,
   "metadata": {},
   "outputs": [],
   "source": []
  },
  {
   "cell_type": "code",
   "execution_count": 196,
   "metadata": {},
   "outputs": [
    {
     "data": {
      "text/plain": [
       "(1, 1)"
      ]
     },
     "execution_count": 196,
     "metadata": {},
     "output_type": "execute_result"
    }
   ],
   "source": []
  },
  {
   "cell_type": "code",
   "execution_count": 197,
   "metadata": {},
   "outputs": [
    {
     "name": "stdout",
     "output_type": "stream",
     "text": [
      "<class 'numpy.ndarray'>\n"
     ]
    },
    {
     "ename": "IndexError",
     "evalue": "arrays used as indices must be of integer (or boolean) type",
     "output_type": "error",
     "traceback": [
      "\u001b[0;31m---------------------------------------------------------------------------\u001b[0m",
      "\u001b[0;31mIndexError\u001b[0m                                Traceback (most recent call last)",
      "\u001b[0;32m<ipython-input-197-677c4a027fe1>\u001b[0m in \u001b[0;36m<module>\u001b[0;34m()\u001b[0m\n\u001b[0;32m----> 1\u001b[0;31m \u001b[0mlearn_batch\u001b[0m\u001b[0;34m(\u001b[0m\u001b[0mnetworks\u001b[0m\u001b[0;34m,\u001b[0m \u001b[0;36m2\u001b[0m\u001b[0;34m)\u001b[0m\u001b[0;34m\u001b[0m\u001b[0;34m\u001b[0m\u001b[0m\n\u001b[0m",
      "\u001b[0;32m<ipython-input-195-cb4896ca7904>\u001b[0m in \u001b[0;36mlearn_batch\u001b[0;34m(networks, batch_length)\u001b[0m\n\u001b[1;32m     16\u001b[0m     \u001b[0mqlabels_l1\u001b[0m \u001b[0;34m=\u001b[0m \u001b[0mupdate_for_q_1_prim\u001b[0m\u001b[0;34m.\u001b[0m\u001b[0mcopy\u001b[0m\u001b[0;34m(\u001b[0m\u001b[0;34m)\u001b[0m\u001b[0;34m\u001b[0m\u001b[0;34m\u001b[0m\u001b[0m\n\u001b[1;32m     17\u001b[0m \u001b[0;34m\u001b[0m\u001b[0m\n\u001b[0;32m---> 18\u001b[0;31m     \u001b[0mqlabels_l1\u001b[0m\u001b[0;34m[\u001b[0m\u001b[0mnp\u001b[0m\u001b[0;34m.\u001b[0m\u001b[0marange\u001b[0m\u001b[0;34m(\u001b[0m\u001b[0mbatch_length\u001b[0m\u001b[0;34m)\u001b[0m\u001b[0;34m,\u001b[0m \u001b[0mlabels_beta1\u001b[0m\u001b[0;34m]\u001b[0m \u001b[0;34m=\u001b[0m \u001b[0mnp\u001b[0m\u001b[0;34m.\u001b[0m\u001b[0msqueeze\u001b[0m\u001b[0;34m(\u001b[0m\u001b[0mqn_guess_targ\u001b[0m\u001b[0;34m(\u001b[0m\u001b[0mnp\u001b[0m\u001b[0;34m.\u001b[0m\u001b[0mexpand_dims\u001b[0m\u001b[0;34m(\u001b[0m\u001b[0moutcome_1_beta1_batch\u001b[0m\u001b[0;34m,\u001b[0m \u001b[0maxis\u001b[0m\u001b[0;34m=\u001b[0m\u001b[0;36m0\u001b[0m\u001b[0;34m)\u001b[0m\u001b[0;34m)\u001b[0m\u001b[0;34m.\u001b[0m\u001b[0mnumpy\u001b[0m\u001b[0;34m(\u001b[0m\u001b[0;34m)\u001b[0m\u001b[0;34m)\u001b[0m\u001b[0;34m[\u001b[0m\u001b[0mnp\u001b[0m\u001b[0;34m.\u001b[0m\u001b[0marange\u001b[0m\u001b[0;34m(\u001b[0m\u001b[0mbatch_length\u001b[0m\u001b[0;34m)\u001b[0m\u001b[0;34m,\u001b[0m\u001b[0mopt_a_2_prim\u001b[0m\u001b[0;34m]\u001b[0m\u001b[0;34m\u001b[0m\u001b[0;34m\u001b[0m\u001b[0m\n\u001b[0m\u001b[1;32m     19\u001b[0m \u001b[0;34m\u001b[0m\u001b[0m\n\u001b[1;32m     20\u001b[0m     \u001b[0moptimizer_ql1\u001b[0m\u001b[0;34m,\u001b[0m \u001b[0moptimizer_guess\u001b[0m \u001b[0;34m=\u001b[0m \u001b[0moptimizers\u001b[0m\u001b[0;34m\u001b[0m\u001b[0;34m\u001b[0m\u001b[0m\n",
      "\u001b[0;31mIndexError\u001b[0m: arrays used as indices must be of integer (or boolean) type"
     ]
    }
   ],
   "source": []
  },
  {
   "cell_type": "code",
   "execution_count": null,
   "metadata": {},
   "outputs": [],
   "source": []
  }
 ],
 "metadata": {
  "kernelspec": {
   "display_name": "Python 3",
   "language": "python",
   "name": "python3"
  },
  "language_info": {
   "codemirror_mode": {
    "name": "ipython",
    "version": 3
   },
   "file_extension": ".py",
   "mimetype": "text/x-python",
   "name": "python",
   "nbconvert_exporter": "python",
   "pygments_lexer": "ipython3",
   "version": "3.6.8"
  }
 },
 "nbformat": 4,
 "nbformat_minor": 2
}
