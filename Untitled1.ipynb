{
 "cells": [
  {
   "cell_type": "code",
   "execution_count": 1,
   "metadata": {},
   "outputs": [
    {
     "name": "stderr",
     "output_type": "stream",
     "text": [
      "  0%|          | 0/10 [00:00<?, ?it/s]\n"
     ]
    },
    {
     "ename": "ValueError",
     "evalue": "too many values to unpack (expected 2)",
     "output_type": "error",
     "traceback": [
      "\u001b[0;31m---------------------------------------------------------------------------\u001b[0m",
      "\u001b[0;31mValueError\u001b[0m                                Traceback (most recent call last)",
      "\u001b[0;32m<ipython-input-1-cebfe361b53f>\u001b[0m in \u001b[0;36m<module>\u001b[0;34m()\u001b[0m\n\u001b[1;32m     80\u001b[0m     \u001b[0mnumber_run\u001b[0m \u001b[0;34m=\u001b[0m \u001b[0;34m\"run_\"\u001b[0m\u001b[0;34m+\u001b[0m\u001b[0mstr\u001b[0m\u001b[0;34m(\u001b[0m\u001b[0mrun_id\u001b[0m\u001b[0;34m)\u001b[0m\u001b[0;34m\u001b[0m\u001b[0;34m\u001b[0m\u001b[0m\n\u001b[1;32m     81\u001b[0m     real_training(run_id=number_run, lr=1e-4,\n\u001b[0;32m---> 82\u001b[0;31m      states_wasted=10**1, batch_size=500, buffer_size=2*10**3)\n\u001b[0m\u001b[1;32m     83\u001b[0m \u001b[0mos\u001b[0m\u001b[0;34m.\u001b[0m\u001b[0mchdir\u001b[0m\u001b[0;34m(\u001b[0m\u001b[0;34m\"..\"\u001b[0m\u001b[0;34m)\u001b[0m\u001b[0;34m\u001b[0m\u001b[0;34m\u001b[0m\u001b[0m\n\u001b[1;32m     84\u001b[0m \u001b[0;34m\u001b[0m\u001b[0m\n",
      "\u001b[0;32m<ipython-input-1-cebfe361b53f>\u001b[0m in \u001b[0;36mreal_training\u001b[0;34m(run_id, lr, states_wasted, batch_size, epochs, buffer_size, predict_q_table)\u001b[0m\n\u001b[1;32m     60\u001b[0m         \u001b[0mbuffer\u001b[0m\u001b[0;34m.\u001b[0m\u001b[0madd\u001b[0m\u001b[0;34m(\u001b[0m\u001b[0mbeta\u001b[0m\u001b[0;34m,\u001b[0m \u001b[0moutcome\u001b[0m\u001b[0;34m,\u001b[0m \u001b[0mguess\u001b[0m\u001b[0;34m,\u001b[0m \u001b[0mreward\u001b[0m\u001b[0;34m)\u001b[0m\u001b[0;34m\u001b[0m\u001b[0;34m\u001b[0m\u001b[0m\n\u001b[1;32m     61\u001b[0m \u001b[0;34m\u001b[0m\u001b[0m\n\u001b[0;32m---> 62\u001b[0;31m         \u001b[0mactions_did\u001b[0m\u001b[0;34m,\u001b[0m \u001b[0moutcome\u001b[0m\u001b[0;34m,\u001b[0m \u001b[0mguessed\u001b[0m\u001b[0;34m,\u001b[0m \u001b[0mrewarded\u001b[0m \u001b[0;34m=\u001b[0m \u001b[0mbuffer\u001b[0m\u001b[0;34m.\u001b[0m\u001b[0msample\u001b[0m\u001b[0;34m(\u001b[0m\u001b[0mbatch_size\u001b[0m\u001b[0;34m)\u001b[0m\u001b[0;34m\u001b[0m\u001b[0;34m\u001b[0m\u001b[0m\n\u001b[0m\u001b[1;32m     63\u001b[0m \u001b[0;34m\u001b[0m\u001b[0m\n\u001b[1;32m     64\u001b[0m         \u001b[0;32mif\u001b[0m \u001b[0mepisode\u001b[0m \u001b[0;34m>\u001b[0m\u001b[0;36m0\u001b[0m\u001b[0;34m:\u001b[0m\u001b[0;34m\u001b[0m\u001b[0;34m\u001b[0m\u001b[0m\n",
      "\u001b[0;32m/home/cooper-cooper/Desktop/deeper/misc.py\u001b[0m in \u001b[0;36msample\u001b[0;34m(self, batch_size)\u001b[0m\n\u001b[1;32m    223\u001b[0m         \u001b[0;32melse\u001b[0m\u001b[0;34m:\u001b[0m\u001b[0;34m\u001b[0m\u001b[0;34m\u001b[0m\u001b[0m\n\u001b[1;32m    224\u001b[0m             \u001b[0mbatch\u001b[0m \u001b[0;34m=\u001b[0m \u001b[0mrandom\u001b[0m\u001b[0;34m.\u001b[0m\u001b[0msample\u001b[0m\u001b[0;34m(\u001b[0m\u001b[0mself\u001b[0m\u001b[0;34m.\u001b[0m\u001b[0mbuffer\u001b[0m\u001b[0;34m,\u001b[0m \u001b[0mbatch_size\u001b[0m\u001b[0;34m)\u001b[0m\u001b[0;34m\u001b[0m\u001b[0;34m\u001b[0m\u001b[0m\n\u001b[0;32m--> 225\u001b[0;31m         \u001b[0ma_batch\u001b[0m\u001b[0;34m,\u001b[0m \u001b[0mr_batch\u001b[0m\u001b[0;34m=\u001b[0m \u001b[0mlist\u001b[0m\u001b[0;34m(\u001b[0m\u001b[0mmap\u001b[0m\u001b[0;34m(\u001b[0m\u001b[0mnp\u001b[0m\u001b[0;34m.\u001b[0m\u001b[0marray\u001b[0m\u001b[0;34m,\u001b[0m \u001b[0mlist\u001b[0m\u001b[0;34m(\u001b[0m\u001b[0mzip\u001b[0m\u001b[0;34m(\u001b[0m\u001b[0;34m*\u001b[0m\u001b[0mbatch\u001b[0m\u001b[0;34m)\u001b[0m\u001b[0;34m)\u001b[0m\u001b[0;34m)\u001b[0m\u001b[0;34m)\u001b[0m\u001b[0;34m\u001b[0m\u001b[0;34m\u001b[0m\u001b[0m\n\u001b[0m\u001b[1;32m    226\u001b[0m         \u001b[0;32mreturn\u001b[0m \u001b[0ma_batch\u001b[0m\u001b[0;34m,\u001b[0m \u001b[0mr_batch\u001b[0m\u001b[0;34m\u001b[0m\u001b[0;34m\u001b[0m\u001b[0m\n\u001b[1;32m    227\u001b[0m \u001b[0;34m\u001b[0m\u001b[0m\n",
      "\u001b[0;31mValueError\u001b[0m: too many values to unpack (expected 2)"
     ]
    }
   ],
   "source": [
    "import tensorflow as tf\n",
    "from tensorflow.keras.layers import Dense\n",
    "import numpy as np\n",
    "import matplotlib.pyplot as plt\n",
    "import os\n",
    "from tqdm import tqdm\n",
    "tf.keras.backend.set_floatx('float64')\n",
    "from misc import *\n",
    "from collections import deque\n",
    "from nets import Q1, Actor, Q2\n",
    "import random\n",
    "\n",
    "\n",
    "def real_training(run_id, lr = 10**-2,\n",
    " states_wasted=10**3, batch_size=64, epochs=10, buffer_size=10**3, predict_q_table=True):\n",
    "\n",
    "    q1=Q1()\n",
    "    q2=Q2()\n",
    "    actor = Actor()\n",
    "\n",
    "    optimizer_critic = tf.keras.optimizers.Adam(lr = lr)\n",
    "    optimizer_actor = tf.keras.optimizers.Adam(lr = lr)\n",
    "\n",
    "    pt=[]\n",
    "    rt=[]\n",
    "    rts = []\n",
    "    loss_ev = []\n",
    "    history = []\n",
    "    history_would_have_done=[]\n",
    "\n",
    "    betas_test = np.arange(-1,1,.01)\n",
    "    optimal = max(ps_maxlik(betas_test))\n",
    "    buffer = ReplayBufferKennedy(buffer_size=buffer_size)\n",
    "\n",
    "    for episode in tqdm(range(states_wasted)):\n",
    "\n",
    "        phase = np.random.choice([-1,1])\n",
    "\n",
    "        beta_would_do = np.squeeze(actor.give_action().numpy())\n",
    "        g=[]\n",
    "        for n1 in [0,1]:\n",
    "            g.append([-1,1][np.argmax(np.squeeze(q2( np.expand_dims(np.array([[beta_would_do, n1]]) ,axis=1 )).numpy()))])\n",
    "            \n",
    "        beta = beta_would_do + np.random.uniform(-.25,.25)\n",
    "        history.append(beta)\n",
    "        history_would_have_done.append(beta_would_do)\n",
    "\n",
    "        outcome = give_outcome(phase*0.4, beta)\n",
    "        preds_guess = np.squeeze(q2( np.expand_dims(np.array([[beta, outcome]]) ,axis=1 )).numpy())\n",
    "        guess = [-1,1][np.argmax(preds_guess)]\n",
    "\n",
    "        pt.append(ps(beta_would_do,g))\n",
    "        if guess == phase:\n",
    "            reward=1\n",
    "        else:\n",
    "            reward = 0\n",
    "\n",
    "        rt.append(reward)\n",
    "        rts.append(np.sum(rt))\n",
    "        buffer.add(beta, outcome, guess, reward)\n",
    "\n",
    "        actions_did, outcome, guessed, rewarded = buffer.sample(batch_size)\n",
    "\n",
    "        if episode >0:\n",
    "            with tf.GradientTape() as tape:\n",
    "                tape.watch(q1.trainable_variables)\n",
    "                predictions = q1(np.expand_dims(np.array(actions_did),axis=1))\n",
    "                loss_sum = tf.keras.losses.MSE(np.expand_dims(np.array(rewards),axis=1),predictions)\n",
    "                loss = tf.reduce_mean(loss_sum)\n",
    "                grads = tape.gradient(loss, q1.trainable_variables)\n",
    "                optimizer_critic.apply_gradients(zip(grads, q1.trainable_variables))\n",
    "                loss_ev.append(np.squeeze(loss.numpy()))\n",
    "\n",
    "        return\n",
    "\n",
    "check_folder(\"matese\")\n",
    "\n",
    "for k in range(1):\n",
    "    run_id=record()\n",
    "    number_run = \"run_\"+str(run_id)\n",
    "    real_training(run_id=number_run, lr=1e-4,\n",
    "     states_wasted=10**1, batch_size=500, buffer_size=2*10**3)\n",
    "os.chdir(\"..\")\n",
    "\n"
   ]
  },
  {
   "cell_type": "code",
   "execution_count": null,
   "metadata": {},
   "outputs": [],
   "source": []
  }
 ],
 "metadata": {
  "kernelspec": {
   "display_name": "Python 3",
   "language": "python",
   "name": "python3"
  },
  "language_info": {
   "codemirror_mode": {
    "name": "ipython",
    "version": 3
   },
   "file_extension": ".py",
   "mimetype": "text/x-python",
   "name": "python",
   "nbconvert_exporter": "python",
   "pygments_lexer": "ipython3",
   "version": "3.6.9"
  }
 },
 "nbformat": 4,
 "nbformat_minor": 2
}
