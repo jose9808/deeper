{
 "cells": [
  {
   "cell_type": "code",
   "execution_count": 47,
   "metadata": {},
   "outputs": [],
   "source": [
    "import tensorflow as tf\n",
    "from tensorflow.keras.layers import Dense\n",
    "tf.keras.backend.set_floatx('float64')\n",
    "import numpy as np\n",
    "# from misc import *\n",
    "\n",
    "class actor(tf.keras.Model):\n",
    "    def __init__(self):\n",
    "        super(actor,self).__init__()\n",
    "\n",
    "        self.l1 = Dense(1, input_shape=(1,),\n",
    "                        kernel_regularizer=tf.keras.regularizers.l1(0.01),\n",
    "                        activity_regularizer=tf.keras.regularizers.l2(0.01),\n",
    "                       bias_initializer=tf.random_uniform_initializer())\n",
    "        self.l2 = Dense(10,\n",
    "                         kernel_regularizer=tf.keras.regularizers.l1(0.01),\n",
    "                        activity_regularizer=tf.keras.regularizers.l2(0.01),\n",
    "                       bias_initializer=tf.random_uniform_initializer())\n",
    "        self.l3 = Dense(33,\n",
    "                    kernel_regularizer=tf.keras.regularizers.l1(0.01),\n",
    "                    activity_regularizer=tf.keras.regularizers.l2(0.01),\n",
    "                    bias_initializer=tf.random_uniform_initializer())\n",
    "        self.l5 = Dense(1,\n",
    "                         kernel_regularizer=tf.keras.regularizers.l1(0.01),\n",
    "                        activity_regularizer=tf.keras.regularizers.l2(0.01),\n",
    "                       bias_initializer=tf.random_uniform_initializer())\n",
    "    def call(self, input):\n",
    "        feat = tf.nn.relu(self.l1(input))\n",
    "        feat = tf.nn.dropout(feat,rate=0.1)\n",
    "        feat = tf.nn.relu(self.l2(feat))\n",
    "        feat = tf.nn.dropout(feat, rate=0.1)\n",
    "        feat = tf.nn.relu(self.l3(feat))\n",
    "        feat = tf.nn.dropout(feat, rate=0.1)\n",
    "\n",
    "        value = tf.nn.sigmoid(self.l5(feat))\n",
    "        return value\n",
    "\n",
    "    def prediction(self, betas):\n",
    "        inp = np.expand_dims(betas, axis=1)\n",
    "        return np.squeeze(self(inp).numpy())\n",
    "    \n",
    "    def give_action(self):\n",
    "        dumb = np.array([0.])\n",
    "        return self(np.expand_dims(dumb,axis=1))\n"
   ]
  },
  {
   "cell_type": "code",
   "execution_count": 51,
   "metadata": {},
   "outputs": [
    {
     "data": {
      "text/plain": [
       "<tf.Tensor: shape=(1, 1), dtype=float64, numpy=array([[0.50800906]])>"
      ]
     },
     "execution_count": 51,
     "metadata": {},
     "output_type": "execute_result"
    }
   ],
   "source": [
    "act = actor()\n",
    "act.give_action()"
   ]
  },
  {
   "cell_type": "code",
   "execution_count": 35,
   "metadata": {},
   "outputs": [],
   "source": [
    "from nets import Q1"
   ]
  },
  {
   "cell_type": "code",
   "execution_count": 62,
   "metadata": {},
   "outputs": [
    {
     "name": "stdout",
     "output_type": "stream",
     "text": [
      "tf.Tensor([[-0.00624838]], shape=(1, 1), dtype=float64)\n"
     ]
    }
   ],
   "source": [
    "with tf.GradientTape() as tape:\n",
    "    a=act.give_action()\n",
    "    tape.watch(a)\n",
    "    qval = q1(a)\n",
    "dq_da = tape.gradient(qval,a)\n",
    "\n",
    "with tf.GradientTape() as tape:\n",
    "    a = act.give_action()\n",
    "da_dth = tape.gradient(a, act.trainable_variables, output_gradients=-dq_da)\n"
   ]
  },
  {
   "cell_type": "code",
   "execution_count": 54,
   "metadata": {},
   "outputs": [],
   "source": [
    "q1 = Q1()\n",
    "betas = np.arange(-1,1,.1)\n"
   ]
  },
  {
   "cell_type": "code",
   "execution_count": 55,
   "metadata": {},
   "outputs": [
    {
     "data": {
      "text/plain": [
       "<__main__.actor at 0x7f2b7c2b4e10>"
      ]
     },
     "execution_count": 55,
     "metadata": {},
     "output_type": "execute_result"
    }
   ],
   "source": [
    "act"
   ]
  },
  {
   "cell_type": "code",
   "execution_count": 46,
   "metadata": {},
   "outputs": [
    {
     "ename": "AttributeError",
     "evalue": "'Q1' object has no attribute 'out'",
     "output_type": "error",
     "traceback": [
      "\u001b[0;31m---------------------------------------------------------------------------\u001b[0m",
      "\u001b[0;31mAttributeError\u001b[0m                            Traceback (most recent call last)",
      "\u001b[0;32m<ipython-input-46-15bc658a8239>\u001b[0m in \u001b[0;36m<module>\u001b[0;34m()\u001b[0m\n\u001b[0;32m----> 1\u001b[0;31m \u001b[0mq1\u001b[0m\u001b[0;34m.\u001b[0m\u001b[0mout\u001b[0m\u001b[0;34m\u001b[0m\u001b[0;34m\u001b[0m\u001b[0m\n\u001b[0m",
      "\u001b[0;31mAttributeError\u001b[0m: 'Q1' object has no attribute 'out'"
     ]
    }
   ],
   "source": [
    "with tf.GradientTape() as tape:\n",
    "    a = self.actor(states_batch)\n",
    "    tape.watch(a)\n",
    "    q = self.critic([states_batch, a])\n",
    "dq_da = tape.gradient(q, a)\n",
    "\n",
    "with tf.GradientTape() as tape:\n",
    "    a = self.actor(states_batch)\n",
    "    theta = self.actor.trainable_variables\n",
    "da_dtheta = tape.gradient(a, theta, output_gradients=-dq_da)\n",
    "self.actor_opt.apply_gradients(zip(da_dtheta, self.actor.trainable_variables))\n"
   ]
  },
  {
   "cell_type": "code",
   "execution_count": null,
   "metadata": {},
   "outputs": [],
   "source": []
  }
 ],
 "metadata": {
  "kernelspec": {
   "display_name": "Python 3",
   "language": "python",
   "name": "python3"
  },
  "language_info": {
   "codemirror_mode": {
    "name": "ipython",
    "version": 3
   },
   "file_extension": ".py",
   "mimetype": "text/x-python",
   "name": "python",
   "nbconvert_exporter": "python",
   "pygments_lexer": "ipython3",
   "version": "3.6.9"
  }
 },
 "nbformat": 4,
 "nbformat_minor": 2
}
