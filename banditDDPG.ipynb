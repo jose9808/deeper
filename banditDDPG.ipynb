{
 "cells": [
  {
   "cell_type": "code",
   "execution_count": 153,
   "metadata": {},
   "outputs": [],
   "source": [
    "import tensorflow as tf\n",
    "import numpy as np\n",
    "from tensorflow.keras.layers import Dense\n",
    "import matplotlib.pyplot as plt\n",
    "from tqdm import tqdm\n",
    "class Actor(tf.keras.Model):\n",
    "    def __init__(self, state_shape, action_dim, max_action, units=[4,2], name=\"Actor\"):\n",
    "        super().__init__(name=name)\n",
    "\n",
    "        \n",
    "        self.l1 = Dense(units[0], name=\"L1\",bias_initializer=tf.keras.initializers.RandomNormal(mean=0.0, stddev=1.0, seed=None))\n",
    "        self.l2 = Dense(units[1], name=\"L2\",bias_initializer=tf.keras.initializers.RandomNormal(mean=0.0, stddev=1.0, seed=None))\n",
    "        self.l3 = Dense(action_dim, name=\"L3\",bias_initializer=tf.keras.initializers.RandomNormal(mean=0.0, stddev=1.0, seed=None))\n",
    "\n",
    "        \n",
    "    #    self.l1 = Dense(units[0], name=\"L1\",kernel_initializer='random_uniform',\n",
    "   #             bias_initializer='random_uniform')\n",
    "  #      self.l2 = Dense(units[1], name=\"L2\",kernel_initializer='random_uniform',\n",
    " #               bias_initializer='random_uniform')\n",
    "#        self.l3 = Dense(action_dim, name=\"L3\",kernel_initializer='random_uniform',\n",
    "     #           bias_initializer='random_uniform')\n",
    "\n",
    "        self.max_action = max_action\n",
    "\n",
    "        with tf.device(\"/cpu:0\"):\n",
    "            self(tf.constant(np.zeros(shape=(1,)+state_shape, dtype=np.float32)))\n",
    "\n",
    "    def call(self, inputs):\n",
    "        features = tf.nn.relu(self.l1(inputs))\n",
    "        features = tf.nn.relu(self.l2(features))\n",
    "        features = self.l3(features)\n",
    "        action = self.max_action * tf.nn.tanh(features)\n",
    "        return action\n",
    "    \n",
    "class Critic(tf.keras.Model):\n",
    "    def __init__(self, state_shape, action_dim, units=[400, 300], name=\"Critic\"):\n",
    "        super().__init__(name=name)\n",
    "\n",
    "        self.l1 = Dense(units[0], name=\"L1\")\n",
    "        self.l2 = Dense(units[1], name=\"L2\")\n",
    "        self.l3 = Dense(1, name=\"L3\")\n",
    "\n",
    "        dummy_state = tf.constant(\n",
    "            np.zeros(shape=(1,)+state_shape, dtype=np.float32))\n",
    "        dummy_action = tf.constant(\n",
    "            np.zeros(shape=[1, action_dim], dtype=np.float32))\n",
    "        with tf.device(\"/cpu:0\"):\n",
    "            self([dummy_state, dummy_action])\n",
    "\n",
    "    def call(self, inputs):\n",
    "        states, actions = inputs\n",
    "        features = tf.concat([states, actions], axis=1)\n",
    "        features = tf.nn.relu(self.l1(features))\n",
    "        features = tf.nn.relu(self.l2(features))\n",
    "        features = self.l3(features)\n",
    "        return features\n",
    "    \n",
    "def update_towards_net2(net1,net2,tau=.01):\n",
    "    for source_variable,target_variable in zip(net1.trainable_variables, net2.trainable_variables):\n",
    "        source_variable.assign(tau*source_variable + (1.0 - tau)*target_variable)\n",
    "    return"
   ]
  },
  {
   "cell_type": "code",
   "execution_count": 154,
   "metadata": {},
   "outputs": [],
   "source": [
    "def learn(rewards, actions):\n",
    "    with tf.device(\"/cpu:0\"):\n",
    "        with tf.GradientTape() as tape:\n",
    "            tape.watch(critic.trainable_variables)\n",
    "            \n",
    "            q_values = critic(actions)\n",
    "            loss = tf.keras.losses.MSE(rewards, q_values)\n",
    "            critic_grad = tape.gradient(loss,critic.trainable_variables)\n",
    "            critic_optimizer.apply_gradients(zip(critic_grad, critic.trainable_variables))\n",
    "            \n",
    "        actions_free=[]    \n",
    "        with tf.GradientTape() as tape:\n",
    "            tape.watch(actor.trainable_variables)            \n",
    "            dummy_state = tf.constant([[1.]])\n",
    "            action = actor(dummy_state)\n",
    "            actor_loss = critic(action)\n",
    "            actor_grad = tape.gradient(actor_loss, actor.trainable_variables)\n",
    "            actor_optimizer.apply_gradients(zip(actor_grad, actor.trainable_variables))\n",
    "            return\n",
    "        "
   ]
  },
  {
   "cell_type": "code",
   "execution_count": 174,
   "metadata": {},
   "outputs": [],
   "source": [
    "def give_action(noise=True):\n",
    "    with tf.device(\"/cpu:0\"):\n",
    "        dummy_state = tf.constant([[1.]])\n",
    "        action = actor(dummy_state)\n",
    "        if noise == True:\n",
    "            action += tf.random.normal(shape=action.shape, mean=0., stddev=0.05, dtype=tf.float32)\n",
    "        else:\n",
    "            pass\n",
    "        return tf.clip_by_value(action, -actor.max_action, actor.max_action)\n"
   ]
  },
  {
   "cell_type": "code",
   "execution_count": 175,
   "metadata": {},
   "outputs": [],
   "source": [
    "actor=Actor((1,),1,1)\n",
    "critic=Actor((1,),1,1)\n",
    "critic_optimizer = tf.keras.optimizers.SGD(lr=0.01)\n",
    "actor_optimizer = tf.keras.optimizers.SGD(lr=0.01)"
   ]
  },
  {
   "cell_type": "code",
   "execution_count": 185,
   "metadata": {},
   "outputs": [],
   "source": [
    "def main(length):\n",
    "    alpha=0.56\n",
    "    cum_freq=0\n",
    "    batch_length=100\n",
    "    rewards_batch=[]\n",
    "    actions_batch=[]\n",
    "    cumrew=0\n",
    "    cumrewplot=[]\n",
    "    for i in range(length):\n",
    "        phase = np.random.choice([-1,1],1)[0]\n",
    "        beta = give_action()\n",
    "        p0 = np.exp(-(beta.numpy().flatten()[0]-(phase*alpha))**2)\n",
    "        outcome = np.random.choice([0,1],1,p=[p0,1-p0])\n",
    "        if (-1)**(outcome+1) == phase:\n",
    "            reward=1\n",
    "        else:\n",
    "            reward = 0\n",
    "        rewards_batch.append(tf.constant([reward]))\n",
    "        actions_batch.append(beta)\n",
    "        cumrew +=reward\n",
    "        cumrewplot.append(cumrew)\n",
    "\n",
    "        if i%batch_length==1:\n",
    "            actions_batch = tf.stack(actions_batch)\n",
    "            learn(rewards_batch, actions_batch)\n",
    "            actions_batch, rewards_batch = [], []\n",
    "    return cumrew, cumrewplot"
   ]
  },
  {
   "cell_type": "code",
   "execution_count": 189,
   "metadata": {},
   "outputs": [],
   "source": [
    "cumrew, cumrewplot = main(10**4)"
   ]
  },
  {
   "cell_type": "code",
   "execution_count": 190,
   "metadata": {},
   "outputs": [
    {
     "data": {
      "text/plain": [
       "<tf.Tensor: id=4486218, shape=(1, 1), dtype=float32, numpy=array([[0.98368204]], dtype=float32)>"
      ]
     },
     "execution_count": 190,
     "metadata": {},
     "output_type": "execute_result"
    }
   ],
   "source": [
    "give_action(noise=False)"
   ]
  },
  {
   "cell_type": "code",
   "execution_count": 191,
   "metadata": {},
   "outputs": [
    {
     "data": {
      "text/plain": [
       "1259"
      ]
     },
     "execution_count": 191,
     "metadata": {},
     "output_type": "execute_result"
    }
   ],
   "source": [
    "cumrew"
   ]
  },
  {
   "cell_type": "code",
   "execution_count": null,
   "metadata": {},
   "outputs": [],
   "source": []
  },
  {
   "cell_type": "code",
   "execution_count": null,
   "metadata": {},
   "outputs": [],
   "source": []
  },
  {
   "cell_type": "code",
   "execution_count": null,
   "metadata": {},
   "outputs": [],
   "source": [
    "###### give_action(noise=False)"
   ]
  },
  {
   "cell_type": "code",
   "execution_count": 192,
   "metadata": {},
   "outputs": [
    {
     "data": {
      "text/plain": [
       "[<matplotlib.lines.Line2D at 0x7f32681cb518>]"
      ]
     },
     "execution_count": 192,
     "metadata": {},
     "output_type": "execute_result"
    },
    {
     "data": {
      "image/png": "[encoded data removed]",
      "text/plain": [
       "<Figure size 432x288 with 1 Axes>"
      ]
     },
     "metadata": {},
     "output_type": "display_data"
    }
   ],
   "source": [
    "plt.plot(betas, critic(np.expand_dims(betas,axis=1)).numpy().flatten())"
   ]
  },
  {
   "cell_type": "code",
   "execution_count": null,
   "metadata": {},
   "outputs": [],
   "source": []
  },
  {
   "cell_type": "code",
   "execution_count": null,
   "metadata": {},
   "outputs": [],
   "source": []
  }
 ],
 "metadata": {
  "kernelspec": {
   "display_name": "Python 3",
   "language": "python",
   "name": "python3"
  },
  "language_info": {
   "codemirror_mode": {
    "name": "ipython",
    "version": 3
   },
   "file_extension": ".py",
   "mimetype": "text/x-python",
   "name": "python",
   "nbconvert_exporter": "python",
   "pygments_lexer": "ipython3",
   "version": "3.6.8"
  }
 },
 "nbformat": 4,
 "nbformat_minor": 2
}
