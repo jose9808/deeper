{
 "cells": [
  {
   "cell_type": "code",
   "execution_count": 1,
   "metadata": {},
   "outputs": [],
   "source": [
    "import tensorflow as tf\n",
    "import numpy as np\n",
    "from tensorflow.keras.layers import Dense\n",
    "\n",
    "\n",
    "class Actor(tf.keras.Model):\n",
    "    def __init__(self, state_shape, action_dim, max_action, units=[400, 300], name=\"Actor\"):\n",
    "        super().__init__(name=name)\n",
    "\n",
    "        self.l1 = Dense(units[0], name=\"L1\")\n",
    "        self.l2 = Dense(units[1], name=\"L2\")\n",
    "        self.l3 = Dense(action_dim, name=\"L3\")\n",
    "\n",
    "        self.max_action = max_action\n",
    "\n",
    "        with tf.device(\"/cpu:0\"):\n",
    "            self(tf.constant(np.zeros(shape=(1,)+state_shape, dtype=np.float32)))\n",
    "\n",
    "    def call(self, inputs):\n",
    "        features = tf.nn.relu(self.l1(inputs))\n",
    "        features = tf.nn.relu(self.l2(features))\n",
    "        features = self.l3(features)\n",
    "        action = self.max_action * tf.nn.tanh(features)\n",
    "        return action\n",
    "    \n",
    "class Critic(tf.keras.Model):\n",
    "    def __init__(self, state_shape, action_dim, units=[400, 300], name=\"Critic\"):\n",
    "        super().__init__(name=name)\n",
    "\n",
    "        self.l1 = Dense(units[0], name=\"L1\")\n",
    "        self.l2 = Dense(units[1], name=\"L2\")\n",
    "        self.l3 = Dense(1, name=\"L3\")\n",
    "\n",
    "        dummy_state = tf.constant(\n",
    "            np.zeros(shape=(1,)+state_shape, dtype=np.float32))\n",
    "        dummy_action = tf.constant(\n",
    "            np.zeros(shape=[1, action_dim], dtype=np.float32))\n",
    "        with tf.device(\"/cpu:0\"):\n",
    "            self([dummy_state, dummy_action])\n",
    "\n",
    "    def call(self, inputs):\n",
    "        states, actions = inputs\n",
    "        features = tf.concat([states, actions], axis=1)\n",
    "        features = tf.nn.relu(self.l1(features))\n",
    "        features = tf.nn.relu(self.l2(features))\n",
    "        features = self.l3(features)\n",
    "        return features\n",
    "    \n",
    "def update_towards_net2(net1,net2,tau=.01):\n",
    "    for source_variable,target_variable in zip(net1.trainable_variables, net2.trainable_variables):\n",
    "        source_variable.assign(tau*source_variable + (1.0 - tau)*target_variable)\n",
    "    return"
   ]
  },
  {
   "cell_type": "code",
   "execution_count": 3,
   "metadata": {},
   "outputs": [],
   "source": [
    "critic = Actor((1,),1,1)"
   ]
  },
  {
   "cell_type": "code",
   "execution_count": 10,
   "metadata": {},
   "outputs": [
    {
     "data": {
      "text/plain": [
       "<tf.Tensor: id=367, shape=(1, 1, 1), dtype=float32, numpy=array([[[0.01983018]]], dtype=float32)>"
      ]
     },
     "execution_count": 10,
     "metadata": {},
     "output_type": "execute_result"
    }
   ],
   "source": [
    "critic(np.array([[[2.]]]))"
   ]
  },
  {
   "cell_type": "code",
   "execution_count": null,
   "metadata": {},
   "outputs": [],
   "source": []
  },
  {
   "cell_type": "code",
   "execution_count": null,
   "metadata": {},
   "outputs": [],
   "source": []
  },
  {
   "cell_type": "code",
   "execution_count": 12,
   "metadata": {},
   "outputs": [],
   "source": [
    "f = []\n",
    "for i in range(40):\n",
    "    f.append([[[np.random.random()]]])\n",
    "actions = np.array(f)"
   ]
  },
  {
   "cell_type": "code",
   "execution_count": 16,
   "metadata": {},
   "outputs": [
    {
     "name": "stdout",
     "output_type": "stream",
     "text": [
      "[0.00121733]\n",
      "[0.00135996]\n",
      "[0.00985319]\n",
      "[0.00122663]\n",
      "[0.0044041]\n",
      "[0.00521271]\n",
      "[0.00491943]\n",
      "[0.0078315]\n",
      "[0.0001586]\n",
      "[0.00145058]\n",
      "[0.00882651]\n",
      "[0.0026566]\n",
      "[0.00119674]\n",
      "[0.00089821]\n",
      "[0.00391003]\n",
      "[0.00539965]\n",
      "[0.00601971]\n",
      "[0.00272013]\n",
      "[0.00940686]\n",
      "[0.00375981]\n",
      "[0.00777483]\n",
      "[0.0069843]\n",
      "[0.00609641]\n",
      "[0.00193624]\n",
      "[0.00027401]\n",
      "[0.00942813]\n",
      "[0.0011277]\n",
      "[0.00096804]\n",
      "[0.00887218]\n",
      "[0.00391494]\n",
      "[0.00735118]\n",
      "[0.00219783]\n",
      "[0.00622189]\n",
      "[0.0089083]\n",
      "[0.00790127]\n",
      "[0.00743638]\n",
      "[0.00200745]\n",
      "[0.00923134]\n",
      "[0.00386242]\n",
      "[0.00958476]\n"
     ]
    }
   ],
   "source": [
    "for i in critic(actions).numpy():\n",
    "    print(i.flatten())"
   ]
  },
  {
   "cell_type": "code",
   "execution_count": null,
   "metadata": {},
   "outputs": [],
   "source": []
  }
 ],
 "metadata": {
  "kernelspec": {
   "display_name": "Python 3",
   "language": "python",
   "name": "python3"
  },
  "language_info": {
   "codemirror_mode": {
    "name": "ipython",
    "version": 3
   },
   "file_extension": ".py",
   "mimetype": "text/x-python",
   "name": "python",
   "nbconvert_exporter": "python",
   "pygments_lexer": "ipython3",
   "version": "3.6.8"
  }
 },
 "nbformat": 4,
 "nbformat_minor": 2
}
