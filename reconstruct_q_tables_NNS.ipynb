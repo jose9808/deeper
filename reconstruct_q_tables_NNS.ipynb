{
 "cells": [
  {
   "cell_type": "code",
   "execution_count": 13,
   "metadata": {},
   "outputs": [],
   "source": [
    "import tensorflow as tf\n",
    "import numpy as np\n",
    "from memory import Memory\n",
    "from basics import Basics\n",
    "from tqdm import tqdm\n",
    "\n",
    "\n",
    "from networks_kennedy import QN_l1, QN_guess_kennedy\n",
    "import give_probability_kennedy\n",
    "\n",
    "\n",
    "\n",
    "\n",
    "basics = Basics(layers=1)\n",
    "basics.define_actions()\n",
    "b =np.load(\"buffer.npy\", allow_pickle=True)\n",
    "buffer = Memory(len(b), load_path=None)\n",
    "for i in range(len(b)):\n",
    "    buffer.add_sample(tuple(b[i]))\n"
   ]
  },
  {
   "cell_type": "code",
   "execution_count": 2,
   "metadata": {},
   "outputs": [],
   "source": [
    "q= np.zeros((2,11,2))\n",
    "n= np.zeros((2,11,2))\n",
    "q0= np.zeros((11))\n",
    "n0= np.zeros((11))\n",
    "\n",
    "qalph= np.zeros((2,11,2))\n",
    "q0alph= np.zeros((11))\n",
    "\n",
    "alpha = 1/buffer.num_samples\n",
    "\n",
    "for v in buffer.samples:\n",
    "    n[tuple([int(v[0]), int(v[2]),int(v[4])])] += 1\n",
    "    nn= n[tuple([int(v[0]), int(v[2]),int(v[4])])]\n",
    "    q[tuple([int(v[0]), int(v[2]),int(v[4])])] =  (1- (1/nn))*q[tuple([int(v[0]), int(v[2]),int(v[4])])] + (v[5])/nn\n",
    "\n",
    "    n0[tuple([int(v[2])])] += 1\n",
    "    nn0= n0[tuple([int(v[2])])] \n",
    "    q0[tuple([int(v[2])])] =  (1- (1/nn0))*q0[tuple([int(v[2])])] + np.max(q[int(v[0]), int(v[2]), :])/nn0\n",
    "    \n",
    "    \n",
    "    qalph[tuple([int(v[0]), int(v[2]),int(v[4])])] =  (1- alpha)*qalph[tuple([int(v[0]), int(v[2]),int(v[4])])] + (v[5])*alpha\n",
    "    q0alph[tuple([int(v[2])])] =  (1- alpha)*q0alph[tuple([int(v[2])])] + np.max(qalph[int(v[0]), int(v[2]), :])*alpha\n"
   ]
  },
  {
   "cell_type": "code",
   "execution_count": 16,
   "metadata": {},
   "outputs": [],
   "source": [
    "tf.keras.backend.set_floatx('float64')"
   ]
  },
  {
   "cell_type": "code",
   "execution_count": 18,
   "metadata": {},
   "outputs": [],
   "source": []
  },
  {
   "cell_type": "code",
   "execution_count": 19,
   "metadata": {},
   "outputs": [],
   "source": [
    "\n",
    "qvalues1 = qn_l1_prim(np.expand_dims(np.array([]), axis=0))\n",
    "qvalues1targ = qn_l1_targ(np.expand_dims(np.array([]), axis=0))\n",
    "qvalueslayerguess_prim = qn_guess_prim(np.expand_dims(np.array([1,-.7]), axis=0))\n",
    "qvalueslayerguess_targ = qn_guess_targ(np.expand_dims(np.array([1,-.7]), axis=0))\n"
   ]
  },
  {
   "cell_type": "code",
   "execution_count": 20,
   "metadata": {},
   "outputs": [
    {
     "data": {
      "text/plain": [
       "1000000"
      ]
     },
     "execution_count": 20,
     "metadata": {},
     "output_type": "execute_result"
    }
   ],
   "source": [
    "buffer.num_samples"
   ]
  },
  {
   "cell_type": "code",
   "execution_count": null,
   "metadata": {},
   "outputs": [],
   "source": []
  },
  {
   "cell_type": "code",
   "execution_count": 21,
   "metadata": {},
   "outputs": [
    {
     "data": {
      "text/plain": [
       "<tf.Tensor: shape=(1, 11), dtype=float64, numpy=\n",
       "array([[0.        , 0.0851733 , 0.        , 0.02103042, 0.46062079,\n",
       "        0.        , 0.        , 0.        , 0.05550656, 0.4593089 ,\n",
       "        0.        ]])>"
      ]
     },
     "execution_count": 21,
     "metadata": {},
     "output_type": "execute_result"
    }
   ],
   "source": [
    "qvalues1"
   ]
  },
  {
   "cell_type": "code",
   "execution_count": 33,
   "metadata": {},
   "outputs": [
    {
     "name": "stderr",
     "output_type": "stream",
     "text": [
      "\n",
      "\n",
      "  0%|          | 0/100 [00:00<?, ?it/s]\u001b[A\u001b[A"
     ]
    },
    {
     "ename": "KeyboardInterrupt",
     "evalue": "",
     "output_type": "error",
     "traceback": [
      "\u001b[0;31m---------------------------------------------------------------\u001b[0m",
      "\u001b[0;31mKeyboardInterrupt\u001b[0m             Traceback (most recent call last)",
      "\u001b[0;32m<ipython-input-33-9cca2075de38>\u001b[0m in \u001b[0;36m<module>\u001b[0;34m()\u001b[0m\n\u001b[1;32m     72\u001b[0m \u001b[0;34m\u001b[0m\u001b[0m\n\u001b[1;32m     73\u001b[0m         \u001b[0;32mfor\u001b[0m \u001b[0mt\u001b[0m\u001b[0;34m,\u001b[0m \u001b[0me\u001b[0m \u001b[0;32min\u001b[0m \u001b[0mzip\u001b[0m\u001b[0;34m(\u001b[0m\u001b[0mqn_guess_targ\u001b[0m\u001b[0;34m.\u001b[0m\u001b[0mtrainable_variables\u001b[0m\u001b[0;34m,\u001b[0m \u001b[0mqn_guess_prim\u001b[0m\u001b[0;34m.\u001b[0m\u001b[0mtrainable_variables\u001b[0m\u001b[0;34m)\u001b[0m\u001b[0;34m:\u001b[0m\u001b[0;34m\u001b[0m\u001b[0;34m\u001b[0m\u001b[0m\n\u001b[0;32m---> 74\u001b[0;31m             \u001b[0mt\u001b[0m\u001b[0;34m.\u001b[0m\u001b[0massign\u001b[0m\u001b[0;34m(\u001b[0m\u001b[0mt\u001b[0m\u001b[0;34m*\u001b[0m\u001b[0;34m(\u001b[0m\u001b[0;36m1\u001b[0m\u001b[0;34m-\u001b[0m\u001b[0mTAU\u001b[0m\u001b[0;34m)\u001b[0m \u001b[0;34m+\u001b[0m \u001b[0me\u001b[0m\u001b[0;34m*\u001b[0m\u001b[0mTAU\u001b[0m\u001b[0;34m)\u001b[0m\u001b[0;34m\u001b[0m\u001b[0;34m\u001b[0m\u001b[0m\n\u001b[0m\u001b[1;32m     75\u001b[0m         \u001b[0mtime\u001b[0m\u001b[0;34m+=\u001b[0m\u001b[0;36m10\u001b[0m\u001b[0;34m\u001b[0m\u001b[0;34m\u001b[0m\u001b[0m\n\u001b[1;32m     76\u001b[0m         \u001b[0;31m#for opt in optimizers:\u001b[0m\u001b[0;34m\u001b[0m\u001b[0;34m\u001b[0m\u001b[0;34m\u001b[0m\u001b[0m\n",
      "\u001b[0;32m/home/cooper-cooper/.local/lib/python3.6/site-packages/tensorflow_core/python/ops/resource_variable_ops.py\u001b[0m in \u001b[0;36massign\u001b[0;34m(self, value, use_locking, name, read_value)\u001b[0m\n\u001b[1;32m    816\u001b[0m           self.handle, value_tensor, name=name)\n\u001b[1;32m    817\u001b[0m       \u001b[0;32mif\u001b[0m \u001b[0mread_value\u001b[0m\u001b[0;34m:\u001b[0m\u001b[0;34m\u001b[0m\u001b[0;34m\u001b[0m\u001b[0m\n\u001b[0;32m--> 818\u001b[0;31m         \u001b[0;32mreturn\u001b[0m \u001b[0mself\u001b[0m\u001b[0;34m.\u001b[0m\u001b[0m_lazy_read\u001b[0m\u001b[0;34m(\u001b[0m\u001b[0massign_op\u001b[0m\u001b[0;34m)\u001b[0m\u001b[0;34m\u001b[0m\u001b[0;34m\u001b[0m\u001b[0m\n\u001b[0m\u001b[1;32m    819\u001b[0m     \u001b[0;32mreturn\u001b[0m \u001b[0massign_op\u001b[0m\u001b[0;34m\u001b[0m\u001b[0;34m\u001b[0m\u001b[0m\n\u001b[1;32m    820\u001b[0m \u001b[0;34m\u001b[0m\u001b[0m\n",
      "\u001b[0;32m/home/cooper-cooper/.local/lib/python3.6/site-packages/tensorflow_core/python/ops/resource_variable_ops.py\u001b[0m in \u001b[0;36m_lazy_read\u001b[0;34m(self, op)\u001b[0m\n\u001b[1;32m    785\u001b[0m \u001b[0;34m\u001b[0m\u001b[0m\n\u001b[1;32m    786\u001b[0m   \u001b[0;32mdef\u001b[0m \u001b[0m_lazy_read\u001b[0m\u001b[0;34m(\u001b[0m\u001b[0mself\u001b[0m\u001b[0;34m,\u001b[0m \u001b[0mop\u001b[0m\u001b[0;34m)\u001b[0m\u001b[0;34m:\u001b[0m\u001b[0;34m\u001b[0m\u001b[0;34m\u001b[0m\u001b[0m\n\u001b[0;32m--> 787\u001b[0;31m     \u001b[0mvariable_accessed\u001b[0m\u001b[0;34m(\u001b[0m\u001b[0mself\u001b[0m\u001b[0;34m)\u001b[0m\u001b[0;34m\u001b[0m\u001b[0;34m\u001b[0m\u001b[0m\n\u001b[0m\u001b[1;32m    788\u001b[0m     return _UnreadVariable(\n\u001b[1;32m    789\u001b[0m         \u001b[0mhandle\u001b[0m\u001b[0;34m=\u001b[0m\u001b[0mself\u001b[0m\u001b[0;34m.\u001b[0m\u001b[0m_handle\u001b[0m\u001b[0;34m,\u001b[0m \u001b[0mdtype\u001b[0m\u001b[0;34m=\u001b[0m\u001b[0mself\u001b[0m\u001b[0;34m.\u001b[0m\u001b[0mdtype\u001b[0m\u001b[0;34m,\u001b[0m \u001b[0mshape\u001b[0m\u001b[0;34m=\u001b[0m\u001b[0mself\u001b[0m\u001b[0;34m.\u001b[0m\u001b[0m_shape\u001b[0m\u001b[0;34m,\u001b[0m\u001b[0;34m\u001b[0m\u001b[0;34m\u001b[0m\u001b[0m\n",
      "\u001b[0;32m/home/cooper-cooper/.local/lib/python3.6/site-packages/tensorflow_core/python/ops/resource_variable_ops.py\u001b[0m in \u001b[0;36mvariable_accessed\u001b[0;34m(variable)\u001b[0m\n\u001b[1;32m    310\u001b[0m \u001b[0;32mdef\u001b[0m \u001b[0mvariable_accessed\u001b[0m\u001b[0;34m(\u001b[0m\u001b[0mvariable\u001b[0m\u001b[0;34m)\u001b[0m\u001b[0;34m:\u001b[0m\u001b[0;34m\u001b[0m\u001b[0;34m\u001b[0m\u001b[0m\n\u001b[1;32m    311\u001b[0m   \u001b[0;34m\"\"\"Records that `variable` was accessed for the tape and FuncGraph.\"\"\"\u001b[0m\u001b[0;34m\u001b[0m\u001b[0;34m\u001b[0m\u001b[0m\n\u001b[0;32m--> 312\u001b[0;31m   \u001b[0;32mif\u001b[0m \u001b[0mhasattr\u001b[0m\u001b[0;34m(\u001b[0m\u001b[0mops\u001b[0m\u001b[0;34m.\u001b[0m\u001b[0mget_default_graph\u001b[0m\u001b[0;34m(\u001b[0m\u001b[0;34m)\u001b[0m\u001b[0;34m,\u001b[0m \u001b[0;34m\"watch_variable\"\u001b[0m\u001b[0;34m)\u001b[0m\u001b[0;34m:\u001b[0m\u001b[0;34m\u001b[0m\u001b[0;34m\u001b[0m\u001b[0m\n\u001b[0m\u001b[1;32m    313\u001b[0m     \u001b[0mops\u001b[0m\u001b[0;34m.\u001b[0m\u001b[0mget_default_graph\u001b[0m\u001b[0;34m(\u001b[0m\u001b[0;34m)\u001b[0m\u001b[0;34m.\u001b[0m\u001b[0mwatch_variable\u001b[0m\u001b[0;34m(\u001b[0m\u001b[0mvariable\u001b[0m\u001b[0;34m)\u001b[0m\u001b[0;34m\u001b[0m\u001b[0;34m\u001b[0m\u001b[0m\n\u001b[1;32m    314\u001b[0m   \u001b[0;32mif\u001b[0m \u001b[0mvariable\u001b[0m\u001b[0;34m.\u001b[0m\u001b[0mtrainable\u001b[0m\u001b[0;34m:\u001b[0m\u001b[0;34m\u001b[0m\u001b[0;34m\u001b[0m\u001b[0m\n",
      "\u001b[0;31mKeyboardInterrupt\u001b[0m: "
     ]
    }
   ],
   "source": [
    "TAU = 0.1\n",
    "batch_length = int(buffer.num_samples/10**2)\n",
    "optimizers = [tf.keras.optimizers.SGD(lr = 1/buffer.num_samples), tf.keras.optimizers.SGD(lr = 1/buffer.num_samples)]\n",
    "time=1\n",
    "\n",
    "\n",
    "qn_l1_prim = QN_l1(basics.actions[0])\n",
    "qn_l1_targ = QN_l1(basics.actions[0])\n",
    "qn_guess_prim = QN_guess_kennedy(basics.possible_phases)\n",
    "qn_guess_targ = QN_guess_kennedy(basics.possible_phases)\n",
    "\n",
    "\n",
    "\n",
    "for _ in tqdm(range(100)):\n",
    "\n",
    "    batch = buffer.sample(batch_length)\n",
    "\n",
    "\n",
    "    for v in batch:\n",
    "        outcome_1_beta1_batch = np.array([[ int(v[0]), v[1]] for v in batch ] )\n",
    "        labels_beta1 = np.array([int(v[2]) for v in batch])\n",
    "\n",
    "\n",
    "        q_guess_prim = qn_guess_prim(np.expand_dims(outcome_1_beta1_batch, axis=0))\n",
    "        q_guess_prim = np.squeeze(q_guess_prim.numpy())\n",
    "\n",
    "        opt_a_2_prim = np.argmax(q_guess_prim,axis=1)\n",
    "\n",
    "        update_for_q_1_prim = qn_l1_targ(np.expand_dims(np.array([[] for i in range(len(batch))]), axis=0)) #targ = target\n",
    "        update_for_q_1_prim = np.squeeze(update_for_q_1_prim, axis=0)\n",
    "        qlabels_l1 = update_for_q_1_prim.copy()\n",
    "\n",
    "        np.save(\"labelsbeta1\", labels_beta1)\n",
    "        qlabels_l1[np.arange(batch_length), labels_beta1] = np.squeeze(qn_guess_targ(np.expand_dims(outcome_1_beta1_batch, axis=0)).numpy())[np.arange(batch_length),opt_a_2_prim]\n",
    "\n",
    "        optimizer_ql1, optimizer_guess = optimizers\n",
    "\n",
    "        train_vars_in = [ch.numpy() for ch in qn_l1_prim.trainable_variables]\n",
    "\n",
    "        \n",
    "        s_3_batch = np.array([[v[0], v[1] ] for v in batch])\n",
    "        rewards = np.array([v[-1] for v in batch])\n",
    "        labels_guess = np.array([int(v[-2]) for v in batch])\n",
    "\n",
    "        update_for_q_3_prim = qn_guess_targ(np.expand_dims(s_3_batch, axis=0))\n",
    "        update_for_q_3_prim = np.squeeze(update_for_q_3_prim, axis=0)\n",
    "        qlabels_l3 = update_for_q_3_prim.copy()\n",
    "        qlabels_l3[np.arange(batch_length), labels_guess] = rewards[np.arange(batch_length)]\n",
    "        \n",
    "        # print(qlabels_l1)\n",
    "        with tf.device(\"/cpu:0\"):\n",
    "            with tf.GradientTape() as tape:\n",
    "                tape.watch(qn_l1_prim.trainable_variables)\n",
    "                pred_q_1s = qn_l1_prim(np.expand_dims(np.array([[] for i in range(len(batch))]), axis=0))\n",
    "\n",
    "                loss_sum =tf.keras.losses.MSE(pred_q_1s, qlabels_l1)\n",
    "                loss = tf.reduce_mean(loss_sum)\n",
    "                grads = tape.gradient(loss, qn_l1_prim.trainable_variables)\n",
    "                optimizer_ql1.apply_gradients(zip(grads, qn_l1_prim.trainable_variables))\n",
    "\n",
    "            with tf.GradientTape() as tape:\n",
    "                tape.watch(qn_guess_prim.trainable_variables)\n",
    "                pred_q_3s = qn_guess_prim(np.expand_dims(s_3_batch, axis=0))\n",
    "                loss_sum =tf.keras.losses.MSE(pred_q_3s, qlabels_l3)\n",
    "                loss = tf.reduce_mean(loss_sum)\n",
    "                loss_guess = loss\n",
    "                grads = tape.gradient(loss, qn_guess_prim.trainable_variables)\n",
    "                optimizer_guess.apply_gradients(zip(grads, qn_guess_prim.trainable_variables))\n",
    "\n",
    "        for t, e in zip(qn_l1_targ.trainable_variables, qn_l1_prim.trainable_variables):\n",
    "            t.assign(t*(1-TAU) + e*TAU)\n",
    "\n",
    "        for t, e in zip(qn_guess_targ.trainable_variables, qn_guess_prim.trainable_variables):\n",
    "            t.assign(t*(1-TAU) + e*TAU)\n",
    "        time+=10\n",
    "        #for opt in optimizers:\n",
    "         #   opt.learning_rate.value = np.max(0.01, np.exp(-time/100))"
   ]
  },
  {
   "cell_type": "code",
   "execution_count": 40,
   "metadata": {},
   "outputs": [
    {
     "name": "stdout",
     "output_type": "stream",
     "text": [
      "960\n"
     ]
    }
   ],
   "source": [
    "for i in optimizer_guess.get_weights():\n",
    "    print(i)"
   ]
  },
  {
   "cell_type": "code",
   "execution_count": 47,
   "metadata": {},
   "outputs": [
    {
     "ename": "TypeError",
     "evalue": "set_weights() takes 2 positional arguments but 3 were given",
     "output_type": "error",
     "traceback": [
      "\u001b[0;31m---------------------------------------------------------------\u001b[0m",
      "\u001b[0;31mTypeError\u001b[0m                     Traceback (most recent call last)",
      "\u001b[0;32m<ipython-input-47-5bcde1ad5849>\u001b[0m in \u001b[0;36m<module>\u001b[0;34m()\u001b[0m\n\u001b[0;32m----> 1\u001b[0;31m \u001b[0moptimizer_guess\u001b[0m\u001b[0;34m.\u001b[0m\u001b[0mset_weights\u001b[0m\u001b[0;34m(\u001b[0m\u001b[0;34m\"learning_rate\"\u001b[0m\u001b[0;34m,\u001b[0m \u001b[0;36m0.01\u001b[0m\u001b[0;34m)\u001b[0m\u001b[0;34m\u001b[0m\u001b[0;34m\u001b[0m\u001b[0m\n\u001b[0m",
      "\u001b[0;31mTypeError\u001b[0m: set_weights() takes 2 positional arguments but 3 were given"
     ]
    }
   ],
   "source": [
    "optimizer_guess.set_weights(\"learning_rate\" 0.01)"
   ]
  },
  {
   "cell_type": "code",
   "execution_count": 46,
   "metadata": {},
   "outputs": [
    {
     "data": {
      "text/plain": [
       "1e-06"
      ]
     },
     "execution_count": 46,
     "metadata": {},
     "output_type": "execute_result"
    }
   ],
   "source": [
    "optimizer_guess.get_config()[\"learning_rate\"]"
   ]
  },
  {
   "cell_type": "code",
   "execution_count": 45,
   "metadata": {},
   "outputs": [
    {
     "data": {
      "text/plain": [
       "1e-06"
      ]
     },
     "execution_count": 45,
     "metadata": {},
     "output_type": "execute_result"
    }
   ],
   "source": [
    "optimizer_guess.get_config()[\"learning_rate\"]"
   ]
  },
  {
   "cell_type": "code",
   "execution_count": 25,
   "metadata": {},
   "outputs": [],
   "source": [
    "\n",
    "qvalues1 = qn_l1_prim(np.expand_dims(np.array([]), axis=0))\n",
    "qvalues1targ = qn_l1_targ(np.expand_dims(np.array([]), axis=0))\n",
    "qvalueslayerguess_prim = qn_guess_prim(np.expand_dims(np.array([1,-.7]), axis=0))\n",
    "qvalueslayerguess_targ = qn_guess_targ(np.expand_dims(np.array([1,-.7]), axis=0))\n"
   ]
  },
  {
   "cell_type": "code",
   "execution_count": 26,
   "metadata": {},
   "outputs": [
    {
     "data": {
      "text/plain": [
       "<tf.Tensor: shape=(1, 11), dtype=float64, numpy=\n",
       "array([[0.        , 0.09289872, 0.        , 0.02944692, 0.46494426,\n",
       "        0.        , 0.        , 0.        , 0.06340189, 0.46419198,\n",
       "        0.        ]])>"
      ]
     },
     "execution_count": 26,
     "metadata": {},
     "output_type": "execute_result"
    }
   ],
   "source": [
    "qvalues1"
   ]
  },
  {
   "cell_type": "code",
   "execution_count": null,
   "metadata": {},
   "outputs": [],
   "source": []
  },
  {
   "cell_type": "code",
   "execution_count": null,
   "metadata": {},
   "outputs": [],
   "source": []
  },
  {
   "cell_type": "code",
   "execution_count": null,
   "metadata": {},
   "outputs": [],
   "source": []
  }
 ],
 "metadata": {
  "kernelspec": {
   "display_name": "Python 3",
   "language": "python",
   "name": "python3"
  },
  "language_info": {
   "codemirror_mode": {
    "name": "ipython",
    "version": 3
   },
   "file_extension": ".py",
   "mimetype": "text/x-python",
   "name": "python",
   "nbconvert_exporter": "python",
   "pygments_lexer": "ipython3",
   "version": "3.6.8"
  }
 },
 "nbformat": 4,
 "nbformat_minor": 2
}
