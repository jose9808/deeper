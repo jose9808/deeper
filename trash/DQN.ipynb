{
 "cells": [
  {
   "cell_type": "markdown",
   "metadata": {},
   "source": [
    "#### Double DQN with proioritized memory in Tensorflow 2.0"
   ]
  },
  {
   "cell_type": "code",
   "execution_count": 27,
   "metadata": {},
   "outputs": [],
   "source": [
    "import gym\n",
    "import time\n",
    "import tensorflow as tf\n",
    "import numpy as np\n",
    "import logging\n",
    "\n",
    "from collections import deque, OrderedDict\n",
    "from ipypb import track\n",
    "from copy import copy"
   ]
  },
  {
   "cell_type": "code",
   "execution_count": 28,
   "metadata": {},
   "outputs": [],
   "source": [
    "import matplotlib.pyplot as plt\n",
    "import matplotlib\n",
    "\n",
    "from IPython import display\n",
    "\n",
    "%matplotlib inline"
   ]
  },
  {
   "cell_type": "code",
   "execution_count": 29,
   "metadata": {},
   "outputs": [],
   "source": [
    "try:\n",
    "    try:\n",
    "        gpu = tf.config.experimental.list_physical_devices('GPU')[0]\n",
    "        tf.config.experimental.set_memory_growth(gpu, True)\n",
    "    except RuntimeError as error:\n",
    "        print('This config has already been invoked. Error message:')\n",
    "        print(error)\n",
    "except Exception:\n",
    "    pass"
   ]
  },
  {
   "cell_type": "code",
   "execution_count": 30,
   "metadata": {},
   "outputs": [],
   "source": [
    "env = gym.make('MsPacman-v0')\n",
    "actions_n = env.action_space.n"
   ]
  },
  {
   "cell_type": "code",
   "execution_count": 31,
   "metadata": {},
   "outputs": [],
   "source": [
    "class QNet(tf.keras.Model):\n",
    "    \n",
    "    def __init__(self, actions_n):\n",
    "        super(QNet, self).__init__()\n",
    "        kinit = tf.keras.initializers.VarianceScaling()\n",
    "        self.conv1 = tf.keras.layers.Conv2D(32, (8, 8), 4, 'same', kernel_initializer=kinit)\n",
    "        self.conv2 = tf.keras.layers.Conv2D(64, (4, 4), 2, 'same', kernel_initializer=kinit)\n",
    "        self.conv3 = tf.keras.layers.Conv2D(64, (3, 3), 1, 'same', kernel_initializer=kinit)\n",
    "        self.flat = tf.keras.layers.Flatten()\n",
    "        self.dense1 = tf.keras.layers.Dense(256, kernel_initializer=kinit)\n",
    "        self.dense2 = tf.keras.layers.Dense(actions_n, kernel_initializer=kinit)\n",
    "        \n",
    "    def call(self, observation):\n",
    "        x = self.conv1(observation)\n",
    "        x = self.conv2(x)\n",
    "        x = self.conv3(x)\n",
    "        x = self.flat(x)\n",
    "        x = self.dense1(x)\n",
    "        x = self.dense2(x)\n",
    "        return x\n",
    "\n",
    "optimizer = tf.keras.optimizers.Adam(lr=0.0025)\n",
    "mse = tf.keras.losses.MeanSquaredError()"
   ]
  },
  {
   "cell_type": "code",
   "execution_count": 32,
   "metadata": {},
   "outputs": [],
   "source": [
    "### Implement probability here\n",
    "class Memory:\n",
    "\n",
    "    def __init__(self, _max=10, batch_size=2, epsilon=1e-4, alpha=0.7):\n",
    "        self._max = _max\n",
    "        self.td_errors = [0 for _ in range(_max)]\n",
    "        self.memories = [0 for _ in range(_max)]\n",
    "        self.batch_size = batch_size\n",
    "        self.epislon = epsilon\n",
    "        self.alpha = alpha\n",
    "\n",
    "    def add_memory(self, td_error, memory):\n",
    "        if self.td_errors[0] < td_error:\n",
    "            self.td_errors[0] = td_error\n",
    "            self.memories[0] = memory\n",
    "            self.__sort()\n",
    "\n",
    "    def update_memories(self, td_errors):\n",
    "        self.td_errors[-self.batch_size:] = td_errors\n",
    "        self.__sort()\n",
    "\n",
    "    def get_memories(self):\n",
    "        perm = np.random.permutation(self._max)[:self.batch_size]\n",
    "        mem = np.array(self.memories)[perm]\n",
    "        obs = np.concatenate(mem[:,0])\n",
    "        obs_n = np.concatenate(mem[:,2])\n",
    "        return obs, mem[:,1], obs_n, mem[:,3], mem[:,4]\n",
    "    \n",
    "    def refresh(self):\n",
    "        self.td_errors = [0 for _ in range(self._max)]\n",
    "        self.memories = [0 for _ in range(self._max)]\n",
    "\n",
    "    def __sort(self):\n",
    "        zipped = sorted(zip(self.td_errors, self.memories), key=lambda x:x[0])\n",
    "        self.memories = [x for _, x in zipped]\n",
    "        self.td_errors = sorted(self.td_errors)"
   ]
  },
  {
   "cell_type": "code",
   "execution_count": 33,
   "metadata": {},
   "outputs": [],
   "source": [
    "color = np.array([210, 164, 74]).mean()\n",
    "\n",
    "def preprocess(image):\n",
    "    image = image[1:172:2,::2]\n",
    "    image = image.mean(axis=-1)\n",
    "    image[image==color] = 0\n",
    "    image = (image-128)/(128) \n",
    "    image = image[np.newaxis,:,:,np.newaxis]\n",
    "    return image\n",
    "\n",
    "def epsilon_greedy(action, step):\n",
    "    epsilon = max(EPS_MIN, EPS_MAX - (EPS_MAX-EPS_MIN) * step/EPS_STEPS)\n",
    "    if np.random.uniform(0, 1) < epsilon:\n",
    "        return np.random.randint(actions_n)\n",
    "    else:\n",
    "        return action\n",
    "    \n",
    "def pick_best_q(next_qs, best_next_a):\n",
    "    if isinstance(best_next_a, int):\n",
    "        return next_qs[:,best_next_a]\n",
    "    else:\n",
    "        best_next_a = best_next_a.astype('int32')\n",
    "        best_next_a_en = np.zeros((len(best_next_a), actions_n))\n",
    "        best_next_a_en[np.arange(len(best_next_a)), best_next_a] = 1\n",
    "        return (next_qs * best_next_a_en).sum(axis=-1)\n",
    "\n",
    "def sample_memories():\n",
    "    perm = np.random.permutation(len(exp_buffer))[:BATCH_SIZE]\n",
    "    mem = np.array(exp_buffer)[perm]\n",
    "    obs = np.concatenate(mem[:,0])\n",
    "    obs_n = np.concatenate(mem[:,2])\n",
    "    return obs, mem[:,1], obs_n, mem[:,3], mem[:,4]\n",
    "\n",
    "def play_pacman(render_jupyter=True):\n",
    "    done = False\n",
    "    observation = env.reset()\n",
    "    if render_jupyter:\n",
    "        img = plt.imshow(env.render(mode='rgb_array'))\n",
    "    while not done:\n",
    "        if render_jupyter:\n",
    "            img.set_data(env.render(mode='rgb_array'))\n",
    "            display.display(plt.gcf())\n",
    "            display.clear_output(wait=True)\n",
    "        else:\n",
    "            env.render()\n",
    "            time.sleep(0.020)\n",
    "        observation = preprocess(observation)\n",
    "        action = main_q(observation).numpy().argmax(axis=-1)\n",
    "        action = epsilon_greedy(action, np.inf)\n",
    "        observation, _, done, _ = env.step(action)\n",
    "    env.close()"
   ]
  },
  {
   "cell_type": "code",
   "execution_count": 34,
   "metadata": {},
   "outputs": [],
   "source": [
    "@tf.function\n",
    "def train_network(obs, rewards, actions):\n",
    "    actions = tf.dtypes.cast(tf.one_hot(actions, actions_n), dtype='float64') #esto te da matriz len(actions_n)*deptphth     with tf.GradientTape() as tape:\n",
    "    all_qs = main_q(obs)\n",
    "    q_act = tf.squeeze(tf.reduce_sum(all_qs*actions, axis=-1, keepdims=True), axis=-1)\n",
    "    loss = mse(rewards, q_act)\n",
    "    gradients = tape.gradient(loss, main_q.trainable_variables)\n",
    "    optimizer.apply_gradients(zip(gradients, main_q.trainable_variables))"
   ]
  },
  {
   "cell_type": "code",
   "execution_count": 35,
   "metadata": {},
   "outputs": [],
   "source": [
    "EPISODES = 800\n",
    "GAMMA = 0.97\n",
    "START_STEP = 1000\n",
    "COPY_STEP = 100\n",
    "TRAIN_STEP = 4\n",
    "\n",
    "MEM_LEN = 20000\n",
    "BATCH_SIZE = 48\n",
    "\n",
    "EPS_MIN = 0.05\n",
    "EPS_MAX = 1\n",
    "EPS_STEPS = 500000\n",
    "\n",
    "global_step = 0\n",
    "\n",
    "exp_buffer = deque(maxlen=MEM_LEN)\n",
    "\n",
    "main_q = QNet(actions_n)\n",
    "target_q = QNet(actions_n)"
   ]
  },
  {
   "cell_type": "code",
   "execution_count": 36,
   "metadata": {},
   "outputs": [
    {
     "ename": "AttributeError",
     "evalue": "'super' object has no attribute '__iter__'",
     "output_type": "error",
     "traceback": [
      "\u001b[0;31m---------------------------------------------------------------------------\u001b[0m",
      "\u001b[0;31mAttributeError\u001b[0m                            Traceback (most recent call last)",
      "\u001b[0;32m<ipython-input-36-25629ef1763c>\u001b[0m in \u001b[0;36m<module>\u001b[0;34m()\u001b[0m\n\u001b[0;32m----> 1\u001b[0;31m \u001b[0;32mfor\u001b[0m \u001b[0m_\u001b[0m \u001b[0;32min\u001b[0m \u001b[0mtrack\u001b[0m\u001b[0;34m(\u001b[0m\u001b[0mrange\u001b[0m\u001b[0;34m(\u001b[0m\u001b[0mEPISODES\u001b[0m\u001b[0;34m)\u001b[0m\u001b[0;34m)\u001b[0m\u001b[0;34m:\u001b[0m\u001b[0;34m\u001b[0m\u001b[0;34m\u001b[0m\u001b[0m\n\u001b[0m\u001b[1;32m      2\u001b[0m \u001b[0;34m\u001b[0m\u001b[0m\n\u001b[1;32m      3\u001b[0m     \u001b[0mdone\u001b[0m \u001b[0;34m=\u001b[0m \u001b[0;32mFalse\u001b[0m\u001b[0;34m\u001b[0m\u001b[0;34m\u001b[0m\u001b[0m\n\u001b[1;32m      4\u001b[0m     \u001b[0mobservation\u001b[0m \u001b[0;34m=\u001b[0m \u001b[0menv\u001b[0m\u001b[0;34m.\u001b[0m\u001b[0mreset\u001b[0m\u001b[0;34m(\u001b[0m\u001b[0;34m)\u001b[0m\u001b[0;34m\u001b[0m\u001b[0;34m\u001b[0m\u001b[0m\n\u001b[1;32m      5\u001b[0m     \u001b[0mepisodic_reward\u001b[0m \u001b[0;34m=\u001b[0m \u001b[0;36m0\u001b[0m\u001b[0;34m\u001b[0m\u001b[0;34m\u001b[0m\u001b[0m\n",
      "\u001b[0;32m/home/cooper-cooper/.local/lib/python3.6/site-packages/ipypb/progressbar.py\u001b[0m in \u001b[0;36m__iter__\u001b[0;34m(self)\u001b[0m\n\u001b[1;32m    195\u001b[0m         \u001b[0;32melse\u001b[0m\u001b[0;34m:\u001b[0m\u001b[0;34m\u001b[0m\u001b[0;34m\u001b[0m\u001b[0m\n\u001b[1;32m    196\u001b[0m             \u001b[0mself\u001b[0m\u001b[0;34m.\u001b[0m\u001b[0mcarriage_moveup\u001b[0m \u001b[0;34m=\u001b[0m \u001b[0;36m0\u001b[0m \u001b[0;31m# allow end='\\n' in print function\u001b[0m\u001b[0;34m\u001b[0m\u001b[0;34m\u001b[0m\u001b[0m\n\u001b[0;32m--> 197\u001b[0;31m             \u001b[0msuper\u001b[0m\u001b[0;34m(\u001b[0m\u001b[0;34m)\u001b[0m\u001b[0;34m.\u001b[0m\u001b[0m__iter__\u001b[0m\u001b[0;34m(\u001b[0m\u001b[0;34m)\u001b[0m \u001b[0;31m# also initializes display area for progressbar\u001b[0m\u001b[0;34m\u001b[0m\u001b[0;34m\u001b[0m\u001b[0m\n\u001b[0m\u001b[1;32m    198\u001b[0m             \u001b[0mself\u001b[0m\u001b[0;34m.\u001b[0m\u001b[0mlast_updated\u001b[0m \u001b[0;34m=\u001b[0m \u001b[0mtimer\u001b[0m\u001b[0;34m(\u001b[0m\u001b[0;34m)\u001b[0m\u001b[0;34m\u001b[0m\u001b[0;34m\u001b[0m\u001b[0m\n\u001b[1;32m    199\u001b[0m         \u001b[0mself\u001b[0m\u001b[0;34m.\u001b[0m\u001b[0miterator\u001b[0m \u001b[0;34m=\u001b[0m \u001b[0miter\u001b[0m\u001b[0;34m(\u001b[0m\u001b[0mself\u001b[0m\u001b[0;34m.\u001b[0m\u001b[0miterable\u001b[0m\u001b[0;34m)\u001b[0m\u001b[0;34m\u001b[0m\u001b[0;34m\u001b[0m\u001b[0m\n",
      "\u001b[0;31mAttributeError\u001b[0m: 'super' object has no attribute '__iter__'"
     ]
    }
   ],
   "source": [
    "for _ in track(range(EPISODES)):\n",
    "\n",
    "    done = False\n",
    "    observation = env.reset()\n",
    "    episodic_reward = 0\n",
    "    \n",
    "    while not done:\n",
    "\n",
    "        observation = preprocess(observation)\n",
    "        best_action = main_q(observation).numpy().argmax(axis=-1)\n",
    "        action = epsilon_greedy(best_action, global_step)\n",
    "\n",
    "        observation_n, reward, done, _ = env.step(action)\n",
    "        exp_buffer.append([observation, action, preprocess(observation_n), reward, done])\n",
    "\n",
    "        if (global_step % TRAIN_STEP) == 0 and (global_step > START_STEP):\n",
    "\n",
    "            t_observation, t_action, t_observation_n, t_reward, t_done = sample_memories()\n",
    "            \n",
    "            best_next_a = main_q(t_observation_n).numpy().argmax(axis=-1)\n",
    "            next_qs = target_q(t_observation_n).numpy()\n",
    "            best_next_q = pick_best_q(next_qs, best_next_a)\n",
    "            \n",
    "            rewards = np.expand_dims(t_reward + GAMMA*best_next_q*(1-t_done), axis=-1).astype('float32')\n",
    "            \n",
    "            train_network(t_observation, rewards, t_action.astype('int32'))\n",
    "            \n",
    "        if ((global_step+1) % COPY_STEP) == 0 and (global_step > START_STEP):\n",
    "            target_q = copy(main_q)\n",
    "        \n",
    "        observation = observation_n\n",
    "        episodic_reward += reward\n",
    "        global_step += 1\n",
    "    \n",
    "    print('Episodic reward: '+str(episodic_reward)+'. On global step: '+str(global_step)+'. Epsilon: '+str(max(EPS_MIN, EPS_MAX - (EPS_MAX-EPS_MIN) * global_step/EPS_STEPS)))"
   ]
  },
  {
   "cell_type": "code",
   "execution_count": 37,
   "metadata": {},
   "outputs": [
    {
     "data": {
      "image/png": "[encoded data removed]",
      "text/plain": [
       "<Figure size 432x288 with 1 Axes>"
      ]
     },
     "metadata": {},
     "output_type": "display_data"
    }
   ],
   "source": [
    "play_pacman()"
   ]
  },
  {
   "cell_type": "code",
   "execution_count": null,
   "metadata": {},
   "outputs": [],
   "source": []
  },
  {
   "cell_type": "code",
   "execution_count": null,
   "metadata": {},
   "outputs": [],
   "source": []
  }
 ],
 "metadata": {
  "kernelspec": {
   "display_name": "Python 3",
   "language": "python",
   "name": "python3"
  },
  "language_info": {
   "codemirror_mode": {
    "name": "ipython",
    "version": 3
   },
   "file_extension": ".py",
   "mimetype": "text/x-python",
   "name": "python",
   "nbconvert_exporter": "python",
   "pygments_lexer": "ipython3",
   "version": "3.6.8"
  }
 },
 "nbformat": 4,
 "nbformat_minor": 2
}
