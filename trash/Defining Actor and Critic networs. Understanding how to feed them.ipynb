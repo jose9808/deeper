{
 "cells": [
  {
   "cell_type": "code",
   "execution_count": 1,
   "metadata": {},
   "outputs": [],
   "source": [
    "import numpy as np\n",
    "import tensorflow as tf\n",
    "from tensorflow.keras.layers import Dense\n",
    "\n",
    "\n",
    "class Critic(tf.keras.Model):\n",
    "    def __init__(self, layer=0):\n",
    "        super(Critic,self).__init__()\n",
    "        self.l1 = Dense(2, input_shape=(1,), kernel_initializer='random_uniform',\n",
    "                bias_initializer='random_uniform')\n",
    "        self.l2 = Dense(2, kernel_initializer='random_uniform',\n",
    "                bias_initializer='random_uniform')\n",
    "        self.l3 = Dense(1, kernel_initializer='random_uniform',\n",
    "                bias_initializer='random_uniform')\n",
    "        \n",
    "    def call(self, input):\n",
    "        state, action = input\n",
    "        features = tf.concat([state, action], axis=1)\n",
    "        feat = tf.nn.relu(self.l1(features))\n",
    "        feat = tf.nn.relu(self.l2(feat))\n",
    "        value = self.l3(feat)\n",
    "        return tf.nn.tanh(value)*2 #Tanh image is [-1,1]\n",
    "    "
   ]
  },
  {
   "cell_type": "markdown",
   "metadata": {},
   "source": [
    "You can pass the data as numpy arrays, or just lists..."
   ]
  },
  {
   "cell_type": "code",
   "execution_count": 5,
   "metadata": {},
   "outputs": [
    {
     "name": "stderr",
     "output_type": "stream",
     "text": [
      "W1002 17:40:36.665384 140376949892928 base_layer.py:1814] Layer critic_2 is casting an input tensor from dtype float64 to the layer's dtype of float32, which is new behavior in TensorFlow 2.  The layer has dtype float32 because it's dtype defaults to floatx.\n",
      "\n",
      "If you intended to run this layer in float32, you can safely ignore this warning. If in doubt, this warning is likely only an issue if you are porting a TensorFlow 1.X model to TensorFlow 2.\n",
      "\n",
      "To change all layers to have dtype float64 by default, call `tf.keras.backend.set_floatx('float64')`. To change just this layer, pass dtype='float64' to the layer constructor. If you are the author of this layer, you can disable autocasting by passing autocast=False to the base Layer constructor.\n",
      "\n"
     ]
    },
    {
     "name": "stdout",
     "output_type": "stream",
     "text": [
      "tf.Tensor(\n",
      "[[-0.01764066]\n",
      " [-0.01764405]], shape=(2, 1), dtype=float32)\n",
      "tf.Tensor(\n",
      "[[-0.01757287]\n",
      " [-0.017393  ]], shape=(2, 1), dtype=float32)\n"
     ]
    }
   ],
   "source": [
    "cc = Critic()\n",
    "\n",
    "inps = [[np.array([1.]), np.array([1.])],[np.array([2.]), np.array([1.])]]\n",
    "print(cc(inps))\n",
    "\n",
    "inps = [[[1.], [3.22]],[[22.],[33.]]]\n",
    "print(cc(inps))"
   ]
  },
  {
   "cell_type": "code",
   "execution_count": 14,
   "metadata": {},
   "outputs": [
    {
     "name": "stderr",
     "output_type": "stream",
     "text": [
      "W1002 17:42:57.859688 140376949892928 base_layer.py:1814] Layer critic_10 is casting an input tensor from dtype float64 to the layer's dtype of float32, which is new behavior in TensorFlow 2.  The layer has dtype float32 because it's dtype defaults to floatx.\n",
      "\n",
      "If you intended to run this layer in float32, you can safely ignore this warning. If in doubt, this warning is likely only an issue if you are porting a TensorFlow 1.X model to TensorFlow 2.\n",
      "\n",
      "To change all layers to have dtype float64 by default, call `tf.keras.backend.set_floatx('float64')`. To change just this layer, pass dtype='float64' to the layer constructor. If you are the author of this layer, you can disable autocasting by passing autocast=False to the base Layer constructor.\n",
      "\n",
      "W1002 17:42:57.884035 140376949892928 base_layer.py:1814] Layer critic_11 is casting an input tensor from dtype float64 to the layer's dtype of float32, which is new behavior in TensorFlow 2.  The layer has dtype float32 because it's dtype defaults to floatx.\n",
      "\n",
      "If you intended to run this layer in float32, you can safely ignore this warning. If in doubt, this warning is likely only an issue if you are porting a TensorFlow 1.X model to TensorFlow 2.\n",
      "\n",
      "To change all layers to have dtype float64 by default, call `tf.keras.backend.set_floatx('float64')`. To change just this layer, pass dtype='float64' to the layer constructor. If you are the author of this layer, you can disable autocasting by passing autocast=False to the base Layer constructor.\n",
      "\n",
      "W1002 17:42:57.904406 140376949892928 base_layer.py:1814] Layer critic_12 is casting an input tensor from dtype float64 to the layer's dtype of float32, which is new behavior in TensorFlow 2.  The layer has dtype float32 because it's dtype defaults to floatx.\n",
      "\n",
      "If you intended to run this layer in float32, you can safely ignore this warning. If in doubt, this warning is likely only an issue if you are porting a TensorFlow 1.X model to TensorFlow 2.\n",
      "\n",
      "To change all layers to have dtype float64 by default, call `tf.keras.backend.set_floatx('float64')`. To change just this layer, pass dtype='float64' to the layer constructor. If you are the author of this layer, you can disable autocasting by passing autocast=False to the base Layer constructor.\n",
      "\n",
      "W1002 17:42:57.921041 140376949892928 base_layer.py:1814] Layer critic_13 is casting an input tensor from dtype float64 to the layer's dtype of float32, which is new behavior in TensorFlow 2.  The layer has dtype float32 because it's dtype defaults to floatx.\n",
      "\n",
      "If you intended to run this layer in float32, you can safely ignore this warning. If in doubt, this warning is likely only an issue if you are porting a TensorFlow 1.X model to TensorFlow 2.\n",
      "\n",
      "To change all layers to have dtype float64 by default, call `tf.keras.backend.set_floatx('float64')`. To change just this layer, pass dtype='float64' to the layer constructor. If you are the author of this layer, you can disable autocasting by passing autocast=False to the base Layer constructor.\n",
      "\n",
      "W1002 17:42:57.938512 140376949892928 base_layer.py:1814] Layer critic_14 is casting an input tensor from dtype float64 to the layer's dtype of float32, which is new behavior in TensorFlow 2.  The layer has dtype float32 because it's dtype defaults to floatx.\n",
      "\n",
      "If you intended to run this layer in float32, you can safely ignore this warning. If in doubt, this warning is likely only an issue if you are porting a TensorFlow 1.X model to TensorFlow 2.\n",
      "\n",
      "To change all layers to have dtype float64 by default, call `tf.keras.backend.set_floatx('float64')`. To change just this layer, pass dtype='float64' to the layer constructor. If you are the author of this layer, you can disable autocasting by passing autocast=False to the base Layer constructor.\n",
      "\n",
      "W1002 17:42:57.957957 140376949892928 base_layer.py:1814] Layer critic_15 is casting an input tensor from dtype float64 to the layer's dtype of float32, which is new behavior in TensorFlow 2.  The layer has dtype float32 because it's dtype defaults to floatx.\n",
      "\n",
      "If you intended to run this layer in float32, you can safely ignore this warning. If in doubt, this warning is likely only an issue if you are porting a TensorFlow 1.X model to TensorFlow 2.\n",
      "\n",
      "To change all layers to have dtype float64 by default, call `tf.keras.backend.set_floatx('float64')`. To change just this layer, pass dtype='float64' to the layer constructor. If you are the author of this layer, you can disable autocasting by passing autocast=False to the base Layer constructor.\n",
      "\n",
      "W1002 17:42:57.978363 140376949892928 base_layer.py:1814] Layer critic_16 is casting an input tensor from dtype float64 to the layer's dtype of float32, which is new behavior in TensorFlow 2.  The layer has dtype float32 because it's dtype defaults to floatx.\n",
      "\n",
      "If you intended to run this layer in float32, you can safely ignore this warning. If in doubt, this warning is likely only an issue if you are porting a TensorFlow 1.X model to TensorFlow 2.\n",
      "\n",
      "To change all layers to have dtype float64 by default, call `tf.keras.backend.set_floatx('float64')`. To change just this layer, pass dtype='float64' to the layer constructor. If you are the author of this layer, you can disable autocasting by passing autocast=False to the base Layer constructor.\n",
      "\n",
      "W1002 17:42:57.999814 140376949892928 base_layer.py:1814] Layer critic_17 is casting an input tensor from dtype float64 to the layer's dtype of float32, which is new behavior in TensorFlow 2.  The layer has dtype float32 because it's dtype defaults to floatx.\n",
      "\n",
      "If you intended to run this layer in float32, you can safely ignore this warning. If in doubt, this warning is likely only an issue if you are porting a TensorFlow 1.X model to TensorFlow 2.\n",
      "\n",
      "To change all layers to have dtype float64 by default, call `tf.keras.backend.set_floatx('float64')`. To change just this layer, pass dtype='float64' to the layer constructor. If you are the author of this layer, you can disable autocasting by passing autocast=False to the base Layer constructor.\n",
      "\n",
      "W1002 17:42:58.023039 140376949892928 base_layer.py:1814] Layer critic_18 is casting an input tensor from dtype float64 to the layer's dtype of float32, which is new behavior in TensorFlow 2.  The layer has dtype float32 because it's dtype defaults to floatx.\n",
      "\n",
      "If you intended to run this layer in float32, you can safely ignore this warning. If in doubt, this warning is likely only an issue if you are porting a TensorFlow 1.X model to TensorFlow 2.\n",
      "\n",
      "To change all layers to have dtype float64 by default, call `tf.keras.backend.set_floatx('float64')`. To change just this layer, pass dtype='float64' to the layer constructor. If you are the author of this layer, you can disable autocasting by passing autocast=False to the base Layer constructor.\n",
      "\n",
      "W1002 17:42:58.041861 140376949892928 base_layer.py:1814] Layer critic_19 is casting an input tensor from dtype float64 to the layer's dtype of float32, which is new behavior in TensorFlow 2.  The layer has dtype float32 because it's dtype defaults to floatx.\n",
      "\n",
      "If you intended to run this layer in float32, you can safely ignore this warning. If in doubt, this warning is likely only an issue if you are porting a TensorFlow 1.X model to TensorFlow 2.\n",
      "\n",
      "To change all layers to have dtype float64 by default, call `tf.keras.backend.set_floatx('float64')`. To change just this layer, pass dtype='float64' to the layer constructor. If you are the author of this layer, you can disable autocasting by passing autocast=False to the base Layer constructor.\n",
      "\n",
      "W1002 17:42:58.062854 140376949892928 base_layer.py:1814] Layer critic_20 is casting an input tensor from dtype float64 to the layer's dtype of float32, which is new behavior in TensorFlow 2.  The layer has dtype float32 because it's dtype defaults to floatx.\n",
      "\n",
      "If you intended to run this layer in float32, you can safely ignore this warning. If in doubt, this warning is likely only an issue if you are porting a TensorFlow 1.X model to TensorFlow 2.\n",
      "\n",
      "To change all layers to have dtype float64 by default, call `tf.keras.backend.set_floatx('float64')`. To change just this layer, pass dtype='float64' to the layer constructor. If you are the author of this layer, you can disable autocasting by passing autocast=False to the base Layer constructor.\n",
      "\n"
     ]
    },
    {
     "name": "stdout",
     "output_type": "stream",
     "text": [
      "tf.Tensor([[0.02506761]], shape=(1, 1), dtype=float32)\n",
      "tf.Tensor([[-0.01804972]], shape=(1, 1), dtype=float32)\n",
      "tf.Tensor([[-0.00223475]], shape=(1, 1), dtype=float32)\n",
      "tf.Tensor([[0.05138217]], shape=(1, 1), dtype=float32)\n",
      "tf.Tensor([[0.00934845]], shape=(1, 1), dtype=float32)\n",
      "tf.Tensor([[0.01893435]], shape=(1, 1), dtype=float32)\n",
      "tf.Tensor([[0.0135658]], shape=(1, 1), dtype=float32)\n",
      "tf.Tensor([[-0.04010885]], shape=(1, 1), dtype=float32)\n",
      "tf.Tensor([[0.02387712]], shape=(1, 1), dtype=float32)\n",
      "tf.Tensor([[-0.03265539]], shape=(1, 1), dtype=float32)\n"
     ]
    },
    {
     "name": "stderr",
     "output_type": "stream",
     "text": [
      "W1002 17:42:58.083360 140376949892928 base_layer.py:1814] Layer critic_21 is casting an input tensor from dtype float64 to the layer's dtype of float32, which is new behavior in TensorFlow 2.  The layer has dtype float32 because it's dtype defaults to floatx.\n",
      "\n",
      "If you intended to run this layer in float32, you can safely ignore this warning. If in doubt, this warning is likely only an issue if you are porting a TensorFlow 1.X model to TensorFlow 2.\n",
      "\n",
      "To change all layers to have dtype float64 by default, call `tf.keras.backend.set_floatx('float64')`. To change just this layer, pass dtype='float64' to the layer constructor. If you are the author of this layer, you can disable autocasting by passing autocast=False to the base Layer constructor.\n",
      "\n",
      "W1002 17:42:58.108822 140376949892928 base_layer.py:1814] Layer critic_22 is casting an input tensor from dtype float64 to the layer's dtype of float32, which is new behavior in TensorFlow 2.  The layer has dtype float32 because it's dtype defaults to floatx.\n",
      "\n",
      "If you intended to run this layer in float32, you can safely ignore this warning. If in doubt, this warning is likely only an issue if you are porting a TensorFlow 1.X model to TensorFlow 2.\n",
      "\n",
      "To change all layers to have dtype float64 by default, call `tf.keras.backend.set_floatx('float64')`. To change just this layer, pass dtype='float64' to the layer constructor. If you are the author of this layer, you can disable autocasting by passing autocast=False to the base Layer constructor.\n",
      "\n",
      "W1002 17:42:58.123869 140376949892928 base_layer.py:1814] Layer critic_23 is casting an input tensor from dtype float64 to the layer's dtype of float32, which is new behavior in TensorFlow 2.  The layer has dtype float32 because it's dtype defaults to floatx.\n",
      "\n",
      "If you intended to run this layer in float32, you can safely ignore this warning. If in doubt, this warning is likely only an issue if you are porting a TensorFlow 1.X model to TensorFlow 2.\n",
      "\n",
      "To change all layers to have dtype float64 by default, call `tf.keras.backend.set_floatx('float64')`. To change just this layer, pass dtype='float64' to the layer constructor. If you are the author of this layer, you can disable autocasting by passing autocast=False to the base Layer constructor.\n",
      "\n",
      "W1002 17:42:58.140032 140376949892928 base_layer.py:1814] Layer critic_24 is casting an input tensor from dtype float64 to the layer's dtype of float32, which is new behavior in TensorFlow 2.  The layer has dtype float32 because it's dtype defaults to floatx.\n",
      "\n",
      "If you intended to run this layer in float32, you can safely ignore this warning. If in doubt, this warning is likely only an issue if you are porting a TensorFlow 1.X model to TensorFlow 2.\n",
      "\n",
      "To change all layers to have dtype float64 by default, call `tf.keras.backend.set_floatx('float64')`. To change just this layer, pass dtype='float64' to the layer constructor. If you are the author of this layer, you can disable autocasting by passing autocast=False to the base Layer constructor.\n",
      "\n",
      "W1002 17:42:58.155582 140376949892928 base_layer.py:1814] Layer critic_25 is casting an input tensor from dtype float64 to the layer's dtype of float32, which is new behavior in TensorFlow 2.  The layer has dtype float32 because it's dtype defaults to floatx.\n",
      "\n",
      "If you intended to run this layer in float32, you can safely ignore this warning. If in doubt, this warning is likely only an issue if you are porting a TensorFlow 1.X model to TensorFlow 2.\n",
      "\n",
      "To change all layers to have dtype float64 by default, call `tf.keras.backend.set_floatx('float64')`. To change just this layer, pass dtype='float64' to the layer constructor. If you are the author of this layer, you can disable autocasting by passing autocast=False to the base Layer constructor.\n",
      "\n",
      "W1002 17:42:58.171586 140376949892928 base_layer.py:1814] Layer critic_26 is casting an input tensor from dtype float64 to the layer's dtype of float32, which is new behavior in TensorFlow 2.  The layer has dtype float32 because it's dtype defaults to floatx.\n",
      "\n",
      "If you intended to run this layer in float32, you can safely ignore this warning. If in doubt, this warning is likely only an issue if you are porting a TensorFlow 1.X model to TensorFlow 2.\n",
      "\n",
      "To change all layers to have dtype float64 by default, call `tf.keras.backend.set_floatx('float64')`. To change just this layer, pass dtype='float64' to the layer constructor. If you are the author of this layer, you can disable autocasting by passing autocast=False to the base Layer constructor.\n",
      "\n",
      "W1002 17:42:58.185864 140376949892928 base_layer.py:1814] Layer critic_27 is casting an input tensor from dtype float64 to the layer's dtype of float32, which is new behavior in TensorFlow 2.  The layer has dtype float32 because it's dtype defaults to floatx.\n",
      "\n",
      "If you intended to run this layer in float32, you can safely ignore this warning. If in doubt, this warning is likely only an issue if you are porting a TensorFlow 1.X model to TensorFlow 2.\n",
      "\n",
      "To change all layers to have dtype float64 by default, call `tf.keras.backend.set_floatx('float64')`. To change just this layer, pass dtype='float64' to the layer constructor. If you are the author of this layer, you can disable autocasting by passing autocast=False to the base Layer constructor.\n",
      "\n",
      "W1002 17:42:58.202877 140376949892928 base_layer.py:1814] Layer critic_28 is casting an input tensor from dtype float64 to the layer's dtype of float32, which is new behavior in TensorFlow 2.  The layer has dtype float32 because it's dtype defaults to floatx.\n",
      "\n",
      "If you intended to run this layer in float32, you can safely ignore this warning. If in doubt, this warning is likely only an issue if you are porting a TensorFlow 1.X model to TensorFlow 2.\n",
      "\n",
      "To change all layers to have dtype float64 by default, call `tf.keras.backend.set_floatx('float64')`. To change just this layer, pass dtype='float64' to the layer constructor. If you are the author of this layer, you can disable autocasting by passing autocast=False to the base Layer constructor.\n",
      "\n",
      "W1002 17:42:58.220625 140376949892928 base_layer.py:1814] Layer critic_29 is casting an input tensor from dtype float64 to the layer's dtype of float32, which is new behavior in TensorFlow 2.  The layer has dtype float32 because it's dtype defaults to floatx.\n",
      "\n",
      "If you intended to run this layer in float32, you can safely ignore this warning. If in doubt, this warning is likely only an issue if you are porting a TensorFlow 1.X model to TensorFlow 2.\n",
      "\n",
      "To change all layers to have dtype float64 by default, call `tf.keras.backend.set_floatx('float64')`. To change just this layer, pass dtype='float64' to the layer constructor. If you are the author of this layer, you can disable autocasting by passing autocast=False to the base Layer constructor.\n",
      "\n",
      "W1002 17:42:58.235800 140376949892928 base_layer.py:1814] Layer critic_30 is casting an input tensor from dtype float64 to the layer's dtype of float32, which is new behavior in TensorFlow 2.  The layer has dtype float32 because it's dtype defaults to floatx.\n",
      "\n",
      "If you intended to run this layer in float32, you can safely ignore this warning. If in doubt, this warning is likely only an issue if you are porting a TensorFlow 1.X model to TensorFlow 2.\n",
      "\n",
      "To change all layers to have dtype float64 by default, call `tf.keras.backend.set_floatx('float64')`. To change just this layer, pass dtype='float64' to the layer constructor. If you are the author of this layer, you can disable autocasting by passing autocast=False to the base Layer constructor.\n",
      "\n",
      "W1002 17:42:58.250918 140376949892928 base_layer.py:1814] Layer critic_31 is casting an input tensor from dtype float64 to the layer's dtype of float32, which is new behavior in TensorFlow 2.  The layer has dtype float32 because it's dtype defaults to floatx.\n",
      "\n",
      "If you intended to run this layer in float32, you can safely ignore this warning. If in doubt, this warning is likely only an issue if you are porting a TensorFlow 1.X model to TensorFlow 2.\n",
      "\n",
      "To change all layers to have dtype float64 by default, call `tf.keras.backend.set_floatx('float64')`. To change just this layer, pass dtype='float64' to the layer constructor. If you are the author of this layer, you can disable autocasting by passing autocast=False to the base Layer constructor.\n",
      "\n"
     ]
    },
    {
     "name": "stderr",
     "output_type": "stream",
     "text": [
      "W1002 17:42:58.265718 140376949892928 base_layer.py:1814] Layer critic_32 is casting an input tensor from dtype float64 to the layer's dtype of float32, which is new behavior in TensorFlow 2.  The layer has dtype float32 because it's dtype defaults to floatx.\n",
      "\n",
      "If you intended to run this layer in float32, you can safely ignore this warning. If in doubt, this warning is likely only an issue if you are porting a TensorFlow 1.X model to TensorFlow 2.\n",
      "\n",
      "To change all layers to have dtype float64 by default, call `tf.keras.backend.set_floatx('float64')`. To change just this layer, pass dtype='float64' to the layer constructor. If you are the author of this layer, you can disable autocasting by passing autocast=False to the base Layer constructor.\n",
      "\n",
      "W1002 17:42:58.279864 140376949892928 base_layer.py:1814] Layer critic_33 is casting an input tensor from dtype float64 to the layer's dtype of float32, which is new behavior in TensorFlow 2.  The layer has dtype float32 because it's dtype defaults to floatx.\n",
      "\n",
      "If you intended to run this layer in float32, you can safely ignore this warning. If in doubt, this warning is likely only an issue if you are porting a TensorFlow 1.X model to TensorFlow 2.\n",
      "\n",
      "To change all layers to have dtype float64 by default, call `tf.keras.backend.set_floatx('float64')`. To change just this layer, pass dtype='float64' to the layer constructor. If you are the author of this layer, you can disable autocasting by passing autocast=False to the base Layer constructor.\n",
      "\n"
     ]
    },
    {
     "name": "stdout",
     "output_type": "stream",
     "text": [
      "tf.Tensor([[-0.05081596]], shape=(1, 1), dtype=float32)\n",
      "tf.Tensor([[-0.02025365]], shape=(1, 1), dtype=float32)\n",
      "tf.Tensor([[-0.06782174]], shape=(1, 1), dtype=float32)\n",
      "tf.Tensor([[-0.04772029]], shape=(1, 1), dtype=float32)\n",
      "tf.Tensor([[-0.04366359]], shape=(1, 1), dtype=float32)\n",
      "tf.Tensor([[-0.07683292]], shape=(1, 1), dtype=float32)\n",
      "tf.Tensor([[0.01974444]], shape=(1, 1), dtype=float32)\n",
      "tf.Tensor([[-0.06457264]], shape=(1, 1), dtype=float32)\n",
      "tf.Tensor([[-0.06838958]], shape=(1, 1), dtype=float32)\n",
      "tf.Tensor([[0.02366356]], shape=(1, 1), dtype=float32)\n",
      "tf.Tensor([[0.0581089]], shape=(1, 1), dtype=float32)\n",
      "tf.Tensor([[-0.0031991]], shape=(1, 1), dtype=float32)\n",
      "tf.Tensor([[-0.07574078]], shape=(1, 1), dtype=float32)\n"
     ]
    },
    {
     "name": "stderr",
     "output_type": "stream",
     "text": [
      "W1002 17:42:58.296494 140376949892928 base_layer.py:1814] Layer critic_34 is casting an input tensor from dtype float64 to the layer's dtype of float32, which is new behavior in TensorFlow 2.  The layer has dtype float32 because it's dtype defaults to floatx.\n",
      "\n",
      "If you intended to run this layer in float32, you can safely ignore this warning. If in doubt, this warning is likely only an issue if you are porting a TensorFlow 1.X model to TensorFlow 2.\n",
      "\n",
      "To change all layers to have dtype float64 by default, call `tf.keras.backend.set_floatx('float64')`. To change just this layer, pass dtype='float64' to the layer constructor. If you are the author of this layer, you can disable autocasting by passing autocast=False to the base Layer constructor.\n",
      "\n",
      "W1002 17:42:58.311892 140376949892928 base_layer.py:1814] Layer critic_35 is casting an input tensor from dtype float64 to the layer's dtype of float32, which is new behavior in TensorFlow 2.  The layer has dtype float32 because it's dtype defaults to floatx.\n",
      "\n",
      "If you intended to run this layer in float32, you can safely ignore this warning. If in doubt, this warning is likely only an issue if you are porting a TensorFlow 1.X model to TensorFlow 2.\n",
      "\n",
      "To change all layers to have dtype float64 by default, call `tf.keras.backend.set_floatx('float64')`. To change just this layer, pass dtype='float64' to the layer constructor. If you are the author of this layer, you can disable autocasting by passing autocast=False to the base Layer constructor.\n",
      "\n",
      "W1002 17:42:58.326285 140376949892928 base_layer.py:1814] Layer critic_36 is casting an input tensor from dtype float64 to the layer's dtype of float32, which is new behavior in TensorFlow 2.  The layer has dtype float32 because it's dtype defaults to floatx.\n",
      "\n",
      "If you intended to run this layer in float32, you can safely ignore this warning. If in doubt, this warning is likely only an issue if you are porting a TensorFlow 1.X model to TensorFlow 2.\n",
      "\n",
      "To change all layers to have dtype float64 by default, call `tf.keras.backend.set_floatx('float64')`. To change just this layer, pass dtype='float64' to the layer constructor. If you are the author of this layer, you can disable autocasting by passing autocast=False to the base Layer constructor.\n",
      "\n",
      "W1002 17:42:58.341418 140376949892928 base_layer.py:1814] Layer critic_37 is casting an input tensor from dtype float64 to the layer's dtype of float32, which is new behavior in TensorFlow 2.  The layer has dtype float32 because it's dtype defaults to floatx.\n",
      "\n",
      "If you intended to run this layer in float32, you can safely ignore this warning. If in doubt, this warning is likely only an issue if you are porting a TensorFlow 1.X model to TensorFlow 2.\n",
      "\n",
      "To change all layers to have dtype float64 by default, call `tf.keras.backend.set_floatx('float64')`. To change just this layer, pass dtype='float64' to the layer constructor. If you are the author of this layer, you can disable autocasting by passing autocast=False to the base Layer constructor.\n",
      "\n",
      "W1002 17:42:58.358536 140376949892928 base_layer.py:1814] Layer critic_38 is casting an input tensor from dtype float64 to the layer's dtype of float32, which is new behavior in TensorFlow 2.  The layer has dtype float32 because it's dtype defaults to floatx.\n",
      "\n",
      "If you intended to run this layer in float32, you can safely ignore this warning. If in doubt, this warning is likely only an issue if you are porting a TensorFlow 1.X model to TensorFlow 2.\n",
      "\n",
      "To change all layers to have dtype float64 by default, call `tf.keras.backend.set_floatx('float64')`. To change just this layer, pass dtype='float64' to the layer constructor. If you are the author of this layer, you can disable autocasting by passing autocast=False to the base Layer constructor.\n",
      "\n",
      "W1002 17:42:58.374597 140376949892928 base_layer.py:1814] Layer critic_39 is casting an input tensor from dtype float64 to the layer's dtype of float32, which is new behavior in TensorFlow 2.  The layer has dtype float32 because it's dtype defaults to floatx.\n",
      "\n",
      "If you intended to run this layer in float32, you can safely ignore this warning. If in doubt, this warning is likely only an issue if you are porting a TensorFlow 1.X model to TensorFlow 2.\n",
      "\n",
      "To change all layers to have dtype float64 by default, call `tf.keras.backend.set_floatx('float64')`. To change just this layer, pass dtype='float64' to the layer constructor. If you are the author of this layer, you can disable autocasting by passing autocast=False to the base Layer constructor.\n",
      "\n",
      "W1002 17:42:58.390722 140376949892928 base_layer.py:1814] Layer critic_40 is casting an input tensor from dtype float64 to the layer's dtype of float32, which is new behavior in TensorFlow 2.  The layer has dtype float32 because it's dtype defaults to floatx.\n",
      "\n",
      "If you intended to run this layer in float32, you can safely ignore this warning. If in doubt, this warning is likely only an issue if you are porting a TensorFlow 1.X model to TensorFlow 2.\n",
      "\n",
      "To change all layers to have dtype float64 by default, call `tf.keras.backend.set_floatx('float64')`. To change just this layer, pass dtype='float64' to the layer constructor. If you are the author of this layer, you can disable autocasting by passing autocast=False to the base Layer constructor.\n",
      "\n",
      "W1002 17:42:58.406189 140376949892928 base_layer.py:1814] Layer critic_41 is casting an input tensor from dtype float64 to the layer's dtype of float32, which is new behavior in TensorFlow 2.  The layer has dtype float32 because it's dtype defaults to floatx.\n",
      "\n",
      "If you intended to run this layer in float32, you can safely ignore this warning. If in doubt, this warning is likely only an issue if you are porting a TensorFlow 1.X model to TensorFlow 2.\n",
      "\n",
      "To change all layers to have dtype float64 by default, call `tf.keras.backend.set_floatx('float64')`. To change just this layer, pass dtype='float64' to the layer constructor. If you are the author of this layer, you can disable autocasting by passing autocast=False to the base Layer constructor.\n",
      "\n",
      "W1002 17:42:58.420740 140376949892928 base_layer.py:1814] Layer critic_42 is casting an input tensor from dtype float64 to the layer's dtype of float32, which is new behavior in TensorFlow 2.  The layer has dtype float32 because it's dtype defaults to floatx.\n",
      "\n",
      "If you intended to run this layer in float32, you can safely ignore this warning. If in doubt, this warning is likely only an issue if you are porting a TensorFlow 1.X model to TensorFlow 2.\n",
      "\n",
      "To change all layers to have dtype float64 by default, call `tf.keras.backend.set_floatx('float64')`. To change just this layer, pass dtype='float64' to the layer constructor. If you are the author of this layer, you can disable autocasting by passing autocast=False to the base Layer constructor.\n",
      "\n",
      "W1002 17:42:58.438038 140376949892928 base_layer.py:1814] Layer critic_43 is casting an input tensor from dtype float64 to the layer's dtype of float32, which is new behavior in TensorFlow 2.  The layer has dtype float32 because it's dtype defaults to floatx.\n",
      "\n",
      "If you intended to run this layer in float32, you can safely ignore this warning. If in doubt, this warning is likely only an issue if you are porting a TensorFlow 1.X model to TensorFlow 2.\n",
      "\n",
      "To change all layers to have dtype float64 by default, call `tf.keras.backend.set_floatx('float64')`. To change just this layer, pass dtype='float64' to the layer constructor. If you are the author of this layer, you can disable autocasting by passing autocast=False to the base Layer constructor.\n",
      "\n",
      "W1002 17:42:58.452515 140376949892928 base_layer.py:1814] Layer critic_44 is casting an input tensor from dtype float64 to the layer's dtype of float32, which is new behavior in TensorFlow 2.  The layer has dtype float32 because it's dtype defaults to floatx.\n",
      "\n",
      "If you intended to run this layer in float32, you can safely ignore this warning. If in doubt, this warning is likely only an issue if you are porting a TensorFlow 1.X model to TensorFlow 2.\n",
      "\n",
      "To change all layers to have dtype float64 by default, call `tf.keras.backend.set_floatx('float64')`. To change just this layer, pass dtype='float64' to the layer constructor. If you are the author of this layer, you can disable autocasting by passing autocast=False to the base Layer constructor.\n",
      "\n"
     ]
    },
    {
     "name": "stderr",
     "output_type": "stream",
     "text": [
      "W1002 17:42:58.468213 140376949892928 base_layer.py:1814] Layer critic_45 is casting an input tensor from dtype float64 to the layer's dtype of float32, which is new behavior in TensorFlow 2.  The layer has dtype float32 because it's dtype defaults to floatx.\n",
      "\n",
      "If you intended to run this layer in float32, you can safely ignore this warning. If in doubt, this warning is likely only an issue if you are porting a TensorFlow 1.X model to TensorFlow 2.\n",
      "\n",
      "To change all layers to have dtype float64 by default, call `tf.keras.backend.set_floatx('float64')`. To change just this layer, pass dtype='float64' to the layer constructor. If you are the author of this layer, you can disable autocasting by passing autocast=False to the base Layer constructor.\n",
      "\n",
      "W1002 17:42:58.487110 140376949892928 base_layer.py:1814] Layer critic_46 is casting an input tensor from dtype float64 to the layer's dtype of float32, which is new behavior in TensorFlow 2.  The layer has dtype float32 because it's dtype defaults to floatx.\n",
      "\n",
      "If you intended to run this layer in float32, you can safely ignore this warning. If in doubt, this warning is likely only an issue if you are porting a TensorFlow 1.X model to TensorFlow 2.\n",
      "\n",
      "To change all layers to have dtype float64 by default, call `tf.keras.backend.set_floatx('float64')`. To change just this layer, pass dtype='float64' to the layer constructor. If you are the author of this layer, you can disable autocasting by passing autocast=False to the base Layer constructor.\n",
      "\n"
     ]
    },
    {
     "name": "stdout",
     "output_type": "stream",
     "text": [
      "tf.Tensor([[-0.06018424]], shape=(1, 1), dtype=float32)\n",
      "tf.Tensor([[0.00846331]], shape=(1, 1), dtype=float32)\n",
      "tf.Tensor([[-0.01847083]], shape=(1, 1), dtype=float32)\n",
      "tf.Tensor([[-0.00791233]], shape=(1, 1), dtype=float32)\n",
      "tf.Tensor([[-0.03425859]], shape=(1, 1), dtype=float32)\n",
      "tf.Tensor([[-0.0434526]], shape=(1, 1), dtype=float32)\n",
      "tf.Tensor([[-0.08995082]], shape=(1, 1), dtype=float32)\n",
      "tf.Tensor([[0.08627177]], shape=(1, 1), dtype=float32)\n",
      "tf.Tensor([[-0.09693159]], shape=(1, 1), dtype=float32)\n",
      "tf.Tensor([[0.01525124]], shape=(1, 1), dtype=float32)\n",
      "tf.Tensor([[0.02961314]], shape=(1, 1), dtype=float32)\n",
      "tf.Tensor([[0.05606789]], shape=(1, 1), dtype=float32)\n",
      "tf.Tensor([[0.00173178]], shape=(1, 1), dtype=float32)\n"
     ]
    },
    {
     "name": "stderr",
     "output_type": "stream",
     "text": [
      "W1002 17:42:58.503176 140376949892928 base_layer.py:1814] Layer critic_47 is casting an input tensor from dtype float64 to the layer's dtype of float32, which is new behavior in TensorFlow 2.  The layer has dtype float32 because it's dtype defaults to floatx.\n",
      "\n",
      "If you intended to run this layer in float32, you can safely ignore this warning. If in doubt, this warning is likely only an issue if you are porting a TensorFlow 1.X model to TensorFlow 2.\n",
      "\n",
      "To change all layers to have dtype float64 by default, call `tf.keras.backend.set_floatx('float64')`. To change just this layer, pass dtype='float64' to the layer constructor. If you are the author of this layer, you can disable autocasting by passing autocast=False to the base Layer constructor.\n",
      "\n",
      "W1002 17:42:58.519472 140376949892928 base_layer.py:1814] Layer critic_48 is casting an input tensor from dtype float64 to the layer's dtype of float32, which is new behavior in TensorFlow 2.  The layer has dtype float32 because it's dtype defaults to floatx.\n",
      "\n",
      "If you intended to run this layer in float32, you can safely ignore this warning. If in doubt, this warning is likely only an issue if you are porting a TensorFlow 1.X model to TensorFlow 2.\n",
      "\n",
      "To change all layers to have dtype float64 by default, call `tf.keras.backend.set_floatx('float64')`. To change just this layer, pass dtype='float64' to the layer constructor. If you are the author of this layer, you can disable autocasting by passing autocast=False to the base Layer constructor.\n",
      "\n",
      "W1002 17:42:58.535125 140376949892928 base_layer.py:1814] Layer critic_49 is casting an input tensor from dtype float64 to the layer's dtype of float32, which is new behavior in TensorFlow 2.  The layer has dtype float32 because it's dtype defaults to floatx.\n",
      "\n",
      "If you intended to run this layer in float32, you can safely ignore this warning. If in doubt, this warning is likely only an issue if you are porting a TensorFlow 1.X model to TensorFlow 2.\n",
      "\n",
      "To change all layers to have dtype float64 by default, call `tf.keras.backend.set_floatx('float64')`. To change just this layer, pass dtype='float64' to the layer constructor. If you are the author of this layer, you can disable autocasting by passing autocast=False to the base Layer constructor.\n",
      "\n",
      "W1002 17:42:58.550271 140376949892928 base_layer.py:1814] Layer critic_50 is casting an input tensor from dtype float64 to the layer's dtype of float32, which is new behavior in TensorFlow 2.  The layer has dtype float32 because it's dtype defaults to floatx.\n",
      "\n",
      "If you intended to run this layer in float32, you can safely ignore this warning. If in doubt, this warning is likely only an issue if you are porting a TensorFlow 1.X model to TensorFlow 2.\n",
      "\n",
      "To change all layers to have dtype float64 by default, call `tf.keras.backend.set_floatx('float64')`. To change just this layer, pass dtype='float64' to the layer constructor. If you are the author of this layer, you can disable autocasting by passing autocast=False to the base Layer constructor.\n",
      "\n",
      "W1002 17:42:58.566576 140376949892928 base_layer.py:1814] Layer critic_51 is casting an input tensor from dtype float64 to the layer's dtype of float32, which is new behavior in TensorFlow 2.  The layer has dtype float32 because it's dtype defaults to floatx.\n",
      "\n",
      "If you intended to run this layer in float32, you can safely ignore this warning. If in doubt, this warning is likely only an issue if you are porting a TensorFlow 1.X model to TensorFlow 2.\n",
      "\n",
      "To change all layers to have dtype float64 by default, call `tf.keras.backend.set_floatx('float64')`. To change just this layer, pass dtype='float64' to the layer constructor. If you are the author of this layer, you can disable autocasting by passing autocast=False to the base Layer constructor.\n",
      "\n",
      "W1002 17:42:58.583143 140376949892928 base_layer.py:1814] Layer critic_52 is casting an input tensor from dtype float64 to the layer's dtype of float32, which is new behavior in TensorFlow 2.  The layer has dtype float32 because it's dtype defaults to floatx.\n",
      "\n",
      "If you intended to run this layer in float32, you can safely ignore this warning. If in doubt, this warning is likely only an issue if you are porting a TensorFlow 1.X model to TensorFlow 2.\n",
      "\n",
      "To change all layers to have dtype float64 by default, call `tf.keras.backend.set_floatx('float64')`. To change just this layer, pass dtype='float64' to the layer constructor. If you are the author of this layer, you can disable autocasting by passing autocast=False to the base Layer constructor.\n",
      "\n",
      "W1002 17:42:58.599994 140376949892928 base_layer.py:1814] Layer critic_53 is casting an input tensor from dtype float64 to the layer's dtype of float32, which is new behavior in TensorFlow 2.  The layer has dtype float32 because it's dtype defaults to floatx.\n",
      "\n",
      "If you intended to run this layer in float32, you can safely ignore this warning. If in doubt, this warning is likely only an issue if you are porting a TensorFlow 1.X model to TensorFlow 2.\n",
      "\n",
      "To change all layers to have dtype float64 by default, call `tf.keras.backend.set_floatx('float64')`. To change just this layer, pass dtype='float64' to the layer constructor. If you are the author of this layer, you can disable autocasting by passing autocast=False to the base Layer constructor.\n",
      "\n",
      "W1002 17:42:58.614724 140376949892928 base_layer.py:1814] Layer critic_54 is casting an input tensor from dtype float64 to the layer's dtype of float32, which is new behavior in TensorFlow 2.  The layer has dtype float32 because it's dtype defaults to floatx.\n",
      "\n",
      "If you intended to run this layer in float32, you can safely ignore this warning. If in doubt, this warning is likely only an issue if you are porting a TensorFlow 1.X model to TensorFlow 2.\n",
      "\n",
      "To change all layers to have dtype float64 by default, call `tf.keras.backend.set_floatx('float64')`. To change just this layer, pass dtype='float64' to the layer constructor. If you are the author of this layer, you can disable autocasting by passing autocast=False to the base Layer constructor.\n",
      "\n",
      "W1002 17:42:58.630175 140376949892928 base_layer.py:1814] Layer critic_55 is casting an input tensor from dtype float64 to the layer's dtype of float32, which is new behavior in TensorFlow 2.  The layer has dtype float32 because it's dtype defaults to floatx.\n",
      "\n",
      "If you intended to run this layer in float32, you can safely ignore this warning. If in doubt, this warning is likely only an issue if you are porting a TensorFlow 1.X model to TensorFlow 2.\n",
      "\n",
      "To change all layers to have dtype float64 by default, call `tf.keras.backend.set_floatx('float64')`. To change just this layer, pass dtype='float64' to the layer constructor. If you are the author of this layer, you can disable autocasting by passing autocast=False to the base Layer constructor.\n",
      "\n",
      "W1002 17:42:58.648782 140376949892928 base_layer.py:1814] Layer critic_56 is casting an input tensor from dtype float64 to the layer's dtype of float32, which is new behavior in TensorFlow 2.  The layer has dtype float32 because it's dtype defaults to floatx.\n",
      "\n",
      "If you intended to run this layer in float32, you can safely ignore this warning. If in doubt, this warning is likely only an issue if you are porting a TensorFlow 1.X model to TensorFlow 2.\n",
      "\n",
      "To change all layers to have dtype float64 by default, call `tf.keras.backend.set_floatx('float64')`. To change just this layer, pass dtype='float64' to the layer constructor. If you are the author of this layer, you can disable autocasting by passing autocast=False to the base Layer constructor.\n",
      "\n",
      "W1002 17:42:58.663841 140376949892928 base_layer.py:1814] Layer critic_57 is casting an input tensor from dtype float64 to the layer's dtype of float32, which is new behavior in TensorFlow 2.  The layer has dtype float32 because it's dtype defaults to floatx.\n",
      "\n",
      "If you intended to run this layer in float32, you can safely ignore this warning. If in doubt, this warning is likely only an issue if you are porting a TensorFlow 1.X model to TensorFlow 2.\n",
      "\n",
      "To change all layers to have dtype float64 by default, call `tf.keras.backend.set_floatx('float64')`. To change just this layer, pass dtype='float64' to the layer constructor. If you are the author of this layer, you can disable autocasting by passing autocast=False to the base Layer constructor.\n",
      "\n"
     ]
    },
    {
     "name": "stderr",
     "output_type": "stream",
     "text": [
      "W1002 17:42:58.679008 140376949892928 base_layer.py:1814] Layer critic_58 is casting an input tensor from dtype float64 to the layer's dtype of float32, which is new behavior in TensorFlow 2.  The layer has dtype float32 because it's dtype defaults to floatx.\n",
      "\n",
      "If you intended to run this layer in float32, you can safely ignore this warning. If in doubt, this warning is likely only an issue if you are porting a TensorFlow 1.X model to TensorFlow 2.\n",
      "\n",
      "To change all layers to have dtype float64 by default, call `tf.keras.backend.set_floatx('float64')`. To change just this layer, pass dtype='float64' to the layer constructor. If you are the author of this layer, you can disable autocasting by passing autocast=False to the base Layer constructor.\n",
      "\n",
      "W1002 17:42:58.697941 140376949892928 base_layer.py:1814] Layer critic_59 is casting an input tensor from dtype float64 to the layer's dtype of float32, which is new behavior in TensorFlow 2.  The layer has dtype float32 because it's dtype defaults to floatx.\n",
      "\n",
      "If you intended to run this layer in float32, you can safely ignore this warning. If in doubt, this warning is likely only an issue if you are porting a TensorFlow 1.X model to TensorFlow 2.\n",
      "\n",
      "To change all layers to have dtype float64 by default, call `tf.keras.backend.set_floatx('float64')`. To change just this layer, pass dtype='float64' to the layer constructor. If you are the author of this layer, you can disable autocasting by passing autocast=False to the base Layer constructor.\n",
      "\n"
     ]
    },
    {
     "name": "stdout",
     "output_type": "stream",
     "text": [
      "tf.Tensor([[0.02108723]], shape=(1, 1), dtype=float32)\n",
      "tf.Tensor([[0.0831684]], shape=(1, 1), dtype=float32)\n",
      "tf.Tensor([[0.04099162]], shape=(1, 1), dtype=float32)\n",
      "tf.Tensor([[-0.09748317]], shape=(1, 1), dtype=float32)\n",
      "tf.Tensor([[-0.07573962]], shape=(1, 1), dtype=float32)\n",
      "tf.Tensor([[-0.0989245]], shape=(1, 1), dtype=float32)\n",
      "tf.Tensor([[-0.0563133]], shape=(1, 1), dtype=float32)\n",
      "tf.Tensor([[0.05813502]], shape=(1, 1), dtype=float32)\n",
      "tf.Tensor([[-0.08458967]], shape=(1, 1), dtype=float32)\n",
      "tf.Tensor([[0.03250144]], shape=(1, 1), dtype=float32)\n",
      "tf.Tensor([[0.06618686]], shape=(1, 1), dtype=float32)\n",
      "tf.Tensor([[0.04318689]], shape=(1, 1), dtype=float32)\n",
      "tf.Tensor([[0.07936041]], shape=(1, 1), dtype=float32)\n",
      "tf.Tensor([[-0.00523609]], shape=(1, 1), dtype=float32)\n"
     ]
    }
   ],
   "source": [
    "def f():\n",
    "    cc = Critic()\n",
    "    inps = [[np.array([1.])],[np.array([1.])]]\n",
    "    print(cc(inps))\n",
    "\n",
    "for i in range(50):\n",
    "    f()"
   ]
  },
  {
   "cell_type": "markdown",
   "metadata": {},
   "source": [
    "Let's take the derivatives of the critic. For this we define the loss and the optimizer..."
   ]
  },
  {
   "cell_type": "code",
   "execution_count": 203,
   "metadata": {},
   "outputs": [],
   "source": [
    "loss = tf.keras.losses.MeanSquaredError()\n",
    "optimizer = tf.keras.optimizers.Adam(learning_rate=0.5)"
   ]
  },
  {
   "cell_type": "code",
   "execution_count": 204,
   "metadata": {},
   "outputs": [],
   "source": [
    "@tf.function\n",
    "def step_critic(labels, states):\n",
    "    with tf.GradientTape() as tape:\n",
    "        l = loss(labels, cc(states))\n",
    "        l = tf.reduce_mean(l)\n",
    "    g = tape.gradient(l, cc.trainable_variables)\n",
    "    optimizer.apply_gradients(zip(g, cc.trainable_variables))\n",
    "    return"
   ]
  },
  {
   "cell_type": "code",
   "execution_count": 205,
   "metadata": {},
   "outputs": [],
   "source": [
    "labels = np.random.random_sample(500)\n",
    "dummy_states = [[], []]\n",
    "for i in range(len(labels)):\n",
    "    dummy_states[0].append([np.random.random()])\n",
    "    dummy_states[1].append([np.random.random()])"
   ]
  },
  {
   "cell_type": "code",
   "execution_count": 206,
   "metadata": {},
   "outputs": [],
   "source": [
    "step_critic(labels, dummy_states)"
   ]
  },
  {
   "cell_type": "code",
   "execution_count": 207,
   "metadata": {},
   "outputs": [
    {
     "name": "stdout",
     "output_type": "stream",
     "text": [
      "[[-0.46065544 -0.01383403]\n",
      " [-0.50364909 -0.00971141]]\n",
      "[-0.48026149 -0.00611758]\n",
      "[[-0.48284157  0.00892967]\n",
      " [-0.04214531  0.00741531]]\n",
      "[-0.48643569 -0.01482327]\n",
      "[[ 0.47273369]\n",
      " [-0.04306903]]\n",
      "[0.51803801]\n"
     ]
    }
   ],
   "source": [
    "for i in cc.trainable_variables:\n",
    "    print(i.numpy())"
   ]
  },
  {
   "cell_type": "markdown",
   "metadata": {},
   "source": [
    "Now we define the actor and do the same!"
   ]
  },
  {
   "cell_type": "code",
   "execution_count": 175,
   "metadata": {},
   "outputs": [],
   "source": [
    "\n",
    "class NN_policy(tf.keras.Model):\n",
    "    def __init__(self, layer=0):\n",
    "        super(NN_policy,self).__init__()\n",
    "        self.l1 = Dense(2, input_shape=(1,), kernel_initializer='random_uniform',\n",
    "                bias_initializer='random_uniform')\n",
    "        self.l2 = Dense(2, kernel_initializer='random_uniform',\n",
    "                bias_initializer='random_uniform')\n",
    "        self.l3 = Dense(1, kernel_initializer='random_uniform',\n",
    "                bias_initializer='random_uniform')\n",
    "        \n",
    "    def call(self, input):\n",
    "        feat = tf.nn.relu(self.l1(input))\n",
    "        feat = tf.nn.relu(self.l2(feat))\n",
    "        action = tf.nn.relu(self.l3(feat))\n",
    "        return tf.nn.tanh(action)*2 #Tanh image is [-1,1]"
   ]
  },
  {
   "cell_type": "markdown",
   "metadata": {},
   "source": [
    "The thing is that we don't intend (for the first displacement) to give any input. Hence, we set the state to 0.\n",
    "\n",
    "Notice that in this case of simple inputs, one should add a new axis (somebody knows why in the last case not ?)"
   ]
  },
  {
   "cell_type": "code",
   "execution_count": 176,
   "metadata": {},
   "outputs": [
    {
     "data": {
      "text/plain": [
       "<tf.Tensor: id=14579, shape=(1, 1), dtype=float64, numpy=array([[0.02764966]])>"
      ]
     },
     "execution_count": 176,
     "metadata": {},
     "output_type": "execute_result"
    }
   ],
   "source": [
    "pol = NN_policy()\n",
    "dummy_state = np.array([0.])[...,tf.newaxis]\n",
    "pol(dummy_state)"
   ]
  },
  {
   "cell_type": "code",
   "execution_count": 177,
   "metadata": {},
   "outputs": [
    {
     "name": "stdout",
     "output_type": "stream",
     "text": [
      "[[0.03244116 0.04590941]]\n",
      "[-0.04215503 -0.03693446]\n",
      "[[-0.04217463  0.00400336]\n",
      " [-0.04444724  0.00205822]]\n",
      "[ 0.0229516  -0.02662618]\n",
      "[[-0.02949878]\n",
      " [-0.02165013]]\n",
      "[0.01450275]\n"
     ]
    }
   ],
   "source": [
    "for i in pol.trainable_variables:\n",
    "    print(i.numpy())"
   ]
  },
  {
   "cell_type": "markdown",
   "metadata": {},
   "source": [
    "If you want to get the numpy value (just the number) of the output of your neural net:"
   ]
  },
  {
   "cell_type": "code",
   "execution_count": 178,
   "metadata": {},
   "outputs": [
    {
     "data": {
      "text/plain": [
       "0.02764965815306522"
      ]
     },
     "execution_count": 178,
     "metadata": {},
     "output_type": "execute_result"
    }
   ],
   "source": [
    "pol(dummy_state).numpy().flatten()[0]"
   ]
  },
  {
   "cell_type": "markdown",
   "metadata": {},
   "source": [
    "Notice that we use flatten()[0], but if your output is an array of more numbers, then you would not want to take only the first element ;)"
   ]
  },
  {
   "cell_type": "markdown",
   "metadata": {},
   "source": [
    "Now we consider taking the gradient of the loss. For this we define the loss (we will take the MeanSquareError, but notice you can define your own loss, maybe later I write this down and see if it works)\n",
    "\n",
    "We also define an optimizer. When you call for apply_gradients, you update your weights"
   ]
  },
  {
   "cell_type": "code",
   "execution_count": 179,
   "metadata": {},
   "outputs": [],
   "source": [
    "loss_mse = tf.keras.losses.MeanSquaredError()\n",
    "optimizer = tf.keras.optimizers.Adam(learning_rate=.5)"
   ]
  },
  {
   "cell_type": "markdown",
   "metadata": {},
   "source": [
    "Now we define a function, with the @tf.function decorator (that enhaces things, apparently), where we take the gradient of the network. We check a few things. Notice that the output of this neural network will be deterministic (in the sense that we always feed it with the same input state)"
   ]
  },
  {
   "cell_type": "code",
   "execution_count": 192,
   "metadata": {},
   "outputs": [
    {
     "name": "stdout",
     "output_type": "stream",
     "text": [
      "tf.Tensor(0.0, shape=(), dtype=float64)\n",
      "tf.Tensor(1.0, shape=(), dtype=float64)\n"
     ]
    }
   ],
   "source": [
    "print(loss_mse(dummy_state, dummy_state))\n",
    "print(loss_mse(dummy_state+1, dummy_state))"
   ]
  },
  {
   "cell_type": "markdown",
   "metadata": {},
   "source": [
    "Now apply this to a batch of data. Indeed, it's \"deterministic\""
   ]
  },
  {
   "cell_type": "code",
   "execution_count": 185,
   "metadata": {},
   "outputs": [],
   "source": [
    "labels = np.random.random_sample(300)[...,tf.newaxis]\n",
    "dummy_states = np.zeros(len(labels))[...,tf.newaxis]"
   ]
  },
  {
   "cell_type": "code",
   "execution_count": 191,
   "metadata": {},
   "outputs": [
    {
     "data": {
      "text/plain": [
       "<tf.Tensor: id=14762, shape=(300, 1), dtype=float64, numpy=\n",
       "array([[0.02764966],\n",
       "       [0.02764966],\n",
       "       [0.02764966],\n",
       "       [0.02764966],\n",
       "       [0.02764966],\n",
       "       [0.02764966],\n",
       "       [0.02764966],\n",
       "       [0.02764966],\n",
       "       [0.02764966],\n",
       "       [0.02764966],\n",
       "       [0.02764966],\n",
       "       [0.02764966],\n",
       "       [0.02764966],\n",
       "       [0.02764966],\n",
       "       [0.02764966],\n",
       "       [0.02764966],\n",
       "       [0.02764966],\n",
       "       [0.02764966],\n",
       "       [0.02764966],\n",
       "       [0.02764966],\n",
       "       [0.02764966],\n",
       "       [0.02764966],\n",
       "       [0.02764966],\n",
       "       [0.02764966],\n",
       "       [0.02764966],\n",
       "       [0.02764966],\n",
       "       [0.02764966],\n",
       "       [0.02764966],\n",
       "       [0.02764966],\n",
       "       [0.02764966],\n",
       "       [0.02764966],\n",
       "       [0.02764966],\n",
       "       [0.02764966],\n",
       "       [0.02764966],\n",
       "       [0.02764966],\n",
       "       [0.02764966],\n",
       "       [0.02764966],\n",
       "       [0.02764966],\n",
       "       [0.02764966],\n",
       "       [0.02764966],\n",
       "       [0.02764966],\n",
       "       [0.02764966],\n",
       "       [0.02764966],\n",
       "       [0.02764966],\n",
       "       [0.02764966],\n",
       "       [0.02764966],\n",
       "       [0.02764966],\n",
       "       [0.02764966],\n",
       "       [0.02764966],\n",
       "       [0.02764966],\n",
       "       [0.02764966],\n",
       "       [0.02764966],\n",
       "       [0.02764966],\n",
       "       [0.02764966],\n",
       "       [0.02764966],\n",
       "       [0.02764966],\n",
       "       [0.02764966],\n",
       "       [0.02764966],\n",
       "       [0.02764966],\n",
       "       [0.02764966],\n",
       "       [0.02764966],\n",
       "       [0.02764966],\n",
       "       [0.02764966],\n",
       "       [0.02764966],\n",
       "       [0.02764966],\n",
       "       [0.02764966],\n",
       "       [0.02764966],\n",
       "       [0.02764966],\n",
       "       [0.02764966],\n",
       "       [0.02764966],\n",
       "       [0.02764966],\n",
       "       [0.02764966],\n",
       "       [0.02764966],\n",
       "       [0.02764966],\n",
       "       [0.02764966],\n",
       "       [0.02764966],\n",
       "       [0.02764966],\n",
       "       [0.02764966],\n",
       "       [0.02764966],\n",
       "       [0.02764966],\n",
       "       [0.02764966],\n",
       "       [0.02764966],\n",
       "       [0.02764966],\n",
       "       [0.02764966],\n",
       "       [0.02764966],\n",
       "       [0.02764966],\n",
       "       [0.02764966],\n",
       "       [0.02764966],\n",
       "       [0.02764966],\n",
       "       [0.02764966],\n",
       "       [0.02764966],\n",
       "       [0.02764966],\n",
       "       [0.02764966],\n",
       "       [0.02764966],\n",
       "       [0.02764966],\n",
       "       [0.02764966],\n",
       "       [0.02764966],\n",
       "       [0.02764966],\n",
       "       [0.02764966],\n",
       "       [0.02764966],\n",
       "       [0.02764966],\n",
       "       [0.02764966],\n",
       "       [0.02764966],\n",
       "       [0.02764966],\n",
       "       [0.02764966],\n",
       "       [0.02764966],\n",
       "       [0.02764966],\n",
       "       [0.02764966],\n",
       "       [0.02764966],\n",
       "       [0.02764966],\n",
       "       [0.02764966],\n",
       "       [0.02764966],\n",
       "       [0.02764966],\n",
       "       [0.02764966],\n",
       "       [0.02764966],\n",
       "       [0.02764966],\n",
       "       [0.02764966],\n",
       "       [0.02764966],\n",
       "       [0.02764966],\n",
       "       [0.02764966],\n",
       "       [0.02764966],\n",
       "       [0.02764966],\n",
       "       [0.02764966],\n",
       "       [0.02764966],\n",
       "       [0.02764966],\n",
       "       [0.02764966],\n",
       "       [0.02764966],\n",
       "       [0.02764966],\n",
       "       [0.02764966],\n",
       "       [0.02764966],\n",
       "       [0.02764966],\n",
       "       [0.02764966],\n",
       "       [0.02764966],\n",
       "       [0.02764966],\n",
       "       [0.02764966],\n",
       "       [0.02764966],\n",
       "       [0.02764966],\n",
       "       [0.02764966],\n",
       "       [0.02764966],\n",
       "       [0.02764966],\n",
       "       [0.02764966],\n",
       "       [0.02764966],\n",
       "       [0.02764966],\n",
       "       [0.02764966],\n",
       "       [0.02764966],\n",
       "       [0.02764966],\n",
       "       [0.02764966],\n",
       "       [0.02764966],\n",
       "       [0.02764966],\n",
       "       [0.02764966],\n",
       "       [0.02764966],\n",
       "       [0.02764966],\n",
       "       [0.02764966],\n",
       "       [0.02764966],\n",
       "       [0.02764966],\n",
       "       [0.02764966],\n",
       "       [0.02764966],\n",
       "       [0.02764966],\n",
       "       [0.02764966],\n",
       "       [0.02764966],\n",
       "       [0.02764966],\n",
       "       [0.02764966],\n",
       "       [0.02764966],\n",
       "       [0.02764966],\n",
       "       [0.02764966],\n",
       "       [0.02764966],\n",
       "       [0.02764966],\n",
       "       [0.02764966],\n",
       "       [0.02764966],\n",
       "       [0.02764966],\n",
       "       [0.02764966],\n",
       "       [0.02764966],\n",
       "       [0.02764966],\n",
       "       [0.02764966],\n",
       "       [0.02764966],\n",
       "       [0.02764966],\n",
       "       [0.02764966],\n",
       "       [0.02764966],\n",
       "       [0.02764966],\n",
       "       [0.02764966],\n",
       "       [0.02764966],\n",
       "       [0.02764966],\n",
       "       [0.02764966],\n",
       "       [0.02764966],\n",
       "       [0.02764966],\n",
       "       [0.02764966],\n",
       "       [0.02764966],\n",
       "       [0.02764966],\n",
       "       [0.02764966],\n",
       "       [0.02764966],\n",
       "       [0.02764966],\n",
       "       [0.02764966],\n",
       "       [0.02764966],\n",
       "       [0.02764966],\n",
       "       [0.02764966],\n",
       "       [0.02764966],\n",
       "       [0.02764966],\n",
       "       [0.02764966],\n",
       "       [0.02764966],\n",
       "       [0.02764966],\n",
       "       [0.02764966],\n",
       "       [0.02764966],\n",
       "       [0.02764966],\n",
       "       [0.02764966],\n",
       "       [0.02764966],\n",
       "       [0.02764966],\n",
       "       [0.02764966],\n",
       "       [0.02764966],\n",
       "       [0.02764966],\n",
       "       [0.02764966],\n",
       "       [0.02764966],\n",
       "       [0.02764966],\n",
       "       [0.02764966],\n",
       "       [0.02764966],\n",
       "       [0.02764966],\n",
       "       [0.02764966],\n",
       "       [0.02764966],\n",
       "       [0.02764966],\n",
       "       [0.02764966],\n",
       "       [0.02764966],\n",
       "       [0.02764966],\n",
       "       [0.02764966],\n",
       "       [0.02764966],\n",
       "       [0.02764966],\n",
       "       [0.02764966],\n",
       "       [0.02764966],\n",
       "       [0.02764966],\n",
       "       [0.02764966],\n",
       "       [0.02764966],\n",
       "       [0.02764966],\n",
       "       [0.02764966],\n",
       "       [0.02764966],\n",
       "       [0.02764966],\n",
       "       [0.02764966],\n",
       "       [0.02764966],\n",
       "       [0.02764966],\n",
       "       [0.02764966],\n",
       "       [0.02764966],\n",
       "       [0.02764966],\n",
       "       [0.02764966],\n",
       "       [0.02764966],\n",
       "       [0.02764966],\n",
       "       [0.02764966],\n",
       "       [0.02764966],\n",
       "       [0.02764966],\n",
       "       [0.02764966],\n",
       "       [0.02764966],\n",
       "       [0.02764966],\n",
       "       [0.02764966],\n",
       "       [0.02764966],\n",
       "       [0.02764966],\n",
       "       [0.02764966],\n",
       "       [0.02764966],\n",
       "       [0.02764966],\n",
       "       [0.02764966],\n",
       "       [0.02764966],\n",
       "       [0.02764966],\n",
       "       [0.02764966],\n",
       "       [0.02764966],\n",
       "       [0.02764966],\n",
       "       [0.02764966],\n",
       "       [0.02764966],\n",
       "       [0.02764966],\n",
       "       [0.02764966],\n",
       "       [0.02764966],\n",
       "       [0.02764966],\n",
       "       [0.02764966],\n",
       "       [0.02764966],\n",
       "       [0.02764966],\n",
       "       [0.02764966],\n",
       "       [0.02764966],\n",
       "       [0.02764966],\n",
       "       [0.02764966],\n",
       "       [0.02764966],\n",
       "       [0.02764966],\n",
       "       [0.02764966],\n",
       "       [0.02764966],\n",
       "       [0.02764966],\n",
       "       [0.02764966],\n",
       "       [0.02764966],\n",
       "       [0.02764966],\n",
       "       [0.02764966],\n",
       "       [0.02764966],\n",
       "       [0.02764966],\n",
       "       [0.02764966],\n",
       "       [0.02764966],\n",
       "       [0.02764966],\n",
       "       [0.02764966],\n",
       "       [0.02764966],\n",
       "       [0.02764966],\n",
       "       [0.02764966],\n",
       "       [0.02764966],\n",
       "       [0.02764966],\n",
       "       [0.02764966],\n",
       "       [0.02764966],\n",
       "       [0.02764966],\n",
       "       [0.02764966],\n",
       "       [0.02764966],\n",
       "       [0.02764966],\n",
       "       [0.02764966]])>"
      ]
     },
     "execution_count": 191,
     "metadata": {},
     "output_type": "execute_result"
    }
   ],
   "source": [
    "pol(dummy_states)"
   ]
  },
  {
   "cell_type": "code",
   "execution_count": 193,
   "metadata": {},
   "outputs": [],
   "source": [
    "@tf.function\n",
    "def step_actor(labels):\n",
    "    #consider labels to be an array or numpy array\n",
    "    dummy_states = np.zeros(len(labels))[...,tf.newaxis]\n",
    "    with tf.GradientTape() as tape:\n",
    "        l = loss_mse(labels, pol(dummy_states))\n",
    "        l = tf.reduce_mean(l)\n",
    "    grad = tape.gradient(l,pol.trainable_variables)\n",
    "    optimizer.apply_gradients(zip(grad, pol.trainable_variables))\n",
    "    return"
   ]
  },
  {
   "cell_type": "code",
   "execution_count": 194,
   "metadata": {},
   "outputs": [],
   "source": [
    "step_actor(labels)"
   ]
  },
  {
   "cell_type": "code",
   "execution_count": 195,
   "metadata": {},
   "outputs": [
    {
     "name": "stdout",
     "output_type": "stream",
     "text": [
      "[[0.03244116 0.04590941]]\n",
      "[-0.04215503 -0.03693446]\n",
      "[[-0.04217463  0.00400336]\n",
      " [-0.04444724  0.00205822]]\n",
      "[-0.47702054 -0.02662618]\n",
      "[[ 0.47046542]\n",
      " [-0.02165013]]\n",
      "[0.51450193]\n"
     ]
    }
   ],
   "source": [
    "for i in pol.trainable_variables:\n",
    "    print(i.numpy())"
   ]
  },
  {
   "cell_type": "markdown",
   "metadata": {},
   "source": [
    "Finally, I encounter a problem for the update of the actor, I have to define a different loss function iterating... so I use tf.map_fn"
   ]
  },
  {
   "cell_type": "code",
   "execution_count": 249,
   "metadata": {},
   "outputs": [
    {
     "data": {
      "text/plain": [
       "<tf.Tensor: id=22930, shape=(10, 1), dtype=float64, numpy=\n",
       "array([[0.00315722],\n",
       "       [0.13081384],\n",
       "       [0.23449677],\n",
       "       [0.04016552],\n",
       "       [0.20321879],\n",
       "       [0.31601222],\n",
       "       [0.29857452],\n",
       "       [0.14374718],\n",
       "       [0.23518598],\n",
       "       [0.02842308]])>"
      ]
     },
     "execution_count": 249,
     "metadata": {},
     "output_type": "execute_result"
    }
   ],
   "source": [
    "t1 = np.random.random_sample(10)[...,tf.newaxis]\n",
    "t2 = np.random.random_sample(10)[...,tf.newaxis]\n",
    "\n",
    "tf.multiply(t1,t2)"
   ]
  },
  {
   "cell_type": "code",
   "execution_count": 254,
   "metadata": {},
   "outputs": [
    {
     "name": "stdout",
     "output_type": "stream",
     "text": [
      "0.0031572235122459633\n",
      "0.13081383961044973\n",
      "0.23449677398091753\n",
      "0.04016551690820266\n",
      "0.20321879104287496\n",
      "0.31601221834416504\n",
      "0.2985745231337023\n",
      "0.14374717596680398\n",
      "0.23518597632881416\n",
      "0.028423077301905696\n"
     ]
    }
   ],
   "source": [
    "for i,j in zip(t1.flatten(), t2.flatten()):\n",
    "    print(i*j)"
   ]
  }
 ],
 "metadata": {
  "kernelspec": {
   "display_name": "Python 3",
   "language": "python",
   "name": "python3"
  },
  "language_info": {
   "codemirror_mode": {
    "name": "ipython",
    "version": 3
   },
   "file_extension": ".py",
   "mimetype": "text/x-python",
   "name": "python",
   "nbconvert_exporter": "python",
   "pygments_lexer": "ipython3",
   "version": "3.6.8"
  }
 },
 "nbformat": 4,
 "nbformat_minor": 2
}
