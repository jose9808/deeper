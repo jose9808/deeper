{
 "cells": [
  {
   "cell_type": "code",
   "execution_count": 1,
   "metadata": {},
   "outputs": [],
   "source": [
    "import tensorflow as tf\n",
    "import numpy as np\n",
    "from tensorflow.keras.layers import Dense\n"
   ]
  },
  {
   "cell_type": "code",
   "execution_count": 2,
   "metadata": {},
   "outputs": [],
   "source": [
    "class Actor(tf.keras.Model):\n",
    "    def __init__(self, state_shape, action_dim, max_action, units=[400, 300], name=\"Actor\"):\n",
    "        super().__init__(name=name)\n",
    "\n",
    "        self.l1 = Dense(units[0], name=\"L1\")\n",
    "        self.l2 = Dense(units[1], name=\"L2\")\n",
    "        self.l3 = Dense(action_dim, name=\"L3\")\n",
    "\n",
    "        self.max_action = max_action\n",
    "\n",
    "        with tf.device(\"/cpu:0\"):\n",
    "            self(tf.constant(np.zeros(shape=(1,)+state_shape, dtype=np.float32)))\n",
    "\n",
    "    def call(self, inputs):\n",
    "        features = tf.nn.relu(self.l1(inputs))\n",
    "        features = tf.nn.relu(self.l2(features))\n",
    "        features = self.l3(features)\n",
    "        action = self.max_action * tf.nn.tanh(features)\n",
    "        return action\n",
    "    \n",
    "    \n",
    " "
   ]
  },
  {
   "cell_type": "code",
   "execution_count": 3,
   "metadata": {},
   "outputs": [
    {
     "data": {
      "text/plain": [
       "<tf.Tensor: id=103, shape=(1, 1), dtype=float32, numpy=array([[-0.4862765]], dtype=float32)>"
      ]
     },
     "execution_count": 3,
     "metadata": {},
     "output_type": "execute_result"
    }
   ],
   "source": [
    "a=Actor((1,),1,3)\n",
    "state = np.array([[2]])\n",
    "a(state)"
   ]
  },
  {
   "cell_type": "code",
   "execution_count": 4,
   "metadata": {},
   "outputs": [],
   "source": [
    "class Critic(tf.keras.Model):\n",
    "    def __init__(self, state_shape, action_dim, units=[400, 300], name=\"Critic\"):\n",
    "        super().__init__(name=name)\n",
    "\n",
    "        self.l1 = Dense(units[0], name=\"L1\")\n",
    "        self.l2 = Dense(units[1], name=\"L2\")\n",
    "        self.l3 = Dense(1, name=\"L3\")\n",
    "\n",
    "        dummy_state = tf.constant(\n",
    "            np.zeros(shape=(1,)+state_shape, dtype=np.float32))\n",
    "        dummy_action = tf.constant(\n",
    "            np.zeros(shape=[1, action_dim], dtype=np.float32))\n",
    "        with tf.device(\"/cpu:0\"):\n",
    "            self([dummy_state, dummy_action])\n",
    "\n",
    "    def call(self, inputs):\n",
    "        states, actions = inputs\n",
    "        features = tf.concat([states, actions], axis=1)\n",
    "        features = tf.nn.relu(self.l1(features))\n",
    "        features = tf.nn.relu(self.l2(features))\n",
    "        features = self.l3(features)\n",
    "        return features"
   ]
  },
  {
   "cell_type": "code",
   "execution_count": 5,
   "metadata": {},
   "outputs": [
    {
     "data": {
      "text/plain": [
       "<tf.Tensor: id=223, shape=(1, 1), dtype=float32, numpy=array([[0.03162224]], dtype=float32)>"
      ]
     },
     "execution_count": 5,
     "metadata": {},
     "output_type": "execute_result"
    }
   ],
   "source": [
    "cc = Critic((1,),1)\n",
    "cc([tf.constant(state,dtype=np.float32),\n",
    "    tf.constant(a(state),dtype=np.float32)])"
   ]
  },
  {
   "cell_type": "code",
   "execution_count": 6,
   "metadata": {},
   "outputs": [],
   "source": [
    "state_shape = (1,)\n",
    "action_shape = 1\n",
    "\n",
    "actor = Actor(state_shape, action_shape,max_action=2)\n",
    "critic = Critic(state_shape,action_shape)\n",
    "\n",
    "actor_target = Actor(state_shape, action_shape,max_action=2)\n",
    "critic_target = Critic(state_shape,action_shape)"
   ]
  },
  {
   "cell_type": "code",
   "execution_count": 7,
   "metadata": {},
   "outputs": [
    {
     "data": {
      "text/plain": [
       "<tensorflow.python.keras.optimizer_v2.adam.Adam at 0x139ac8400>"
      ]
     },
     "execution_count": 7,
     "metadata": {},
     "output_type": "execute_result"
    }
   ],
   "source": [
    "tf.keras.optimizers.Adam(learning_rate=0.01)\n"
   ]
  },
  {
   "cell_type": "code",
   "execution_count": 8,
   "metadata": {},
   "outputs": [],
   "source": [
    "def update_towards_net2(net1,net2,tau=.01):\n",
    "    for source_variable,target_variable in zip(net1.trainable_variables, net2.trainable_variables):\n",
    "        source_variable.assign(tau*source_variable + (1.0 - tau)*target_variable)\n",
    "    return"
   ]
  },
  {
   "cell_type": "code",
   "execution_count": 9,
   "metadata": {},
   "outputs": [],
   "source": [
    "update_towards_net2(actor,actor_target)"
   ]
  },
  {
   "cell_type": "code",
   "execution_count": 21,
   "metadata": {},
   "outputs": [],
   "source": [
    "def give_action():\n",
    "    with tf.device(\"/cpu:0\"):\n",
    "        action = actor(state)\n",
    "        action += tf.random.normal(shape=action.shape, mean=0., stddev=0.1, dtype=tf.float32)\n",
    "        return tf.clip_by_value(action, -actor.max_action, actor.max_action)"
   ]
  },
  {
   "cell_type": "code",
   "execution_count": 22,
   "metadata": {},
   "outputs": [],
   "source": [
    "@tf.function\n",
    "def compute_tf_error_body(states, actions, next_states, rewards, dones):\n",
    "    with tf.device(self.device):\n",
    "        not_dones = 1. - dones\n",
    "        target_Q = self.critic_target( [next_states, actor_target(next_states)] )\n",
    "        target_Q = rewards + (not_dones * self.discount * target_Q)\n",
    "        target_Q = tf.stop_gradient(target_Q)\n",
    "        current_Q = self.critic([states, actions])\n",
    "        td_errors = target_Q - current_Q\n",
    "        return td_errors\n",
    "\n"
   ]
  },
  {
   "cell_type": "code",
   "execution_count": null,
   "metadata": {},
   "outputs": [],
   "source": [
    "with tf.device(\"/cpu:0\"):\n",
    "    with tf.GradientTape() as tape:\n",
    "        td_errors = compute_td_error_body(states, actions, next_states, rewards, done)\n",
    "#         critic_loss = tf.reduce_mean(huber_loss(td_errors, delta=self.max_grad) * weights)\n",
    "\n",
    "#             critic_grad = tape.gradient(\n",
    "#                 critic_loss, self.critic.trainable_variables)\n",
    "#             self.critic_optimizer.apply_gradients(\n",
    "#                 zip(critic_grad, self.critic.trainable_variables))\n",
    "\n",
    "#             with tf.GradientTape() as tape:\n",
    "#                 next_action = self.actor(states)\n",
    "#                 actor_loss = -tf.reduce_mean(self.critic([states, next_action]))\n",
    "\n",
    "#             actor_grad = tape.gradient(\n",
    "#                 actor_loss, self.actor.trainable_variables)\n",
    "#             self.actor_optimizer.apply_gradients(\n",
    "#                 zip(actor_grad, self.actor.trainable_variables))\n",
    "\n",
    "#             # Update target networks\n",
    "#             update_target_variables(\n",
    "#                 self.critic_target.weights, self.critic.weights, self.tau)\n",
    "#             update_target_variables(\n",
    "#                 self.actor_target.weights, self.actor.weights, self.tau)\n"
   ]
  },
  {
   "cell_type": "code",
   "execution_count": null,
   "metadata": {},
   "outputs": [],
   "source": []
  },
  {
   "cell_type": "code",
   "execution_count": null,
   "metadata": {},
   "outputs": [],
   "source": []
  },
  {
   "cell_type": "code",
   "execution_count": null,
   "metadata": {},
   "outputs": [],
   "source": []
  },
  {
   "cell_type": "code",
   "execution_count": null,
   "metadata": {},
   "outputs": [],
   "source": []
  },
  {
   "cell_type": "code",
   "execution_count": null,
   "metadata": {},
   "outputs": [],
   "source": []
  },
  {
   "cell_type": "code",
   "execution_count": null,
   "metadata": {},
   "outputs": [],
   "source": []
  }
 ],
 "metadata": {
  "kernelspec": {
   "display_name": "Python 3",
   "language": "python",
   "name": "python3"
  },
  "language_info": {
   "codemirror_mode": {
    "name": "ipython",
    "version": 3
   },
   "file_extension": ".py",
   "mimetype": "text/x-python",
   "name": "python",
   "nbconvert_exporter": "python",
   "pygments_lexer": "ipython3",
   "version": "3.7.1"
  }
 },
 "nbformat": 4,
 "nbformat_minor": 2
}
