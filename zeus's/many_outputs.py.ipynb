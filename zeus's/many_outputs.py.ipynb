{
 "cells": [
  {
   "cell_type": "code",
   "execution_count": 1,
   "metadata": {},
   "outputs": [],
   "source": [
    "import tensorflow as tf\n",
    "from tensorflow.keras.layers import Dense\n",
    "import numpy as np\n",
    "import matplotlib.pyplot as plt\n",
    "import os\n",
    "from tqdm import tqdm\n",
    "tf.keras.backend.set_floatx('float64')\n",
    "from misc import *\n",
    "from collections import deque\n",
    "from nets import Q2, Actor\n",
    "import random"
   ]
  },
  {
   "cell_type": "code",
   "execution_count": null,
   "metadata": {},
   "outputs": [],
   "source": [
    "\n",
    "class Q2(tf.keras.Model):\n",
    "    def __init__(self, valreg=0):\n",
    "        super(Q2,self).__init__()\n",
    "\n",
    "        self.l1 = Dense(30, input_shape=(1,),kernel_initializer=tf.random_uniform_initializer(),\n",
    "        bias_initializer = tf.random_uniform_initializer(),\n",
    "        kernel_regularizer=tf.keras.regularizers.l1(valreg),\n",
    "    activity_regularizer=tf.keras.regularizers.l2(valreg))\n",
    "        \n",
    "        self.l5 = Dense(2, kernel_regularizer=tf.keras.regularizers.l1(valreg),\n",
    "    activity_regularizer=tf.keras.regularizers.l2(valreg),\n",
    "    kernel_initializer=tf.random_uniform_initializer(),\n",
    "    bias_initializer = tf.random_uniform_initializer())\n",
    "\n",
    "    def call(self, input):\n",
    "        feat = tf.nn.sigmoid(self.l1(input))\n",
    "        feat = tf.nn.softmax(self.l5(feat))\n",
    "        return feat\n",
    "        \n",
    "    def predict(self, history_one):\n",
    "        inp = np.expand_dims(history_one, axis=0)\n",
    "        return np.squeeze(self(inp).numpy())\n",
    "\n",
    "    def __str__(self):\n",
    "        return self.name\n"
   ]
  },
  {
   "cell_type": "code",
   "execution_count": 60,
   "metadata": {},
   "outputs": [],
   "source": [
    "\n",
    "class Q(tf.keras.Model):\n",
    "    def __init__(self, valreg=0):\n",
    "        super(Q,self).__init__()\n",
    "\n",
    "        self.l1 = Dense(30, input_shape=(1,))\n",
    "        \n",
    "        self.l5 = Dense(2)\n",
    "\n",
    "    def call(self, input):\n",
    "        feat = tf.nn.sigmoid(self.l1(input))\n",
    "        feat = tf.nn.softmax(self.l5(feat))\n",
    "        return feat\n",
    "        \n",
    "    def predict(self, history_one):\n",
    "        inp = np.expand_dims(history_one, axis=0)\n",
    "        return np.squeeze(self(inp).numpy())\n",
    "\n",
    "    def __str__(self):\n",
    "        return self.name\n"
   ]
  },
  {
   "cell_type": "code",
   "execution_count": 73,
   "metadata": {},
   "outputs": [],
   "source": [
    "def create_dataset_guess(size_dataset=10**3, splits=1):\n",
    "    dataset = []\n",
    "    for i in range(size_dataset):\n",
    "        ph = np.random.choice([-1,1],1)[0]\n",
    "        b=-.7\n",
    "        p0 = Prob(ph*0.4, b, 0)\n",
    "        outcome = np.random.choice([0.,0.], 1, p=[p0,1-p0])[0]\n",
    "        po1=np.sum([Prob(pp*0.4,b,outcome) for pp in [-1,1]])\n",
    "        #probrew = Prob(action_guess*0.4, b, outcome)/po1  #UNKNOWN TO AGENT OF COURSE\n",
    "        ##reward = np.random.choice([1.,0.],1, p=[probrew, 1-probrew])[0]\n",
    "        dataset.append([ outcome, (ph+2.)])\n",
    "    data = np.split(np.array(dataset), splits+(len(dataset)%splits ))\n",
    "    return data"
   ]
  },
  {
   "cell_type": "code",
   "execution_count": 74,
   "metadata": {},
   "outputs": [],
   "source": [
    "def epocheando(data):\n",
    "    for batch in range(len(data)):\n",
    "        entries = []\n",
    "        labels=[]\n",
    "        for k in data[batch]:\n",
    "            #entriescat.append(np.expand_dims([k[0][1],k[0][2]], axis=0))\n",
    "            entries.append(np.expand_dims(k[0], axis=0))\n",
    "            labels.append(k[1])\n",
    "\n",
    "        with tf.GradientTape() as tape:\n",
    "            tape.watch(q2.trainable_variables)\n",
    "            preds = q2(np.expand_dims(entries,axis=1))\n",
    "            loss =tf.keras.losses.binary_crossentropy(np.expand_dims(labels,axis=1),preds)\n",
    "\n",
    "            loss = tf.reduce_mean(loss)\n",
    "            grads = tape.gradient(loss,q2.trainable_variables)\n",
    "            opt.apply_gradients(zip(grads, q2.trainable_variables))\n",
    "    return loss"
   ]
  },
  {
   "cell_type": "code",
   "execution_count": 75,
   "metadata": {},
   "outputs": [
    {
     "name": "stdout",
     "output_type": "stream",
     "text": [
      "1 / 60\n",
      "7 / 60\n",
      "13 / 60\n",
      "19 / 60\n",
      "25 / 60\n",
      "31 / 60\n",
      "37 / 60\n",
      "43 / 60\n",
      "49 / 60\n",
      "55 / 60\n"
     ]
    },
    {
     "data": {
      "text/plain": [
       "[<matplotlib.lines.Line2D at 0x7fd46dcdac88>]"
      ]
     },
     "execution_count": 75,
     "metadata": {},
     "output_type": "execute_result"
    },
    {
     "data": {
      "image/png": "[encoded data removed]",
      "text/plain": [
       "<Figure size 432x288 with 1 Axes>"
      ]
     },
     "metadata": {},
     "output_type": "display_data"
    }
   ],
   "source": [
    "q2 = Q()\n",
    "data = create_dataset_guess(10**3, 10)\n",
    "opt = tf.keras.optimizers.Adam(lr=10**-4)\n",
    "l=[]\n",
    "N = 60\n",
    "for ep in range(N):\n",
    "    l.append(epocheando(data))\n",
    "    if ep%(N/10) == 1:\n",
    "        print(ep, \"/\", N)\n",
    "plt.plot(l)"
   ]
  },
  {
   "cell_type": "code",
   "execution_count": 76,
   "metadata": {},
   "outputs": [
    {
     "name": "stdout",
     "output_type": "stream",
     "text": [
      "1\n",
      "0\n"
     ]
    }
   ],
   "source": [
    "for outcome in [0.,1.]:\n",
    "    print(np.argmax(np.squeeze(q2(np.array([[outcome]])))))"
   ]
  },
  {
   "cell_type": "code",
   "execution_count": 77,
   "metadata": {},
   "outputs": [
    {
     "data": {
      "text/plain": [
       "<tf.Tensor: shape=(1, 2), dtype=float64, numpy=array([[0.5, 0.5]])>"
      ]
     },
     "execution_count": 77,
     "metadata": {},
     "output_type": "execute_result"
    }
   ],
   "source": [
    "q2(np.array([[0.]]))"
   ]
  },
  {
   "cell_type": "code",
   "execution_count": null,
   "metadata": {},
   "outputs": [],
   "source": []
  },
  {
   "cell_type": "code",
   "execution_count": null,
   "metadata": {},
   "outputs": [],
   "source": []
  },
  {
   "cell_type": "code",
   "execution_count": 78,
   "metadata": {},
   "outputs": [],
   "source": [
    "from __future__ import absolute_import, division, print_function, unicode_literals\n",
    "\n",
    "# TensorFlow and tf.keras\n",
    "import tensorflow as tf\n",
    "from tensorflow import keras\n",
    "\n",
    "# Helper libraries\n",
    "import numpy as np\n",
    "import matplotlib.pyplot as plt"
   ]
  },
  {
   "cell_type": "code",
   "execution_count": 79,
   "metadata": {},
   "outputs": [
    {
     "name": "stdout",
     "output_type": "stream",
     "text": [
      "Downloading data from https://storage.googleapis.com/tensorflow/tf-keras-datasets/train-labels-idx1-ubyte.gz\n",
      "32768/29515 [=================================] - 0s 1us/step\n",
      "Downloading data from https://storage.googleapis.com/tensorflow/tf-keras-datasets/train-images-idx3-ubyte.gz\n",
      "26427392/26421880 [==============================] - 4s 0us/step\n",
      "Downloading data from https://storage.googleapis.com/tensorflow/tf-keras-datasets/t10k-labels-idx1-ubyte.gz\n",
      "8192/5148 [===============================================] - 0s 0us/step\n",
      "Downloading data from https://storage.googleapis.com/tensorflow/tf-keras-datasets/t10k-images-idx3-ubyte.gz\n",
      "4423680/4422102 [==============================] - 1s 0us/step\n"
     ]
    }
   ],
   "source": [
    "\n",
    "\n",
    "fashion_mnist = keras.datasets.fashion_mnist\n",
    "\n",
    "(train_images, train_labels), (test_images, test_labels) = fashion_mnist.load_data()\n",
    "    "
   ]
  },
  {
   "cell_type": "code",
   "execution_count": 80,
   "metadata": {},
   "outputs": [
    {
     "data": {
      "text/plain": [
       "array([9, 0, 0, ..., 3, 0, 5], dtype=uint8)"
      ]
     },
     "execution_count": 80,
     "metadata": {},
     "output_type": "execute_result"
    }
   ],
   "source": [
    "train_labels"
   ]
  },
  {
   "cell_type": "code",
   "execution_count": 82,
   "metadata": {},
   "outputs": [
    {
     "data": {
      "text/plain": [
       "(60000, 28, 28)"
      ]
     },
     "execution_count": 82,
     "metadata": {},
     "output_type": "execute_result"
    }
   ],
   "source": [
    "train_images.shape"
   ]
  },
  {
   "cell_type": "code",
   "execution_count": 124,
   "metadata": {},
   "outputs": [],
   "source": [
    "class modelito(tf.keras.Model):\n",
    "    def __init__(self):\n",
    "        super(modelito,self).__init__()\n",
    "        self.l1 = tf.keras.layers.Flatten(input_shape=((1,28,28)))\n",
    "        #l1(np.array([[[1.,0.],[2.,3.]]]))\n",
    "        self.l2 = tf.keras.layers.Dense(128)\n",
    "        self.l3 =tf.keras.layers.Dense(10)\n",
    "    def call(self, inpu):\n",
    "        feat = self.l1(inpu)\n",
    "        feat = tf.nn.relu(feat)\n",
    "        feat = self.l2(feat)\n",
    "        feat = self.l3(feat)\n",
    "        return feat"
   ]
  },
  {
   "cell_type": "code",
   "execution_count": 125,
   "metadata": {},
   "outputs": [],
   "source": [
    "opti = tf.keras.optimizers.Adam(lr=10**-3)"
   ]
  },
  {
   "cell_type": "code",
   "execution_count": 126,
   "metadata": {},
   "outputs": [],
   "source": [
    "mod = modelito()"
   ]
  },
  {
   "cell_type": "code",
   "execution_count": 128,
   "metadata": {},
   "outputs": [],
   "source": [
    "train_images = train_images / 255.0\n",
    "\n",
    "test_images = test_images / 255.0\n"
   ]
  },
  {
   "cell_type": "code",
   "execution_count": 129,
   "metadata": {},
   "outputs": [
    {
     "data": {
      "text/plain": [
       "<tf.Tensor: shape=(1, 10), dtype=float64, numpy=\n",
       "array([[ 1.49088475,  1.59907642, -0.83359469,  1.15911976,  0.34774173,\n",
       "        -0.05651318, -0.81876191,  0.64789741,  0.32424006,  0.71445781]])>"
      ]
     },
     "execution_count": 129,
     "metadata": {},
     "output_type": "execute_result"
    }
   ],
   "source": [
    "mod(np.expand_dims(train_images[0],axis=0))"
   ]
  },
  {
   "cell_type": "code",
   "execution_count": 148,
   "metadata": {},
   "outputs": [],
   "source": [
    "mod.compile(optimizer='adam',\n",
    "              loss=tf.keras.losses.SparseCategoricalCrossentropy(from_logits=True),\n",
    "              metrics=['accuracy'])"
   ]
  },
  {
   "cell_type": "code",
   "execution_count": 150,
   "metadata": {},
   "outputs": [
    {
     "name": "stdout",
     "output_type": "stream",
     "text": [
      "Train on 60000 samples\n",
      "Epoch 1/10\n",
      "60000/60000 [==============================] - 5s 75us/sample - loss: 0.5429 - accuracy: 0.8125\n",
      "Epoch 2/10\n",
      "60000/60000 [==============================] - 4s 72us/sample - loss: 0.4580 - accuracy: 0.8411\n",
      "Epoch 3/10\n",
      "60000/60000 [==============================] - 4s 71us/sample - loss: 0.4412 - accuracy: 0.8466\n",
      "Epoch 4/10\n",
      "60000/60000 [==============================] - 5s 76us/sample - loss: 0.4331 - accuracy: 0.8494\n",
      "Epoch 5/10\n",
      "60000/60000 [==============================] - 4s 68us/sample - loss: 0.4259 - accuracy: 0.8514\n",
      "Epoch 6/10\n",
      "60000/60000 [==============================] - 5s 87us/sample - loss: 0.4189 - accuracy: 0.8526\n",
      "Epoch 7/10\n",
      "60000/60000 [==============================] - 4s 71us/sample - loss: 0.4143 - accuracy: 0.8549\n",
      "Epoch 8/10\n",
      "60000/60000 [==============================] - 4s 69us/sample - loss: 0.4103 - accuracy: 0.8552\n",
      "Epoch 9/10\n",
      "60000/60000 [==============================] - 5s 78us/sample - loss: 0.4046 - accuracy: 0.8578\n",
      "Epoch 10/10\n",
      "60000/60000 [==============================] - 4s 75us/sample - loss: 0.4036 - accuracy: 0.8581\n"
     ]
    },
    {
     "data": {
      "text/plain": [
       "<tensorflow.python.keras.callbacks.History at 0x7fd438dfdcf8>"
      ]
     },
     "execution_count": 150,
     "metadata": {},
     "output_type": "execute_result"
    }
   ],
   "source": [
    "mod.fit(train_images, train_labels, epochs=10)\n"
   ]
  },
  {
   "cell_type": "code",
   "execution_count": null,
   "metadata": {},
   "outputs": [],
   "source": []
  }
 ],
 "metadata": {
  "kernelspec": {
   "display_name": "Python 3",
   "language": "python",
   "name": "python3"
  },
  "language_info": {
   "codemirror_mode": {
    "name": "ipython",
    "version": 3
   },
   "file_extension": ".py",
   "mimetype": "text/x-python",
   "name": "python",
   "nbconvert_exporter": "python",
   "pygments_lexer": "ipython3",
   "version": "3.6.9"
  }
 },
 "nbformat": 4,
 "nbformat_minor": 2
}
