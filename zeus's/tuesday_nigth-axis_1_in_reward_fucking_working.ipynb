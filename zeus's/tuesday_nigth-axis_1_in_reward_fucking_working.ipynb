{
 "cells": [
  {
   "cell_type": "markdown",
   "metadata": {},
   "source": [
    "## we see how Q-values are learnt with a fixed beta ##"
   ]
  },
  {
   "cell_type": "code",
   "execution_count": 1,
   "metadata": {},
   "outputs": [],
   "source": [
    "import tensorflow as tf\n",
    "from tensorflow.keras.layers import Dense\n",
    "import numpy as np\n",
    "import matplotlib.pyplot as plt\n",
    "import os\n",
    "from tqdm import tqdm_notebook as tqdm\n",
    "tf.keras.backend.set_floatx('float64')\n",
    "from misc import *\n",
    "from collections import deque\n",
    "from datetime import datetime\n",
    "import random"
   ]
  },
  {
   "cell_type": "code",
   "execution_count": 2,
   "metadata": {},
   "outputs": [],
   "source": [
    "def Prob(alpha, beta, n):\n",
    "    p0 = np.exp(-(alpha-beta)**2)\n",
    "    if n == 0:\n",
    "        return p0\n",
    "    else:\n",
    "        return 1-p0\n",
    "\n",
    "def qval(beta, n, guess):\n",
    "    #dolinar guessing rule (= max-likelihood for L=1, careful sign of \\beta)\n",
    "    alpha = 0.4\n",
    "    pn = np.sum([Prob(g*alpha, beta, n) for g in [-1,1]])\n",
    "    return Prob(guess*alpha, beta, n)/pn\n"
   ]
  },
  {
   "cell_type": "code",
   "execution_count": 3,
   "metadata": {},
   "outputs": [],
   "source": [
    "class DataSetBeta():\n",
    "    def __init__(self, rpbgo=10, beta=-.7, size=10**3):\n",
    "        #rpbgo = rewards per beta-guess-outcome\n",
    "        self.nbetas=1\n",
    "        self.beta = beta\n",
    "        self.betas = np.array([self.beta])\n",
    "        self.rpbgo=rpbgo\n",
    "        self.size = size\n",
    "        d = []\n",
    "        \n",
    "        for k in range(self.size):\n",
    "            proboutcome = Prob(0.4,self.beta,0)\n",
    "            outcome = np.random.choice([0.,1.],1,p=[proboutcome, 1-proboutcome])[0]\n",
    "            guess = np.random.choice([-1,1],1)[0]\n",
    "            mean_bernoulli = qval(self.beta, outcome, guess)\n",
    "            reward = np.random.choice([1.,0,],1,p=[mean_bernoulli, 1.-mean_bernoulli])[0]\n",
    "            d.append([self.beta, outcome, guess, reward])\n",
    "        self.data_unsplitted = np.array(d)\n",
    "    \n",
    "    def BatchSizeSplit(self, batch_size):\n",
    "        dataset = self.data_unsplitted.copy()\n",
    "        splits = int(len(dataset)/batch_size)\n",
    "        if len(dataset)%batch_size !=0:\n",
    "            #print(\"Not divisible!: breaking into len(dataset)%batch_size\")\n",
    "            splits = int(len(dataset)/batch_size)\n",
    "            sobra = int(len(dataset)%batch_size)\n",
    "            splited = np.split(dataset[sobra:], splits + len(dataset[sobra:])%splits)\n",
    "            return splited, len(splited[0])\n",
    "        else:\n",
    "            splited = np.split(dataset, splits + len(dataset)%splits)\n",
    "            return splited, len(splited[0])\n"
   ]
  },
  {
   "cell_type": "code",
   "execution_count": 5,
   "metadata": {},
   "outputs": [],
   "source": [
    "\n",
    "class Net(tf.keras.Model):\n",
    "    def __init__(self, valreg=0.01, seed_val=0.1):\n",
    "        super(Net,self).__init__()\n",
    "\n",
    "        self.l1 = Dense(50, input_shape=(3,),kernel_initializer=tf.random_uniform_initializer(minval=-seed_val, maxval=seed_val),\n",
    "        bias_initializer = tf.random_uniform_initializer(minval=-seed_val, maxval=seed_val),\n",
    "        kernel_regularizer=tf.keras.regularizers.l1(valreg),\n",
    "    activity_regularizer=tf.keras.regularizers.l2(valreg))\n",
    "\n",
    "        self.l2 = Dense(50, kernel_regularizer=tf.keras.regularizers.l1(valreg),\n",
    "    activity_regularizer=tf.keras.regularizers.l2(valreg),\n",
    "    kernel_initializer=tf.random_uniform_initializer(minval=-seed_val, maxval=seed_val),\n",
    "    bias_initializer = tf.random_uniform_initializer(minval=-seed_val, maxval=seed_val))\n",
    "        self.l3 = Dense(50, kernel_regularizer=tf.keras.regularizers.l1(valreg),\n",
    "    activity_regularizer=tf.keras.regularizers.l2(valreg),\n",
    "    kernel_initializer=tf.random_uniform_initializer(minval=-seed_val, maxval=seed_val),\n",
    "    bias_initializer = tf.random_uniform_initializer(minval=-seed_val, maxval=seed_val))\n",
    "\n",
    "        self.l4 = Dense(50, kernel_regularizer=tf.keras.regularizers.l1(valreg),\n",
    "    activity_regularizer=tf.keras.regularizers.l2(valreg),\n",
    "    kernel_initializer=tf.random_uniform_initializer(minval=-seed_val, maxval=seed_val),\n",
    "    bias_initializer = tf.random_uniform_initializer(minval=-seed_val, maxval=seed_val))\n",
    "\n",
    "        self.l5 = Dense(1, kernel_regularizer=tf.keras.regularizers.l1(valreg),\n",
    "    activity_regularizer=tf.keras.regularizers.l2(valreg),\n",
    "    kernel_initializer=tf.random_uniform_initializer(minval=-seed_val, maxval=seed_val),\n",
    "    bias_initializer = tf.random_uniform_initializer(minval=-seed_val, maxval=seed_val))\n",
    "\n",
    "    def call(self, input):\n",
    "        feat = tf.nn.relu(self.l1(input))\n",
    " #       feat = tf.nn.dropout(feat, rate=0.01)\n",
    "        feat = tf.nn.relu(self.l2(feat))\n",
    "#        feat = tf.nn.dropout(feat, rate=0.01)\n",
    "        feat = tf.nn.relu(self.l3(feat))\n",
    "        feat = tf.nn.relu(self.l4(feat))\n",
    "        feat = tf.nn.sigmoid(self.l5(feat))\n",
    "        return feat\n",
    "\n",
    "    def predict(self, history_one):\n",
    "        inp = np.expand_dims(history_one, axis=0)\n",
    "        return np.squeeze(self(inp).numpy())\n",
    "\n",
    "    def __str__(self):\n",
    "        return self.name\n",
    "\n",
    "    "
   ]
  },
  {
   "cell_type": "code",
   "execution_count": 6,
   "metadata": {},
   "outputs": [],
   "source": [
    "net = Net()\n",
    "optimizer = tf.keras.optimizers.Adam(lr=0.001)\n",
    "\n",
    "dataset = DataSetBeta(10**3)\n",
    "splitted_ds, batch_size = dataset.BatchSizeSplit(10)\n"
   ]
  },
  {
   "cell_type": "code",
   "execution_count": 8,
   "metadata": {},
   "outputs": [
    {
     "data": {
      "text/plain": [
       "<tf.Tensor: shape=(10, 1, 1), dtype=float64, numpy=\n",
       "array([[[0.5062269 ]],\n",
       "\n",
       "       [[0.50626467]],\n",
       "\n",
       "       [[0.50626467]],\n",
       "\n",
       "       [[0.50626467]],\n",
       "\n",
       "       [[0.5062269 ]],\n",
       "\n",
       "       [[0.5062814 ]],\n",
       "\n",
       "       [[0.50626467]],\n",
       "\n",
       "       [[0.50629308]],\n",
       "\n",
       "       [[0.50626467]],\n",
       "\n",
       "       [[0.50626467]]])>"
      ]
     },
     "execution_count": 8,
     "metadata": {},
     "output_type": "execute_result"
    }
   ],
   "source": [
    "net(np.expand_dims(splitted_ds[0][:,[0,1,2]],axis=1))"
   ]
  },
  {
   "cell_type": "code",
   "execution_count": 22,
   "metadata": {},
   "outputs": [
    {
     "ename": "ValueError",
     "evalue": "Shapes (1, 10, 1) and (1, 10) are incompatible",
     "output_type": "error",
     "traceback": [
      "\u001b[0;31m---------------------------------------------------------------------------\u001b[0m",
      "\u001b[0;31mValueError\u001b[0m                                Traceback (most recent call last)",
      "\u001b[0;32m<ipython-input-22-b3d847addcfd>\u001b[0m in \u001b[0;36m<module>\u001b[0;34m()\u001b[0m\n\u001b[0;32m----> 1\u001b[0;31m \u001b[0mtf\u001b[0m\u001b[0;34m.\u001b[0m\u001b[0mcompat\u001b[0m\u001b[0;34m.\u001b[0m\u001b[0mv1\u001b[0m\u001b[0;34m.\u001b[0m\u001b[0mlosses\u001b[0m\u001b[0;34m.\u001b[0m\u001b[0mhuber_loss\u001b[0m\u001b[0;34m(\u001b[0m\u001b[0mres\u001b[0m\u001b[0;34m,\u001b[0m \u001b[0mpreds\u001b[0m\u001b[0;34m,\u001b[0m \u001b[0mreduction\u001b[0m\u001b[0;34m=\u001b[0m\u001b[0mtf\u001b[0m\u001b[0;34m.\u001b[0m\u001b[0mcompat\u001b[0m\u001b[0;34m.\u001b[0m\u001b[0mv1\u001b[0m\u001b[0;34m.\u001b[0m\u001b[0mlosses\u001b[0m\u001b[0;34m.\u001b[0m\u001b[0mReduction\u001b[0m\u001b[0;34m.\u001b[0m\u001b[0mNONE\u001b[0m\u001b[0;34m)\u001b[0m\u001b[0;34m\u001b[0m\u001b[0;34m\u001b[0m\u001b[0m\n\u001b[0m",
      "\u001b[0;32m/home/cooper-cooper/.local/lib/python3.6/site-packages/tensorflow_core/python/ops/losses/losses_impl.py\u001b[0m in \u001b[0;36mhuber_loss\u001b[0;34m(labels, predictions, weights, delta, scope, loss_collection, reduction)\u001b[0m\n\u001b[1;32m    422\u001b[0m     \u001b[0mpredictions\u001b[0m \u001b[0;34m=\u001b[0m \u001b[0mmath_ops\u001b[0m\u001b[0;34m.\u001b[0m\u001b[0mcast\u001b[0m\u001b[0;34m(\u001b[0m\u001b[0mpredictions\u001b[0m\u001b[0;34m,\u001b[0m \u001b[0mdtype\u001b[0m\u001b[0;34m=\u001b[0m\u001b[0mdtypes\u001b[0m\u001b[0;34m.\u001b[0m\u001b[0mfloat32\u001b[0m\u001b[0;34m)\u001b[0m\u001b[0;34m\u001b[0m\u001b[0;34m\u001b[0m\u001b[0m\n\u001b[1;32m    423\u001b[0m     \u001b[0mlabels\u001b[0m \u001b[0;34m=\u001b[0m \u001b[0mmath_ops\u001b[0m\u001b[0;34m.\u001b[0m\u001b[0mcast\u001b[0m\u001b[0;34m(\u001b[0m\u001b[0mlabels\u001b[0m\u001b[0;34m,\u001b[0m \u001b[0mdtype\u001b[0m\u001b[0;34m=\u001b[0m\u001b[0mdtypes\u001b[0m\u001b[0;34m.\u001b[0m\u001b[0mfloat32\u001b[0m\u001b[0;34m)\u001b[0m\u001b[0;34m\u001b[0m\u001b[0;34m\u001b[0m\u001b[0m\n\u001b[0;32m--> 424\u001b[0;31m     \u001b[0mpredictions\u001b[0m\u001b[0;34m.\u001b[0m\u001b[0mget_shape\u001b[0m\u001b[0;34m(\u001b[0m\u001b[0;34m)\u001b[0m\u001b[0;34m.\u001b[0m\u001b[0massert_is_compatible_with\u001b[0m\u001b[0;34m(\u001b[0m\u001b[0mlabels\u001b[0m\u001b[0;34m.\u001b[0m\u001b[0mget_shape\u001b[0m\u001b[0;34m(\u001b[0m\u001b[0;34m)\u001b[0m\u001b[0;34m)\u001b[0m\u001b[0;34m\u001b[0m\u001b[0;34m\u001b[0m\u001b[0m\n\u001b[0m\u001b[1;32m    425\u001b[0m     \u001b[0merror\u001b[0m \u001b[0;34m=\u001b[0m \u001b[0mmath_ops\u001b[0m\u001b[0;34m.\u001b[0m\u001b[0msubtract\u001b[0m\u001b[0;34m(\u001b[0m\u001b[0mpredictions\u001b[0m\u001b[0;34m,\u001b[0m \u001b[0mlabels\u001b[0m\u001b[0;34m)\u001b[0m\u001b[0;34m\u001b[0m\u001b[0;34m\u001b[0m\u001b[0m\n\u001b[1;32m    426\u001b[0m     \u001b[0mabs_error\u001b[0m \u001b[0;34m=\u001b[0m \u001b[0mmath_ops\u001b[0m\u001b[0;34m.\u001b[0m\u001b[0mabs\u001b[0m\u001b[0;34m(\u001b[0m\u001b[0merror\u001b[0m\u001b[0;34m)\u001b[0m\u001b[0;34m\u001b[0m\u001b[0;34m\u001b[0m\u001b[0m\n",
      "\u001b[0;32m/home/cooper-cooper/.local/lib/python3.6/site-packages/tensorflow_core/python/framework/tensor_shape.py\u001b[0m in \u001b[0;36massert_is_compatible_with\u001b[0;34m(self, other)\u001b[0m\n\u001b[1;32m   1108\u001b[0m     \"\"\"\n\u001b[1;32m   1109\u001b[0m     \u001b[0;32mif\u001b[0m \u001b[0;32mnot\u001b[0m \u001b[0mself\u001b[0m\u001b[0;34m.\u001b[0m\u001b[0mis_compatible_with\u001b[0m\u001b[0;34m(\u001b[0m\u001b[0mother\u001b[0m\u001b[0;34m)\u001b[0m\u001b[0;34m:\u001b[0m\u001b[0;34m\u001b[0m\u001b[0;34m\u001b[0m\u001b[0m\n\u001b[0;32m-> 1110\u001b[0;31m       \u001b[0;32mraise\u001b[0m \u001b[0mValueError\u001b[0m\u001b[0;34m(\u001b[0m\u001b[0;34m\"Shapes %s and %s are incompatible\"\u001b[0m \u001b[0;34m%\u001b[0m \u001b[0;34m(\u001b[0m\u001b[0mself\u001b[0m\u001b[0;34m,\u001b[0m \u001b[0mother\u001b[0m\u001b[0;34m)\u001b[0m\u001b[0;34m)\u001b[0m\u001b[0;34m\u001b[0m\u001b[0;34m\u001b[0m\u001b[0m\n\u001b[0m\u001b[1;32m   1111\u001b[0m \u001b[0;34m\u001b[0m\u001b[0m\n\u001b[1;32m   1112\u001b[0m   \u001b[0;32mdef\u001b[0m \u001b[0mmost_specific_compatible_shape\u001b[0m\u001b[0;34m(\u001b[0m\u001b[0mself\u001b[0m\u001b[0;34m,\u001b[0m \u001b[0mother\u001b[0m\u001b[0;34m)\u001b[0m\u001b[0;34m:\u001b[0m\u001b[0;34m\u001b[0m\u001b[0;34m\u001b[0m\u001b[0m\n",
      "\u001b[0;31mValueError\u001b[0m: Shapes (1, 10, 1) and (1, 10) are incompatible"
     ]
    }
   ],
   "source": []
  },
  {
   "cell_type": "code",
   "execution_count": 19,
   "metadata": {},
   "outputs": [],
   "source": []
  },
  {
   "cell_type": "code",
   "execution_count": 21,
   "metadata": {},
   "outputs": [
    {
     "data": {
      "text/plain": [
       "<tf.Tensor: shape=(1, 10), dtype=float64, numpy=\n",
       "array([[0.24754802, 0.24753338, 0.24753338, 0.24753338, 0.24754802,\n",
       "        0.24752689, 0.24753338, 0.24752237, 0.24753338, 0.24753338]])>"
      ]
     },
     "execution_count": 21,
     "metadata": {},
     "output_type": "execute_result"
    }
   ],
   "source": [
    "preds =net(np.expand_dims(splitted_ds[0][:,[0,1,2]],axis=0))\n",
    "res = np.expand_dims(splitted_ds[0][:,3],axis=0)\n",
    "tf.keras.losses.MSE(res,preds)"
   ]
  },
  {
   "cell_type": "code",
   "execution_count": 26,
   "metadata": {},
   "outputs": [
    {
     "data": {
      "text/plain": [
       "<tf.Tensor: shape=(1, 10), dtype=float64, numpy=\n",
       "array([[0.24754802, 0.24753338, 0.24753338, 0.24753338, 0.24754802,\n",
       "        0.24752689, 0.24753338, 0.24752237, 0.24753338, 0.24753338]])>"
      ]
     },
     "execution_count": 26,
     "metadata": {},
     "output_type": "execute_result"
    }
   ],
   "source": [
    "preds =net(np.expand_dims(splitted_ds[0][:,[0,1,2]],axis=0))\n",
    "res = np.expand_dims(splitted_ds[0][:,3],axis=0)\n",
    "tf.keras.losses.MSE(res,preds)"
   ]
  },
  {
   "cell_type": "code",
   "execution_count": 30,
   "metadata": {},
   "outputs": [
    {
     "data": {
      "text/plain": [
       "<tf.Tensor: shape=(10, 1), dtype=float32, numpy=\n",
       "array([[0.12813284],\n",
       "       [0.12188728],\n",
       "       [0.12188728],\n",
       "       [0.12188728],\n",
       "       [0.12813284],\n",
       "       [0.12187904],\n",
       "       [0.12188728],\n",
       "       [0.12816633],\n",
       "       [0.12188728],\n",
       "       [0.12188728]], dtype=float32)>"
      ]
     },
     "execution_count": 30,
     "metadata": {},
     "output_type": "execute_result"
    }
   ],
   "source": [
    "preds =net(splitted_ds[0][:,[0,1,2]])\n",
    "res = np.expand_dims(splitted_ds[0][:,3],axis=1)\n",
    "tf.compat.v1.losses.huber_loss(res, preds, reduction=tf.compat.v1.losses.Reduction.NONE)"
   ]
  },
  {
   "cell_type": "code",
   "execution_count": 31,
   "metadata": {},
   "outputs": [],
   "source": [
    "\n",
    "def training(batch_size=10.):\n",
    "    net = Net()\n",
    "    optimizer = tf.keras.optimizers.Adam(lr=0.001/2)\n",
    "\n",
    "    dataset = DataSetBeta(10**3)\n",
    "    splitted_ds, batch_size = dataset.BatchSizeSplit(batch_size)\n",
    "    \n",
    "    net(splitted_ds[0][:,[0,1,2]]) #initialize the network\n",
    "\n",
    "    print(\"batch_size: \",batch_size)\n",
    "    histo_preds = {} #here i save the predictions\n",
    "    loss_ev = []\n",
    "\n",
    "    epochs=10\n",
    "    for epoch in tqdm(range(5)):\n",
    "        losses=[]\n",
    "        for mini_batch in splitted_ds:\n",
    "            with tf.GradientTape() as tape:\n",
    "                tape.watch(net.trainable_variables)\n",
    "                preds = net(mini_batch[:,[0,1,2]])\n",
    "                rew = np.expand_dims(mini_batch[:,3],axis=1)\n",
    "                loss = tf.keras.losses.MSE(rew,preds)\n",
    "                loss = tf.reduce_mean(loss)\n",
    "                grads = tape.gradient(loss, net.trainable_variables)\n",
    "                optimizer.apply_gradients(zip(grads, net.trainable_variables))\n",
    "                losses.append(loss)\n",
    "        loss_ev.append(np.mean(np.array(losses)))\n",
    "        \n",
    "        splitted_ds, batch_size = dataset.BatchSizeSplit(batch_size)\n",
    "\n",
    "\n",
    "        histo_preds[str(epoch)] ={} \n",
    "        histo_preds[str(epoch)][\"epoch_number\"] = epoch\n",
    "        histo_preds[str(epoch)][\"values\"] = {}\n",
    "\n",
    "        index=0\n",
    "        for n1 in [0.,1.]:\n",
    "            for guess in [-1.,1.]:\n",
    "                foo =np.array([[b,n1,guess] for b in dataset.betas]) #betas_train defined as global in create_dataset_l2()\n",
    "                histo_preds[str(epoch)][\"values\"][str(index)] = np.squeeze(net(foo))\n",
    "                index+=1\n",
    "\n",
    "    return loss_ev, histo_preds, net"
   ]
  },
  {
   "cell_type": "code",
   "execution_count": 39,
   "metadata": {},
   "outputs": [
    {
     "name": "stdout",
     "output_type": "stream",
     "text": [
      "batch_size:  1\n"
     ]
    },
    {
     "data": {
      "application/vnd.jupyter.widget-view+json": {
       "model_id": "f7660302fab6476ab6a8f52004d7bad3"
      }
     },
     "metadata": {},
     "output_type": "display_data"
    },
    {
     "name": "stdout",
     "output_type": "stream",
     "text": [
      "\n"
     ]
    }
   ],
   "source": [
    "results1 = {}\n",
    "batches1 = [1]\n",
    "for batch_size in batches1:\n",
    "    results1[str(batch_size)] = training(batch_size)\n",
    "    "
   ]
  },
  {
   "cell_type": "code",
   "execution_count": 36,
   "metadata": {},
   "outputs": [
    {
     "name": "stdout",
     "output_type": "stream",
     "text": [
      "batch_size:  2\n"
     ]
    },
    {
     "data": {
      "application/vnd.jupyter.widget-view+json": {
       "model_id": "b646d9f726cd467189df277df97adf6a"
      }
     },
     "metadata": {},
     "output_type": "display_data"
    },
    {
     "name": "stdout",
     "output_type": "stream",
     "text": [
      "\n",
      "batch_size:  10\n"
     ]
    },
    {
     "data": {
      "application/vnd.jupyter.widget-view+json": {
       "model_id": "013ded752ad54f69837920a67e6c871e"
      }
     },
     "metadata": {},
     "output_type": "display_data"
    },
    {
     "name": "stdout",
     "output_type": "stream",
     "text": [
      "\n",
      "batch_size:  16\n"
     ]
    },
    {
     "data": {
      "application/vnd.jupyter.widget-view+json": {
       "model_id": "c25ff9a7017a43baa4891d93425e8f73"
      }
     },
     "metadata": {},
     "output_type": "display_data"
    },
    {
     "name": "stdout",
     "output_type": "stream",
     "text": [
      "\n",
      "batch_size:  32\n"
     ]
    },
    {
     "data": {
      "application/vnd.jupyter.widget-view+json": {
       "model_id": "d19b04c707c849eea80ae0e6ddf20282"
      }
     },
     "metadata": {},
     "output_type": "display_data"
    },
    {
     "name": "stdout",
     "output_type": "stream",
     "text": [
      "\n"
     ]
    }
   ],
   "source": [
    "results = {}\n",
    "batches = [2,10,16,32]\n",
    "for batch_size in batches:\n",
    "    results[str(batch_size)] = training(batch_size)\n",
    "    "
   ]
  },
  {
   "cell_type": "code",
   "execution_count": 42,
   "metadata": {},
   "outputs": [
    {
     "data": {
      "text/plain": [
       "<matplotlib.legend.Legend at 0x7ff2a4fe6a58>"
      ]
     },
     "execution_count": 42,
     "metadata": {},
     "output_type": "execute_result"
    },
    {
     "data": {
      "image/png": "[encoded data removed]",
      "text/plain": [
       "<Figure size 720x720 with 1 Axes>"
      ]
     },
     "metadata": {},
     "output_type": "display_data"
    }
   ],
   "source": [
    "plt.figure(figsize=(10,10))\n",
    "for k in results.keys():\n",
    "    loss = results[k][0]\n",
    "    plt.scatter(np.arange(1,len(loss)+1), loss, s=150, label=k)\n",
    "    plt.plot(np.arange(1,len(loss)+1), loss, alpha=0.5)\n",
    "for k in results1.keys():\n",
    "    loss = results1[k][0]\n",
    "    plt.scatter(np.arange(1,len(loss)+1), loss, s=150, label=k)\n",
    "    plt.plot(np.arange(1,len(loss)+1), loss, alpha=0.5)\n",
    "plt.legend()"
   ]
  },
  {
   "cell_type": "markdown",
   "metadata": {},
   "source": [
    "### looking at the predictions and comparing with the true Q-value ###"
   ]
  },
  {
   "cell_type": "code",
   "execution_count": 41,
   "metadata": {},
   "outputs": [
    {
     "name": "stdout",
     "output_type": "stream",
     "text": [
      "batch_size:  1\n",
      "n: 0, guess: -1\n",
      "pred: 0.7520993154916842\n",
      "true value: 0.7539887164489482\n",
      "difference:  -0.0018894009572639758\n",
      "----\n",
      "n: 0, guess: 1\n",
      "pred: 0.23262082779064425\n",
      "true value: 0.2460112835510519\n",
      "difference:  -0.013390455760407649\n",
      "----\n",
      "n: 1, guess: -1\n",
      "pred: 0.07451123909916274\n",
      "true value: 0.1092421935209539\n",
      "difference:  -0.034730954421791166\n",
      "----\n",
      "n: 1, guess: 1\n",
      "pred: 0.8464770295015085\n",
      "true value: 0.8907578064790461\n",
      "difference:  -0.04428077697753763\n",
      "----\n",
      "  \n",
      " ***** \n",
      "batch_size:  2\n",
      "n: 0, guess: -1\n",
      "pred: 0.8357346645853694\n",
      "true value: 0.7539887164489482\n",
      "difference:  0.08174594813642122\n",
      "----\n",
      "n: 0, guess: 1\n",
      "pred: 0.3062094796727587\n",
      "true value: 0.2460112835510519\n",
      "difference:  0.06019819612170679\n",
      "----\n",
      "n: 1, guess: -1\n",
      "pred: 0.14264331957386417\n",
      "true value: 0.1092421935209539\n",
      "difference:  0.03340112605291026\n",
      "----\n",
      "n: 1, guess: 1\n",
      "pred: 0.9391124426034095\n",
      "true value: 0.8907578064790461\n",
      "difference:  0.048354636124363415\n",
      "----\n",
      "  \n",
      " ***** \n",
      "batch_size:  10\n",
      "n: 0, guess: -1\n",
      "pred: 0.7621100227375369\n",
      "true value: 0.7539887164489482\n",
      "difference:  0.008121306288588759\n",
      "----\n",
      "n: 0, guess: 1\n",
      "pred: 0.2542306988903491\n",
      "true value: 0.2460112835510519\n",
      "difference:  0.00821941533929721\n",
      "----\n",
      "n: 1, guess: -1\n",
      "pred: 0.1029013653885285\n",
      "true value: 0.1092421935209539\n",
      "difference:  -0.006340828132425411\n",
      "----\n",
      "n: 1, guess: 1\n",
      "pred: 0.8716236876615079\n",
      "true value: 0.8907578064790461\n",
      "difference:  -0.019134118817538237\n",
      "----\n",
      "  \n",
      " ***** \n",
      "batch_size:  16\n",
      "n: 0, guess: -1\n",
      "pred: 0.7380176972971906\n",
      "true value: 0.7539887164489482\n",
      "difference:  -0.01597101915175758\n",
      "----\n",
      "n: 0, guess: 1\n",
      "pred: 0.25613665430836474\n",
      "true value: 0.2460112835510519\n",
      "difference:  0.010125370757312846\n",
      "----\n",
      "n: 1, guess: -1\n",
      "pred: 0.12242150646207434\n",
      "true value: 0.1092421935209539\n",
      "difference:  0.01317931294112043\n",
      "----\n",
      "n: 1, guess: 1\n",
      "pred: 0.847192078490036\n",
      "true value: 0.8907578064790461\n",
      "difference:  -0.04356572798901015\n",
      "----\n",
      "  \n",
      " ***** \n",
      "batch_size:  32\n",
      "n: 0, guess: -1\n",
      "pred: 0.5007806765693902\n",
      "true value: 0.7539887164489482\n",
      "difference:  -0.253208039879558\n",
      "----\n",
      "n: 0, guess: 1\n",
      "pred: 0.5304609979960042\n",
      "true value: 0.2460112835510519\n",
      "difference:  0.2844497144449523\n",
      "----\n",
      "n: 1, guess: -1\n",
      "pred: 0.21544482594891984\n",
      "true value: 0.1092421935209539\n",
      "difference:  0.10620263242796593\n",
      "----\n",
      "n: 1, guess: 1\n",
      "pred: 0.7417351159679413\n",
      "true value: 0.8907578064790461\n",
      "difference:  -0.14902269051110484\n",
      "----\n",
      "  \n",
      " ***** \n"
     ]
    }
   ],
   "source": [
    "def outc(index):\n",
    "    if index in [0,1]:\n",
    "        return 0\n",
    "    else:\n",
    "        return 1\n",
    "    \n",
    "    \n",
    "    \n",
    "for k in results1.keys():\n",
    "    histo_preds = results1[k][1]\n",
    "    last_epoch = list(histo_preds.keys())[-1]\n",
    "    last_epoch_preds = histo_preds[str(last_epoch)]\n",
    "    print(\"batch_size: \",k)\n",
    "    for index in range(4):\n",
    "        print(\"n: {}, guess: {}\".format(outc(index), (-1)**(index+1) ))\n",
    "        print(\"pred: {}\".format(last_epoch_preds[\"values\"][str(index)]))\n",
    "        print(\"true value: {}\".format( qval(-.7, outc(index), (-1)**(index+1))))\n",
    "        print(\"difference: \",last_epoch_preds[\"values\"][str(index)] - qval(-.7, outc(index), (-1)**(index+1)))\n",
    "        print(\"----\")\n",
    "    print(\"  \")\n",
    "    print(\" ***** \")\n",
    "    \n",
    "    \n",
    "    \n",
    "    \n",
    "for k in results.keys():\n",
    "    histo_preds = results[k][1]\n",
    "    last_epoch = list(histo_preds.keys())[-1]\n",
    "    last_epoch_preds = histo_preds[str(last_epoch)]\n",
    "    print(\"batch_size: \",k)\n",
    "    for index in range(4):\n",
    "        print(\"n: {}, guess: {}\".format(outc(index), (-1)**(index+1) ))\n",
    "        print(\"pred: {}\".format(last_epoch_preds[\"values\"][str(index)]))\n",
    "        print(\"true value: {}\".format( qval(-.7, outc(index), (-1)**(index+1))))\n",
    "        print(\"difference: \",last_epoch_preds[\"values\"][str(index)] - qval(-.7, outc(index), (-1)**(index+1)))\n",
    "        print(\"----\")\n",
    "    print(\"  \")\n",
    "    print(\" ***** \")"
   ]
  },
  {
   "cell_type": "code",
   "execution_count": null,
   "metadata": {},
   "outputs": [],
   "source": [
    " 0.5016096902472228+"
   ]
  }
 ],
 "metadata": {
  "kernelspec": {
   "display_name": "Python 3",
   "language": "python",
   "name": "python3"
  },
  "language_info": {
   "codemirror_mode": {
    "name": "ipython",
    "version": 3
   },
   "file_extension": ".py",
   "mimetype": "text/x-python",
   "name": "python",
   "nbconvert_exporter": "python",
   "pygments_lexer": "ipython3",
   "version": "3.6.9"
  }
 },
 "nbformat": 4,
 "nbformat_minor": 2
}
