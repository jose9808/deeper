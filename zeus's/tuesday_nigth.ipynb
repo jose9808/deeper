{
 "cells": [
  {
   "cell_type": "markdown",
   "metadata": {},
   "source": [
    "## we see how Q-values are learnt with a fixed beta ##"
   ]
  },
  {
   "cell_type": "code",
   "execution_count": 1,
   "metadata": {},
   "outputs": [],
   "source": [
    "import tensorflow as tf\n",
    "from tensorflow.keras.layers import Dense\n",
    "import numpy as np\n",
    "import matplotlib.pyplot as plt\n",
    "import os\n",
    "from tqdm import tqdm_notebook as tqdm\n",
    "tf.keras.backend.set_floatx('float64')\n",
    "from misc import *\n",
    "from collections import deque\n",
    "from datetime import datetime\n",
    "import random"
   ]
  },
  {
   "cell_type": "code",
   "execution_count": 2,
   "metadata": {},
   "outputs": [],
   "source": [
    "def Prob(alpha, beta, n):\n",
    "    p0 = np.exp(-(alpha-beta)**2)\n",
    "    if n == 0:\n",
    "        return p0\n",
    "    else:\n",
    "        return 1-p0\n",
    "\n",
    "def qval(beta, n, guess):\n",
    "    #dolinar guessing rule (= max-likelihood for L=1, careful sign of \\beta)\n",
    "    alpha = 0.4\n",
    "    pn = np.sum([Prob(g*alpha, beta, n) for g in [-1,1]])\n",
    "    return Prob(guess*alpha, beta, n)/pn\n"
   ]
  },
  {
   "cell_type": "code",
   "execution_count": 3,
   "metadata": {},
   "outputs": [],
   "source": [
    "class DataSetBeta():\n",
    "    def __init__(self, rpbgo=10, beta=-.7, size=10**3):\n",
    "        #rpbgo = rewards per beta-guess-outcome\n",
    "        self.nbetas=1\n",
    "        self.beta = beta\n",
    "        self.betas = np.array([self.beta])\n",
    "        self.rpbgo=rpbgo\n",
    "        self.size = size\n",
    "        d = []\n",
    "        \n",
    "        for k in range(self.size):\n",
    "            proboutcome = Prob(0.4,self.beta,0)\n",
    "            outcome = np.random.choice([0.,1.],1,p=[proboutcome, 1-proboutcome])[0]\n",
    "            guess = np.random.choice([-1,1],1)[0]\n",
    "            mean_bernoulli = qval(self.beta, outcome, guess)\n",
    "            reward = np.random.choice([1.,0,],1,p=[mean_bernoulli, 1.-mean_bernoulli])[0]\n",
    "            d.append([self.beta, outcome, guess, reward])\n",
    "        self.data_unsplitted = np.array(d)\n",
    "    \n",
    "    def BatchSizeSplit(self, batch_size):\n",
    "        dataset = self.data_unsplitted.copy()\n",
    "        splits = int(len(dataset)/batch_size)\n",
    "        if len(dataset)%batch_size !=0:\n",
    "            #print(\"Not divisible!: breaking into len(dataset)%batch_size\")\n",
    "            splits = int(len(dataset)/batch_size)\n",
    "            sobra = int(len(dataset)%batch_size)\n",
    "            splited = np.split(dataset[sobra:], splits + len(dataset[sobra:])%splits)\n",
    "            return splited, len(splited[0])\n",
    "        else:\n",
    "            splited = np.split(dataset, splits + len(dataset)%splits)\n",
    "            return splited, len(splited[0])\n"
   ]
  },
  {
   "cell_type": "code",
   "execution_count": 5,
   "metadata": {},
   "outputs": [],
   "source": [
    "\n",
    "class Net(tf.keras.Model):\n",
    "    def __init__(self, valreg=0.01, seed_val=0.1):\n",
    "        super(Net,self).__init__()\n",
    "\n",
    "        self.l1 = Dense(50, input_shape=(3,),kernel_initializer=tf.random_uniform_initializer(minval=-seed_val, maxval=seed_val),\n",
    "        bias_initializer = tf.random_uniform_initializer(minval=-seed_val, maxval=seed_val),\n",
    "        kernel_regularizer=tf.keras.regularizers.l1(valreg),\n",
    "    activity_regularizer=tf.keras.regularizers.l2(valreg))\n",
    "\n",
    "        self.l2 = Dense(50, kernel_regularizer=tf.keras.regularizers.l1(valreg),\n",
    "    activity_regularizer=tf.keras.regularizers.l2(valreg),\n",
    "    kernel_initializer=tf.random_uniform_initializer(minval=-seed_val, maxval=seed_val),\n",
    "    bias_initializer = tf.random_uniform_initializer(minval=-seed_val, maxval=seed_val))\n",
    "        self.l3 = Dense(50, kernel_regularizer=tf.keras.regularizers.l1(valreg),\n",
    "    activity_regularizer=tf.keras.regularizers.l2(valreg),\n",
    "    kernel_initializer=tf.random_uniform_initializer(minval=-seed_val, maxval=seed_val),\n",
    "    bias_initializer = tf.random_uniform_initializer(minval=-seed_val, maxval=seed_val))\n",
    "\n",
    "        self.l4 = Dense(50, kernel_regularizer=tf.keras.regularizers.l1(valreg),\n",
    "    activity_regularizer=tf.keras.regularizers.l2(valreg),\n",
    "    kernel_initializer=tf.random_uniform_initializer(minval=-seed_val, maxval=seed_val),\n",
    "    bias_initializer = tf.random_uniform_initializer(minval=-seed_val, maxval=seed_val))\n",
    "\n",
    "        self.l5 = Dense(1, kernel_regularizer=tf.keras.regularizers.l1(valreg),\n",
    "    activity_regularizer=tf.keras.regularizers.l2(valreg),\n",
    "    kernel_initializer=tf.random_uniform_initializer(minval=-seed_val, maxval=seed_val),\n",
    "    bias_initializer = tf.random_uniform_initializer(minval=-seed_val, maxval=seed_val))\n",
    "\n",
    "    def call(self, input):\n",
    "        feat = tf.nn.relu(self.l1(input))\n",
    " #       feat = tf.nn.dropout(feat, rate=0.01)\n",
    "        feat = tf.nn.relu(self.l2(feat))\n",
    "#        feat = tf.nn.dropout(feat, rate=0.01)\n",
    "        feat = tf.nn.relu(self.l3(feat))\n",
    "        feat = tf.nn.relu(self.l4(feat))\n",
    "        feat = tf.nn.sigmoid(self.l5(feat))\n",
    "        return feat\n",
    "\n",
    "    def predict(self, history_one):\n",
    "        inp = np.expand_dims(history_one, axis=0)\n",
    "        return np.squeeze(self(inp).numpy())\n",
    "\n",
    "    def __str__(self):\n",
    "        return self.name\n",
    "\n",
    "    "
   ]
  },
  {
   "cell_type": "code",
   "execution_count": 8,
   "metadata": {},
   "outputs": [],
   "source": [
    "net = Net()\n",
    "optimizer = tf.keras.optimizers.Adam(lr=0.001)\n",
    "\n",
    "dataset = DataSetBeta(10**3)\n",
    "splitted_ds, batch_size = dataset.BatchSizeSplit(10)\n"
   ]
  },
  {
   "cell_type": "code",
   "execution_count": 17,
   "metadata": {},
   "outputs": [
    {
     "data": {
      "text/plain": [
       "<tf.Tensor: shape=(10, 1), dtype=float64, numpy=\n",
       "array([[0.49656281],\n",
       "       [0.49655429],\n",
       "       [0.49641272],\n",
       "       [0.49641272],\n",
       "       [0.49656281],\n",
       "       [0.49655429],\n",
       "       [0.49655429],\n",
       "       [0.49655429],\n",
       "       [0.49655429],\n",
       "       [0.49641272]])>"
      ]
     },
     "execution_count": 17,
     "metadata": {},
     "output_type": "execute_result"
    }
   ],
   "source": [
    "net(splitted_ds[0][:,[0,1,2]])"
   ]
  },
  {
   "cell_type": "code",
   "execution_count": 21,
   "metadata": {},
   "outputs": [],
   "source": []
  },
  {
   "cell_type": "code",
   "execution_count": 19,
   "metadata": {},
   "outputs": [],
   "source": []
  },
  {
   "cell_type": "code",
   "execution_count": 23,
   "metadata": {},
   "outputs": [
    {
     "data": {
      "text/plain": [
       "<tf.Tensor: shape=(1, 10), dtype=float64, numpy=\n",
       "array([[0.25069925, 0.25070102, 0.25073033, 0.25073033, 0.25069925,\n",
       "        0.25070102, 0.25070102, 0.25070102, 0.25070102, 0.25073033]])>"
      ]
     },
     "execution_count": 23,
     "metadata": {},
     "output_type": "execute_result"
    }
   ],
   "source": [
    "preds =net(np.expand_dims(splitted_ds[0][:,[0,1,2]],axis=0))\n",
    "res = np.expand_dims(splitted_ds[0][:,3],axis=0)\n",
    "tf.keras.losses.MSE(res,preds)"
   ]
  },
  {
   "cell_type": "code",
   "execution_count": 25,
   "metadata": {},
   "outputs": [
    {
     "data": {
      "text/plain": [
       "<tf.Tensor: shape=(10, 1), dtype=float64, numpy=\n",
       "array([[0.25069925],\n",
       "       [0.25070102],\n",
       "       [0.25073033],\n",
       "       [0.25073033],\n",
       "       [0.25069925],\n",
       "       [0.25070102],\n",
       "       [0.25070102],\n",
       "       [0.25070102],\n",
       "       [0.25070102],\n",
       "       [0.25073033]])>"
      ]
     },
     "execution_count": 25,
     "metadata": {},
     "output_type": "execute_result"
    }
   ],
   "source": [
    "preds =net(np.expand_dims(splitted_ds[0][:,[0,1,2]],axis=1))\n",
    "res = np.expand_dims(splitted_ds[0][:,3],axis=0)\n",
    "tf.keras.losses.MSE(res,preds)"
   ]
  },
  {
   "cell_type": "code",
   "execution_count": null,
   "metadata": {},
   "outputs": [],
   "source": []
  },
  {
   "cell_type": "code",
   "execution_count": null,
   "metadata": {},
   "outputs": [],
   "source": []
  },
  {
   "cell_type": "code",
   "execution_count": 35,
   "metadata": {},
   "outputs": [],
   "source": [
    "\n",
    "def training(batch_size=10.):\n",
    "    net = Net()\n",
    "    optimizer = tf.keras.optimizers.Adam(lr=0.001)\n",
    "\n",
    "    dataset = DataSetBeta(10**3)\n",
    "    splitted_ds, batch_size = dataset.BatchSizeSplit(batch_size)\n",
    "    \n",
    "    net(np.expand_dims(splitted_ds[0][:,[0,1,2]],axis=0)) #initialize the network\n",
    "\n",
    "    print(\"batch_size: \",batch_size)\n",
    "    histo_preds = {} #here i save the predictions\n",
    "    loss_ev = []\n",
    "\n",
    "    epochs=10\n",
    "    for epoch in tqdm(range(10)):\n",
    "        losses=[]\n",
    "        for mini_batch in splitted_ds:\n",
    "            with tf.GradientTape() as tape:\n",
    "                tape.watch(net.trainable_variables)\n",
    "                preds = net(np.expand_dims(mini_batch[:,[0,1,2]],axis=0))\n",
    "                rew = np.expand_dims(mini_batch[:,3],axis=0)\n",
    "                loss = tf.keras.losses.MSE(rew,preds)\n",
    "                loss = tf.reduce_mean(loss)\n",
    "                grads = tape.gradient(loss, net.trainable_variables)\n",
    "                optimizer.apply_gradients(zip(grads, net.trainable_variables))\n",
    "                losses.append(loss)\n",
    "        loss_ev.append(np.mean(np.array(losses)))\n",
    "        \n",
    "        splitted_ds, batch_size = dataset.BatchSizeSplit(batch_size)\n",
    "\n",
    "\n",
    "        histo_preds[str(epoch)] ={} \n",
    "        histo_preds[str(epoch)][\"epoch_number\"] = epoch\n",
    "        histo_preds[str(epoch)][\"values\"] = {}\n",
    "\n",
    "        index=0\n",
    "        for n1 in [0.,1.]:\n",
    "            for guess in [-1.,1.]:\n",
    "                foo =np.array([[b,n1,guess] for b in dataset.betas]) #betas_train defined as global in create_dataset_l2()\n",
    "                histo_preds[str(epoch)][\"values\"][str(index)] = np.squeeze(net(foo))\n",
    "                index+=1\n",
    "\n",
    "    return loss_ev, histo_preds, net"
   ]
  },
  {
   "cell_type": "code",
   "execution_count": 36,
   "metadata": {},
   "outputs": [
    {
     "name": "stdout",
     "output_type": "stream",
     "text": [
      "batch_size:  2\n"
     ]
    },
    {
     "data": {
      "application/vnd.jupyter.widget-view+json": {
       "model_id": "80467aa5e40a4ddeac7040ce2e16e29a"
      }
     },
     "metadata": {},
     "output_type": "display_data"
    },
    {
     "name": "stdout",
     "output_type": "stream",
     "text": [
      "\n"
     ]
    }
   ],
   "source": [
    "results = {}\n",
    "batches = [2]\n",
    "for batch_size in batches:\n",
    "    results[str(batch_size)] = training(batch_size)\n",
    "    "
   ]
  },
  {
   "cell_type": "code",
   "execution_count": 37,
   "metadata": {},
   "outputs": [
    {
     "data": {
      "text/plain": [
       "([0.23689738583530368,\n",
       "  0.22543942795689434,\n",
       "  0.2208790550376345,\n",
       "  0.2205932566905937,\n",
       "  0.22038954894623128,\n",
       "  0.22036427678463866,\n",
       "  0.2203264108262361,\n",
       "  0.22030458648264514,\n",
       "  0.2202860779174439,\n",
       "  0.2202572206825841],\n",
       " {'0': {'epoch_number': 0,\n",
       "   'values': {'0': array(0.39594385),\n",
       "    '1': array(0.43963317),\n",
       "    '2': array(0.36418753),\n",
       "    '3': array(0.7611918)}},\n",
       "  '1': {'epoch_number': 1,\n",
       "   'values': {'0': array(0.50361992),\n",
       "    '1': array(0.41424458),\n",
       "    '2': array(0.34936713),\n",
       "    '3': array(0.76701665)}},\n",
       "  '2': {'epoch_number': 2,\n",
       "   'values': {'0': array(0.58672839),\n",
       "    '1': array(0.36715355),\n",
       "    '2': array(0.28944356),\n",
       "    '3': array(0.7654687)}},\n",
       "  '3': {'epoch_number': 3,\n",
       "   'values': {'0': array(0.59826039),\n",
       "    '1': array(0.3705459),\n",
       "    '2': array(0.29799307),\n",
       "    '3': array(0.76664875)}},\n",
       "  '4': {'epoch_number': 4,\n",
       "   'values': {'0': array(0.5982808),\n",
       "    '1': array(0.36835006),\n",
       "    '2': array(0.29808893),\n",
       "    '3': array(0.76585468)}},\n",
       "  '5': {'epoch_number': 5,\n",
       "   'values': {'0': array(0.59856623),\n",
       "    '1': array(0.36727833),\n",
       "    '2': array(0.29944377),\n",
       "    '3': array(0.76538895)}},\n",
       "  '6': {'epoch_number': 6,\n",
       "   'values': {'0': array(0.59770029),\n",
       "    '1': array(0.36755253),\n",
       "    '2': array(0.30035557),\n",
       "    '3': array(0.76503504)}},\n",
       "  '7': {'epoch_number': 7,\n",
       "   'values': {'0': array(0.59889288),\n",
       "    '1': array(0.36825854),\n",
       "    '2': array(0.30170861),\n",
       "    '3': array(0.76525027)}},\n",
       "  '8': {'epoch_number': 8,\n",
       "   'values': {'0': array(0.59901388),\n",
       "    '1': array(0.36708908),\n",
       "    '2': array(0.30276106),\n",
       "    '3': array(0.76520715)}},\n",
       "  '9': {'epoch_number': 9,\n",
       "   'values': {'0': array(0.59971454),\n",
       "    '1': array(0.36504452),\n",
       "    '2': array(0.30416571),\n",
       "    '3': array(0.76466823)}}},\n",
       " <__main__.Net at 0x7fb72c408208>)"
      ]
     },
     "execution_count": 37,
     "metadata": {},
     "output_type": "execute_result"
    }
   ],
   "source": [
    "results[\"2\"]"
   ]
  },
  {
   "cell_type": "code",
   "execution_count": 38,
   "metadata": {},
   "outputs": [
    {
     "data": {
      "text/plain": [
       "<matplotlib.legend.Legend at 0x7fb72c07dda0>"
      ]
     },
     "execution_count": 38,
     "metadata": {},
     "output_type": "execute_result"
    },
    {
     "data": {
      "image/png": "[encoded data removed]",
      "text/plain": [
       "<Figure size 720x720 with 1 Axes>"
      ]
     },
     "metadata": {},
     "output_type": "display_data"
    }
   ],
   "source": [
    "plt.figure(figsize=(10,10))\n",
    "for k in results.keys():\n",
    "    loss = results[k][0]\n",
    "    plt.scatter(np.arange(1,len(loss)+1), loss, s=150, label=k)\n",
    "    plt.plot(np.arange(1,len(loss)+1), loss, alpha=0.5)\n",
    "plt.legend()"
   ]
  },
  {
   "cell_type": "markdown",
   "metadata": {},
   "source": [
    "### looking at the predictions and comparing with the true Q-value ###"
   ]
  },
  {
   "cell_type": "code",
   "execution_count": 39,
   "metadata": {},
   "outputs": [
    {
     "name": "stdout",
     "output_type": "stream",
     "text": [
      "batch_size:  2\n",
      "n: 0, guess: -1\n",
      "pred: 0.5997145408865314\n",
      "true value: 0.7539887164489482\n",
      "-0.15427417556241674\n",
      "----\n",
      "n: 0, guess: 1\n",
      "pred: 0.36504452014071626\n",
      "true value: 0.2460112835510519\n",
      "0.11903323658966436\n",
      "----\n",
      "n: 1, guess: -1\n",
      "pred: 0.3041657094050227\n",
      "true value: 0.1092421935209539\n",
      "0.19492351588406878\n",
      "----\n",
      "n: 1, guess: 1\n",
      "pred: 0.7646682291243099\n",
      "true value: 0.8907578064790461\n",
      "-0.12608957735473625\n",
      "----\n",
      "  \n",
      " ***** \n"
     ]
    }
   ],
   "source": [
    "def outc(index):\n",
    "    if index in [0,1]:\n",
    "        return 0\n",
    "    else:\n",
    "        return 1\n",
    "    \n",
    "for k in results.keys():\n",
    "    histo_preds = results[k][1]\n",
    "    last_epoch = list(histo_preds.keys())[-1]\n",
    "    last_epoch_preds = histo_preds[str(last_epoch)]\n",
    "    print(\"batch_size: \",k)\n",
    "    for index in range(4):\n",
    "        print(\"n: {}, guess: {}\".format(outc(index), (-1)**(index+1) ))\n",
    "        print(\"pred: {}\".format(last_epoch_preds[\"values\"][str(index)]))\n",
    "        print(\"true value: {}\".format( qval(-.7, outc(index), (-1)**(index+1))))\n",
    "        print(\"difference: \",last_epoch_preds[\"values\"][str(index)] - qval(-.7, outc(index), (-1)**(index+1)))\n",
    "        print(\"----\")\n",
    "    print(\"  \")\n",
    "    print(\" ***** \")"
   ]
  },
  {
   "cell_type": "code",
   "execution_count": null,
   "metadata": {},
   "outputs": [],
   "source": [
    " 0.5016096902472228+"
   ]
  }
 ],
 "metadata": {
  "kernelspec": {
   "display_name": "Python 3",
   "language": "python",
   "name": "python3"
  },
  "language_info": {
   "codemirror_mode": {
    "name": "ipython",
    "version": 3
   },
   "file_extension": ".py",
   "mimetype": "text/x-python",
   "name": "python",
   "nbconvert_exporter": "python",
   "pygments_lexer": "ipython3",
   "version": "3.6.9"
  }
 },
 "nbformat": 4,
 "nbformat_minor": 2
}
